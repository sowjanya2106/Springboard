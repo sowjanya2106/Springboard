{
 "cells": [
  {
   "cell_type": "code",
   "execution_count": 83,
   "metadata": {
    "collapsed": true
   },
   "outputs": [],
   "source": [
    "import pandas as pd\n",
    "import numpy as np\n",
    "import matplotlib.pyplot as plt\n",
    "import seaborn as sns\n",
    "%matplotlib inline\n",
    "from sklearn.linear_model import LogisticRegression\n",
    "from sklearn.ensemble import RandomForestClassifier\n",
    "from sklearn.metrics import roc_curve\n",
    "from sklearn.neighbors import KNeighborsClassifier\n",
    "from sklearn.model_selection import GridSearchCV\n",
    "from sklearn.naive_bayes import GaussianNB\n",
    "from sklearn.tree import DecisionTreeClassifier\n",
    "from sklearn.model_selection import cross_val_score\n",
    "from sklearn.ensemble import GradientBoostingClassifier\n",
    "from sklearn.metrics import roc_curve, auc,f1_score\n",
    "from sklearn.metrics import roc_auc_score\n",
    "from imblearn.under_sampling import RandomUnderSampler\n",
    "from sklearn.ensemble import ExtraTreesClassifier\n",
    "import xgboost as xgb\n"
   ]
  },
  {
   "cell_type": "code",
   "execution_count": 2,
   "metadata": {
    "collapsed": true
   },
   "outputs": [],
   "source": [
    "%store -r preprocessed_data_df"
   ]
  },
  {
   "cell_type": "code",
   "execution_count": 3,
   "metadata": {
    "collapsed": true
   },
   "outputs": [],
   "source": [
    "%store -r data_dict"
   ]
  },
  {
   "cell_type": "code",
   "execution_count": 5,
   "metadata": {},
   "outputs": [
    {
     "name": "stdout",
     "output_type": "stream",
     "text": [
      "<class 'pandas.core.frame.DataFrame'>\n",
      "Int64Index: 1321847 entries, 0 to 103545\n",
      "Data columns (total 90 columns):\n",
      "loan_amnt                     1321847 non-null float64\n",
      "funded_amnt                   1321847 non-null float64\n",
      "funded_amnt_inv               1321847 non-null float64\n",
      "installment                   1321847 non-null float64\n",
      "annual_inc                    1321847 non-null float64\n",
      "dti                           1321847 non-null float64\n",
      "delinq_2yrs                   1321847 non-null float64\n",
      "fico_range_low                1321847 non-null float64\n",
      "fico_range_high               1321847 non-null float64\n",
      "inq_last_6mths                1321847 non-null float64\n",
      "open_acc                      1321847 non-null float64\n",
      "pub_rec                       1321847 non-null float64\n",
      "revol_bal                     1321847 non-null float64\n",
      "total_acc                     1321847 non-null float64\n",
      "out_prncp                     1321847 non-null float64\n",
      "out_prncp_inv                 1321847 non-null float64\n",
      "total_pymnt                   1321847 non-null float64\n",
      "total_pymnt_inv               1321847 non-null float64\n",
      "total_rec_prncp               1321847 non-null float64\n",
      "total_rec_int                 1321847 non-null float64\n",
      "total_rec_late_fee            1321847 non-null float64\n",
      "recoveries                    1321847 non-null float64\n",
      "collection_recovery_fee       1321847 non-null float64\n",
      "last_pymnt_amnt               1321847 non-null float64\n",
      "last_fico_range_high          1321847 non-null float64\n",
      "last_fico_range_low           1321847 non-null float64\n",
      "collections_12_mths_ex_med    1321847 non-null float64\n",
      "acc_now_delinq                1321847 non-null float64\n",
      "tot_coll_amt                  1321847 non-null float64\n",
      "tot_cur_bal                   1321847 non-null float64\n",
      "total_rev_hi_lim              1321847 non-null float64\n",
      "acc_open_past_24mths          1321847 non-null float64\n",
      "avg_cur_bal                   1321847 non-null float64\n",
      "bc_open_to_buy                1321847 non-null float64\n",
      "bc_util                       1321847 non-null float64\n",
      "chargeoff_within_12_mths      1321847 non-null float64\n",
      "delinq_amnt                   1321847 non-null float64\n",
      "mo_sin_old_il_acct            1321847 non-null float64\n",
      "mo_sin_old_rev_tl_op          1321847 non-null float64\n",
      "mo_sin_rcnt_rev_tl_op         1321847 non-null float64\n",
      "mo_sin_rcnt_tl                1321847 non-null float64\n",
      "mort_acc                      1321847 non-null float64\n",
      "mths_since_recent_bc          1321847 non-null float64\n",
      "mths_since_recent_inq         1321847 non-null float64\n",
      "num_accts_ever_120_pd         1321847 non-null float64\n",
      "num_actv_bc_tl                1321847 non-null float64\n",
      "num_actv_rev_tl               1321847 non-null float64\n",
      "num_bc_sats                   1321847 non-null float64\n",
      "num_bc_tl                     1321847 non-null float64\n",
      "num_il_tl                     1321847 non-null float64\n",
      "num_op_rev_tl                 1321847 non-null float64\n",
      "num_rev_accts                 1321847 non-null float64\n",
      "num_rev_tl_bal_gt_0           1321847 non-null float64\n",
      "num_sats                      1321847 non-null float64\n",
      "num_tl_120dpd_2m              1321847 non-null float64\n",
      "num_tl_30dpd                  1321847 non-null float64\n",
      "num_tl_90g_dpd_24m            1321847 non-null float64\n",
      "num_tl_op_past_12m            1321847 non-null float64\n",
      "pct_tl_nvr_dlq                1321847 non-null float64\n",
      "percent_bc_gt_75              1321847 non-null float64\n",
      "pub_rec_bankruptcies          1321847 non-null float64\n",
      "tax_liens                     1321847 non-null float64\n",
      "tot_hi_cred_lim               1321847 non-null float64\n",
      "total_bal_ex_mort             1321847 non-null float64\n",
      "total_bc_limit                1321847 non-null float64\n",
      "total_il_high_credit_limit    1321847 non-null float64\n",
      "term                          1321847 non-null object\n",
      "int_rate                      1321847 non-null object\n",
      "grade                         1321847 non-null object\n",
      "sub_grade                     1321847 non-null object\n",
      "emp_title                     1321847 non-null object\n",
      "emp_length                    1321847 non-null object\n",
      "home_ownership                1321847 non-null object\n",
      "verification_status           1321847 non-null object\n",
      "issue_d                       1321847 non-null object\n",
      "loan_status                   1321847 non-null object\n",
      "pymnt_plan                    1321847 non-null object\n",
      "purpose                       1321847 non-null object\n",
      "title                         1321847 non-null object\n",
      "zip_code                      1321847 non-null object\n",
      "addr_state                    1321847 non-null object\n",
      "earliest_cr_line              1321847 non-null object\n",
      "revol_util                    1321847 non-null object\n",
      "initial_list_status           1321847 non-null object\n",
      "last_pymnt_d                  1321847 non-null object\n",
      "last_credit_pull_d            1321847 non-null object\n",
      "application_type              1321847 non-null object\n",
      "hardship_flag                 1321847 non-null object\n",
      "disbursement_method           1321847 non-null object\n",
      "debt_settlement_flag          1321847 non-null object\n",
      "dtypes: float64(66), object(24)\n",
      "memory usage: 917.7+ MB\n"
     ]
    }
   ],
   "source": [
    "preprocessed_data_df.info()"
   ]
  },
  {
   "cell_type": "code",
   "execution_count": 6,
   "metadata": {},
   "outputs": [
    {
     "data": {
      "text/html": [
       "<div>\n",
       "<style>\n",
       "    .dataframe thead tr:only-child th {\n",
       "        text-align: right;\n",
       "    }\n",
       "\n",
       "    .dataframe thead th {\n",
       "        text-align: left;\n",
       "    }\n",
       "\n",
       "    .dataframe tbody tr th {\n",
       "        vertical-align: top;\n",
       "    }\n",
       "</style>\n",
       "<table border=\"1\" class=\"dataframe\">\n",
       "  <thead>\n",
       "    <tr style=\"text-align: right;\">\n",
       "      <th></th>\n",
       "      <th>loan_amnt</th>\n",
       "      <th>funded_amnt</th>\n",
       "      <th>funded_amnt_inv</th>\n",
       "      <th>installment</th>\n",
       "      <th>annual_inc</th>\n",
       "      <th>dti</th>\n",
       "      <th>delinq_2yrs</th>\n",
       "      <th>fico_range_low</th>\n",
       "      <th>fico_range_high</th>\n",
       "      <th>inq_last_6mths</th>\n",
       "      <th>...</th>\n",
       "      <th>addr_state</th>\n",
       "      <th>earliest_cr_line</th>\n",
       "      <th>revol_util</th>\n",
       "      <th>initial_list_status</th>\n",
       "      <th>last_pymnt_d</th>\n",
       "      <th>last_credit_pull_d</th>\n",
       "      <th>application_type</th>\n",
       "      <th>hardship_flag</th>\n",
       "      <th>disbursement_method</th>\n",
       "      <th>debt_settlement_flag</th>\n",
       "    </tr>\n",
       "  </thead>\n",
       "  <tbody>\n",
       "    <tr>\n",
       "      <th>0</th>\n",
       "      <td>5000.0</td>\n",
       "      <td>5000.0</td>\n",
       "      <td>4975.0</td>\n",
       "      <td>162.87</td>\n",
       "      <td>24000.0</td>\n",
       "      <td>27.65</td>\n",
       "      <td>0.0</td>\n",
       "      <td>735.0</td>\n",
       "      <td>739.0</td>\n",
       "      <td>1.0</td>\n",
       "      <td>...</td>\n",
       "      <td>AZ</td>\n",
       "      <td>Jan-1985</td>\n",
       "      <td>83.7%</td>\n",
       "      <td>f</td>\n",
       "      <td>Jan-2015</td>\n",
       "      <td>Dec-2017</td>\n",
       "      <td>Individual</td>\n",
       "      <td>N</td>\n",
       "      <td>Cash</td>\n",
       "      <td>N</td>\n",
       "    </tr>\n",
       "    <tr>\n",
       "      <th>1</th>\n",
       "      <td>2500.0</td>\n",
       "      <td>2500.0</td>\n",
       "      <td>2500.0</td>\n",
       "      <td>59.83</td>\n",
       "      <td>30000.0</td>\n",
       "      <td>1.00</td>\n",
       "      <td>0.0</td>\n",
       "      <td>740.0</td>\n",
       "      <td>744.0</td>\n",
       "      <td>5.0</td>\n",
       "      <td>...</td>\n",
       "      <td>GA</td>\n",
       "      <td>Apr-1999</td>\n",
       "      <td>9.4%</td>\n",
       "      <td>f</td>\n",
       "      <td>Apr-2013</td>\n",
       "      <td>Oct-2016</td>\n",
       "      <td>Individual</td>\n",
       "      <td>N</td>\n",
       "      <td>Cash</td>\n",
       "      <td>N</td>\n",
       "    </tr>\n",
       "    <tr>\n",
       "      <th>2</th>\n",
       "      <td>2400.0</td>\n",
       "      <td>2400.0</td>\n",
       "      <td>2400.0</td>\n",
       "      <td>84.33</td>\n",
       "      <td>12252.0</td>\n",
       "      <td>8.72</td>\n",
       "      <td>0.0</td>\n",
       "      <td>735.0</td>\n",
       "      <td>739.0</td>\n",
       "      <td>2.0</td>\n",
       "      <td>...</td>\n",
       "      <td>IL</td>\n",
       "      <td>Nov-2001</td>\n",
       "      <td>98.5%</td>\n",
       "      <td>f</td>\n",
       "      <td>Jun-2014</td>\n",
       "      <td>Jun-2017</td>\n",
       "      <td>Individual</td>\n",
       "      <td>N</td>\n",
       "      <td>Cash</td>\n",
       "      <td>N</td>\n",
       "    </tr>\n",
       "    <tr>\n",
       "      <th>3</th>\n",
       "      <td>10000.0</td>\n",
       "      <td>10000.0</td>\n",
       "      <td>10000.0</td>\n",
       "      <td>339.31</td>\n",
       "      <td>49200.0</td>\n",
       "      <td>20.00</td>\n",
       "      <td>0.0</td>\n",
       "      <td>690.0</td>\n",
       "      <td>694.0</td>\n",
       "      <td>1.0</td>\n",
       "      <td>...</td>\n",
       "      <td>CA</td>\n",
       "      <td>Feb-1996</td>\n",
       "      <td>21%</td>\n",
       "      <td>f</td>\n",
       "      <td>Jan-2015</td>\n",
       "      <td>Apr-2016</td>\n",
       "      <td>Individual</td>\n",
       "      <td>N</td>\n",
       "      <td>Cash</td>\n",
       "      <td>N</td>\n",
       "    </tr>\n",
       "    <tr>\n",
       "      <th>4</th>\n",
       "      <td>3000.0</td>\n",
       "      <td>3000.0</td>\n",
       "      <td>3000.0</td>\n",
       "      <td>67.79</td>\n",
       "      <td>80000.0</td>\n",
       "      <td>17.94</td>\n",
       "      <td>0.0</td>\n",
       "      <td>695.0</td>\n",
       "      <td>699.0</td>\n",
       "      <td>0.0</td>\n",
       "      <td>...</td>\n",
       "      <td>OR</td>\n",
       "      <td>Jan-1996</td>\n",
       "      <td>53.9%</td>\n",
       "      <td>f</td>\n",
       "      <td>Jan-2017</td>\n",
       "      <td>Jan-2017</td>\n",
       "      <td>Individual</td>\n",
       "      <td>N</td>\n",
       "      <td>Cash</td>\n",
       "      <td>N</td>\n",
       "    </tr>\n",
       "  </tbody>\n",
       "</table>\n",
       "<p>5 rows × 90 columns</p>\n",
       "</div>"
      ],
      "text/plain": [
       "   loan_amnt  funded_amnt  funded_amnt_inv  installment  annual_inc    dti  \\\n",
       "0     5000.0       5000.0           4975.0       162.87     24000.0  27.65   \n",
       "1     2500.0       2500.0           2500.0        59.83     30000.0   1.00   \n",
       "2     2400.0       2400.0           2400.0        84.33     12252.0   8.72   \n",
       "3    10000.0      10000.0          10000.0       339.31     49200.0  20.00   \n",
       "4     3000.0       3000.0           3000.0        67.79     80000.0  17.94   \n",
       "\n",
       "   delinq_2yrs  fico_range_low  fico_range_high  inq_last_6mths  \\\n",
       "0          0.0           735.0            739.0             1.0   \n",
       "1          0.0           740.0            744.0             5.0   \n",
       "2          0.0           735.0            739.0             2.0   \n",
       "3          0.0           690.0            694.0             1.0   \n",
       "4          0.0           695.0            699.0             0.0   \n",
       "\n",
       "           ...           addr_state  earliest_cr_line  revol_util  \\\n",
       "0          ...                   AZ          Jan-1985       83.7%   \n",
       "1          ...                   GA          Apr-1999        9.4%   \n",
       "2          ...                   IL          Nov-2001       98.5%   \n",
       "3          ...                   CA          Feb-1996         21%   \n",
       "4          ...                   OR          Jan-1996       53.9%   \n",
       "\n",
       "   initial_list_status  last_pymnt_d  last_credit_pull_d  application_type  \\\n",
       "0                    f      Jan-2015            Dec-2017        Individual   \n",
       "1                    f      Apr-2013            Oct-2016        Individual   \n",
       "2                    f      Jun-2014            Jun-2017        Individual   \n",
       "3                    f      Jan-2015            Apr-2016        Individual   \n",
       "4                    f      Jan-2017            Jan-2017        Individual   \n",
       "\n",
       "   hardship_flag  disbursement_method  debt_settlement_flag  \n",
       "0              N                 Cash                     N  \n",
       "1              N                 Cash                     N  \n",
       "2              N                 Cash                     N  \n",
       "3              N                 Cash                     N  \n",
       "4              N                 Cash                     N  \n",
       "\n",
       "[5 rows x 90 columns]"
      ]
     },
     "execution_count": 6,
     "metadata": {},
     "output_type": "execute_result"
    }
   ],
   "source": [
    "preprocessed_data_df.head()"
   ]
  },
  {
   "cell_type": "markdown",
   "metadata": {},
   "source": [
    "<h4>Feature Engineering and Selection</h4>"
   ]
  },
  {
   "cell_type": "markdown",
   "metadata": {},
   "source": [
    "<h5>Feature engineering:</h5>\n",
    "This process attempts to create additional relevant features from the existing raw features in the data, and to increase the predictive power of the learning algorithm.\n",
    "\n",
    "<h5>Feature selection:</h5> This process selects the key subset of original data features in an attempt to reduce the dimensionality of the training problem."
   ]
  },
  {
   "cell_type": "markdown",
   "metadata": {},
   "source": [
    "The dataset contains categorical and numeric values. We will perform feature engineering and selection for both types separately and merge the data after"
   ]
  },
  {
   "cell_type": "markdown",
   "metadata": {},
   "source": [
    "Machine Learning algorithms require the data to be in numeric. We have to convert the categorical values to numeric.So we will perform the follwing steps \n",
    "\n",
    "<h4>1. Convert Categorical Columns To Numeric Features</h4>\n",
    "<h4>2. Map Ordinal Values To Integers</h4>\n",
    "<h4>3. Encode Nominal Values As Dummy Variables</h4>"
   ]
  },
  {
   "cell_type": "code",
   "execution_count": 7,
   "metadata": {
    "collapsed": true
   },
   "outputs": [],
   "source": [
    "filtered_preprocessed_data_df = preprocessed_data_df.copy(deep=True)"
   ]
  },
  {
   "cell_type": "code",
   "execution_count": 8,
   "metadata": {
    "collapsed": true
   },
   "outputs": [],
   "source": [
    "filtered_preprocessed_data_df = filtered_preprocessed_data_df.loc[filtered_preprocessed_data_df['issue_d'].str.contains('2013|2014|2015|2016')]\n"
   ]
  },
  {
   "cell_type": "code",
   "execution_count": 9,
   "metadata": {},
   "outputs": [
    {
     "name": "stdout",
     "output_type": "stream",
     "text": [
      "<class 'pandas.core.frame.DataFrame'>\n",
      "Int64Index: 1225945 entries, 0 to 103545\n",
      "Data columns (total 90 columns):\n",
      "loan_amnt                     1225945 non-null float64\n",
      "funded_amnt                   1225945 non-null float64\n",
      "funded_amnt_inv               1225945 non-null float64\n",
      "installment                   1225945 non-null float64\n",
      "annual_inc                    1225945 non-null float64\n",
      "dti                           1225945 non-null float64\n",
      "delinq_2yrs                   1225945 non-null float64\n",
      "fico_range_low                1225945 non-null float64\n",
      "fico_range_high               1225945 non-null float64\n",
      "inq_last_6mths                1225945 non-null float64\n",
      "open_acc                      1225945 non-null float64\n",
      "pub_rec                       1225945 non-null float64\n",
      "revol_bal                     1225945 non-null float64\n",
      "total_acc                     1225945 non-null float64\n",
      "out_prncp                     1225945 non-null float64\n",
      "out_prncp_inv                 1225945 non-null float64\n",
      "total_pymnt                   1225945 non-null float64\n",
      "total_pymnt_inv               1225945 non-null float64\n",
      "total_rec_prncp               1225945 non-null float64\n",
      "total_rec_int                 1225945 non-null float64\n",
      "total_rec_late_fee            1225945 non-null float64\n",
      "recoveries                    1225945 non-null float64\n",
      "collection_recovery_fee       1225945 non-null float64\n",
      "last_pymnt_amnt               1225945 non-null float64\n",
      "last_fico_range_high          1225945 non-null float64\n",
      "last_fico_range_low           1225945 non-null float64\n",
      "collections_12_mths_ex_med    1225945 non-null float64\n",
      "acc_now_delinq                1225945 non-null float64\n",
      "tot_coll_amt                  1225945 non-null float64\n",
      "tot_cur_bal                   1225945 non-null float64\n",
      "total_rev_hi_lim              1225945 non-null float64\n",
      "acc_open_past_24mths          1225945 non-null float64\n",
      "avg_cur_bal                   1225945 non-null float64\n",
      "bc_open_to_buy                1225945 non-null float64\n",
      "bc_util                       1225945 non-null float64\n",
      "chargeoff_within_12_mths      1225945 non-null float64\n",
      "delinq_amnt                   1225945 non-null float64\n",
      "mo_sin_old_il_acct            1225945 non-null float64\n",
      "mo_sin_old_rev_tl_op          1225945 non-null float64\n",
      "mo_sin_rcnt_rev_tl_op         1225945 non-null float64\n",
      "mo_sin_rcnt_tl                1225945 non-null float64\n",
      "mort_acc                      1225945 non-null float64\n",
      "mths_since_recent_bc          1225945 non-null float64\n",
      "mths_since_recent_inq         1225945 non-null float64\n",
      "num_accts_ever_120_pd         1225945 non-null float64\n",
      "num_actv_bc_tl                1225945 non-null float64\n",
      "num_actv_rev_tl               1225945 non-null float64\n",
      "num_bc_sats                   1225945 non-null float64\n",
      "num_bc_tl                     1225945 non-null float64\n",
      "num_il_tl                     1225945 non-null float64\n",
      "num_op_rev_tl                 1225945 non-null float64\n",
      "num_rev_accts                 1225945 non-null float64\n",
      "num_rev_tl_bal_gt_0           1225945 non-null float64\n",
      "num_sats                      1225945 non-null float64\n",
      "num_tl_120dpd_2m              1225945 non-null float64\n",
      "num_tl_30dpd                  1225945 non-null float64\n",
      "num_tl_90g_dpd_24m            1225945 non-null float64\n",
      "num_tl_op_past_12m            1225945 non-null float64\n",
      "pct_tl_nvr_dlq                1225945 non-null float64\n",
      "percent_bc_gt_75              1225945 non-null float64\n",
      "pub_rec_bankruptcies          1225945 non-null float64\n",
      "tax_liens                     1225945 non-null float64\n",
      "tot_hi_cred_lim               1225945 non-null float64\n",
      "total_bal_ex_mort             1225945 non-null float64\n",
      "total_bc_limit                1225945 non-null float64\n",
      "total_il_high_credit_limit    1225945 non-null float64\n",
      "term                          1225945 non-null object\n",
      "int_rate                      1225945 non-null object\n",
      "grade                         1225945 non-null object\n",
      "sub_grade                     1225945 non-null object\n",
      "emp_title                     1225945 non-null object\n",
      "emp_length                    1225945 non-null object\n",
      "home_ownership                1225945 non-null object\n",
      "verification_status           1225945 non-null object\n",
      "issue_d                       1225945 non-null object\n",
      "loan_status                   1225945 non-null object\n",
      "pymnt_plan                    1225945 non-null object\n",
      "purpose                       1225945 non-null object\n",
      "title                         1225945 non-null object\n",
      "zip_code                      1225945 non-null object\n",
      "addr_state                    1225945 non-null object\n",
      "earliest_cr_line              1225945 non-null object\n",
      "revol_util                    1225945 non-null object\n",
      "initial_list_status           1225945 non-null object\n",
      "last_pymnt_d                  1225945 non-null object\n",
      "last_credit_pull_d            1225945 non-null object\n",
      "application_type              1225945 non-null object\n",
      "hardship_flag                 1225945 non-null object\n",
      "disbursement_method           1225945 non-null object\n",
      "debt_settlement_flag          1225945 non-null object\n",
      "dtypes: float64(66), object(24)\n",
      "memory usage: 851.1+ MB\n"
     ]
    }
   ],
   "source": [
    "filtered_preprocessed_data_df.info()"
   ]
  },
  {
   "cell_type": "code",
   "execution_count": 10,
   "metadata": {
    "collapsed": true
   },
   "outputs": [],
   "source": [
    "preprocessed_categorical_data_df = filtered_preprocessed_data_df.select_dtypes([object])\n",
    "preprocessed_numeric_data_df = filtered_preprocessed_data_df.select_dtypes(['float64','int64'])"
   ]
  },
  {
   "cell_type": "code",
   "execution_count": 11,
   "metadata": {},
   "outputs": [
    {
     "name": "stdout",
     "output_type": "stream",
     "text": [
      "<class 'pandas.core.frame.DataFrame'>\n",
      "Int64Index: 1225945 entries, 0 to 103545\n",
      "Data columns (total 24 columns):\n",
      "term                    1225945 non-null object\n",
      "int_rate                1225945 non-null object\n",
      "grade                   1225945 non-null object\n",
      "sub_grade               1225945 non-null object\n",
      "emp_title               1225945 non-null object\n",
      "emp_length              1225945 non-null object\n",
      "home_ownership          1225945 non-null object\n",
      "verification_status     1225945 non-null object\n",
      "issue_d                 1225945 non-null object\n",
      "loan_status             1225945 non-null object\n",
      "pymnt_plan              1225945 non-null object\n",
      "purpose                 1225945 non-null object\n",
      "title                   1225945 non-null object\n",
      "zip_code                1225945 non-null object\n",
      "addr_state              1225945 non-null object\n",
      "earliest_cr_line        1225945 non-null object\n",
      "revol_util              1225945 non-null object\n",
      "initial_list_status     1225945 non-null object\n",
      "last_pymnt_d            1225945 non-null object\n",
      "last_credit_pull_d      1225945 non-null object\n",
      "application_type        1225945 non-null object\n",
      "hardship_flag           1225945 non-null object\n",
      "disbursement_method     1225945 non-null object\n",
      "debt_settlement_flag    1225945 non-null object\n",
      "dtypes: object(24)\n",
      "memory usage: 233.8+ MB\n"
     ]
    }
   ],
   "source": [
    "preprocessed_categorical_data_df.info()"
   ]
  },
  {
   "cell_type": "code",
   "execution_count": 12,
   "metadata": {},
   "outputs": [
    {
     "name": "stdout",
     "output_type": "stream",
     "text": [
      " 36 months    869660\n",
      " 60 months    356285\n",
      "Name: term, dtype: int64\n",
      "\n",
      "Source Verified    481312\n",
      "Verified           382673\n",
      "Not Verified       361960\n",
      "Name: verification_status, dtype: int64\n",
      "\n",
      "n    1225347\n",
      "y        598\n",
      "Name: pymnt_plan, dtype: int64\n",
      "\n",
      "w    760372\n",
      "f    465573\n",
      "Name: initial_list_status, dtype: int64\n",
      "\n",
      "Individual    1216645\n",
      "Joint App        9300\n",
      "Name: application_type, dtype: int64\n",
      "\n",
      "N    1225147\n",
      "Y        798\n",
      "Name: hardship_flag, dtype: int64\n",
      "\n",
      "Cash         1223051\n",
      "DirectPay       2894\n",
      "Name: disbursement_method, dtype: int64\n",
      "\n",
      "N    1211913\n",
      "Y      14032\n",
      "Name: debt_settlement_flag, dtype: int64\n",
      "\n"
     ]
    }
   ],
   "source": [
    "#Now filter the columns that have less than 3 unique values\n",
    "for col in preprocessed_categorical_data_df.columns:\n",
    "    if (len(preprocessed_categorical_data_df[col].unique()) < 4):\n",
    "        print(preprocessed_categorical_data_df[col].value_counts())\n",
    "        print()"
   ]
  },
  {
   "cell_type": "code",
   "execution_count": 13,
   "metadata": {},
   "outputs": [
    {
     "data": {
      "text/plain": [
       "29    The initial listing status of the loan. Possib...\n",
       "Name: description, dtype: object"
      ]
     },
     "execution_count": 13,
     "metadata": {},
     "output_type": "execute_result"
    }
   ],
   "source": [
    "data_dict[data_dict['name'] == 'initial_list_status'].description"
   ]
  },
  {
   "cell_type": "code",
   "execution_count": 14,
   "metadata": {},
   "outputs": [
    {
     "data": {
      "text/plain": [
       "88    Indicates if a payment plan has been put in pl...\n",
       "Name: description, dtype: object"
      ]
     },
     "execution_count": 14,
     "metadata": {},
     "output_type": "execute_result"
    }
   ],
   "source": [
    "data_dict[data_dict['name'] == 'pymnt_plan'].description"
   ]
  },
  {
   "cell_type": "markdown",
   "metadata": {},
   "source": [
    "There are total 7 columns that have only 2 unique values.\n",
    "\n",
    "\"term\" can be important to our analysis.so we don't drop  from the dataset.\n",
    "\n",
    "debt_settlement_flag - Flags whether or not the borrower, who has charged-off, is working with a debt-settlement company. \"debt_settlement_flag\" can be dropped as it is obtained once the loan is charged off.\n",
    "\n",
    "\"pymnt_plan\" and \"disbursement_method\" and \"initial_list_status\" are the attributes we get after the loan is isued. so they are not required for the analysis.\n",
    "\n",
    "\"application_type\" has two values. Number of Joint App is only 9300 which is very low comapared to Individual application. so we can drop this variable.On the same lines we can drop \"hardship_flag\"."
   ]
  },
  {
   "cell_type": "code",
   "execution_count": 15,
   "metadata": {
    "collapsed": true
   },
   "outputs": [],
   "source": [
    "preprocessed_categorical_data_df = preprocessed_categorical_data_df.drop(['debt_settlement_flag' ,'pymnt_plan' ,'disbursement_method' ,'initial_list_status','application_type','hardship_flag'] , axis=1)"
   ]
  },
  {
   "cell_type": "code",
   "execution_count": 16,
   "metadata": {},
   "outputs": [
    {
     "name": "stdout",
     "output_type": "stream",
     "text": [
      "<class 'pandas.core.frame.DataFrame'>\n",
      "Int64Index: 1225945 entries, 0 to 103545\n",
      "Data columns (total 19 columns):\n",
      "term                    1225945 non-null object\n",
      "int_rate                1225945 non-null object\n",
      "grade                   1225945 non-null object\n",
      "sub_grade               1225945 non-null object\n",
      "emp_title               1225945 non-null object\n",
      "emp_length              1225945 non-null object\n",
      "home_ownership          1225945 non-null object\n",
      "verification_status     1225945 non-null object\n",
      "issue_d                 1225945 non-null object\n",
      "loan_status             1225945 non-null object\n",
      "purpose                 1225945 non-null object\n",
      "title                   1225945 non-null object\n",
      "zip_code                1225945 non-null object\n",
      "addr_state              1225945 non-null object\n",
      "earliest_cr_line        1225945 non-null object\n",
      "revol_util              1225945 non-null object\n",
      "last_pymnt_d            1225945 non-null object\n",
      "last_credit_pull_d      1225945 non-null object\n",
      "debt_settlement_flag    1225945 non-null object\n",
      "dtypes: object(19)\n",
      "memory usage: 187.1+ MB\n"
     ]
    }
   ],
   "source": [
    "preprocessed_categorical_data_df.info()"
   ]
  },
  {
   "cell_type": "code",
   "execution_count": 17,
   "metadata": {},
   "outputs": [
    {
     "data": {
      "text/plain": [
       "Debt consolidation                         667006\n",
       "Credit card refinancing                    249223\n",
       "Home improvement                            69564\n",
       "Other                                       59000\n",
       "Major purchase                              21882\n",
       "Medical expenses                            11755\n",
       "Business                                    10865\n",
       "Car financing                               10107\n",
       "Debt Consolidation                           9360\n",
       "Moving and relocation                        6999\n",
       "Vacation                                     6756\n",
       "Home buying                                  4252\n",
       "Consolidation                                3686\n",
       "debt consolidation                           3059\n",
       "consolidation                                1478\n",
       "Credit Card Consolidation                    1442\n",
       "Debt Consolidation Loan                      1107\n",
       "Consolidation Loan                           1095\n",
       "Home Improvement                              983\n",
       "Credit Card Refinance                         921\n",
       "Credit Card Payoff                            909\n",
       "Personal Loan                                 891\n",
       "Consolidate                                   848\n",
       "Green loan                                    653\n",
       "Loan                                          567\n",
       "Personal                                      562\n",
       "Freedom                                       556\n",
       "consolidate                                   503\n",
       "Payoff                                        487\n",
       "Debt                                          483\n",
       "                                            ...  \n",
       "Reverse My Credit Card Trend                    1\n",
       "Cap1                                            1\n",
       "New Transmission and Horse Trailer              1\n",
       "LOOKING TO CONSOLIDATE!!                        1\n",
       "CC Eliminater                                   1\n",
       "home1                                           1\n",
       "MyDebtConsolidation1                            1\n",
       "School debt consolidation loan                  1\n",
       "got room                                        1\n",
       "Manage the home                                 1\n",
       "Hospital                                        1\n",
       "College Loans                                   1\n",
       "Consolidate and New Roof Loan                   1\n",
       "Credit Card Destruction                         1\n",
       "Single Payment Plan To Close Them Out           1\n",
       "New Roof and gutters                            1\n",
       "Home improvement other expenses                 1\n",
       "car refinancing                                 1\n",
       "Refinance Relief                                1\n",
       "Payoff Credit Accounts                          1\n",
       "Last annoying chunk of my student loan          1\n",
       "Thank You for the help                          1\n",
       "my life saver                                   1\n",
       "Pay Off High Interest CC                        1\n",
       "Pay Them Off!                                   1\n",
       "My payoff solution                              1\n",
       "My investment Loan                              1\n",
       "CC Debt Payoff.  Saves me $400/mo!              1\n",
       "paying stuff off                                1\n",
       "Debt Consolidation & Student Loan               1\n",
       "Name: title, Length: 33377, dtype: int64"
      ]
     },
     "execution_count": 17,
     "metadata": {},
     "output_type": "execute_result"
    }
   ],
   "source": [
    "# Print unique values for purpose and title\n",
    "preprocessed_categorical_data_df.purpose.value_counts()\n",
    "preprocessed_categorical_data_df.title.value_counts()"
   ]
  },
  {
   "cell_type": "markdown",
   "metadata": {},
   "source": [
    "From the above you can see the title and purpose have similar values.\n",
    "<p>'title' is the description of the purpose of the loan. Purpose has fewer values.So we can drop the tilte.</p>"
   ]
  },
  {
   "cell_type": "markdown",
   "metadata": {},
   "source": [
    "<p>Similarly, zip_code and addr_state gives the same infomration. so we can drop zip_code</p>\n",
    "\n",
    "<p>Also, subgrade is the sub category of grade.So we will drop subgrade column too"
   ]
  },
  {
   "cell_type": "code",
   "execution_count": 18,
   "metadata": {
    "collapsed": true
   },
   "outputs": [],
   "source": [
    "preprocessed_categorical_data_df = preprocessed_categorical_data_df.drop(['title','zip_code','sub_grade'],axis=1)"
   ]
  },
  {
   "cell_type": "code",
   "execution_count": 19,
   "metadata": {},
   "outputs": [
    {
     "data": {
      "text/html": [
       "<div>\n",
       "<style>\n",
       "    .dataframe thead tr:only-child th {\n",
       "        text-align: right;\n",
       "    }\n",
       "\n",
       "    .dataframe thead th {\n",
       "        text-align: left;\n",
       "    }\n",
       "\n",
       "    .dataframe tbody tr th {\n",
       "        vertical-align: top;\n",
       "    }\n",
       "</style>\n",
       "<table border=\"1\" class=\"dataframe\">\n",
       "  <thead>\n",
       "    <tr style=\"text-align: right;\">\n",
       "      <th></th>\n",
       "      <th>term</th>\n",
       "      <th>int_rate</th>\n",
       "      <th>grade</th>\n",
       "      <th>emp_title</th>\n",
       "      <th>emp_length</th>\n",
       "      <th>home_ownership</th>\n",
       "      <th>verification_status</th>\n",
       "      <th>issue_d</th>\n",
       "      <th>loan_status</th>\n",
       "      <th>purpose</th>\n",
       "      <th>addr_state</th>\n",
       "      <th>earliest_cr_line</th>\n",
       "      <th>revol_util</th>\n",
       "      <th>last_pymnt_d</th>\n",
       "      <th>last_credit_pull_d</th>\n",
       "      <th>debt_settlement_flag</th>\n",
       "    </tr>\n",
       "  </thead>\n",
       "  <tbody>\n",
       "    <tr>\n",
       "      <th>0</th>\n",
       "      <td>36 months</td>\n",
       "      <td>13.53%</td>\n",
       "      <td>B</td>\n",
       "      <td>On road manager</td>\n",
       "      <td>10+ years</td>\n",
       "      <td>RENT</td>\n",
       "      <td>Source Verified</td>\n",
       "      <td>Dec-2013</td>\n",
       "      <td>Fully Paid</td>\n",
       "      <td>debt_consolidation</td>\n",
       "      <td>NM</td>\n",
       "      <td>Oct-1998</td>\n",
       "      <td>68.8%</td>\n",
       "      <td>Sep-2015</td>\n",
       "      <td>Jul-2017</td>\n",
       "      <td>N</td>\n",
       "    </tr>\n",
       "    <tr>\n",
       "      <th>1</th>\n",
       "      <td>36 months</td>\n",
       "      <td>12.85%</td>\n",
       "      <td>B</td>\n",
       "      <td>Assistant Director - Human Resources</td>\n",
       "      <td>4 years</td>\n",
       "      <td>RENT</td>\n",
       "      <td>Not Verified</td>\n",
       "      <td>Dec-2013</td>\n",
       "      <td>Fully Paid</td>\n",
       "      <td>debt_consolidation</td>\n",
       "      <td>NC</td>\n",
       "      <td>Jun-1988</td>\n",
       "      <td>81.9%</td>\n",
       "      <td>Jan-2017</td>\n",
       "      <td>Jan-2018</td>\n",
       "      <td>N</td>\n",
       "    </tr>\n",
       "    <tr>\n",
       "      <th>2</th>\n",
       "      <td>36 months</td>\n",
       "      <td>8.90%</td>\n",
       "      <td>A</td>\n",
       "      <td>aircraft maintenance engineer</td>\n",
       "      <td>2 years</td>\n",
       "      <td>MORTGAGE</td>\n",
       "      <td>Not Verified</td>\n",
       "      <td>Dec-2013</td>\n",
       "      <td>Fully Paid</td>\n",
       "      <td>debt_consolidation</td>\n",
       "      <td>FL</td>\n",
       "      <td>Mar-1998</td>\n",
       "      <td>74.2%</td>\n",
       "      <td>Jan-2017</td>\n",
       "      <td>Dec-2016</td>\n",
       "      <td>N</td>\n",
       "    </tr>\n",
       "    <tr>\n",
       "      <th>3</th>\n",
       "      <td>36 months</td>\n",
       "      <td>13.53%</td>\n",
       "      <td>B</td>\n",
       "      <td>driver</td>\n",
       "      <td>10+ years</td>\n",
       "      <td>MORTGAGE</td>\n",
       "      <td>Verified</td>\n",
       "      <td>Dec-2013</td>\n",
       "      <td>Fully Paid</td>\n",
       "      <td>credit_card</td>\n",
       "      <td>MI</td>\n",
       "      <td>Jan-1989</td>\n",
       "      <td>76.7%</td>\n",
       "      <td>Dec-2015</td>\n",
       "      <td>Jan-2018</td>\n",
       "      <td>N</td>\n",
       "    </tr>\n",
       "    <tr>\n",
       "      <th>4</th>\n",
       "      <td>36 months</td>\n",
       "      <td>7.62%</td>\n",
       "      <td>A</td>\n",
       "      <td>Area Sales Manager</td>\n",
       "      <td>5 years</td>\n",
       "      <td>MORTGAGE</td>\n",
       "      <td>Source Verified</td>\n",
       "      <td>Dec-2013</td>\n",
       "      <td>Fully Paid</td>\n",
       "      <td>debt_consolidation</td>\n",
       "      <td>CA</td>\n",
       "      <td>Nov-1994</td>\n",
       "      <td>54.6%</td>\n",
       "      <td>Aug-2014</td>\n",
       "      <td>Aug-2014</td>\n",
       "      <td>N</td>\n",
       "    </tr>\n",
       "  </tbody>\n",
       "</table>\n",
       "</div>"
      ],
      "text/plain": [
       "         term int_rate grade                             emp_title emp_length  \\\n",
       "0   36 months   13.53%     B                       On road manager  10+ years   \n",
       "1   36 months   12.85%     B  Assistant Director - Human Resources    4 years   \n",
       "2   36 months    8.90%     A         aircraft maintenance engineer    2 years   \n",
       "3   36 months   13.53%     B                                driver  10+ years   \n",
       "4   36 months    7.62%     A                    Area Sales Manager    5 years   \n",
       "\n",
       "  home_ownership verification_status   issue_d loan_status  \\\n",
       "0           RENT     Source Verified  Dec-2013  Fully Paid   \n",
       "1           RENT        Not Verified  Dec-2013  Fully Paid   \n",
       "2       MORTGAGE        Not Verified  Dec-2013  Fully Paid   \n",
       "3       MORTGAGE            Verified  Dec-2013  Fully Paid   \n",
       "4       MORTGAGE     Source Verified  Dec-2013  Fully Paid   \n",
       "\n",
       "              purpose addr_state earliest_cr_line revol_util last_pymnt_d  \\\n",
       "0  debt_consolidation         NM         Oct-1998      68.8%     Sep-2015   \n",
       "1  debt_consolidation         NC         Jun-1988      81.9%     Jan-2017   \n",
       "2  debt_consolidation         FL         Mar-1998      74.2%     Jan-2017   \n",
       "3         credit_card         MI         Jan-1989      76.7%     Dec-2015   \n",
       "4  debt_consolidation         CA         Nov-1994      54.6%     Aug-2014   \n",
       "\n",
       "  last_credit_pull_d debt_settlement_flag  \n",
       "0           Jul-2017                    N  \n",
       "1           Jan-2018                    N  \n",
       "2           Dec-2016                    N  \n",
       "3           Jan-2018                    N  \n",
       "4           Aug-2014                    N  "
      ]
     },
     "execution_count": 19,
     "metadata": {},
     "output_type": "execute_result"
    }
   ],
   "source": [
    "preprocessed_categorical_data_df.head()"
   ]
  },
  {
   "cell_type": "markdown",
   "metadata": {},
   "source": [
    "<h4>revol_util and int_rate are in percantage. we will convert it to numeric values.</h4>"
   ]
  },
  {
   "cell_type": "code",
   "execution_count": 20,
   "metadata": {
    "collapsed": true
   },
   "outputs": [],
   "source": [
    "preprocessed_categorical_data_df['revol_util'] = preprocessed_categorical_data_df['revol_util'].replace('%','',regex=True).astype('float')\n",
    "\n",
    "preprocessed_categorical_data_df['int_rate'] = preprocessed_categorical_data_df['int_rate'].replace('%','',regex=True).astype('float')"
   ]
  },
  {
   "cell_type": "code",
   "execution_count": 21,
   "metadata": {},
   "outputs": [
    {
     "data": {
      "text/plain": [
       "Teacher                                    95883\n",
       "Manager                                    18643\n",
       "Owner                                      10383\n",
       "Registered Nurse                            8906\n",
       "RN                                          8638\n",
       "Supervisor                                  8200\n",
       "Sales                                       7108\n",
       "Driver                                      6828\n",
       "Project Manager                             6346\n",
       "Office Manager                              5530\n",
       "General Manager                             5246\n",
       "Director                                    5104\n",
       "owner                                       4837\n",
       "manager                                     4526\n",
       "President                                   4447\n",
       "teacher                                     4276\n",
       "Engineer                                    4262\n",
       "Vice President                              3636\n",
       "driver                                      3501\n",
       "Operations Manager                          3396\n",
       "Attorney                                    3274\n",
       "Accountant                                  3258\n",
       "Administrative Assistant                    3064\n",
       "Sales Manager                               3016\n",
       "Account Manager                             2737\n",
       "Police Officer                              2698\n",
       "sales                                       2555\n",
       "Nurse                                       2540\n",
       "Analyst                                     2513\n",
       "Executive Assistant                         2482\n",
       "                                           ...  \n",
       "Director of Broadcast IT                       1\n",
       "Medical Rep I                                  1\n",
       "warehouse rep. 2                               1\n",
       "Education Policy Director                      1\n",
       "manager communication papers                   1\n",
       "SEC/TREASURER                                  1\n",
       "Specialty network director                     1\n",
       "Manager of Regulatory                          1\n",
       "PHI Air Medical                                1\n",
       "Sales Represetative                            1\n",
       "Virent Inc                                     1\n",
       "VP Lending/IT                                  1\n",
       "Buyer/Mgr                                      1\n",
       "Partner Marketing Manager                      1\n",
       "RN Utilization Management Coordinator          1\n",
       "Chief Staff                                    1\n",
       "Assistant Director EVS                         1\n",
       "Resource Clerk                                 1\n",
       "Dept. Of Treasury                              1\n",
       "Asst. Commonwealth Attorney                    1\n",
       "Technical IP Supervisor                        1\n",
       "Asolo Repertory Theatre                        1\n",
       "Benefits Systems Manager                       1\n",
       "Manager and Assistant to the President         1\n",
       "AVP, Business information                      1\n",
       "ETL-AP                                         1\n",
       "auto appraiser                                 1\n",
       "Purchasing Services                            1\n",
       "Onsite Manager                                 1\n",
       "Project analyst 2                              1\n",
       "Name: emp_title, Length: 327263, dtype: int64"
      ]
     },
     "execution_count": 21,
     "metadata": {},
     "output_type": "execute_result"
    }
   ],
   "source": [
    "preprocessed_categorical_data_df.emp_title.value_counts()"
   ]
  },
  {
   "cell_type": "markdown",
   "metadata": {},
   "source": [
    "There are total of 381900 unique values for emp_title. The dimension of data increases when this variable is one-hot encoded. So we can drop emp_title for our analysis"
   ]
  },
  {
   "cell_type": "code",
   "execution_count": 22,
   "metadata": {
    "collapsed": true
   },
   "outputs": [],
   "source": [
    "preprocessed_categorical_data_df = preprocessed_categorical_data_df.drop(['emp_title'],axis=1)"
   ]
  },
  {
   "cell_type": "code",
   "execution_count": 23,
   "metadata": {},
   "outputs": [
    {
     "data": {
      "text/plain": [
       "10+ years    416801\n",
       "2 years      108825\n",
       "3 years       96526\n",
       "< 1 year      93324\n",
       "1 year        79005\n",
       "5 years       74183\n",
       "4 years       70739\n",
       "n/a           70012\n",
       "8 years       58854\n",
       "6 years       55490\n",
       "7 years       53890\n",
       "9 years       48296\n",
       "Name: emp_length, dtype: int64"
      ]
     },
     "execution_count": 23,
     "metadata": {},
     "output_type": "execute_result"
    }
   ],
   "source": [
    "preprocessed_categorical_data_df['emp_length'].value_counts()"
   ]
  },
  {
   "cell_type": "code",
   "execution_count": 24,
   "metadata": {
    "collapsed": true
   },
   "outputs": [],
   "source": [
    "mapping = {\"emp_length\": {\"10+ years\": 10,\"9 years\": 9, \"8 years\": 8,\"7 years\": 7,\"6 years\": 6,\"5 years\": 5,\"4 years\": 4,\"3 years\": 3,\n",
    "        \"2 years\": 2,\"1 year\": 1, \"< 1 year\": 0,\"n/a\": 0 }}"
   ]
  },
  {
   "cell_type": "code",
   "execution_count": 25,
   "metadata": {
    "collapsed": true
   },
   "outputs": [],
   "source": [
    "preprocessed_categorical_data_df = preprocessed_categorical_data_df.replace(mapping_dict)"
   ]
  },
  {
   "cell_type": "code",
   "execution_count": 26,
   "metadata": {},
   "outputs": [
    {
     "data": {
      "text/html": [
       "<div>\n",
       "<style>\n",
       "    .dataframe thead tr:only-child th {\n",
       "        text-align: right;\n",
       "    }\n",
       "\n",
       "    .dataframe thead th {\n",
       "        text-align: left;\n",
       "    }\n",
       "\n",
       "    .dataframe tbody tr th {\n",
       "        vertical-align: top;\n",
       "    }\n",
       "</style>\n",
       "<table border=\"1\" class=\"dataframe\">\n",
       "  <thead>\n",
       "    <tr style=\"text-align: right;\">\n",
       "      <th></th>\n",
       "      <th>term</th>\n",
       "      <th>int_rate</th>\n",
       "      <th>grade</th>\n",
       "      <th>emp_length</th>\n",
       "      <th>home_ownership</th>\n",
       "      <th>verification_status</th>\n",
       "      <th>issue_d</th>\n",
       "      <th>loan_status</th>\n",
       "      <th>purpose</th>\n",
       "      <th>addr_state</th>\n",
       "      <th>earliest_cr_line</th>\n",
       "      <th>revol_util</th>\n",
       "      <th>last_pymnt_d</th>\n",
       "      <th>last_credit_pull_d</th>\n",
       "      <th>debt_settlement_flag</th>\n",
       "    </tr>\n",
       "  </thead>\n",
       "  <tbody>\n",
       "    <tr>\n",
       "      <th>0</th>\n",
       "      <td>36 months</td>\n",
       "      <td>13.53</td>\n",
       "      <td>B</td>\n",
       "      <td>10</td>\n",
       "      <td>RENT</td>\n",
       "      <td>Source Verified</td>\n",
       "      <td>Dec-2013</td>\n",
       "      <td>Fully Paid</td>\n",
       "      <td>debt_consolidation</td>\n",
       "      <td>NM</td>\n",
       "      <td>Oct-1998</td>\n",
       "      <td>68.8</td>\n",
       "      <td>Sep-2015</td>\n",
       "      <td>Jul-2017</td>\n",
       "      <td>N</td>\n",
       "    </tr>\n",
       "    <tr>\n",
       "      <th>1</th>\n",
       "      <td>36 months</td>\n",
       "      <td>12.85</td>\n",
       "      <td>B</td>\n",
       "      <td>4</td>\n",
       "      <td>RENT</td>\n",
       "      <td>Not Verified</td>\n",
       "      <td>Dec-2013</td>\n",
       "      <td>Fully Paid</td>\n",
       "      <td>debt_consolidation</td>\n",
       "      <td>NC</td>\n",
       "      <td>Jun-1988</td>\n",
       "      <td>81.9</td>\n",
       "      <td>Jan-2017</td>\n",
       "      <td>Jan-2018</td>\n",
       "      <td>N</td>\n",
       "    </tr>\n",
       "    <tr>\n",
       "      <th>2</th>\n",
       "      <td>36 months</td>\n",
       "      <td>8.90</td>\n",
       "      <td>A</td>\n",
       "      <td>2</td>\n",
       "      <td>MORTGAGE</td>\n",
       "      <td>Not Verified</td>\n",
       "      <td>Dec-2013</td>\n",
       "      <td>Fully Paid</td>\n",
       "      <td>debt_consolidation</td>\n",
       "      <td>FL</td>\n",
       "      <td>Mar-1998</td>\n",
       "      <td>74.2</td>\n",
       "      <td>Jan-2017</td>\n",
       "      <td>Dec-2016</td>\n",
       "      <td>N</td>\n",
       "    </tr>\n",
       "    <tr>\n",
       "      <th>3</th>\n",
       "      <td>36 months</td>\n",
       "      <td>13.53</td>\n",
       "      <td>B</td>\n",
       "      <td>10</td>\n",
       "      <td>MORTGAGE</td>\n",
       "      <td>Verified</td>\n",
       "      <td>Dec-2013</td>\n",
       "      <td>Fully Paid</td>\n",
       "      <td>credit_card</td>\n",
       "      <td>MI</td>\n",
       "      <td>Jan-1989</td>\n",
       "      <td>76.7</td>\n",
       "      <td>Dec-2015</td>\n",
       "      <td>Jan-2018</td>\n",
       "      <td>N</td>\n",
       "    </tr>\n",
       "    <tr>\n",
       "      <th>4</th>\n",
       "      <td>36 months</td>\n",
       "      <td>7.62</td>\n",
       "      <td>A</td>\n",
       "      <td>5</td>\n",
       "      <td>MORTGAGE</td>\n",
       "      <td>Source Verified</td>\n",
       "      <td>Dec-2013</td>\n",
       "      <td>Fully Paid</td>\n",
       "      <td>debt_consolidation</td>\n",
       "      <td>CA</td>\n",
       "      <td>Nov-1994</td>\n",
       "      <td>54.6</td>\n",
       "      <td>Aug-2014</td>\n",
       "      <td>Aug-2014</td>\n",
       "      <td>N</td>\n",
       "    </tr>\n",
       "  </tbody>\n",
       "</table>\n",
       "</div>"
      ],
      "text/plain": [
       "         term  int_rate grade  emp_length home_ownership verification_status  \\\n",
       "0   36 months     13.53     B          10           RENT     Source Verified   \n",
       "1   36 months     12.85     B           4           RENT        Not Verified   \n",
       "2   36 months      8.90     A           2       MORTGAGE        Not Verified   \n",
       "3   36 months     13.53     B          10       MORTGAGE            Verified   \n",
       "4   36 months      7.62     A           5       MORTGAGE     Source Verified   \n",
       "\n",
       "    issue_d loan_status             purpose addr_state earliest_cr_line  \\\n",
       "0  Dec-2013  Fully Paid  debt_consolidation         NM         Oct-1998   \n",
       "1  Dec-2013  Fully Paid  debt_consolidation         NC         Jun-1988   \n",
       "2  Dec-2013  Fully Paid  debt_consolidation         FL         Mar-1998   \n",
       "3  Dec-2013  Fully Paid         credit_card         MI         Jan-1989   \n",
       "4  Dec-2013  Fully Paid  debt_consolidation         CA         Nov-1994   \n",
       "\n",
       "   revol_util last_pymnt_d last_credit_pull_d debt_settlement_flag  \n",
       "0        68.8     Sep-2015           Jul-2017                    N  \n",
       "1        81.9     Jan-2017           Jan-2018                    N  \n",
       "2        74.2     Jan-2017           Dec-2016                    N  \n",
       "3        76.7     Dec-2015           Jan-2018                    N  \n",
       "4        54.6     Aug-2014           Aug-2014                    N  "
      ]
     },
     "execution_count": 26,
     "metadata": {},
     "output_type": "execute_result"
    }
   ],
   "source": [
    "preprocessed_categorical_data_df.head()"
   ]
  },
  {
   "cell_type": "code",
   "execution_count": 27,
   "metadata": {},
   "outputs": [
    {
     "data": {
      "text/plain": [
       "CA    170709\n",
       "TX    100994\n",
       "NY    100423\n",
       "FL     85575\n",
       "IL     49473\n",
       "NJ     45061\n",
       "PA     42497\n",
       "OH     41750\n",
       "GA     40406\n",
       "VA     34782\n",
       "NC     34585\n",
       "MI     32585\n",
       "MD     28797\n",
       "AZ     28746\n",
       "MA     27614\n",
       "CO     25747\n",
       "WA     25619\n",
       "MN     22119\n",
       "IN     21404\n",
       "TN     20128\n",
       "MO     19550\n",
       "CT     18647\n",
       "NV     17290\n",
       "WI     16241\n",
       "AL     15354\n",
       "SC     15012\n",
       "LA     14458\n",
       "OR     14430\n",
       "KY     11957\n",
       "OK     11386\n",
       "KS     10694\n",
       "AR      9291\n",
       "UT      8400\n",
       "NM      6744\n",
       "MS      6659\n",
       "HI      6092\n",
       "NH      5954\n",
       "RI      5322\n",
       "WV      4747\n",
       "DE      3508\n",
       "MT      3472\n",
       "NE      3280\n",
       "DC      2996\n",
       "AK      2947\n",
       "WY      2751\n",
       "VT      2551\n",
       "SD      2507\n",
       "ME      1931\n",
       "ND      1530\n",
       "ID      1228\n",
       "IA         2\n",
       "Name: addr_state, dtype: int64"
      ]
     },
     "execution_count": 27,
     "metadata": {},
     "output_type": "execute_result"
    }
   ],
   "source": [
    "preprocessed_categorical_data_df.addr_state.value_counts()"
   ]
  },
  {
   "cell_type": "markdown",
   "metadata": {},
   "source": [
    "There are almost 50 different states. so it is going to increase the dimensions of the datasets when converted to numeric value. So to decrease the complexity we can drop addr_state from the dataset."
   ]
  },
  {
   "cell_type": "code",
   "execution_count": 28,
   "metadata": {
    "collapsed": true
   },
   "outputs": [],
   "source": [
    "preprocessed_categorical_data_df = preprocessed_categorical_data_df.drop(['addr_state'],axis=1)"
   ]
  },
  {
   "cell_type": "code",
   "execution_count": 29,
   "metadata": {},
   "outputs": [
    {
     "data": {
      "text/plain": [
       "42    Current status of the loan\n",
       "Name: description, dtype: object"
      ]
     },
     "execution_count": 29,
     "metadata": {},
     "output_type": "execute_result"
    }
   ],
   "source": [
    "data_dict[data_dict['name'] == 'loan_status'].description"
   ]
  },
  {
   "cell_type": "markdown",
   "metadata": {},
   "source": [
    "<h4>The loan status is the target variables. so we convert into numeric labels using LabelEncoder</h4>"
   ]
  },
  {
   "cell_type": "code",
   "execution_count": 30,
   "metadata": {},
   "outputs": [
    {
     "data": {
      "text/plain": [
       "Fully Paid            560416\n",
       "Current               479976\n",
       "Charged Off           156618\n",
       "Late (31-120 days)     16746\n",
       "In Grace Period         8304\n",
       "Late (16-30 days)       3773\n",
       "Default                  112\n",
       "Name: loan_status, dtype: int64"
      ]
     },
     "execution_count": 30,
     "metadata": {},
     "output_type": "execute_result"
    }
   ],
   "source": [
    "preprocessed_categorical_data_df['loan_status'].value_counts()"
   ]
  },
  {
   "cell_type": "code",
   "execution_count": 31,
   "metadata": {
    "collapsed": true
   },
   "outputs": [],
   "source": [
    "from sklearn.preprocessing import LabelEncoder\n",
    "le = LabelEncoder()\n",
    "preprocessed_categorical_data_df['loan_status'] = le.fit_transform(preprocessed_categorical_data_df['loan_status'])"
   ]
  },
  {
   "cell_type": "code",
   "execution_count": 32,
   "metadata": {},
   "outputs": [
    {
     "data": {
      "text/plain": [
       "3    560416\n",
       "1    479976\n",
       "0    156618\n",
       "6     16746\n",
       "4      8304\n",
       "5      3773\n",
       "2       112\n",
       "Name: loan_status, dtype: int64"
      ]
     },
     "execution_count": 32,
     "metadata": {},
     "output_type": "execute_result"
    }
   ],
   "source": [
    "preprocessed_categorical_data_df['loan_status'].value_counts()"
   ]
  },
  {
   "cell_type": "markdown",
   "metadata": {},
   "source": [
    "issue_d , earliest_cr_line and last_credit_pull_d columns contain date values. To use these variables it would need good amount of feature engineering. so we drop these columns."
   ]
  },
  {
   "cell_type": "code",
   "execution_count": 33,
   "metadata": {
    "collapsed": true
   },
   "outputs": [],
   "source": [
    "preprocessed_categorical_data_df = preprocessed_categorical_data_df.drop(['issue_d','earliest_cr_line','last_credit_pull_d'],axis=1)"
   ]
  },
  {
   "cell_type": "markdown",
   "metadata": {},
   "source": [
    "Drop the feateres which are obtained after the loan is issued as they not useful for the analysis"
   ]
  },
  {
   "cell_type": "markdown",
   "metadata": {},
   "source": [
    "\n",
    " last_pymnt_d - Last month payment was received"
   ]
  },
  {
   "cell_type": "code",
   "execution_count": 34,
   "metadata": {
    "collapsed": true
   },
   "outputs": [],
   "source": [
    "preprocessed_categorical_data_df = preprocessed_categorical_data_df.drop(['last_pymnt_d'],axis=1)\n"
   ]
  },
  {
   "cell_type": "code",
   "execution_count": 36,
   "metadata": {
    "collapsed": true
   },
   "outputs": [],
   "source": [
    "preprocessed_categorical_data_df = pd.get_dummies(preprocessed_categorical_data_df,drop_first=True)"
   ]
  },
  {
   "cell_type": "code",
   "execution_count": 37,
   "metadata": {},
   "outputs": [
    {
     "name": "stdout",
     "output_type": "stream",
     "text": [
      "<class 'pandas.core.frame.DataFrame'>\n",
      "Int64Index: 1225945 entries, 0 to 103545\n",
      "Data columns (total 29 columns):\n",
      "int_rate                               1225945 non-null float64\n",
      "emp_length                             1225945 non-null int64\n",
      "loan_status                            1225945 non-null int64\n",
      "revol_util                             1225945 non-null float64\n",
      "term_ 60 months                        1225945 non-null uint8\n",
      "grade_B                                1225945 non-null uint8\n",
      "grade_C                                1225945 non-null uint8\n",
      "grade_D                                1225945 non-null uint8\n",
      "grade_E                                1225945 non-null uint8\n",
      "grade_F                                1225945 non-null uint8\n",
      "grade_G                                1225945 non-null uint8\n",
      "home_ownership_MORTGAGE                1225945 non-null uint8\n",
      "home_ownership_OWN                     1225945 non-null uint8\n",
      "home_ownership_RENT                    1225945 non-null uint8\n",
      "verification_status_Source Verified    1225945 non-null uint8\n",
      "verification_status_Verified           1225945 non-null uint8\n",
      "purpose_credit_card                    1225945 non-null uint8\n",
      "purpose_debt_consolidation             1225945 non-null uint8\n",
      "purpose_educational                    1225945 non-null uint8\n",
      "purpose_home_improvement               1225945 non-null uint8\n",
      "purpose_house                          1225945 non-null uint8\n",
      "purpose_major_purchase                 1225945 non-null uint8\n",
      "purpose_medical                        1225945 non-null uint8\n",
      "purpose_moving                         1225945 non-null uint8\n",
      "purpose_other                          1225945 non-null uint8\n",
      "purpose_renewable_energy               1225945 non-null uint8\n",
      "purpose_small_business                 1225945 non-null uint8\n",
      "purpose_vacation                       1225945 non-null uint8\n",
      "purpose_wedding                        1225945 non-null uint8\n",
      "dtypes: float64(2), int64(2), uint8(25)\n",
      "memory usage: 76.0 MB\n"
     ]
    }
   ],
   "source": [
    "preprocessed_categorical_data_df.info()"
   ]
  },
  {
   "cell_type": "markdown",
   "metadata": {},
   "source": [
    "<h3>Now lets explore the numeric values</h3>"
   ]
  },
  {
   "cell_type": "markdown",
   "metadata": {},
   "source": [
    "1. last_fico_range_high - The upper boundary range the borrower’s last FICO pulled belongs to.\n",
    "2. last_fico_range_low - The lower boundary range the borrower’s last FICO pulled belongs to.\n",
    "3. fico_range_high - The upper boundary range the borrower’s FICO at loan origination belongs to.\n",
    "4. fico_range_low - The lower boundary range the borrower’s FICO at loan origination belongs to."
   ]
  },
  {
   "cell_type": "markdown",
   "metadata": {},
   "source": [
    "The last fico score can be ignored. We can use the fico score at loan origination as it is the latest fico score\n",
    "Create a new column fico_average which is the average of fico_range_high and fico_range_low"
   ]
  },
  {
   "cell_type": "code",
   "execution_count": 38,
   "metadata": {},
   "outputs": [
    {
     "name": "stderr",
     "output_type": "stream",
     "text": [
      "/Users/sowjanya/anaconda3/lib/python3.6/site-packages/ipykernel_launcher.py:1: SettingWithCopyWarning: \n",
      "A value is trying to be set on a copy of a slice from a DataFrame.\n",
      "Try using .loc[row_indexer,col_indexer] = value instead\n",
      "\n",
      "See the caveats in the documentation: http://pandas.pydata.org/pandas-docs/stable/indexing.html#indexing-view-versus-copy\n",
      "  \"\"\"Entry point for launching an IPython kernel.\n"
     ]
    }
   ],
   "source": [
    "preprocessed_numeric_data_df['fico_average'] = (preprocessed_numeric_data_df['fico_range_high'] + preprocessed_numeric_data_df['fico_range_low']) / 2"
   ]
  },
  {
   "cell_type": "code",
   "execution_count": 39,
   "metadata": {
    "collapsed": true
   },
   "outputs": [],
   "source": [
    "preprocessed_numeric_data_df = preprocessed_numeric_data_df.drop(['last_fico_range_high','last_fico_range_low','fico_range_high','fico_range_low'],axis=1)"
   ]
  },
  {
   "cell_type": "markdown",
   "metadata": {},
   "source": [
    "Drop the featueres which are are obtained after the loan origination as they are not useful for the analysis\n",
    "\n",
    "1. funded_amnt - The total amount committed to that loan\n",
    "2. funded_amnt_inv - The total amount committed by investors to the loan\n",
    "3. out_prncp - Remaining outstanding principal for total amount funded\n",
    "4. out_prncp_inv - Remaining outstanding principal for portion of total amount funded by investors\n",
    "5. total_pymnt - Payments received to date for total amount funded\n",
    "6. total_pymnt_inv - Payments received to date for portion of total amount funded by investor\n",
    "7. total_rec_prncp - Principal received to date\n",
    "8. total_rec_int - Interest received to date\n",
    "9. total_rec_late_fee - Late fees received to date\n",
    "10. last_pymnt_amnt - Last total payment amount received\n",
    "11. recoveries - Amount recovered after the loan is charged off\n",
    "12. collection_recovery_fee -"
   ]
  },
  {
   "cell_type": "code",
   "execution_count": 40,
   "metadata": {
    "collapsed": true
   },
   "outputs": [],
   "source": [
    "preprocessed_numeric_data_df = preprocessed_numeric_data_df.drop(['funded_amnt','funded_amnt_inv','out_prncp','out_prncp_inv','total_pymnt','total_pymnt_inv','total_rec_prncp','total_rec_int','total_rec_late_fee','last_pymnt_amnt'],axis=1)"
   ]
  },
  {
   "cell_type": "code",
   "execution_count": 41,
   "metadata": {
    "collapsed": true
   },
   "outputs": [],
   "source": [
    "preprocessed_numeric_data_df = preprocessed_numeric_data_df.drop(['recoveries','collection_recovery_fee'],axis=1)"
   ]
  },
  {
   "cell_type": "code",
   "execution_count": 42,
   "metadata": {
    "collapsed": true
   },
   "outputs": [],
   "source": [
    "final_filtered_df = pd.concat([preprocessed_numeric_data_df, preprocessed_categorical_data_df], axis=1)"
   ]
  },
  {
   "cell_type": "code",
   "execution_count": 43,
   "metadata": {},
   "outputs": [
    {
     "name": "stdout",
     "output_type": "stream",
     "text": [
      "<class 'pandas.core.frame.DataFrame'>\n",
      "Int64Index: 1225945 entries, 0 to 103545\n",
      "Data columns (total 80 columns):\n",
      "loan_amnt                              1225945 non-null float64\n",
      "installment                            1225945 non-null float64\n",
      "annual_inc                             1225945 non-null float64\n",
      "dti                                    1225945 non-null float64\n",
      "delinq_2yrs                            1225945 non-null float64\n",
      "inq_last_6mths                         1225945 non-null float64\n",
      "open_acc                               1225945 non-null float64\n",
      "pub_rec                                1225945 non-null float64\n",
      "revol_bal                              1225945 non-null float64\n",
      "total_acc                              1225945 non-null float64\n",
      "collections_12_mths_ex_med             1225945 non-null float64\n",
      "acc_now_delinq                         1225945 non-null float64\n",
      "tot_coll_amt                           1225945 non-null float64\n",
      "tot_cur_bal                            1225945 non-null float64\n",
      "total_rev_hi_lim                       1225945 non-null float64\n",
      "acc_open_past_24mths                   1225945 non-null float64\n",
      "avg_cur_bal                            1225945 non-null float64\n",
      "bc_open_to_buy                         1225945 non-null float64\n",
      "bc_util                                1225945 non-null float64\n",
      "chargeoff_within_12_mths               1225945 non-null float64\n",
      "delinq_amnt                            1225945 non-null float64\n",
      "mo_sin_old_il_acct                     1225945 non-null float64\n",
      "mo_sin_old_rev_tl_op                   1225945 non-null float64\n",
      "mo_sin_rcnt_rev_tl_op                  1225945 non-null float64\n",
      "mo_sin_rcnt_tl                         1225945 non-null float64\n",
      "mort_acc                               1225945 non-null float64\n",
      "mths_since_recent_bc                   1225945 non-null float64\n",
      "mths_since_recent_inq                  1225945 non-null float64\n",
      "num_accts_ever_120_pd                  1225945 non-null float64\n",
      "num_actv_bc_tl                         1225945 non-null float64\n",
      "num_actv_rev_tl                        1225945 non-null float64\n",
      "num_bc_sats                            1225945 non-null float64\n",
      "num_bc_tl                              1225945 non-null float64\n",
      "num_il_tl                              1225945 non-null float64\n",
      "num_op_rev_tl                          1225945 non-null float64\n",
      "num_rev_accts                          1225945 non-null float64\n",
      "num_rev_tl_bal_gt_0                    1225945 non-null float64\n",
      "num_sats                               1225945 non-null float64\n",
      "num_tl_120dpd_2m                       1225945 non-null float64\n",
      "num_tl_30dpd                           1225945 non-null float64\n",
      "num_tl_90g_dpd_24m                     1225945 non-null float64\n",
      "num_tl_op_past_12m                     1225945 non-null float64\n",
      "pct_tl_nvr_dlq                         1225945 non-null float64\n",
      "percent_bc_gt_75                       1225945 non-null float64\n",
      "pub_rec_bankruptcies                   1225945 non-null float64\n",
      "tax_liens                              1225945 non-null float64\n",
      "tot_hi_cred_lim                        1225945 non-null float64\n",
      "total_bal_ex_mort                      1225945 non-null float64\n",
      "total_bc_limit                         1225945 non-null float64\n",
      "total_il_high_credit_limit             1225945 non-null float64\n",
      "fico_average                           1225945 non-null float64\n",
      "int_rate                               1225945 non-null float64\n",
      "emp_length                             1225945 non-null int64\n",
      "loan_status                            1225945 non-null int64\n",
      "revol_util                             1225945 non-null float64\n",
      "term_ 60 months                        1225945 non-null uint8\n",
      "grade_B                                1225945 non-null uint8\n",
      "grade_C                                1225945 non-null uint8\n",
      "grade_D                                1225945 non-null uint8\n",
      "grade_E                                1225945 non-null uint8\n",
      "grade_F                                1225945 non-null uint8\n",
      "grade_G                                1225945 non-null uint8\n",
      "home_ownership_MORTGAGE                1225945 non-null uint8\n",
      "home_ownership_OWN                     1225945 non-null uint8\n",
      "home_ownership_RENT                    1225945 non-null uint8\n",
      "verification_status_Source Verified    1225945 non-null uint8\n",
      "verification_status_Verified           1225945 non-null uint8\n",
      "purpose_credit_card                    1225945 non-null uint8\n",
      "purpose_debt_consolidation             1225945 non-null uint8\n",
      "purpose_educational                    1225945 non-null uint8\n",
      "purpose_home_improvement               1225945 non-null uint8\n",
      "purpose_house                          1225945 non-null uint8\n",
      "purpose_major_purchase                 1225945 non-null uint8\n",
      "purpose_medical                        1225945 non-null uint8\n",
      "purpose_moving                         1225945 non-null uint8\n",
      "purpose_other                          1225945 non-null uint8\n",
      "purpose_renewable_energy               1225945 non-null uint8\n",
      "purpose_small_business                 1225945 non-null uint8\n",
      "purpose_vacation                       1225945 non-null uint8\n",
      "purpose_wedding                        1225945 non-null uint8\n",
      "dtypes: float64(53), int64(2), uint8(25)\n",
      "memory usage: 553.0 MB\n"
     ]
    }
   ],
   "source": [
    "final_filtered_df.info()"
   ]
  },
  {
   "cell_type": "markdown",
   "metadata": {},
   "source": [
    "<h3>Classification Models :</h3>\n",
    "\n",
    "<p>1.Logistic Regression</p>\n",
    "<p>2.Decision Tree Classification</p>\n",
    "<p>3.Random Forest Classsification</p>\n",
    "<p>4.Gradient Boost Classifier</p>\n",
    "    "
   ]
  },
  {
   "cell_type": "markdown",
   "metadata": {},
   "source": [
    "For our analysis , we want to predict if a loan will be fully paid or charged off. So filter the loans which have loan_status = 0 (Charged off) or loan_status = 5 (Fully Paid). So filter the loans wiht loan status = 5 and 0"
   ]
  },
  {
   "cell_type": "code",
   "execution_count": 44,
   "metadata": {},
   "outputs": [
    {
     "data": {
      "text/plain": [
       "3    560416\n",
       "1    479976\n",
       "0    156618\n",
       "6     16746\n",
       "4      8304\n",
       "5      3773\n",
       "2       112\n",
       "Name: loan_status, dtype: int64"
      ]
     },
     "execution_count": 44,
     "metadata": {},
     "output_type": "execute_result"
    }
   ],
   "source": [
    "final_filtered_df.loan_status.value_counts()"
   ]
  },
  {
   "cell_type": "code",
   "execution_count": 45,
   "metadata": {
    "collapsed": true
   },
   "outputs": [],
   "source": [
    "filtered_loans_df = final_filtered_df[(final_filtered_df[\"loan_status\"] == 3) |\n",
    "                            (final_filtered_df[\"loan_status\"] == 0)]\n"
   ]
  },
  {
   "cell_type": "code",
   "execution_count": 46,
   "metadata": {
    "collapsed": true
   },
   "outputs": [],
   "source": [
    "#final_filtered_df.to_csv('final_filtered.csv')"
   ]
  },
  {
   "cell_type": "code",
   "execution_count": 47,
   "metadata": {},
   "outputs": [
    {
     "data": {
      "text/plain": [
       "3    560416\n",
       "0    156618\n",
       "Name: loan_status, dtype: int64"
      ]
     },
     "execution_count": 47,
     "metadata": {},
     "output_type": "execute_result"
    }
   ],
   "source": [
    "filtered_loans_df.loan_status.value_counts()"
   ]
  },
  {
   "cell_type": "markdown",
   "metadata": {},
   "source": [
    "Lendingclub dataset is an imbalanced dataset. The ratio of fully paid and charged off is 4:1. In our dataset ,the fully paid loans is the majority class. This is a problem for existing machine learning algorithms as there will be a bias towars the majority group. "
   ]
  },
  {
   "cell_type": "markdown",
   "metadata": {},
   "source": [
    "<h4>Imbalanced datasets can be handled differently </h4>"
   ]
  },
  {
   "cell_type": "markdown",
   "metadata": {},
   "source": [
    "1. Data-level methods that modify the collection of examples to balance distributions and/or remove difficult samples.\n",
    " Ex : Oversampling and undersampling techniques\n",
    "2. Algorithm-level methods that directly modify existing learning algorithms to alleviate the bias towards majority objects and adapt them to mining data with skewed distributions.\n",
    "    Ex: providing weights/penalty for the classes."
   ]
  },
  {
   "cell_type": "markdown",
   "metadata": {},
   "source": [
    "For our classification we will perform 2 techinques for handling the imabalanced dataset."
   ]
  },
  {
   "cell_type": "markdown",
   "metadata": {},
   "source": [
    "1. <h4>SMOTE</h4> - Synthetic Minority Over-sampling Technique : It works by creating synthetic observations based upon the existing minority observations\n",
    "2. <h4>Adjusting weights for the classes</h4> - Many machine learning algorithms have an optional parameter class_weight which allows to give more weight to classes. class_weight = balanced or penalty = {0: 7,1: 1}\n",
    "          "
   ]
  },
  {
   "cell_type": "markdown",
   "metadata": {},
   "source": [
    "<h4>Split the data into training and test data set</h4>"
   ]
  },
  {
   "cell_type": "markdown",
   "metadata": {},
   "source": [
    "<p>Update the target variable values. we want to predict if the loan gets charged off. so update the loan status values </p>\n",
    "\n",
    "<p>charged off - 0 <p>\n",
    "fully paid - 1 <p>"
   ]
  },
  {
   "cell_type": "code",
   "execution_count": 48,
   "metadata": {},
   "outputs": [
    {
     "name": "stderr",
     "output_type": "stream",
     "text": [
      "/Users/sowjanya/anaconda3/lib/python3.6/site-packages/sklearn/utils/deprecation.py:75: DeprecationWarning: Function _ratio_float is deprecated; Use a float for 'ratio' is deprecated from version 0.2. The support will be removed in 0.4. Use a dict, str, or a callable instead.\n",
      "  warnings.warn(msg, category=DeprecationWarning)\n"
     ]
    }
   ],
   "source": [
    "#Normalize the data and split it into trianing set and test set.\n",
    "from sklearn.model_selection import train_test_split\n",
    "from sklearn.preprocessing import Normalizer\n",
    "\n",
    "#Target Variable\n",
    "y = filtered_loans_df.loan_status.values\n",
    "#print(y)\n",
    "\n",
    "y[y==3] = 1\n",
    "#Independent variables\n",
    "X = filtered_loans_df.drop(['loan_status'],axis=1)\n",
    "\n",
    "#Normalize the data\n",
    "normalizer = Normalizer()\n",
    "scaled_X = normalizer.fit_transform(X)\n",
    "\n",
    "# Split into training and test set\n",
    "X_train, X_test, y_train, y_test = train_test_split(scaled_X, y, test_size = 0.2, random_state=42, stratify=y)\n",
    "\n",
    "from imblearn.over_sampling import SMOTE\n",
    "sm = SMOTE(random_state=12, ratio = 1.0)\n",
    "X_train_res, y_train_res = sm.fit_sample(X_train, y_train)"
   ]
  },
  {
   "cell_type": "code",
   "execution_count": 50,
   "metadata": {
    "collapsed": true
   },
   "outputs": [],
   "source": [
    "from sklearn.metrics import accuracy_score\n",
    "from sklearn.metrics import confusion_matrix\n",
    "from sklearn.metrics import classification_report\n",
    "\n",
    "\n",
    "def accuracy_metrics(y_test,y_pred):\n",
    "    print(\"#--------------Confusion Matrix--------------------\")\n",
    "    print(confusion_matrix(y_test, y_pred))\n",
    "    print(\"#--------------Classification Report--------------------\")\n",
    "    print(classification_report(y_test, y_pred))\n",
    "    print(\"#--------------Accuracy Score --------------------\")\n",
    "    print(accuracy_score(y_test, y_pred))\n",
    "    \n",
    "    \n",
    "        "
   ]
  },
  {
   "cell_type": "code",
   "execution_count": 84,
   "metadata": {
    "collapsed": true
   },
   "outputs": [],
   "source": [
    "def classify(clf,X_train,y_train,X_test,y_test) :\n",
    "    # Fit the classifier to the training data\n",
    "    clf.fit(X_train,y_train)\n",
    "    # Predict the labels of the test set: y_pred\n",
    "    y_pred = clf.predict(X_test)\n",
    "    #Calculate the accuracy of the model\n",
    "    print(\"#--------------cross validation---------------------- \")\n",
    "    cv_scores_3 = cross_val_score(clf,X_train,y_train,cv=3)\n",
    "    print(\"3 fold Cross-Validation score : \", cv_scores_3 )\n",
    "    print(\"Mean of 3 fold Cross-Validation score : \", np.mean(cv_scores_3) )\n",
    "    print(\"#------------------------------------ \")\n",
    "\n",
    "    print(\"#--------------Test Data---------------------- \")\n",
    "    accuracy_metrics(y_test,y_pred)\n",
    "    print(\"#------------f1-score------------------------\")\n",
    "    print(\"f1-score\" ,f1_score(y_test,y_pred))\n",
    "    print(\"#--------------AUC score---------------------- \")\n",
    "    #print(roc_auc_score(y_test, y_pred))\n",
    "    fpr, tpr, thresholds = roc_curve(y_test, y_pred)\n",
    "    print(\"AUC Score - \" , auc(fpr, tpr))"
   ]
  },
  {
   "cell_type": "code",
   "execution_count": 85,
   "metadata": {
    "collapsed": true
   },
   "outputs": [],
   "source": [
    "def classify_with_parameter_tuning(clf,param_grid,X_train,y_train,X_test,y_test) :\n",
    "    \n",
    "    clf_cv = GridSearchCV(clf,param_grid,n_jobs=-1)\n",
    "    # Fit the classifier to the training data\n",
    "    clf_cv.fit(X_train,y_train)\n",
    "    # Predict the labels of the test set: y_pred\n",
    "    y_pred = clf_cv.predict(X_test)\n",
    "    \n",
    "    # Print the optimal parameters and best score\n",
    "    print(\"Tuned Classifier Parameter: {}\".format(clf_cv.best_params_))\n",
    "    print(\"Tuned Classifieer Regression Accuracy: {}\".format(clf_cv.best_score_))\n",
    "    accuracy_metrics(y_test,y_pred)\n",
    "    print(\"#------------f1-score------------------------\")\n",
    "    print(\"f1-score\" ,f1_score(y_test,y_pred))\n",
    "    print(\"#--------------AUC score---------------------- \")\n",
    "    #print(roc_auc_score(y_test, y_pred))\n",
    "    fpr, tpr, thresholds = roc_curve(y_test, y_pred)\n",
    "    print(\"AUC Score - \" ,auc(fpr, tpr))"
   ]
  },
  {
   "cell_type": "code",
   "execution_count": 53,
   "metadata": {
    "collapsed": true
   },
   "outputs": [],
   "source": [
    "def plot_roc_graph(clf,X_train,y_train,X_test,y_test) :\n",
    "    # Compute predicted probabilities: y_pred_prob\n",
    "    clf.fit(X_train,y_train)\n",
    "    y_pred_prob =  clf.predict_proba(X_test)[:,1]\n",
    "\n",
    "    # Generate ROC curve values: fpr, tpr, thresholds\n",
    "    fpr, tpr, thresholds = roc_curve(y_test, y_pred_prob)\n",
    "\n",
    "    # Plot ROC curve\n",
    "    plt.plot([0, 1], [0, 1], 'k--')\n",
    "    plt.plot(fpr, tpr)\n",
    "    plt.xlabel('False Positive Rate')\n",
    "    plt.ylabel('True Positive Rate')\n",
    "    plt.title('ROC Curve')\n",
    "    plt.show()"
   ]
  },
  {
   "cell_type": "code",
   "execution_count": null,
   "metadata": {
    "collapsed": true
   },
   "outputs": [],
   "source": []
  },
  {
   "cell_type": "markdown",
   "metadata": {},
   "source": [
    "<h3>Logistic Regression </h3>"
   ]
  },
  {
   "cell_type": "markdown",
   "metadata": {},
   "source": [
    "<h4>1. class_weight = 'balanced'</h4>"
   ]
  },
  {
   "cell_type": "code",
   "execution_count": 86,
   "metadata": {},
   "outputs": [
    {
     "name": "stdout",
     "output_type": "stream",
     "text": [
      "#--------------Logistic Regression Analysis----------------------\n",
      "#--------------cross validation---------------------- \n",
      "3 fold Cross-Validation score :  [ 0.62087234  0.62004404  0.61835279]\n",
      "Mean of 3 fold Cross-Validation score :  0.619756387828\n",
      "#------------------------------------ \n",
      "#--------------Test Data---------------------- \n",
      "#--------------Confusion Matrix--------------------\n",
      "[[17508 13816]\n",
      " [40758 71325]]\n",
      "#--------------Classification Report--------------------\n",
      "             precision    recall  f1-score   support\n",
      "\n",
      "          0       0.30      0.56      0.39     31324\n",
      "          1       0.84      0.64      0.72    112083\n",
      "\n",
      "avg / total       0.72      0.62      0.65    143407\n",
      "\n",
      "#--------------Accuracy Score --------------------\n",
      "0.619446749461\n",
      "#--------------AUC score---------------------- \n",
      "0.597645608902\n",
      "#------------f1-score------------------------\n",
      "f1-score 0.723289254857\n",
      "#--------------AUC score---------------------- \n",
      "AUC Score -  0.597645608902\n"
     ]
    }
   ],
   "source": [
    "#Logistic Regression \n",
    "\n",
    "# Create the classifier: logreg with default parameters\n",
    "logreg = LogisticRegression(class_weight='balanced')\n",
    "\n",
    "print(\"#--------------Logistic Regression Analysis----------------------\")\n",
    "classify(logreg,X_train,y_train,X_test,y_test)"
   ]
  },
  {
   "cell_type": "markdown",
   "metadata": {},
   "source": [
    "<h4>2. class_weight = penalty</h4>"
   ]
  },
  {
   "cell_type": "code",
   "execution_count": 108,
   "metadata": {},
   "outputs": [
    {
     "name": "stdout",
     "output_type": "stream",
     "text": [
      "#--------------Logistic Regression Analysis----------------------\n",
      "#--------------cross validation---------------------- \n",
      "3 fold Cross-Validation score :  [ 0.56840646  0.56795444  0.56767499]\n",
      "Mean of 3 fold Cross-Validation score :  0.568011964689\n",
      "#------------------------------------ \n",
      "#--------------Test Data---------------------- \n",
      "#--------------Confusion Matrix--------------------\n",
      "[[20431 10893]\n",
      " [51121 60962]]\n",
      "#--------------Classification Report--------------------\n",
      "             precision    recall  f1-score   support\n",
      "\n",
      "          0       0.29      0.65      0.40     31324\n",
      "          1       0.85      0.54      0.66    112083\n",
      "\n",
      "avg / total       0.73      0.57      0.60    143407\n",
      "\n",
      "#--------------Accuracy Score --------------------\n",
      "0.567566436785\n",
      "#--------------AUC score---------------------- \n",
      "0.598073990139\n",
      "#------------f1-score------------------------\n",
      "f1-score 0.662853787689\n",
      "#--------------AUC score---------------------- \n",
      "AUC Score -  0.598073990139\n"
     ]
    }
   ],
   "source": [
    "#Logistic Regression \n",
    "penalty = {0: 4,\n",
    "           1: 1\n",
    "          }\n",
    "# Create the classifier: logreg with default parameters\n",
    "logreg = LogisticRegression(class_weight=penalty)\n",
    "\n",
    "print(\"#--------------Logistic Regression Analysis----------------------\")\n",
    "classify(logreg,X_train,y_train,X_test,y_test)\n"
   ]
  },
  {
   "cell_type": "markdown",
   "metadata": {},
   "source": [
    "<h4>3.Logistic Regression  with oversampling</h4>"
   ]
  },
  {
   "cell_type": "code",
   "execution_count": 88,
   "metadata": {},
   "outputs": [
    {
     "name": "stdout",
     "output_type": "stream",
     "text": [
      "#--------------Logistic Regression Analysis----------------------\n",
      "#--------------cross validation---------------------- \n",
      "3 fold Cross-Validation score :  [ 0.60003346  0.60544083  0.60314901]\n",
      "Mean of 3 fold Cross-Validation score :  0.602874432266\n",
      "#------------------------------------ \n",
      "#--------------Test Data---------------------- \n",
      "#--------------Confusion Matrix--------------------\n",
      "[[17608 13716]\n",
      " [41102 70981]]\n",
      "#--------------Classification Report--------------------\n",
      "             precision    recall  f1-score   support\n",
      "\n",
      "          0       0.30      0.56      0.39     31324\n",
      "          1       0.84      0.63      0.72    112083\n",
      "\n",
      "avg / total       0.72      0.62      0.65    143407\n",
      "\n",
      "#--------------Accuracy Score --------------------\n",
      "0.617745298347\n",
      "#--------------AUC score---------------------- \n",
      "0.597707251998\n",
      "#------------f1-score------------------------\n",
      "f1-score 0.721424941559\n",
      "#--------------AUC score---------------------- \n",
      "AUC Score -  0.597707251998\n"
     ]
    }
   ],
   "source": [
    "#Logistic Regression \n",
    "\n",
    "\n",
    "# Create the classifier: logreg with default parameters\n",
    "logreg = LogisticRegression()\n",
    "\n",
    "print(\"#--------------Logistic Regression Analysis----------------------\")\n",
    "classify(logreg,X_train_res,y_train_res,X_test,y_test)\n"
   ]
  },
  {
   "cell_type": "markdown",
   "metadata": {},
   "source": [
    "<h4>Paramter Tuning</h4>"
   ]
  },
  {
   "cell_type": "code",
   "execution_count": 89,
   "metadata": {},
   "outputs": [
    {
     "name": "stdout",
     "output_type": "stream",
     "text": [
      "Tuned Classifier Parameter: {'penalty': 'l1'}\n",
      "Tuned Classifieer Regression Accuracy: 0.6022729055640687\n",
      "#--------------Confusion Matrix--------------------\n",
      "[[20439 10885]\n",
      " [44600 67483]]\n",
      "#--------------Classification Report--------------------\n",
      "             precision    recall  f1-score   support\n",
      "\n",
      "          0       0.31      0.65      0.42     31324\n",
      "          1       0.86      0.60      0.71    112083\n",
      "\n",
      "avg / total       0.74      0.61      0.65    143407\n",
      "\n",
      "#--------------Accuracy Score --------------------\n",
      "0.613094200423\n",
      "#--------------AUC score---------------------- \n",
      "0.62729173709\n",
      "#------------f1-score------------------------\n",
      "f1-score 0.708665220975\n",
      "#--------------AUC score---------------------- \n",
      "AUC Score -  0.62729173709\n"
     ]
    }
   ],
   "source": [
    "from sklearn.model_selection import GridSearchCV\n",
    "penalty = {0: 7,\n",
    "           1: 1\n",
    "          }\n",
    "# Create the hyperparameter grid\n",
    "param_grid = {'penalty': ['l1', 'l2']}\n",
    "\n",
    "logreg = LogisticRegression(class_weight=penalty)\n",
    "classify_with_parameter_tuning(logreg,param_grid,X_train,y_train,X_test,y_test)\n"
   ]
  },
  {
   "cell_type": "markdown",
   "metadata": {},
   "source": [
    "<h4>Test Results</h4>"
   ]
  },
  {
   "cell_type": "markdown",
   "metadata": {},
   "source": [
    "|Type|Accuracy|AUC score|F1-Score|\n",
    "| :- |-------------: | :-:\n",
    "|Weight ='balanced' |0.619446749461|0.597645608902|0.723289254857|\n",
    "|Weight = penalty| 0.567566436785|0.598073990139|0.662853787689|\n",
    "|Oversampling |0.617745298347|0.597707251998|0.721424941559|\n",
    "|Tuned parameters |0.613094200423|0.62729173709|0.708665220975|"
   ]
  },
  {
   "cell_type": "markdown",
   "metadata": {},
   "source": [
    "<h3>Decision Tree Classifier </h3>"
   ]
  },
  {
   "cell_type": "markdown",
   "metadata": {},
   "source": [
    "<h4>1. class_weight = 'balanced'</h4>"
   ]
  },
  {
   "cell_type": "code",
   "execution_count": 90,
   "metadata": {},
   "outputs": [
    {
     "name": "stdout",
     "output_type": "stream",
     "text": [
      "#--------------Decision Tree Classification Analysis----------------------\n",
      "#--------------cross validation---------------------- \n",
      "3 fold Cross-Validation score :  [ 0.69915276  0.6986805   0.69930651]\n",
      "Mean of 3 fold Cross-Validation score :  0.699046593263\n",
      "#------------------------------------ \n",
      "#--------------Test Data---------------------- \n",
      "#--------------Confusion Matrix--------------------\n",
      "[[ 9952 21372]\n",
      " [21483 90600]]\n",
      "#--------------Classification Report--------------------\n",
      "             precision    recall  f1-score   support\n",
      "\n",
      "          0       0.32      0.32      0.32     31324\n",
      "          1       0.81      0.81      0.81    112083\n",
      "\n",
      "avg / total       0.70      0.70      0.70    143407\n",
      "\n",
      "#--------------Accuracy Score --------------------\n",
      "0.701165215087\n",
      "#--------------AUC score---------------------- \n",
      "0.563020600146\n",
      "#------------f1-score------------------------\n",
      "f1-score 0.808729999331\n",
      "#--------------AUC score---------------------- \n",
      "AUC Score -  0.563020600146\n"
     ]
    }
   ],
   "source": [
    "#Decision Tree Classifier\n",
    "decisionTree = DecisionTreeClassifier(random_state=32,class_weight='balanced')\n",
    "print(\"#--------------Decision Tree Classification Analysis----------------------\")\n",
    "classify(decisionTree,X_train,y_train,X_test,y_test)"
   ]
  },
  {
   "cell_type": "markdown",
   "metadata": {},
   "source": [
    "<h4>2. class_weight = penalty</h4>"
   ]
  },
  {
   "cell_type": "code",
   "execution_count": 91,
   "metadata": {},
   "outputs": [
    {
     "name": "stdout",
     "output_type": "stream",
     "text": [
      "#--------------Decision Tree Classification Analysis----------------------\n",
      "#--------------cross validation---------------------- \n",
      "3 fold Cross-Validation score :  [ 0.70151666  0.70179228  0.70023744]\n",
      "Mean of 3 fold Cross-Validation score :  0.701182124832\n",
      "#------------------------------------ \n",
      "#--------------Test Data---------------------- \n",
      "#--------------Confusion Matrix--------------------\n",
      "[[ 9749 21575]\n",
      " [20861 91222]]\n",
      "#--------------Classification Report--------------------\n",
      "             precision    recall  f1-score   support\n",
      "\n",
      "          0       0.32      0.31      0.31     31324\n",
      "          1       0.81      0.81      0.81    112083\n",
      "\n",
      "avg / total       0.70      0.70      0.70    143407\n",
      "\n",
      "#--------------Accuracy Score --------------------\n",
      "0.704086969255\n",
      "#--------------AUC score---------------------- \n",
      "0.562555002682\n",
      "#------------f1-score------------------------\n",
      "f1-score 0.811294912842\n",
      "#--------------AUC score---------------------- \n",
      "AUC Score -  0.562555002682\n"
     ]
    }
   ],
   "source": [
    "#Decision Tree Classifier\n",
    "penalty = {0: 7,\n",
    "           1: 1\n",
    "          }\n",
    "decisionTree = DecisionTreeClassifier(random_state=32,class_weight=penalty)\n",
    "print(\"#--------------Decision Tree Classification Analysis----------------------\")\n",
    "classify(decisionTree,X_train,y_train,X_test,y_test)"
   ]
  },
  {
   "cell_type": "markdown",
   "metadata": {},
   "source": [
    "<h4>3.Decision Tree Classifier using Oversampling</h4>"
   ]
  },
  {
   "cell_type": "code",
   "execution_count": 92,
   "metadata": {},
   "outputs": [
    {
     "name": "stdout",
     "output_type": "stream",
     "text": [
      "#--------------Decision Tree Classification Analysis----------------------\n",
      "#--------------cross validation---------------------- \n",
      "3 fold Cross-Validation score :  [ 0.65192546  0.79246407  0.79144027]\n",
      "Mean of 3 fold Cross-Validation score :  0.745276598758\n",
      "#------------------------------------ \n",
      "#--------------Test Data---------------------- \n",
      "#--------------Confusion Matrix--------------------\n",
      "[[12853 18471]\n",
      " [27852 84231]]\n",
      "#--------------Classification Report--------------------\n",
      "             precision    recall  f1-score   support\n",
      "\n",
      "          0       0.32      0.41      0.36     31324\n",
      "          1       0.82      0.75      0.78    112083\n",
      "\n",
      "avg / total       0.71      0.68      0.69    143407\n",
      "\n",
      "#--------------Accuracy Score --------------------\n",
      "0.676982295146\n",
      "#--------------AUC score---------------------- \n",
      "0.58091496631\n",
      "#------------f1-score------------------------\n",
      "f1-score 0.784328514561\n",
      "#--------------AUC score---------------------- \n",
      "AUC Score -  0.58091496631\n"
     ]
    }
   ],
   "source": [
    "#Decision Tree Classifier\n",
    "decisionTree = DecisionTreeClassifier(random_state=32)\n",
    "print(\"#--------------Decision Tree Classification Analysis----------------------\")\n",
    "classify(decisionTree,X_train_res,y_train_res,X_test,y_test)"
   ]
  },
  {
   "cell_type": "markdown",
   "metadata": {
    "collapsed": true
   },
   "source": [
    "<h3>Paramter Tuning</h3>"
   ]
  },
  {
   "cell_type": "code",
   "execution_count": 93,
   "metadata": {},
   "outputs": [
    {
     "name": "stdout",
     "output_type": "stream",
     "text": [
      "Tuned Classifier Parameter: {'max_depth': 40, 'max_features': 'auto', 'min_samples_split': 2}\n",
      "Tuned Classifieer Regression Accuracy: 0.7108365879825933\n",
      "#--------------Confusion Matrix--------------------\n",
      "[[13131 18193]\n",
      " [32630 79453]]\n",
      "#--------------Classification Report--------------------\n",
      "             precision    recall  f1-score   support\n",
      "\n",
      "          0       0.29      0.42      0.34     31324\n",
      "          1       0.81      0.71      0.76    112083\n",
      "\n",
      "avg / total       0.70      0.65      0.67    143407\n",
      "\n",
      "#--------------Accuracy Score --------------------\n",
      "0.645603073769\n",
      "#--------------AUC score---------------------- \n",
      "0.564037896799\n",
      "#------------f1-score------------------------\n",
      "f1-score 0.757672997058\n",
      "#--------------AUC score---------------------- \n",
      "AUC Score -  0.564037896799\n"
     ]
    }
   ],
   "source": [
    "decisionTree = DecisionTreeClassifier(random_state=32)\n",
    "#Hyper Parameters Set\n",
    "param_grid = {'max_features': ['auto', 'sqrt', 'log2'],\n",
    "          'min_samples_split': [2,4,6,8,10], 'max_depth' :[10,15,20,30,40]\n",
    "          }\n",
    "classify_with_parameter_tuning(decisionTree,param_grid,X_train_res,y_train_res,X_test,y_test)"
   ]
  },
  {
   "cell_type": "markdown",
   "metadata": {},
   "source": [
    "<h4>Test Results</h4>"
   ]
  },
  {
   "cell_type": "markdown",
   "metadata": {},
   "source": [
    "|Type|Accuracy|AUC score|F1-Score|\n",
    "| :- |-------------: | :-:\n",
    "|Weight ='balanced' |0.701165215087|0.562555002682|0.808729999331|\n",
    "|Weight = penalty| 0.704086969255|0.562555002682|0.811294912842|\n",
    "|Oversampling |0.676982295146|0.58091496631|0.784328514561|\n",
    "|Tuned parameters |0.645603073769|0.564037896799|0.757672997058|"
   ]
  },
  {
   "cell_type": "markdown",
   "metadata": {},
   "source": [
    "<h3>Randon Forest Tree Classifier </h3>"
   ]
  },
  {
   "cell_type": "markdown",
   "metadata": {},
   "source": [
    "<h4>1. class_weight = 'balanced'</h4>"
   ]
  },
  {
   "cell_type": "code",
   "execution_count": 94,
   "metadata": {},
   "outputs": [
    {
     "name": "stdout",
     "output_type": "stream",
     "text": [
      "#--------------Random Forest Tree Classification Analysis----------------------\n",
      "#--------------cross validation---------------------- \n",
      "3 fold Cross-Validation score :  [ 0.76651849  0.76776198  0.76767708]\n",
      "Mean of 3 fold Cross-Validation score :  0.7673191833\n",
      "#------------------------------------ \n",
      "#--------------Test Data---------------------- \n",
      "#--------------Confusion Matrix--------------------\n",
      "[[  6457  24867]\n",
      " [  8449 103634]]\n",
      "#--------------Classification Report--------------------\n",
      "             precision    recall  f1-score   support\n",
      "\n",
      "          0       0.43      0.21      0.28     31324\n",
      "          1       0.81      0.92      0.86    112083\n",
      "\n",
      "avg / total       0.72      0.77      0.73    143407\n",
      "\n",
      "#--------------Accuracy Score --------------------\n",
      "0.767682191246\n",
      "#--------------AUC score---------------------- \n",
      "0.565377116718\n",
      "#------------f1-score------------------------\n",
      "f1-score 0.861520300602\n",
      "#--------------AUC score---------------------- \n",
      "AUC Score -  0.565377116718\n"
     ]
    }
   ],
   "source": [
    "from sklearn.ensemble import RandomForestClassifier\n",
    "#Random Forest Classifier\n",
    "rfc = RandomForestClassifier(n_jobs = -1,random_state=32,class_weight=\"balanced\")\n",
    "print(\"#--------------Random Forest Tree Classification Analysis----------------------\")\n",
    "classify(rfc,X_train,y_train,X_test,y_test)"
   ]
  },
  {
   "cell_type": "markdown",
   "metadata": {},
   "source": [
    "<h4>2. class_weight = penalty</h4>"
   ]
  },
  {
   "cell_type": "code",
   "execution_count": 95,
   "metadata": {},
   "outputs": [
    {
     "name": "stdout",
     "output_type": "stream",
     "text": [
      "#--------------Random Forest Tree Classification Analysis----------------------\n",
      "#--------------cross validation---------------------- \n",
      "3 fold Cross-Validation score :  [ 0.76732388  0.76731744  0.76778168]\n",
      "Mean of 3 fold Cross-Validation score :  0.767474335165\n",
      "#------------------------------------ \n",
      "#--------------Test Data---------------------- \n",
      "#--------------Confusion Matrix--------------------\n",
      "[[  5868  25456]\n",
      " [  7961 104122]]\n",
      "#--------------Classification Report--------------------\n",
      "             precision    recall  f1-score   support\n",
      "\n",
      "          0       0.42      0.19      0.26     31324\n",
      "          1       0.80      0.93      0.86    112083\n",
      "\n",
      "avg / total       0.72      0.77      0.73    143407\n",
      "\n",
      "#--------------Accuracy Score --------------------\n",
      "0.766977902055\n",
      "#--------------AUC score---------------------- \n",
      "0.558152338178\n",
      "#------------f1-score------------------------\n",
      "f1-score 0.861719516182\n",
      "#--------------AUC score---------------------- \n",
      "AUC Score -  0.558152338178\n"
     ]
    }
   ],
   "source": [
    "penalty = {0: 7,\n",
    "           1: 1\n",
    "          }\n",
    "from sklearn.ensemble import RandomForestClassifier\n",
    "#Random Forest Classifier\n",
    "rfc = RandomForestClassifier(n_jobs = -1,random_state=32,class_weight=penalty)\n",
    "print(\"#--------------Random Forest Tree Classification Analysis----------------------\")\n",
    "classify(rfc,X_train,y_train,X_test,y_test)"
   ]
  },
  {
   "cell_type": "markdown",
   "metadata": {},
   "source": [
    "<h4>Randon Forest Tree Classifier with oversampling </h4>"
   ]
  },
  {
   "cell_type": "code",
   "execution_count": 96,
   "metadata": {},
   "outputs": [
    {
     "name": "stdout",
     "output_type": "stream",
     "text": [
      "#--------------Random Forest Tree Classification Analysis----------------------\n",
      "#--------------cross validation---------------------- \n",
      "3 fold Cross-Validation score :  [ 0.69701897  0.82754744  0.82896603]\n",
      "Mean of 3 fold Cross-Validation score :  0.784510815603\n",
      "#------------------------------------ \n",
      "#--------------Test Data---------------------- \n",
      "#--------------Confusion Matrix--------------------\n",
      "[[14336 16988]\n",
      " [26129 85954]]\n",
      "#--------------Classification Report--------------------\n",
      "             precision    recall  f1-score   support\n",
      "\n",
      "          0       0.35      0.46      0.40     31324\n",
      "          1       0.83      0.77      0.80    112083\n",
      "\n",
      "avg / total       0.73      0.70      0.71    143407\n",
      "\n",
      "#--------------Accuracy Score --------------------\n",
      "0.699338247087\n",
      "#--------------AUC score---------------------- \n",
      "0.612273179357\n",
      "#------------f1-score------------------------\n",
      "f1-score 0.799479130334\n",
      "#--------------AUC score---------------------- \n",
      "AUC Score -  0.612273179357\n"
     ]
    }
   ],
   "source": [
    "\n",
    "from sklearn.ensemble import RandomForestClassifier\n",
    "#Random Forest Classifier\n",
    "rfc = RandomForestClassifier(n_jobs = -1,random_state=32)\n",
    "print(\"#--------------Random Forest Tree Classification Analysis----------------------\")\n",
    "classify(rfc,X_train_res,y_train_res,X_test,y_test)"
   ]
  },
  {
   "cell_type": "markdown",
   "metadata": {
    "collapsed": true
   },
   "source": [
    "<h3>Paramter Tuning</h3>"
   ]
  },
  {
   "cell_type": "code",
   "execution_count": 112,
   "metadata": {},
   "outputs": [
    {
     "name": "stdout",
     "output_type": "stream",
     "text": [
      "Tuned Classifier Parameter: {'criterion': 'entropy', 'max_features': 'auto', 'min_samples_split': 10, 'n_estimators': 100}\n",
      "Tuned Classifieer Regression Accuracy: 0.8285448539366944\n",
      "#--------------Confusion Matrix--------------------\n",
      "[[10407 20917]\n",
      " [12452 99631]]\n",
      "#--------------Classification Report--------------------\n",
      "             precision    recall  f1-score   support\n",
      "\n",
      "          0       0.46      0.33      0.38     31324\n",
      "          1       0.83      0.89      0.86    112083\n",
      "\n",
      "avg / total       0.75      0.77      0.75    143407\n",
      "\n",
      "#--------------Accuracy Score --------------------\n",
      "0.76731261375\n",
      "#--------------AUC score---------------------- \n",
      "0.610570510492\n",
      "#------------f1-score------------------------\n",
      "f1-score 0.856558240303\n",
      "#--------------AUC score---------------------- \n",
      "AUC Score -  0.610570510492\n"
     ]
    }
   ],
   "source": [
    "#making the instance\n",
    "rfc = RandomForestClassifier(n_jobs = -1,random_state=32,bootstrap=True)\n",
    "#hyper parameters set\n",
    "param_grid = {'criterion':['gini','entropy'],\n",
    "          'n_estimators':[20,50,100],\n",
    "              'max_features': ['auto'],'min_samples_split': [10,15]\n",
    "          \n",
    "          }\n",
    "classify_with_parameter_tuning(rfc,param_grid,X_train_res,y_train_res,X_test,y_test)"
   ]
  },
  {
   "cell_type": "markdown",
   "metadata": {},
   "source": [
    "<h4>Test Results</h4>"
   ]
  },
  {
   "cell_type": "markdown",
   "metadata": {},
   "source": [
    "|Type|Accuracy|AUC score|F1-Score|\n",
    "| : |: | : | :\n",
    "|Weight ='balanced' |0.701165215087|0.562555002682|0.808729999331|\n",
    "|Weight = penalty| 0.704086969255|0.562555002682|0.811294912842|\n",
    "|Oversampling |0.699338247087|0.612273179357|0.799479130334|\n",
    "|Tuned parameters |0.76731261375|0.610570510492|0.856558240303|"
   ]
  },
  {
   "cell_type": "code",
   "execution_count": 115,
   "metadata": {
    "collapsed": true
   },
   "outputs": [],
   "source": [
    "rfc =RandomForestClassifier(bootstrap=True, class_weight=None, criterion='entropy',\n",
    "            max_depth=None, max_features='auto', max_leaf_nodes=None\n",
    "            , min_samples_leaf=15,\n",
    "            min_samples_split=15, min_weight_fraction_leaf=0.0,\n",
    "            n_estimators=100, n_jobs=-1, oob_score=False, random_state=0,\n",
    "            verbose=0, warm_start=False)\n",
    "rfc.fit(X_train_res,y_train_res)\n",
    "y_pred = rfc.predict(X_test)"
   ]
  },
  {
   "cell_type": "code",
   "execution_count": 116,
   "metadata": {
    "collapsed": true
   },
   "outputs": [],
   "source": [
    "important_features = pd.Series(data=rfc.feature_importances_,index=X.columns)\n",
    "important_features.sort_values(ascending=False,inplace=True)"
   ]
  },
  {
   "cell_type": "code",
   "execution_count": 121,
   "metadata": {},
   "outputs": [
    {
     "data": {
      "text/plain": [
       "int_rate                               4.584066e-02\n",
       "percent_bc_gt_75                       4.560454e-02\n",
       "term_ 60 months                        4.414586e-02\n",
       "mths_since_recent_inq                  4.035447e-02\n",
       "loan_amnt                              3.527698e-02\n",
       "tot_coll_amt                           3.351677e-02\n",
       "installment                            2.851683e-02\n",
       "num_tl_op_past_12m                     2.364189e-02\n",
       "grade_C                                2.282681e-02\n",
       "inq_last_6mths                         2.202527e-02\n",
       "grade_D                                2.177035e-02\n",
       "dti                                    2.057346e-02\n",
       "verification_status_Source Verified    2.044484e-02\n",
       "verification_status_Verified           2.020879e-02\n",
       "grade_B                                1.957546e-02\n",
       "total_bal_ex_mort                      1.933464e-02\n",
       "emp_length                             1.883879e-02\n",
       "acc_open_past_24mths                   1.882825e-02\n",
       "grade_E                                1.790560e-02\n",
       "bc_open_to_buy                         1.729147e-02\n",
       "fico_average                           1.647170e-02\n",
       "annual_inc                             1.635321e-02\n",
       "tot_cur_bal                            1.609353e-02\n",
       "purpose_debt_consolidation             1.603933e-02\n",
       "mo_sin_old_il_acct                     1.547298e-02\n",
       "home_ownership_RENT                    1.527247e-02\n",
       "tot_hi_cred_lim                        1.495837e-02\n",
       "revol_bal                              1.436542e-02\n",
       "bc_util                                1.377324e-02\n",
       "mths_since_recent_bc                   1.369880e-02\n",
       "                                           ...     \n",
       "num_actv_bc_tl                         8.973974e-03\n",
       "open_acc                               8.971074e-03\n",
       "num_bc_sats                            8.966371e-03\n",
       "num_op_rev_tl                          8.919033e-03\n",
       "purpose_credit_card                    8.872652e-03\n",
       "grade_F                                8.475487e-03\n",
       "home_ownership_MORTGAGE                7.595665e-03\n",
       "pub_rec                                7.303475e-03\n",
       "home_ownership_OWN                     5.407452e-03\n",
       "pub_rec_bankruptcies                   4.990658e-03\n",
       "num_tl_120dpd_2m                       4.936966e-03\n",
       "purpose_other                          2.656085e-03\n",
       "grade_G                                2.268155e-03\n",
       "num_tl_90g_dpd_24m                     2.126363e-03\n",
       "purpose_home_improvement               1.654270e-03\n",
       "tax_liens                              1.254035e-03\n",
       "purpose_small_business                 8.421861e-04\n",
       "purpose_major_purchase                 3.718114e-04\n",
       "purpose_medical                        3.526817e-04\n",
       "collections_12_mths_ex_med             3.494310e-04\n",
       "delinq_amnt                            2.059216e-04\n",
       "purpose_moving                         1.848966e-04\n",
       "chargeoff_within_12_mths               1.012230e-04\n",
       "acc_now_delinq                         8.085217e-05\n",
       "purpose_vacation                       6.214785e-05\n",
       "num_tl_30dpd                           5.245439e-05\n",
       "purpose_house                          4.409977e-05\n",
       "purpose_renewable_energy               6.687643e-07\n",
       "purpose_educational                    0.000000e+00\n",
       "purpose_wedding                        0.000000e+00\n",
       "Length: 79, dtype: float64"
      ]
     },
     "execution_count": 121,
     "metadata": {},
     "output_type": "execute_result"
    }
   ],
   "source": [
    "important_features"
   ]
  },
  {
   "cell_type": "code",
   "execution_count": 123,
   "metadata": {},
   "outputs": [
    {
     "data": {
      "image/png": "[encoded data removed]",
      "text/plain": [
       "<matplotlib.figure.Figure at 0xb2bcae198>"
      ]
     },
     "metadata": {},
     "output_type": "display_data"
    }
   ],
   "source": [
    "plt.title('Feature Importances')\n",
    "plt.barh(range(25), important_features[:25], color='b', align='center')\n",
    "plt.yticks(range(25), important_features.index[:25])\n",
    "plt.xlabel('Feature Coefficients')\n",
    "plt.show()"
   ]
  },
  {
   "cell_type": "markdown",
   "metadata": {},
   "source": [
    "<h3>Gradient Boosting Classifier </h3>"
   ]
  },
  {
   "cell_type": "code",
   "execution_count": 103,
   "metadata": {},
   "outputs": [
    {
     "name": "stdout",
     "output_type": "stream",
     "text": [
      "#--------------Gradient Boosting Classification Analysis----------------------\n",
      "#--------------Confusion Matrix--------------------\n",
      "[[  2924  28400]\n",
      " [  1944 110139]]\n",
      "#--------------Classification Report--------------------\n",
      "             precision    recall  f1-score   support\n",
      "\n",
      "          0       0.60      0.09      0.16     31324\n",
      "          1       0.80      0.98      0.88    112083\n",
      "\n",
      "avg / total       0.75      0.79      0.72    143407\n",
      "\n",
      "#--------------Accuracy Score --------------------\n",
      "0.788406423675\n",
      "#--------------AUC score---------------------- \n",
      "0.538001332456\n",
      "#-----------------AUC Score------------------\n"
     ]
    },
    {
     "data": {
      "text/plain": [
       "0.87892523401776368"
      ]
     },
     "execution_count": 103,
     "metadata": {},
     "output_type": "execute_result"
    }
   ],
   "source": [
    "from sklearn.ensemble import GradientBoostingClassifier\n",
    "#Gradient Boosting Classifier\n",
    "gbc = GradientBoostingClassifier()\n",
    "print(\"#--------------Gradient Boosting Classification Analysis----------------------\")\n",
    "#classify(gbc,X_train,y_train,X_test,y_test)\n",
    "# Fit the classifier to the training data\n",
    "gbc.fit(X_train,y_train)\n",
    "# Predict the labels of the test set: y_pred\n",
    "y_pred = gbc.predict(X_test)\n",
    "#Calculate the accuracy of the model\n",
    "accuracy_metrics(y_test,y_pred)\n",
    "print(\"#-----------------F1 Score------------------\")\n",
    "f1_score(y_test,y_pred)"
   ]
  },
  {
   "cell_type": "markdown",
   "metadata": {
    "collapsed": true
   },
   "source": [
    "<h4>Gradient Boosting Classifier with Oversampling</h4>"
   ]
  },
  {
   "cell_type": "code",
   "execution_count": 104,
   "metadata": {},
   "outputs": [
    {
     "name": "stdout",
     "output_type": "stream",
     "text": [
      "#--------------Gradient Boosting Classification Analysis----------------------\n",
      "#--------------Confusion Matrix--------------------\n",
      "[[17797 13527]\n",
      " [39717 72366]]\n",
      "#--------------Classification Report--------------------\n",
      "             precision    recall  f1-score   support\n",
      "\n",
      "          0       0.31      0.57      0.40     31324\n",
      "          1       0.84      0.65      0.73    112083\n",
      "\n",
      "avg / total       0.73      0.63      0.66    143407\n",
      "\n",
      "#--------------Accuracy Score --------------------\n",
      "0.628721052668\n",
      "#--------------AUC score---------------------- \n",
      "0.606902565119\n",
      "#-----------------AUC Score------------------\n"
     ]
    },
    {
     "data": {
      "text/plain": [
       "0.73105831009819366"
      ]
     },
     "execution_count": 104,
     "metadata": {},
     "output_type": "execute_result"
    }
   ],
   "source": [
    "from sklearn.ensemble import GradientBoostingClassifier\n",
    "#Gradient Boosting Classifier\n",
    "gbc = GradientBoostingClassifier()\n",
    "print(\"#--------------Gradient Boosting Classification Analysis----------------------\")\n",
    "#classify(gbc,X_train,y_train,X_test,y_test)\n",
    "# Fit the classifier to the training data\n",
    "gbc.fit(X_train_res,y_train_res)\n",
    "# Predict the labels of the test set: y_pred\n",
    "y_pred = gbc.predict(X_test)\n",
    "#Calculate the accuracy of the model\n",
    "accuracy_metrics(y_test,y_pred)\n",
    "print(\"#-----------------F1- Score------------------\")\n",
    "f1_score(y_test,y_pred)"
   ]
  },
  {
   "cell_type": "markdown",
   "metadata": {},
   "source": [
    "<h3>Paramter Tuning</h3>"
   ]
  },
  {
   "cell_type": "code",
   "execution_count": 105,
   "metadata": {},
   "outputs": [
    {
     "name": "stdout",
     "output_type": "stream",
     "text": [
      "Tuned Classifier Parameter: {'loss': 'exponential', 'max_features': 'sqrt', 'min_samples_split': 500}\n",
      "Tuned Classifieer Regression Accuracy: 0.6390729658535063\n",
      "#--------------Confusion Matrix--------------------\n",
      "[[18260 13064]\n",
      " [42678 69405]]\n",
      "#--------------Classification Report--------------------\n",
      "             precision    recall  f1-score   support\n",
      "\n",
      "          0       0.30      0.58      0.40     31324\n",
      "          1       0.84      0.62      0.71    112083\n",
      "\n",
      "avg / total       0.72      0.61      0.64    143407\n",
      "\n",
      "#--------------Accuracy Score --------------------\n",
      "0.611302098224\n",
      "#--------------AUC score---------------------- \n",
      "0.6010841032\n",
      "#------------f1-score------------------------\n",
      "f1-score 0.71348534068\n",
      "#--------------AUC score---------------------- \n",
      "AUC Score -  0.6010841032\n",
      "#-----------------AUC Score------------------\n"
     ]
    },
    {
     "data": {
      "text/plain": [
       "0.73105831009819366"
      ]
     },
     "execution_count": 105,
     "metadata": {},
     "output_type": "execute_result"
    }
   ],
   "source": [
    "from sklearn.ensemble import GradientBoostingClassifier\n",
    "gbc = GradientBoostingClassifier()\n",
    "#Hyper Parameters Set\n",
    "param_grid = {'max_features': ['sqrt', 'log2'],\n",
    "          'min_samples_split': [100,400,500], \n",
    "              'loss' : ['exponential']\n",
    "              \n",
    "          }\n",
    "classify_with_parameter_tuning(gbc,param_grid,X_train_res,y_train_res,X_test,y_test)\n",
    "print(\"#-----------------AUC Score------------------\")\n"
   ]
  },
  {
   "cell_type": "markdown",
   "metadata": {},
   "source": [
    "<h4>Test Results</h4>"
   ]
  },
  {
   "cell_type": "markdown",
   "metadata": {},
   "source": [
    "|Type|Accuracy|AUC score|F1-Score|\n",
    "| :- |-------------: | :-:\n",
    "|Weight = None| 0.788406423675|0.538001332456|0.87892523401776368|\n",
    "|Oversampling |0.628721052668|0.606902565119|0.73105831009819366|\n",
    "|Tuned parameters |0.611302098224|0.6010841032|0.71348534068|"
   ]
  },
  {
   "cell_type": "markdown",
   "metadata": {},
   "source": [
    "<h3>Evaluation </h3>"
   ]
  },
  {
   "cell_type": "markdown",
   "metadata": {},
   "source": [
    "|Model|Accuracy|AUC score|F1-Score|\n",
    "| :- |-------------: | :-:\n",
    "|GradientBoostingClassifier |0.7884|0.5380|0.8789|\n",
    "|RandomForestClassifier|0.7673|0.61057|0.8565|\n",
    "|DecisionTreeClassifier |0.7011|0.5625|0.8087|\n",
    "|LogisticRegression |0.61309|0.6272|0.7086|"
   ]
  },
  {
   "cell_type": "markdown",
   "metadata": {},
   "source": [
    "For our ananlysis, we use the following metrics to evaluate the models\n",
    "1. Area under Curve(AUC) score of Receiver operating characteristic (ROC) \n",
    "2. F1-score - Harmonic mean of precision and recall\n",
    "3. Accuracy "
   ]
  },
  {
   "cell_type": "markdown",
   "metadata": {},
   "source": [
    "Logistic Regression has the highest auc score but the accuracy and f1-sccore is less compared to other models.Gradient Boosting classfier has the highest accuracy and f1-score but auc score is only 0.538. On the other hand even though the f1-score and accuracy is sligthly less than gradient boosting model it has higher auc score(0.61).AUC score tells you how well the model performs for both positive and negative cases.So we choose Random forest model as the best model."
   ]
  },
  {
   "cell_type": "markdown",
   "metadata": {},
   "source": [
    "<h3>Conclusion</h3>"
   ]
  },
  {
   "cell_type": "markdown",
   "metadata": {
    "collapsed": true
   },
   "source": [
    "- Random Forest classifier is the best model for our analysis.\n",
    "- Oversampling dataset gave the better predictions\n",
    "- Some Important features for the classification are interest rate,loan amount,term of the loan,recent inquiries and type of the grade,fico score."
   ]
  },
  {
   "cell_type": "markdown",
   "metadata": {},
   "source": [
    "<h4>Future Work </h4>"
   ]
  },
  {
   "cell_type": "markdown",
   "metadata": {
    "collapsed": true
   },
   "source": [
    "- Ensemble models or different classification algorithms like Xgboost can be used for better predictions as future work"
   ]
  },
  {
   "cell_type": "code",
   "execution_count": null,
   "metadata": {
    "collapsed": true
   },
   "outputs": [],
   "source": []
  }
 ],
 "metadata": {
  "kernelspec": {
   "display_name": "Python 3",
   "language": "python",
   "name": "python3"
  },
  "language_info": {
   "codemirror_mode": {
    "name": "ipython",
    "version": 3
   },
   "file_extension": ".py",
   "mimetype": "text/x-python",
   "name": "python",
   "nbconvert_exporter": "python",
   "pygments_lexer": "ipython3",
   "version": "3.6.3"
  }
 },
 "nbformat": 4,
 "nbformat_minor": 2
}
