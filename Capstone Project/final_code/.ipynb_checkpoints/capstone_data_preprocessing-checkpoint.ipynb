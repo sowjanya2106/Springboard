{
 "cells": [
  {
   "cell_type": "code",
   "execution_count": 5,
   "metadata": {},
   "outputs": [
    {
     "data": {
      "image/png": "[encoded data removed]",
      "text/plain": [
       "<IPython.core.display.Image object>"
      ]
     },
     "execution_count": 5,
     "metadata": {},
     "output_type": "execute_result"
    }
   ],
   "source": [
    "from IPython.display import Image\n",
    "Image(filename='LC.png')"
   ]
  },
  {
   "cell_type": "markdown",
   "metadata": {},
   "source": [
    "<h3> Introduction</h3>\n",
    "<p>Lending Club is the world’s largest online marketplace connecting borrowers and investors.Lending Club enables borrowers to create unsecured personal loans and investors can\n",
    "search and browse the loans. Investors select loans based on the borrower’s information,\n",
    "loan amount, loan grade, loan purpose and make money from the interest.\n",
    "The risk to the investor is if the borrower misses the payments and the loan defaults. If\n",
    "the risk is predicted and provided to the investor during the selection of the loans then it\n",
    "helps the investor to make a better decision whether to fund the loan.</p>\n",
    "\n",
    "<h3>Problem </h3>\n",
    "Create a model to predict if the loan defaults using Lending Club historical\n",
    "loan data."
   ]
  },
  {
   "cell_type": "markdown",
   "metadata": {},
   "source": [
    "<h3>Approach : </h3>\n",
    "\n",
    "<h4>1.Data Collection</h4>\n",
    "- Extract datasets from Lending club publicly available datasets\n",
    "\n",
    "<h4>2.Data Preprocessing</h4>\n",
    "- Apply data wrangling techniques to clean and organize the data.Ex: handling missing data\n",
    "    \n",
    "    \n",
    "<h4>3.Exploratory Data Analysis</h4> \n",
    "- Explore data by applying visual and numerical techniques to\n",
    "     find insights in the data,\n",
    "     extract important features,\n",
    "     detect outliers and anomalies\n",
    "    \n",
    "<h4>4.Modeling</h4>\n",
    "- Build different models by applying machine learning algorithms on the\n",
    "    training dataset\n",
    "    \n",
    "    \n",
    "<h4>5.Evaluation</h4>\n",
    "- Evaluate the performance of each model using test data."
   ]
  },
  {
   "cell_type": "code",
   "execution_count": 2,
   "metadata": {
    "collapsed": true
   },
   "outputs": [],
   "source": [
    "import pandas as pd\n",
    "import numpy as np\n",
    "import glob"
   ]
  },
  {
   "cell_type": "markdown",
   "metadata": {},
   "source": [
    "<h4>Data Collection</h4>"
   ]
  },
  {
   "cell_type": "markdown",
   "metadata": {},
   "source": [
    "<h4>Data Set : </h4>\n",
    "<p>https://www.lendingclub.com/info/download-data.action </p>\n",
    "<p>The Lending Club dataset includes detailed information for every loan issued by Lending\n",
    "Club from 2007 to 2017. The dataset contains a comprehensive list of features that we\n",
    "can employ to train our model for prediction.</p>"
   ]
  },
  {
   "cell_type": "markdown",
   "metadata": {},
   "source": [
    "<p>Read all the files from the data folder.</p>\n",
    "<p>The files contain loan data from the years 2007-2016 </p>"
   ]
  },
  {
   "cell_type": "code",
   "execution_count": 8,
   "metadata": {
    "collapsed": true
   },
   "outputs": [],
   "source": [
    "# Read files in data folder to a dataframe\n",
    "path ='data' # use your path\n",
    "allFiles = glob.glob(path + \"/*.csv\")\n",
    "loans_df = pd.DataFrame()\n",
    "list_ = []\n",
    "for file_ in allFiles:\n",
    "    df = pd.read_csv(file_,skiprows=1,low_memory=False)\n",
    "    list_.append(df)\n",
    "loans_df = pd.concat(list_)"
   ]
  },
  {
   "cell_type": "code",
   "execution_count": 3,
   "metadata": {},
   "outputs": [
    {
     "data": {
      "text/html": [
       "<div>\n",
       "<style>\n",
       "    .dataframe thead tr:only-child th {\n",
       "        text-align: right;\n",
       "    }\n",
       "\n",
       "    .dataframe thead th {\n",
       "        text-align: left;\n",
       "    }\n",
       "\n",
       "    .dataframe tbody tr th {\n",
       "        vertical-align: top;\n",
       "    }\n",
       "</style>\n",
       "<table border=\"1\" class=\"dataframe\">\n",
       "  <thead>\n",
       "    <tr style=\"text-align: right;\">\n",
       "      <th></th>\n",
       "      <th>id</th>\n",
       "      <th>member_id</th>\n",
       "      <th>loan_amnt</th>\n",
       "      <th>funded_amnt</th>\n",
       "      <th>funded_amnt_inv</th>\n",
       "      <th>term</th>\n",
       "      <th>int_rate</th>\n",
       "      <th>installment</th>\n",
       "      <th>grade</th>\n",
       "      <th>sub_grade</th>\n",
       "      <th>...</th>\n",
       "      <th>hardship_payoff_balance_amount</th>\n",
       "      <th>hardship_last_payment_amount</th>\n",
       "      <th>disbursement_method</th>\n",
       "      <th>debt_settlement_flag</th>\n",
       "      <th>debt_settlement_flag_date</th>\n",
       "      <th>settlement_status</th>\n",
       "      <th>settlement_date</th>\n",
       "      <th>settlement_amount</th>\n",
       "      <th>settlement_percentage</th>\n",
       "      <th>settlement_term</th>\n",
       "    </tr>\n",
       "  </thead>\n",
       "  <tbody>\n",
       "    <tr>\n",
       "      <th>0</th>\n",
       "      <td>1077501</td>\n",
       "      <td>NaN</td>\n",
       "      <td>5000.0</td>\n",
       "      <td>5000.0</td>\n",
       "      <td>4975.0</td>\n",
       "      <td>36 months</td>\n",
       "      <td>10.65%</td>\n",
       "      <td>162.87</td>\n",
       "      <td>B</td>\n",
       "      <td>B2</td>\n",
       "      <td>...</td>\n",
       "      <td>NaN</td>\n",
       "      <td>NaN</td>\n",
       "      <td>Cash</td>\n",
       "      <td>N</td>\n",
       "      <td>NaN</td>\n",
       "      <td>NaN</td>\n",
       "      <td>NaN</td>\n",
       "      <td>NaN</td>\n",
       "      <td>NaN</td>\n",
       "      <td>NaN</td>\n",
       "    </tr>\n",
       "    <tr>\n",
       "      <th>1</th>\n",
       "      <td>1077430</td>\n",
       "      <td>NaN</td>\n",
       "      <td>2500.0</td>\n",
       "      <td>2500.0</td>\n",
       "      <td>2500.0</td>\n",
       "      <td>60 months</td>\n",
       "      <td>15.27%</td>\n",
       "      <td>59.83</td>\n",
       "      <td>C</td>\n",
       "      <td>C4</td>\n",
       "      <td>...</td>\n",
       "      <td>NaN</td>\n",
       "      <td>NaN</td>\n",
       "      <td>Cash</td>\n",
       "      <td>N</td>\n",
       "      <td>NaN</td>\n",
       "      <td>NaN</td>\n",
       "      <td>NaN</td>\n",
       "      <td>NaN</td>\n",
       "      <td>NaN</td>\n",
       "      <td>NaN</td>\n",
       "    </tr>\n",
       "    <tr>\n",
       "      <th>2</th>\n",
       "      <td>1077175</td>\n",
       "      <td>NaN</td>\n",
       "      <td>2400.0</td>\n",
       "      <td>2400.0</td>\n",
       "      <td>2400.0</td>\n",
       "      <td>36 months</td>\n",
       "      <td>15.96%</td>\n",
       "      <td>84.33</td>\n",
       "      <td>C</td>\n",
       "      <td>C5</td>\n",
       "      <td>...</td>\n",
       "      <td>NaN</td>\n",
       "      <td>NaN</td>\n",
       "      <td>Cash</td>\n",
       "      <td>N</td>\n",
       "      <td>NaN</td>\n",
       "      <td>NaN</td>\n",
       "      <td>NaN</td>\n",
       "      <td>NaN</td>\n",
       "      <td>NaN</td>\n",
       "      <td>NaN</td>\n",
       "    </tr>\n",
       "    <tr>\n",
       "      <th>3</th>\n",
       "      <td>1076863</td>\n",
       "      <td>NaN</td>\n",
       "      <td>10000.0</td>\n",
       "      <td>10000.0</td>\n",
       "      <td>10000.0</td>\n",
       "      <td>36 months</td>\n",
       "      <td>13.49%</td>\n",
       "      <td>339.31</td>\n",
       "      <td>C</td>\n",
       "      <td>C1</td>\n",
       "      <td>...</td>\n",
       "      <td>NaN</td>\n",
       "      <td>NaN</td>\n",
       "      <td>Cash</td>\n",
       "      <td>N</td>\n",
       "      <td>NaN</td>\n",
       "      <td>NaN</td>\n",
       "      <td>NaN</td>\n",
       "      <td>NaN</td>\n",
       "      <td>NaN</td>\n",
       "      <td>NaN</td>\n",
       "    </tr>\n",
       "    <tr>\n",
       "      <th>4</th>\n",
       "      <td>1075358</td>\n",
       "      <td>NaN</td>\n",
       "      <td>3000.0</td>\n",
       "      <td>3000.0</td>\n",
       "      <td>3000.0</td>\n",
       "      <td>60 months</td>\n",
       "      <td>12.69%</td>\n",
       "      <td>67.79</td>\n",
       "      <td>B</td>\n",
       "      <td>B5</td>\n",
       "      <td>...</td>\n",
       "      <td>NaN</td>\n",
       "      <td>NaN</td>\n",
       "      <td>Cash</td>\n",
       "      <td>N</td>\n",
       "      <td>NaN</td>\n",
       "      <td>NaN</td>\n",
       "      <td>NaN</td>\n",
       "      <td>NaN</td>\n",
       "      <td>NaN</td>\n",
       "      <td>NaN</td>\n",
       "    </tr>\n",
       "  </tbody>\n",
       "</table>\n",
       "<p>5 rows × 151 columns</p>\n",
       "</div>"
      ],
      "text/plain": [
       "        id  member_id  loan_amnt  funded_amnt  funded_amnt_inv        term  \\\n",
       "0  1077501        NaN     5000.0       5000.0           4975.0   36 months   \n",
       "1  1077430        NaN     2500.0       2500.0           2500.0   60 months   \n",
       "2  1077175        NaN     2400.0       2400.0           2400.0   36 months   \n",
       "3  1076863        NaN    10000.0      10000.0          10000.0   36 months   \n",
       "4  1075358        NaN     3000.0       3000.0           3000.0   60 months   \n",
       "\n",
       "  int_rate  installment grade sub_grade       ...        \\\n",
       "0   10.65%       162.87     B        B2       ...         \n",
       "1   15.27%        59.83     C        C4       ...         \n",
       "2   15.96%        84.33     C        C5       ...         \n",
       "3   13.49%       339.31     C        C1       ...         \n",
       "4   12.69%        67.79     B        B5       ...         \n",
       "\n",
       "  hardship_payoff_balance_amount hardship_last_payment_amount  \\\n",
       "0                            NaN                          NaN   \n",
       "1                            NaN                          NaN   \n",
       "2                            NaN                          NaN   \n",
       "3                            NaN                          NaN   \n",
       "4                            NaN                          NaN   \n",
       "\n",
       "  disbursement_method  debt_settlement_flag debt_settlement_flag_date  \\\n",
       "0                Cash                     N                       NaN   \n",
       "1                Cash                     N                       NaN   \n",
       "2                Cash                     N                       NaN   \n",
       "3                Cash                     N                       NaN   \n",
       "4                Cash                     N                       NaN   \n",
       "\n",
       "  settlement_status settlement_date settlement_amount settlement_percentage  \\\n",
       "0               NaN             NaN               NaN                   NaN   \n",
       "1               NaN             NaN               NaN                   NaN   \n",
       "2               NaN             NaN               NaN                   NaN   \n",
       "3               NaN             NaN               NaN                   NaN   \n",
       "4               NaN             NaN               NaN                   NaN   \n",
       "\n",
       "  settlement_term  \n",
       "0             NaN  \n",
       "1             NaN  \n",
       "2             NaN  \n",
       "3             NaN  \n",
       "4             NaN  \n",
       "\n",
       "[5 rows x 151 columns]"
      ]
     },
     "execution_count": 3,
     "metadata": {},
     "output_type": "execute_result"
    }
   ],
   "source": [
    "loans_df.head(5)"
   ]
  },
  {
   "cell_type": "code",
   "execution_count": 4,
   "metadata": {},
   "outputs": [
    {
     "name": "stdout",
     "output_type": "stream",
     "text": [
      "<class 'pandas.core.frame.DataFrame'>\n",
      "Int64Index: 1321864 entries, 0 to 103547\n",
      "Columns: 151 entries, id to settlement_term\n",
      "dtypes: float64(112), object(39)\n",
      "memory usage: 1.5+ GB\n"
     ]
    }
   ],
   "source": [
    "loans_df.info()"
   ]
  },
  {
   "cell_type": "markdown",
   "metadata": {},
   "source": [
    "There are total of 1321864 rows and 151 columns in the dataset"
   ]
  },
  {
   "cell_type": "markdown",
   "metadata": {},
   "source": [
    "The Data Dictionary includes definitions for all the data attributes."
   ]
  },
  {
   "cell_type": "code",
   "execution_count": 3,
   "metadata": {},
   "outputs": [
    {
     "name": "stdout",
     "output_type": "stream",
     "text": [
      "['LoanStats', 'browseNotes', 'RejectStats']\n"
     ]
    }
   ],
   "source": [
    "data_dict = pd.ExcelFile(\"data/LCDataDictionary.xlsx\")\n",
    "# Print the sheet names\n",
    "print(data_dict.sheet_names)\n",
    "\n",
    "# Load a sheet into a DataFrame by name: df1\n",
    "data_dict = data_dict.parse('LoanStats')"
   ]
  },
  {
   "cell_type": "code",
   "execution_count": 4,
   "metadata": {
    "collapsed": true
   },
   "outputs": [],
   "source": [
    "data_dict = data_dict.rename(columns={'LoanStatNew': 'name',\n",
    "                                                 'Description': 'description'})"
   ]
  },
  {
   "cell_type": "code",
   "execution_count": 5,
   "metadata": {},
   "outputs": [
    {
     "data": {
      "text/html": [
       "<div>\n",
       "<style>\n",
       "    .dataframe thead tr:only-child th {\n",
       "        text-align: right;\n",
       "    }\n",
       "\n",
       "    .dataframe thead th {\n",
       "        text-align: left;\n",
       "    }\n",
       "\n",
       "    .dataframe tbody tr th {\n",
       "        vertical-align: top;\n",
       "    }\n",
       "</style>\n",
       "<table border=\"1\" class=\"dataframe\">\n",
       "  <thead>\n",
       "    <tr style=\"text-align: right;\">\n",
       "      <th></th>\n",
       "      <th>name</th>\n",
       "      <th>description</th>\n",
       "    </tr>\n",
       "  </thead>\n",
       "  <tbody>\n",
       "    <tr>\n",
       "      <th>0</th>\n",
       "      <td>acc_now_delinq</td>\n",
       "      <td>The number of accounts on which the borrower i...</td>\n",
       "    </tr>\n",
       "    <tr>\n",
       "      <th>1</th>\n",
       "      <td>acc_open_past_24mths</td>\n",
       "      <td>Number of trades opened in past 24 months.</td>\n",
       "    </tr>\n",
       "    <tr>\n",
       "      <th>2</th>\n",
       "      <td>addr_state</td>\n",
       "      <td>The state provided by the borrower in the loan...</td>\n",
       "    </tr>\n",
       "    <tr>\n",
       "      <th>3</th>\n",
       "      <td>all_util</td>\n",
       "      <td>Balance to credit limit on all trades</td>\n",
       "    </tr>\n",
       "    <tr>\n",
       "      <th>4</th>\n",
       "      <td>annual_inc</td>\n",
       "      <td>The self-reported annual income provided by th...</td>\n",
       "    </tr>\n",
       "  </tbody>\n",
       "</table>\n",
       "</div>"
      ],
      "text/plain": [
       "                   name                                        description\n",
       "0        acc_now_delinq  The number of accounts on which the borrower i...\n",
       "1  acc_open_past_24mths         Number of trades opened in past 24 months.\n",
       "2            addr_state  The state provided by the borrower in the loan...\n",
       "3              all_util              Balance to credit limit on all trades\n",
       "4            annual_inc  The self-reported annual income provided by th..."
      ]
     },
     "execution_count": 5,
     "metadata": {},
     "output_type": "execute_result"
    }
   ],
   "source": [
    "data_dict.head()"
   ]
  },
  {
   "cell_type": "markdown",
   "metadata": {},
   "source": [
    "<h3>Data Wrangling/Preprocessing</h3>"
   ]
  },
  {
   "cell_type": "markdown",
   "metadata": {},
   "source": [
    "Apply data wrangling techniques to clean and organize the data."
   ]
  },
  {
   "cell_type": "markdown",
   "metadata": {},
   "source": [
    "The steps to be performed in Data Cleaning can be divided into three categories\n",
    "\n",
    "<h4>1. Columns to Retain  </h4>\n",
    "    - Drop the columns which have more than 30% missing values\n",
    "    - Drop the columns which are not applicable to the analysis (first pass of th dataset)\n",
    "    - Drop the columns that have only one unique value\n",
    "    \n",
    "<h4>2. Rows to retain</h4>\n",
    "    - Drop the rows which has null values in each column\n",
    "    \n",
    "<h4>3. Handling Missing Values</h4>\n",
    "    - For numeric attributes, replace the missing or null values with the mean of the attribute\n",
    "    - For categorical attributes, replace the missing or null values with the mode of the attribute (most frequent value)"
   ]
  },
  {
   "cell_type": "markdown",
   "metadata": {},
   "source": [
    "<p>Now lets see how many null values are present in each column</p>"
   ]
  },
  {
   "cell_type": "code",
   "execution_count": 24,
   "metadata": {},
   "outputs": [
    {
     "data": {
      "text/plain": [
       "sec_app_open_act_il                           1321864\n",
       "sec_app_earliest_cr_line                      1321864\n",
       "sec_app_mort_acc                              1321864\n",
       "sec_app_open_acc                              1321864\n",
       "sec_app_revol_util                            1321864\n",
       "sec_app_fico_range_high                       1321864\n",
       "sec_app_num_rev_accts                         1321864\n",
       "sec_app_chargeoff_within_12_mths              1321864\n",
       "sec_app_collections_12_mths_ex_med            1321864\n",
       "sec_app_mths_since_last_major_derog           1321864\n",
       "sec_app_fico_range_low                        1321864\n",
       "sec_app_inq_last_6mths                        1321864\n",
       "member_id                                     1321864\n",
       "revol_bal_joint                               1321864\n",
       "orig_projected_additional_accrued_interest    1317524\n",
       "hardship_reason                               1316533\n",
       "hardship_last_payment_amount                  1316533\n",
       "hardship_payoff_balance_amount                1316533\n",
       "hardship_length                               1316533\n",
       "hardship_type                                 1316533\n",
       "hardship_dpd                                  1316533\n",
       "hardship_status                               1316533\n",
       "deferral_term                                 1316533\n",
       "hardship_amount                               1316533\n",
       "hardship_loan_status                          1316533\n",
       "hardship_end_date                             1316533\n",
       "payment_plan_start_date                       1316533\n",
       "hardship_start_date                           1316533\n",
       "dti_joint                                     1312568\n",
       "annual_inc_joint                              1312564\n",
       "                                               ...   \n",
       "grade                                              17\n",
       "installment                                        17\n",
       "int_rate                                           17\n",
       "term                                               17\n",
       "funded_amnt_inv                                    17\n",
       "funded_amnt                                        17\n",
       "loan_amnt                                          17\n",
       "debt_settlement_flag                               17\n",
       "verification_status                                17\n",
       "fico_range_low                                     17\n",
       "zip_code                                           17\n",
       "addr_state                                         17\n",
       "last_fico_range_low                                17\n",
       "last_fico_range_high                               17\n",
       "application_type                                   17\n",
       "last_pymnt_amnt                                    17\n",
       "collection_recovery_fee                            17\n",
       "recoveries                                         17\n",
       "total_rec_late_fee                                 17\n",
       "total_rec_int                                      17\n",
       "total_rec_prncp                                    17\n",
       "total_pymnt_inv                                    17\n",
       "total_pymnt                                        17\n",
       "out_prncp_inv                                      17\n",
       "out_prncp                                          17\n",
       "initial_list_status                                17\n",
       "revol_bal                                          17\n",
       "hardship_flag                                      17\n",
       "fico_range_high                                    17\n",
       "id                                                  0\n",
       "Length: 151, dtype: int64"
      ]
     },
     "execution_count": 24,
     "metadata": {},
     "output_type": "execute_result"
    }
   ],
   "source": [
    "loans_df.isnull().sum().sort_values(ascending=False)"
   ]
  },
  {
   "cell_type": "markdown",
   "metadata": {},
   "source": [
    "From the above you can see there are many missing values in each colum/attribute.\n",
    "<h4>Now we can get rid of the columns which have more than 30% missing or null values </h4>"
   ]
  },
  {
   "cell_type": "code",
   "execution_count": 25,
   "metadata": {
    "collapsed": true
   },
   "outputs": [],
   "source": [
    "#From the above you can see there are many missing values in each colum/attribute.\n",
    "#Now we can get rid of the columns which have more than 30% missing or null values\n",
    "threshold_count = len(loans_df)*0.7 \n",
    "# Drop any column with more than 30% missing values\n",
    "filtered_loans_df = loans_df.dropna(thresh=threshold_count,axis=1)"
   ]
  },
  {
   "cell_type": "code",
   "execution_count": 26,
   "metadata": {},
   "outputs": [
    {
     "name": "stdout",
     "output_type": "stream",
     "text": [
      "<class 'pandas.core.frame.DataFrame'>\n",
      "Int64Index: 1321864 entries, 0 to 103547\n",
      "Data columns (total 93 columns):\n",
      "id                            1321864 non-null object\n",
      "loan_amnt                     1321847 non-null float64\n",
      "funded_amnt                   1321847 non-null float64\n",
      "funded_amnt_inv               1321847 non-null float64\n",
      "term                          1321847 non-null object\n",
      "int_rate                      1321847 non-null object\n",
      "installment                   1321847 non-null float64\n",
      "grade                         1321847 non-null object\n",
      "sub_grade                     1321847 non-null object\n",
      "emp_title                     1241887 non-null object\n",
      "emp_length                    1321847 non-null object\n",
      "home_ownership                1321847 non-null object\n",
      "annual_inc                    1321843 non-null float64\n",
      "verification_status           1321847 non-null object\n",
      "issue_d                       1321847 non-null object\n",
      "loan_status                   1321847 non-null object\n",
      "pymnt_plan                    1321847 non-null object\n",
      "url                           1321847 non-null object\n",
      "purpose                       1321847 non-null object\n",
      "title                         1298523 non-null object\n",
      "zip_code                      1321847 non-null object\n",
      "addr_state                    1321847 non-null object\n",
      "dti                           1321782 non-null float64\n",
      "delinq_2yrs                   1321818 non-null float64\n",
      "earliest_cr_line              1321818 non-null object\n",
      "fico_range_low                1321847 non-null float64\n",
      "fico_range_high               1321847 non-null float64\n",
      "inq_last_6mths                1321817 non-null float64\n",
      "open_acc                      1321818 non-null float64\n",
      "pub_rec                       1321818 non-null float64\n",
      "revol_bal                     1321847 non-null float64\n",
      "revol_util                    1321081 non-null object\n",
      "total_acc                     1321818 non-null float64\n",
      "initial_list_status           1321847 non-null object\n",
      "out_prncp                     1321847 non-null float64\n",
      "out_prncp_inv                 1321847 non-null float64\n",
      "total_pymnt                   1321847 non-null float64\n",
      "total_pymnt_inv               1321847 non-null float64\n",
      "total_rec_prncp               1321847 non-null float64\n",
      "total_rec_int                 1321847 non-null float64\n",
      "total_rec_late_fee            1321847 non-null float64\n",
      "recoveries                    1321847 non-null float64\n",
      "collection_recovery_fee       1321847 non-null float64\n",
      "last_pymnt_d                  1320660 non-null object\n",
      "last_pymnt_amnt               1321847 non-null float64\n",
      "last_credit_pull_d            1321784 non-null object\n",
      "last_fico_range_high          1321847 non-null float64\n",
      "last_fico_range_low           1321847 non-null float64\n",
      "collections_12_mths_ex_med    1321702 non-null float64\n",
      "policy_code                   1321847 non-null float64\n",
      "application_type              1321847 non-null object\n",
      "acc_now_delinq                1321818 non-null float64\n",
      "tot_coll_amt                  1251571 non-null float64\n",
      "tot_cur_bal                   1251571 non-null float64\n",
      "total_rev_hi_lim              1251571 non-null float64\n",
      "acc_open_past_24mths          1271817 non-null float64\n",
      "avg_cur_bal                   1251559 non-null float64\n",
      "bc_open_to_buy                1259244 non-null float64\n",
      "bc_util                       1258527 non-null float64\n",
      "chargeoff_within_12_mths      1321702 non-null float64\n",
      "delinq_amnt                   1321818 non-null float64\n",
      "mo_sin_old_il_acct            1214312 non-null float64\n",
      "mo_sin_old_rev_tl_op          1251570 non-null float64\n",
      "mo_sin_rcnt_rev_tl_op         1251570 non-null float64\n",
      "mo_sin_rcnt_tl                1251571 non-null float64\n",
      "mort_acc                      1271817 non-null float64\n",
      "mths_since_recent_bc          1260066 non-null float64\n",
      "mths_since_recent_inq         1139670 non-null float64\n",
      "num_accts_ever_120_pd         1251571 non-null float64\n",
      "num_actv_bc_tl                1251571 non-null float64\n",
      "num_actv_rev_tl               1251571 non-null float64\n",
      "num_bc_sats                   1263257 non-null float64\n",
      "num_bc_tl                     1251571 non-null float64\n",
      "num_il_tl                     1251571 non-null float64\n",
      "num_op_rev_tl                 1251571 non-null float64\n",
      "num_rev_accts                 1251570 non-null float64\n",
      "num_rev_tl_bal_gt_0           1251571 non-null float64\n",
      "num_sats                      1263257 non-null float64\n",
      "num_tl_120dpd_2m              1202848 non-null float64\n",
      "num_tl_30dpd                  1251571 non-null float64\n",
      "num_tl_90g_dpd_24m            1251571 non-null float64\n",
      "num_tl_op_past_12m            1251571 non-null float64\n",
      "pct_tl_nvr_dlq                1251418 non-null float64\n",
      "percent_bc_gt_75              1258823 non-null float64\n",
      "pub_rec_bankruptcies          1320482 non-null float64\n",
      "tax_liens                     1321742 non-null float64\n",
      "tot_hi_cred_lim               1251571 non-null float64\n",
      "total_bal_ex_mort             1271817 non-null float64\n",
      "total_bc_limit                1271817 non-null float64\n",
      "total_il_high_credit_limit    1251571 non-null float64\n",
      "hardship_flag                 1321847 non-null object\n",
      "disbursement_method           1321847 non-null object\n",
      "debt_settlement_flag          1321847 non-null object\n",
      "dtypes: float64(67), object(26)\n",
      "memory usage: 948.0+ MB\n"
     ]
    }
   ],
   "source": [
    "filtered_loans_df.info()"
   ]
  },
  {
   "cell_type": "markdown",
   "metadata": {},
   "source": [
    "<h4>After removing the columns that have more than 30% missing columns</h4>\n",
    "\n",
    "<p>Total number of loans are reduced to 1321864</p>"
   ]
  },
  {
   "cell_type": "markdown",
   "metadata": {},
   "source": [
    "After filtering the dataset we have 93 columns. Among 93 columns, 67 are of numerical data type and 26 are categorical data types"
   ]
  },
  {
   "cell_type": "markdown",
   "metadata": {},
   "source": [
    "<h4> Drop the columns which are not applicable to the analysis</h4>"
   ]
  },
  {
   "cell_type": "code",
   "execution_count": 16,
   "metadata": {},
   "outputs": [
    {
     "data": {
      "text/plain": [
       "array(['acc_now_delinq', 'acc_open_past_24mths', 'addr_state', 'all_util',\n",
       "       'annual_inc', 'annual_inc_joint', 'application_type', 'avg_cur_bal',\n",
       "       'bc_open_to_buy', 'bc_util', 'chargeoff_within_12_mths',\n",
       "       'collection_recovery_fee', 'collections_12_mths_ex_med',\n",
       "       'delinq_2yrs', 'delinq_amnt', 'desc', 'dti', 'dti_joint',\n",
       "       'earliest_cr_line', 'emp_length', 'emp_title', 'fico_range_high',\n",
       "       'fico_range_low', 'funded_amnt', 'funded_amnt_inv', 'grade',\n",
       "       'home_ownership', 'id', 'il_util', 'initial_list_status', 'inq_fi',\n",
       "       'inq_last_12m', 'inq_last_6mths', 'installment', 'int_rate',\n",
       "       'issue_d', 'last_credit_pull_d', 'last_fico_range_high',\n",
       "       'last_fico_range_low', 'last_pymnt_amnt', 'last_pymnt_d',\n",
       "       'loan_amnt', 'loan_status', 'max_bal_bc', 'member_id',\n",
       "       'mo_sin_old_il_acct', 'mo_sin_old_rev_tl_op',\n",
       "       'mo_sin_rcnt_rev_tl_op', 'mo_sin_rcnt_tl', 'mort_acc',\n",
       "       'mths_since_last_delinq', 'mths_since_last_major_derog',\n",
       "       'mths_since_last_record', 'mths_since_rcnt_il',\n",
       "       'mths_since_recent_bc', 'mths_since_recent_bc_dlq',\n",
       "       'mths_since_recent_inq', 'mths_since_recent_revol_delinq',\n",
       "       'next_pymnt_d', 'num_accts_ever_120_pd', 'num_actv_bc_tl',\n",
       "       'num_actv_rev_tl', 'num_bc_sats', 'num_bc_tl', 'num_il_tl',\n",
       "       'num_op_rev_tl', 'num_rev_accts', 'num_rev_tl_bal_gt_0', 'num_sats',\n",
       "       'num_tl_120dpd_2m', 'num_tl_30dpd', 'num_tl_90g_dpd_24m',\n",
       "       'num_tl_op_past_12m', 'open_acc', 'open_acc_6m', 'open_il_12m',\n",
       "       'open_il_24m', 'open_act_il', 'open_rv_12m', 'open_rv_24m',\n",
       "       'out_prncp', 'out_prncp_inv', 'pct_tl_nvr_dlq', 'percent_bc_gt_75',\n",
       "       'policy_code', 'pub_rec', 'pub_rec_bankruptcies', 'purpose',\n",
       "       'pymnt_plan', 'recoveries', 'revol_bal', 'revol_util', 'sub_grade',\n",
       "       'tax_liens', 'term', 'title', 'tot_coll_amt', 'tot_cur_bal',\n",
       "       'tot_hi_cred_lim', 'total_acc', 'total_bal_ex_mort', 'total_bal_il',\n",
       "       'total_bc_limit', 'total_cu_tl', 'total_il_high_credit_limit',\n",
       "       'total_pymnt', 'total_pymnt_inv', 'total_rec_int',\n",
       "       'total_rec_late_fee', 'total_rec_prncp', 'total_rev_hi_lim \\xa0',\n",
       "       'url', 'verification_status', 'verified_status_joint', 'zip_code',\n",
       "       'revol_bal_joint ', 'sec_app_fico_range_low ',\n",
       "       'sec_app_fico_range_high ', 'sec_app_earliest_cr_line ',\n",
       "       'sec_app_inq_last_6mths ', 'sec_app_mort_acc ', 'sec_app_open_acc ',\n",
       "       'sec_app_revol_util ', 'sec_app_open_act_il',\n",
       "       'sec_app_num_rev_accts ', 'sec_app_chargeoff_within_12_mths ',\n",
       "       'sec_app_collections_12_mths_ex_med ',\n",
       "       'sec_app_mths_since_last_major_derog ', 'hardship_flag',\n",
       "       'hardship_type', 'hardship_reason', 'hardship_status',\n",
       "       'deferral_term', 'hardship_amount', 'hardship_start_date',\n",
       "       'hardship_end_date', 'payment_plan_start_date', 'hardship_length',\n",
       "       'hardship_dpd', 'hardship_loan_status',\n",
       "       'orig_projected_additional_accrued_interest',\n",
       "       'hardship_payoff_balance_amount', 'hardship_last_payment_amount',\n",
       "       'disbursement_method', 'debt_settlement_flag',\n",
       "       'debt_settlement_flag_date', 'settlement_status', 'settlement_date',\n",
       "       'settlement_amount', 'settlement_percentage', 'settlement_term',\n",
       "       nan, nan], dtype=object)"
      ]
     },
     "execution_count": 16,
     "metadata": {},
     "output_type": "execute_result"
    }
   ],
   "source": [
    "data_dict.name.values"
   ]
  },
  {
   "cell_type": "code",
   "execution_count": 12,
   "metadata": {},
   "outputs": [
    {
     "data": {
      "text/html": [
       "<div>\n",
       "<style>\n",
       "    .dataframe thead tr:only-child th {\n",
       "        text-align: right;\n",
       "    }\n",
       "\n",
       "    .dataframe thead th {\n",
       "        text-align: left;\n",
       "    }\n",
       "\n",
       "    .dataframe tbody tr th {\n",
       "        vertical-align: top;\n",
       "    }\n",
       "</style>\n",
       "<table border=\"1\" class=\"dataframe\">\n",
       "  <thead>\n",
       "    <tr style=\"text-align: right;\">\n",
       "      <th></th>\n",
       "      <th>name</th>\n",
       "      <th>description</th>\n",
       "    </tr>\n",
       "  </thead>\n",
       "  <tbody>\n",
       "    <tr>\n",
       "      <th>27</th>\n",
       "      <td>id</td>\n",
       "      <td>A unique LC assigned ID for the loan listing.</td>\n",
       "    </tr>\n",
       "  </tbody>\n",
       "</table>\n",
       "</div>"
      ],
      "text/plain": [
       "   name                                    description\n",
       "27   id  A unique LC assigned ID for the loan listing."
      ]
     },
     "execution_count": 12,
     "metadata": {},
     "output_type": "execute_result"
    }
   ],
   "source": [
    "data_dict[data_dict['name'] == 'id']"
   ]
  },
  {
   "cell_type": "code",
   "execution_count": 13,
   "metadata": {},
   "outputs": [
    {
     "data": {
      "text/html": [
       "<div>\n",
       "<style>\n",
       "    .dataframe thead tr:only-child th {\n",
       "        text-align: right;\n",
       "    }\n",
       "\n",
       "    .dataframe thead th {\n",
       "        text-align: left;\n",
       "    }\n",
       "\n",
       "    .dataframe tbody tr th {\n",
       "        vertical-align: top;\n",
       "    }\n",
       "</style>\n",
       "<table border=\"1\" class=\"dataframe\">\n",
       "  <thead>\n",
       "    <tr style=\"text-align: right;\">\n",
       "      <th></th>\n",
       "      <th>name</th>\n",
       "      <th>description</th>\n",
       "    </tr>\n",
       "  </thead>\n",
       "  <tbody>\n",
       "    <tr>\n",
       "      <th>111</th>\n",
       "      <td>url</td>\n",
       "      <td>URL for the LC page with listing data.</td>\n",
       "    </tr>\n",
       "  </tbody>\n",
       "</table>\n",
       "</div>"
      ],
      "text/plain": [
       "    name                             description\n",
       "111  url  URL for the LC page with listing data."
      ]
     },
     "execution_count": 13,
     "metadata": {},
     "output_type": "execute_result"
    }
   ],
   "source": [
    "data_dict[data_dict['name'] == 'url']"
   ]
  },
  {
   "cell_type": "markdown",
   "metadata": {},
   "source": [
    "The attributes 'id' and 'url' are the information about the Loan Consultant. We don't require these two attributes from the dataset."
   ]
  },
  {
   "cell_type": "code",
   "execution_count": 27,
   "metadata": {
    "collapsed": true
   },
   "outputs": [],
   "source": [
    "filtered_loans_df = filtered_loans_df.drop(['id' ,'url'],axis=1)"
   ]
  },
  {
   "cell_type": "markdown",
   "metadata": {},
   "source": [
    "<h4>Now we will remove the columns that have only one unique value</h4>"
   ]
  },
  {
   "cell_type": "code",
   "execution_count": 28,
   "metadata": {
    "collapsed": true
   },
   "outputs": [],
   "source": [
    "\n",
    "filtered_loans_df = filtered_loans_df.loc[:,filtered_loans_df.apply(pd.Series.nunique) != 1]"
   ]
  },
  {
   "cell_type": "code",
   "execution_count": 29,
   "metadata": {},
   "outputs": [
    {
     "name": "stdout",
     "output_type": "stream",
     "text": [
      "<class 'pandas.core.frame.DataFrame'>\n",
      "Int64Index: 1321864 entries, 0 to 103547\n",
      "Data columns (total 90 columns):\n",
      "loan_amnt                     1321847 non-null float64\n",
      "funded_amnt                   1321847 non-null float64\n",
      "funded_amnt_inv               1321847 non-null float64\n",
      "term                          1321847 non-null object\n",
      "int_rate                      1321847 non-null object\n",
      "installment                   1321847 non-null float64\n",
      "grade                         1321847 non-null object\n",
      "sub_grade                     1321847 non-null object\n",
      "emp_title                     1241887 non-null object\n",
      "emp_length                    1321847 non-null object\n",
      "home_ownership                1321847 non-null object\n",
      "annual_inc                    1321843 non-null float64\n",
      "verification_status           1321847 non-null object\n",
      "issue_d                       1321847 non-null object\n",
      "loan_status                   1321847 non-null object\n",
      "pymnt_plan                    1321847 non-null object\n",
      "purpose                       1321847 non-null object\n",
      "title                         1298523 non-null object\n",
      "zip_code                      1321847 non-null object\n",
      "addr_state                    1321847 non-null object\n",
      "dti                           1321782 non-null float64\n",
      "delinq_2yrs                   1321818 non-null float64\n",
      "earliest_cr_line              1321818 non-null object\n",
      "fico_range_low                1321847 non-null float64\n",
      "fico_range_high               1321847 non-null float64\n",
      "inq_last_6mths                1321817 non-null float64\n",
      "open_acc                      1321818 non-null float64\n",
      "pub_rec                       1321818 non-null float64\n",
      "revol_bal                     1321847 non-null float64\n",
      "revol_util                    1321081 non-null object\n",
      "total_acc                     1321818 non-null float64\n",
      "initial_list_status           1321847 non-null object\n",
      "out_prncp                     1321847 non-null float64\n",
      "out_prncp_inv                 1321847 non-null float64\n",
      "total_pymnt                   1321847 non-null float64\n",
      "total_pymnt_inv               1321847 non-null float64\n",
      "total_rec_prncp               1321847 non-null float64\n",
      "total_rec_int                 1321847 non-null float64\n",
      "total_rec_late_fee            1321847 non-null float64\n",
      "recoveries                    1321847 non-null float64\n",
      "collection_recovery_fee       1321847 non-null float64\n",
      "last_pymnt_d                  1320660 non-null object\n",
      "last_pymnt_amnt               1321847 non-null float64\n",
      "last_credit_pull_d            1321784 non-null object\n",
      "last_fico_range_high          1321847 non-null float64\n",
      "last_fico_range_low           1321847 non-null float64\n",
      "collections_12_mths_ex_med    1321702 non-null float64\n",
      "application_type              1321847 non-null object\n",
      "acc_now_delinq                1321818 non-null float64\n",
      "tot_coll_amt                  1251571 non-null float64\n",
      "tot_cur_bal                   1251571 non-null float64\n",
      "total_rev_hi_lim              1251571 non-null float64\n",
      "acc_open_past_24mths          1271817 non-null float64\n",
      "avg_cur_bal                   1251559 non-null float64\n",
      "bc_open_to_buy                1259244 non-null float64\n",
      "bc_util                       1258527 non-null float64\n",
      "chargeoff_within_12_mths      1321702 non-null float64\n",
      "delinq_amnt                   1321818 non-null float64\n",
      "mo_sin_old_il_acct            1214312 non-null float64\n",
      "mo_sin_old_rev_tl_op          1251570 non-null float64\n",
      "mo_sin_rcnt_rev_tl_op         1251570 non-null float64\n",
      "mo_sin_rcnt_tl                1251571 non-null float64\n",
      "mort_acc                      1271817 non-null float64\n",
      "mths_since_recent_bc          1260066 non-null float64\n",
      "mths_since_recent_inq         1139670 non-null float64\n",
      "num_accts_ever_120_pd         1251571 non-null float64\n",
      "num_actv_bc_tl                1251571 non-null float64\n",
      "num_actv_rev_tl               1251571 non-null float64\n",
      "num_bc_sats                   1263257 non-null float64\n",
      "num_bc_tl                     1251571 non-null float64\n",
      "num_il_tl                     1251571 non-null float64\n",
      "num_op_rev_tl                 1251571 non-null float64\n",
      "num_rev_accts                 1251570 non-null float64\n",
      "num_rev_tl_bal_gt_0           1251571 non-null float64\n",
      "num_sats                      1263257 non-null float64\n",
      "num_tl_120dpd_2m              1202848 non-null float64\n",
      "num_tl_30dpd                  1251571 non-null float64\n",
      "num_tl_90g_dpd_24m            1251571 non-null float64\n",
      "num_tl_op_past_12m            1251571 non-null float64\n",
      "pct_tl_nvr_dlq                1251418 non-null float64\n",
      "percent_bc_gt_75              1258823 non-null float64\n",
      "pub_rec_bankruptcies          1320482 non-null float64\n",
      "tax_liens                     1321742 non-null float64\n",
      "tot_hi_cred_lim               1251571 non-null float64\n",
      "total_bal_ex_mort             1271817 non-null float64\n",
      "total_bc_limit                1271817 non-null float64\n",
      "total_il_high_credit_limit    1251571 non-null float64\n",
      "hardship_flag                 1321847 non-null object\n",
      "disbursement_method           1321847 non-null object\n",
      "debt_settlement_flag          1321847 non-null object\n",
      "dtypes: float64(66), object(24)\n",
      "memory usage: 917.7+ MB\n"
     ]
    }
   ],
   "source": [
    "filtered_loans_df.info()"
   ]
  },
  {
   "cell_type": "markdown",
   "metadata": {},
   "source": [
    "<h4>Drop the rows which has null values in each column</h4>"
   ]
  },
  {
   "cell_type": "code",
   "execution_count": 30,
   "metadata": {
    "collapsed": true
   },
   "outputs": [],
   "source": [
    "filtered_loans_df = filtered_loans_df.dropna(axis=0,how='all')"
   ]
  },
  {
   "cell_type": "code",
   "execution_count": 31,
   "metadata": {},
   "outputs": [
    {
     "name": "stdout",
     "output_type": "stream",
     "text": [
      "<class 'pandas.core.frame.DataFrame'>\n",
      "Int64Index: 1321847 entries, 0 to 103545\n",
      "Data columns (total 90 columns):\n",
      "loan_amnt                     1321847 non-null float64\n",
      "funded_amnt                   1321847 non-null float64\n",
      "funded_amnt_inv               1321847 non-null float64\n",
      "term                          1321847 non-null object\n",
      "int_rate                      1321847 non-null object\n",
      "installment                   1321847 non-null float64\n",
      "grade                         1321847 non-null object\n",
      "sub_grade                     1321847 non-null object\n",
      "emp_title                     1241887 non-null object\n",
      "emp_length                    1321847 non-null object\n",
      "home_ownership                1321847 non-null object\n",
      "annual_inc                    1321843 non-null float64\n",
      "verification_status           1321847 non-null object\n",
      "issue_d                       1321847 non-null object\n",
      "loan_status                   1321847 non-null object\n",
      "pymnt_plan                    1321847 non-null object\n",
      "purpose                       1321847 non-null object\n",
      "title                         1298523 non-null object\n",
      "zip_code                      1321847 non-null object\n",
      "addr_state                    1321847 non-null object\n",
      "dti                           1321782 non-null float64\n",
      "delinq_2yrs                   1321818 non-null float64\n",
      "earliest_cr_line              1321818 non-null object\n",
      "fico_range_low                1321847 non-null float64\n",
      "fico_range_high               1321847 non-null float64\n",
      "inq_last_6mths                1321817 non-null float64\n",
      "open_acc                      1321818 non-null float64\n",
      "pub_rec                       1321818 non-null float64\n",
      "revol_bal                     1321847 non-null float64\n",
      "revol_util                    1321081 non-null object\n",
      "total_acc                     1321818 non-null float64\n",
      "initial_list_status           1321847 non-null object\n",
      "out_prncp                     1321847 non-null float64\n",
      "out_prncp_inv                 1321847 non-null float64\n",
      "total_pymnt                   1321847 non-null float64\n",
      "total_pymnt_inv               1321847 non-null float64\n",
      "total_rec_prncp               1321847 non-null float64\n",
      "total_rec_int                 1321847 non-null float64\n",
      "total_rec_late_fee            1321847 non-null float64\n",
      "recoveries                    1321847 non-null float64\n",
      "collection_recovery_fee       1321847 non-null float64\n",
      "last_pymnt_d                  1320660 non-null object\n",
      "last_pymnt_amnt               1321847 non-null float64\n",
      "last_credit_pull_d            1321784 non-null object\n",
      "last_fico_range_high          1321847 non-null float64\n",
      "last_fico_range_low           1321847 non-null float64\n",
      "collections_12_mths_ex_med    1321702 non-null float64\n",
      "application_type              1321847 non-null object\n",
      "acc_now_delinq                1321818 non-null float64\n",
      "tot_coll_amt                  1251571 non-null float64\n",
      "tot_cur_bal                   1251571 non-null float64\n",
      "total_rev_hi_lim              1251571 non-null float64\n",
      "acc_open_past_24mths          1271817 non-null float64\n",
      "avg_cur_bal                   1251559 non-null float64\n",
      "bc_open_to_buy                1259244 non-null float64\n",
      "bc_util                       1258527 non-null float64\n",
      "chargeoff_within_12_mths      1321702 non-null float64\n",
      "delinq_amnt                   1321818 non-null float64\n",
      "mo_sin_old_il_acct            1214312 non-null float64\n",
      "mo_sin_old_rev_tl_op          1251570 non-null float64\n",
      "mo_sin_rcnt_rev_tl_op         1251570 non-null float64\n",
      "mo_sin_rcnt_tl                1251571 non-null float64\n",
      "mort_acc                      1271817 non-null float64\n",
      "mths_since_recent_bc          1260066 non-null float64\n",
      "mths_since_recent_inq         1139670 non-null float64\n",
      "num_accts_ever_120_pd         1251571 non-null float64\n",
      "num_actv_bc_tl                1251571 non-null float64\n",
      "num_actv_rev_tl               1251571 non-null float64\n",
      "num_bc_sats                   1263257 non-null float64\n",
      "num_bc_tl                     1251571 non-null float64\n",
      "num_il_tl                     1251571 non-null float64\n",
      "num_op_rev_tl                 1251571 non-null float64\n",
      "num_rev_accts                 1251570 non-null float64\n",
      "num_rev_tl_bal_gt_0           1251571 non-null float64\n",
      "num_sats                      1263257 non-null float64\n",
      "num_tl_120dpd_2m              1202848 non-null float64\n",
      "num_tl_30dpd                  1251571 non-null float64\n",
      "num_tl_90g_dpd_24m            1251571 non-null float64\n",
      "num_tl_op_past_12m            1251571 non-null float64\n",
      "pct_tl_nvr_dlq                1251418 non-null float64\n",
      "percent_bc_gt_75              1258823 non-null float64\n",
      "pub_rec_bankruptcies          1320482 non-null float64\n",
      "tax_liens                     1321742 non-null float64\n",
      "tot_hi_cred_lim               1251571 non-null float64\n",
      "total_bal_ex_mort             1271817 non-null float64\n",
      "total_bc_limit                1271817 non-null float64\n",
      "total_il_high_credit_limit    1251571 non-null float64\n",
      "hardship_flag                 1321847 non-null object\n",
      "disbursement_method           1321847 non-null object\n",
      "debt_settlement_flag          1321847 non-null object\n",
      "dtypes: float64(66), object(24)\n",
      "memory usage: 917.7+ MB\n"
     ]
    }
   ],
   "source": [
    "filtered_loans_df.info()"
   ]
  },
  {
   "cell_type": "markdown",
   "metadata": {},
   "source": [
    "<h4>5. Handling Missign values:</h4>\n",
    "\n",
    "To handle missing values, we divide the entire datasets into 2 sets\n",
    "1. Numerical\n",
    "2. Categorical"
   ]
  },
  {
   "cell_type": "code",
   "execution_count": 32,
   "metadata": {
    "collapsed": true
   },
   "outputs": [],
   "source": [
    "# Now we will divide our dataset into 2 dataframes. \n",
    "#1. Numerical 2. Categorical\n",
    "filtered_categorical_loans_df = filtered_loans_df.select_dtypes([object])\n",
    "filtered_numeric_loans_df = filtered_loans_df.select_dtypes(['float64','int64'])"
   ]
  },
  {
   "cell_type": "markdown",
   "metadata": {},
   "source": [
    "<h4>Categoical Data</h4>"
   ]
  },
  {
   "cell_type": "code",
   "execution_count": 33,
   "metadata": {},
   "outputs": [
    {
     "name": "stdout",
     "output_type": "stream",
     "text": [
      "<class 'pandas.core.frame.DataFrame'>\n",
      "Int64Index: 1321847 entries, 0 to 103545\n",
      "Data columns (total 24 columns):\n",
      "term                    1321847 non-null object\n",
      "int_rate                1321847 non-null object\n",
      "grade                   1321847 non-null object\n",
      "sub_grade               1321847 non-null object\n",
      "emp_title               1241887 non-null object\n",
      "emp_length              1321847 non-null object\n",
      "home_ownership          1321847 non-null object\n",
      "verification_status     1321847 non-null object\n",
      "issue_d                 1321847 non-null object\n",
      "loan_status             1321847 non-null object\n",
      "pymnt_plan              1321847 non-null object\n",
      "purpose                 1321847 non-null object\n",
      "title                   1298523 non-null object\n",
      "zip_code                1321847 non-null object\n",
      "addr_state              1321847 non-null object\n",
      "earliest_cr_line        1321818 non-null object\n",
      "revol_util              1321081 non-null object\n",
      "initial_list_status     1321847 non-null object\n",
      "last_pymnt_d            1320660 non-null object\n",
      "last_credit_pull_d      1321784 non-null object\n",
      "application_type        1321847 non-null object\n",
      "hardship_flag           1321847 non-null object\n",
      "disbursement_method     1321847 non-null object\n",
      "debt_settlement_flag    1321847 non-null object\n",
      "dtypes: object(24)\n",
      "memory usage: 252.1+ MB\n"
     ]
    }
   ],
   "source": [
    "filtered_categorical_loans_df.info()"
   ]
  },
  {
   "cell_type": "markdown",
   "metadata": {},
   "source": [
    "<h4>There are 26 categorical features. </h4>\n",
    "<h4>For categorical values, we subsitue the missing values with the highest frequency values of that features.(i.e mode)</h4>"
   ]
  },
  {
   "cell_type": "code",
   "execution_count": 34,
   "metadata": {
    "collapsed": true
   },
   "outputs": [],
   "source": [
    "#Now replace the missing values with mode\n",
    "filtered_categorical_loans_df = filtered_categorical_loans_df.apply(lambda x:x.fillna(x.value_counts().index[0]))"
   ]
  },
  {
   "cell_type": "code",
   "execution_count": 35,
   "metadata": {},
   "outputs": [
    {
     "data": {
      "text/plain": [
       "debt_settlement_flag    0\n",
       "disbursement_method     0\n",
       "int_rate                0\n",
       "grade                   0\n",
       "sub_grade               0\n",
       "emp_title               0\n",
       "emp_length              0\n",
       "home_ownership          0\n",
       "verification_status     0\n",
       "issue_d                 0\n",
       "loan_status             0\n",
       "pymnt_plan              0\n",
       "purpose                 0\n",
       "title                   0\n",
       "zip_code                0\n",
       "addr_state              0\n",
       "earliest_cr_line        0\n",
       "revol_util              0\n",
       "initial_list_status     0\n",
       "last_pymnt_d            0\n",
       "last_credit_pull_d      0\n",
       "application_type        0\n",
       "hardship_flag           0\n",
       "term                    0\n",
       "dtype: int64"
      ]
     },
     "execution_count": 35,
     "metadata": {},
     "output_type": "execute_result"
    }
   ],
   "source": [
    "filtered_categorical_loans_df.isnull().sum().sort_values(ascending=False)"
   ]
  },
  {
   "cell_type": "code",
   "execution_count": 36,
   "metadata": {},
   "outputs": [
    {
     "name": "stdout",
     "output_type": "stream",
     "text": [
      "<class 'pandas.core.frame.DataFrame'>\n",
      "Int64Index: 1321847 entries, 0 to 103545\n",
      "Data columns (total 66 columns):\n",
      "loan_amnt                     1321847 non-null float64\n",
      "funded_amnt                   1321847 non-null float64\n",
      "funded_amnt_inv               1321847 non-null float64\n",
      "installment                   1321847 non-null float64\n",
      "annual_inc                    1321843 non-null float64\n",
      "dti                           1321782 non-null float64\n",
      "delinq_2yrs                   1321818 non-null float64\n",
      "fico_range_low                1321847 non-null float64\n",
      "fico_range_high               1321847 non-null float64\n",
      "inq_last_6mths                1321817 non-null float64\n",
      "open_acc                      1321818 non-null float64\n",
      "pub_rec                       1321818 non-null float64\n",
      "revol_bal                     1321847 non-null float64\n",
      "total_acc                     1321818 non-null float64\n",
      "out_prncp                     1321847 non-null float64\n",
      "out_prncp_inv                 1321847 non-null float64\n",
      "total_pymnt                   1321847 non-null float64\n",
      "total_pymnt_inv               1321847 non-null float64\n",
      "total_rec_prncp               1321847 non-null float64\n",
      "total_rec_int                 1321847 non-null float64\n",
      "total_rec_late_fee            1321847 non-null float64\n",
      "recoveries                    1321847 non-null float64\n",
      "collection_recovery_fee       1321847 non-null float64\n",
      "last_pymnt_amnt               1321847 non-null float64\n",
      "last_fico_range_high          1321847 non-null float64\n",
      "last_fico_range_low           1321847 non-null float64\n",
      "collections_12_mths_ex_med    1321702 non-null float64\n",
      "acc_now_delinq                1321818 non-null float64\n",
      "tot_coll_amt                  1251571 non-null float64\n",
      "tot_cur_bal                   1251571 non-null float64\n",
      "total_rev_hi_lim              1251571 non-null float64\n",
      "acc_open_past_24mths          1271817 non-null float64\n",
      "avg_cur_bal                   1251559 non-null float64\n",
      "bc_open_to_buy                1259244 non-null float64\n",
      "bc_util                       1258527 non-null float64\n",
      "chargeoff_within_12_mths      1321702 non-null float64\n",
      "delinq_amnt                   1321818 non-null float64\n",
      "mo_sin_old_il_acct            1214312 non-null float64\n",
      "mo_sin_old_rev_tl_op          1251570 non-null float64\n",
      "mo_sin_rcnt_rev_tl_op         1251570 non-null float64\n",
      "mo_sin_rcnt_tl                1251571 non-null float64\n",
      "mort_acc                      1271817 non-null float64\n",
      "mths_since_recent_bc          1260066 non-null float64\n",
      "mths_since_recent_inq         1139670 non-null float64\n",
      "num_accts_ever_120_pd         1251571 non-null float64\n",
      "num_actv_bc_tl                1251571 non-null float64\n",
      "num_actv_rev_tl               1251571 non-null float64\n",
      "num_bc_sats                   1263257 non-null float64\n",
      "num_bc_tl                     1251571 non-null float64\n",
      "num_il_tl                     1251571 non-null float64\n",
      "num_op_rev_tl                 1251571 non-null float64\n",
      "num_rev_accts                 1251570 non-null float64\n",
      "num_rev_tl_bal_gt_0           1251571 non-null float64\n",
      "num_sats                      1263257 non-null float64\n",
      "num_tl_120dpd_2m              1202848 non-null float64\n",
      "num_tl_30dpd                  1251571 non-null float64\n",
      "num_tl_90g_dpd_24m            1251571 non-null float64\n",
      "num_tl_op_past_12m            1251571 non-null float64\n",
      "pct_tl_nvr_dlq                1251418 non-null float64\n",
      "percent_bc_gt_75              1258823 non-null float64\n",
      "pub_rec_bankruptcies          1320482 non-null float64\n",
      "tax_liens                     1321742 non-null float64\n",
      "tot_hi_cred_lim               1251571 non-null float64\n",
      "total_bal_ex_mort             1271817 non-null float64\n",
      "total_bc_limit                1271817 non-null float64\n",
      "total_il_high_credit_limit    1251571 non-null float64\n",
      "dtypes: float64(66)\n",
      "memory usage: 675.7 MB\n"
     ]
    }
   ],
   "source": [
    "filtered_numeric_loans_df.info()"
   ]
  },
  {
   "cell_type": "markdown",
   "metadata": {},
   "source": [
    "<h4>There are a total of 66 numeric featrues in the dataset.To handled missing values for numeric fetures we substitue with the mean value of that feature.</h4>"
   ]
  },
  {
   "cell_type": "code",
   "execution_count": 37,
   "metadata": {
    "collapsed": true
   },
   "outputs": [],
   "source": [
    "#Fill the missing values in each column with mean value\n",
    "filtered_numeric_loans_df = filtered_numeric_loans_df.apply(lambda x: x.fillna(x.mean()),axis=1)\n"
   ]
  },
  {
   "cell_type": "code",
   "execution_count": 38,
   "metadata": {},
   "outputs": [
    {
     "name": "stdout",
     "output_type": "stream",
     "text": [
      "<class 'pandas.core.frame.DataFrame'>\n",
      "Int64Index: 1321847 entries, 0 to 103545\n",
      "Data columns (total 66 columns):\n",
      "loan_amnt                     1321847 non-null float64\n",
      "funded_amnt                   1321847 non-null float64\n",
      "funded_amnt_inv               1321847 non-null float64\n",
      "installment                   1321847 non-null float64\n",
      "annual_inc                    1321847 non-null float64\n",
      "dti                           1321847 non-null float64\n",
      "delinq_2yrs                   1321847 non-null float64\n",
      "fico_range_low                1321847 non-null float64\n",
      "fico_range_high               1321847 non-null float64\n",
      "inq_last_6mths                1321847 non-null float64\n",
      "open_acc                      1321847 non-null float64\n",
      "pub_rec                       1321847 non-null float64\n",
      "revol_bal                     1321847 non-null float64\n",
      "total_acc                     1321847 non-null float64\n",
      "out_prncp                     1321847 non-null float64\n",
      "out_prncp_inv                 1321847 non-null float64\n",
      "total_pymnt                   1321847 non-null float64\n",
      "total_pymnt_inv               1321847 non-null float64\n",
      "total_rec_prncp               1321847 non-null float64\n",
      "total_rec_int                 1321847 non-null float64\n",
      "total_rec_late_fee            1321847 non-null float64\n",
      "recoveries                    1321847 non-null float64\n",
      "collection_recovery_fee       1321847 non-null float64\n",
      "last_pymnt_amnt               1321847 non-null float64\n",
      "last_fico_range_high          1321847 non-null float64\n",
      "last_fico_range_low           1321847 non-null float64\n",
      "collections_12_mths_ex_med    1321847 non-null float64\n",
      "acc_now_delinq                1321847 non-null float64\n",
      "tot_coll_amt                  1321847 non-null float64\n",
      "tot_cur_bal                   1321847 non-null float64\n",
      "total_rev_hi_lim              1321847 non-null float64\n",
      "acc_open_past_24mths          1321847 non-null float64\n",
      "avg_cur_bal                   1321847 non-null float64\n",
      "bc_open_to_buy                1321847 non-null float64\n",
      "bc_util                       1321847 non-null float64\n",
      "chargeoff_within_12_mths      1321847 non-null float64\n",
      "delinq_amnt                   1321847 non-null float64\n",
      "mo_sin_old_il_acct            1321847 non-null float64\n",
      "mo_sin_old_rev_tl_op          1321847 non-null float64\n",
      "mo_sin_rcnt_rev_tl_op         1321847 non-null float64\n",
      "mo_sin_rcnt_tl                1321847 non-null float64\n",
      "mort_acc                      1321847 non-null float64\n",
      "mths_since_recent_bc          1321847 non-null float64\n",
      "mths_since_recent_inq         1321847 non-null float64\n",
      "num_accts_ever_120_pd         1321847 non-null float64\n",
      "num_actv_bc_tl                1321847 non-null float64\n",
      "num_actv_rev_tl               1321847 non-null float64\n",
      "num_bc_sats                   1321847 non-null float64\n",
      "num_bc_tl                     1321847 non-null float64\n",
      "num_il_tl                     1321847 non-null float64\n",
      "num_op_rev_tl                 1321847 non-null float64\n",
      "num_rev_accts                 1321847 non-null float64\n",
      "num_rev_tl_bal_gt_0           1321847 non-null float64\n",
      "num_sats                      1321847 non-null float64\n",
      "num_tl_120dpd_2m              1321847 non-null float64\n",
      "num_tl_30dpd                  1321847 non-null float64\n",
      "num_tl_90g_dpd_24m            1321847 non-null float64\n",
      "num_tl_op_past_12m            1321847 non-null float64\n",
      "pct_tl_nvr_dlq                1321847 non-null float64\n",
      "percent_bc_gt_75              1321847 non-null float64\n",
      "pub_rec_bankruptcies          1321847 non-null float64\n",
      "tax_liens                     1321847 non-null float64\n",
      "tot_hi_cred_lim               1321847 non-null float64\n",
      "total_bal_ex_mort             1321847 non-null float64\n",
      "total_bc_limit                1321847 non-null float64\n",
      "total_il_high_credit_limit    1321847 non-null float64\n",
      "dtypes: float64(66)\n",
      "memory usage: 675.7 MB\n"
     ]
    }
   ],
   "source": [
    "filtered_numeric_loans_df.info()"
   ]
  },
  {
   "cell_type": "code",
   "execution_count": 39,
   "metadata": {
    "collapsed": true
   },
   "outputs": [],
   "source": [
    "preprocessed_data_df = pd.concat([filtered_numeric_loans_df, filtered_categorical_loans_df], axis=1)"
   ]
  },
  {
   "cell_type": "code",
   "execution_count": 40,
   "metadata": {},
   "outputs": [
    {
     "name": "stdout",
     "output_type": "stream",
     "text": [
      "Stored 'preprocessed_data_df' (DataFrame)\n"
     ]
    }
   ],
   "source": [
    "%store preprocessed_data_df"
   ]
  },
  {
   "cell_type": "code",
   "execution_count": 6,
   "metadata": {},
   "outputs": [
    {
     "name": "stdout",
     "output_type": "stream",
     "text": [
      "Stored 'data_dict' (DataFrame)\n"
     ]
    }
   ],
   "source": [
    "%store data_dict"
   ]
  },
  {
   "cell_type": "code",
   "execution_count": null,
   "metadata": {
    "collapsed": true
   },
   "outputs": [],
   "source": []
  }
 ],
 "metadata": {
  "kernelspec": {
   "display_name": "Python 3",
   "language": "python",
   "name": "python3"
  },
  "language_info": {
   "codemirror_mode": {
    "name": "ipython",
    "version": 3
   },
   "file_extension": ".py",
   "mimetype": "text/x-python",
   "name": "python",
   "nbconvert_exporter": "python",
   "pygments_lexer": "ipython3",
   "version": "3.6.3"
  }
 },
 "nbformat": 4,
 "nbformat_minor": 2
}
