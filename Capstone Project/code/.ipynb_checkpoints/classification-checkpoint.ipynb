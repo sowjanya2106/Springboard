{
 "cells": [
  {
   "cell_type": "code",
   "execution_count": 1,
   "metadata": {
    "collapsed": true
   },
   "outputs": [],
   "source": [
    "import pandas as pd\n",
    "import numpy as np"
   ]
  },
  {
   "cell_type": "code",
   "execution_count": 6,
   "metadata": {
    "collapsed": true
   },
   "outputs": [],
   "source": [
    "row_count = 10000\n",
    "loans_df = pd.DataFrame()\n",
    "list_ = []\n",
    "for chunk in pd.read_csv(\"preprocessed_loans_stage2.csv\", chunksize=row_count): \n",
    "    list_.append(chunk)\n",
    "    \n",
    "loans_df= pd.concat(list_)"
   ]
  },
  {
   "cell_type": "code",
   "execution_count": 7,
   "metadata": {
    "collapsed": true
   },
   "outputs": [],
   "source": [
    "filtered_loans_df = loans_df[(loans_df[\"loan_status\"] == 5) |\n",
    "                            (loans_df[\"loan_status\"] == 0)]"
   ]
  },
  {
   "cell_type": "code",
   "execution_count": 8,
   "metadata": {},
   "outputs": [
    {
     "name": "stdout",
     "output_type": "stream",
     "text": [
      "<class 'pandas.core.frame.DataFrame'>\n",
      "Int64Index: 810177 entries, 0 to 1321838\n",
      "Columns: 164 entries, Unnamed: 0 to debt_settlement_flag_Y\n",
      "dtypes: float64(65), int64(99)\n",
      "memory usage: 1019.9 MB\n"
     ]
    }
   ],
   "source": [
    "filtered_loans_df.info()"
   ]
  },
  {
   "cell_type": "code",
   "execution_count": 10,
   "metadata": {},
   "outputs": [
    {
     "name": "stdout",
     "output_type": "stream",
     "text": [
      "   Unnamed: 0  loan_amnt  funded_amnt  funded_amnt_inv  installment  \\\n",
      "0           0    12000.0      12000.0          12000.0       407.40   \n",
      "1           1    14000.0      14000.0          14000.0       470.71   \n",
      "2           2    15000.0      15000.0          15000.0       476.30   \n",
      "3           3    24000.0      24000.0          24000.0       814.80   \n",
      "4           4    28000.0      28000.0          28000.0       872.52   \n",
      "\n",
      "   annual_inc    dti  delinq_2yrs  inq_last_6mths  open_acc  \\\n",
      "0     40000.0  16.94          0.0             0.0       7.0   \n",
      "1     88000.0  10.02          1.0             0.0       6.0   \n",
      "2     63000.0  16.51          0.0             0.0       8.0   \n",
      "3    100000.0  22.18          0.0             0.0      14.0   \n",
      "4    325000.0  18.55          0.0             1.0      15.0   \n",
      "\n",
      "            ...            addr_state_TN  addr_state_TX  addr_state_UT  \\\n",
      "0           ...                        0              0              0   \n",
      "1           ...                        0              0              0   \n",
      "2           ...                        0              0              0   \n",
      "3           ...                        0              0              0   \n",
      "4           ...                        0              0              0   \n",
      "\n",
      "   addr_state_VA  addr_state_VT  addr_state_WA  addr_state_WI  addr_state_WV  \\\n",
      "0              0              0              0              0              0   \n",
      "1              0              0              0              0              0   \n",
      "2              0              0              0              0              0   \n",
      "3              0              0              0              0              0   \n",
      "4              0              0              0              0              0   \n",
      "\n",
      "   addr_state_WY  debt_settlement_flag_Y  \n",
      "0              0                       0  \n",
      "1              0                       0  \n",
      "2              0                       0  \n",
      "3              0                       0  \n",
      "4              0                       0  \n",
      "\n",
      "[5 rows x 163 columns]\n",
      "         Unnamed: 0  loan_amnt  funded_amnt  funded_amnt_inv  installment  \\\n",
      "524158        57813    18000.0      18000.0          18000.0       573.83   \n",
      "1142792       23611    15000.0      15000.0          15000.0       322.34   \n",
      "911838        24398     3600.0       3600.0           3600.0       114.75   \n",
      "141432       141432    15800.0      15800.0          15800.0       492.35   \n",
      "533358        67013    28500.0      28500.0          28400.0       786.98   \n",
      "\n",
      "         annual_inc    dti  delinq_2yrs  inq_last_6mths  open_acc  \\\n",
      "524158     100000.0  14.11          1.0             1.0       9.0   \n",
      "1142792     85000.0  14.81          0.0             1.0      13.0   \n",
      "911838      45000.0  29.97          0.0             0.0      11.0   \n",
      "141432      97032.0  12.54          0.0             0.0       6.0   \n",
      "533358      75000.0  27.07          0.0             0.0       7.0   \n",
      "\n",
      "                  ...            addr_state_TN  addr_state_TX  addr_state_UT  \\\n",
      "524158            ...                        0              0              0   \n",
      "1142792           ...                        0              0              0   \n",
      "911838            ...                        0              1              0   \n",
      "141432            ...                        0              0              0   \n",
      "533358            ...                        0              0              0   \n",
      "\n",
      "         addr_state_VA  addr_state_VT  addr_state_WA  addr_state_WI  \\\n",
      "524158               0              0              0              0   \n",
      "1142792              0              0              0              0   \n",
      "911838               0              0              0              0   \n",
      "141432               0              0              0              0   \n",
      "533358               0              0              0              0   \n",
      "\n",
      "         addr_state_WV  addr_state_WY  debt_settlement_flag_Y  \n",
      "524158               0              0                       0  \n",
      "1142792              0              0                       0  \n",
      "911838               0              0                       0  \n",
      "141432               0              0                       0  \n",
      "533358               0              0                       0  \n",
      "\n",
      "[5 rows x 163 columns]\n",
      "0.897923918142\n"
     ]
    }
   ],
   "source": [
    "# Import necessary modules\n",
    "from sklearn.neighbors import KNeighborsClassifier\n",
    "from sklearn.model_selection import train_test_split\n",
    "\n",
    "#df = filtered_loans_df.sample(frac=0.7)\n",
    "# Create feature and target arrays\n",
    "y = filtered_loans_df.loan_status.values\n",
    "X = filtered_loans_df.drop(['loan_status'],axis=1)\n",
    "print(X.head())\n",
    "\n",
    "\n",
    "# Split into training and test set\n",
    "X_train, X_test, y_train, y_test = train_test_split(X, y, test_size = 0.2, random_state=42, stratify=y)\n",
    "\n",
    "print(X_train.head())\n",
    "# Create a k-NN classifier with 7 neighbors: knn\n",
    "knn = KNeighborsClassifier(n_neighbors=7)\n",
    "\n",
    "# Fit the classifier to the training data\n",
    "knn.fit(X_train,y_train)\n",
    "\n",
    "# Print the accuracy\n",
    "print(knn.score(X_test, y_test))\n",
    "\n",
    "\n"
   ]
  },
  {
   "cell_type": "code",
   "execution_count": 19,
   "metadata": {},
   "outputs": [
    {
     "ename": "ModuleNotFoundError",
     "evalue": "No module named 'sklear'",
     "output_type": "error",
     "traceback": [
      "\u001b[0;31m---------------------------------------------------------------------------\u001b[0m",
      "\u001b[0;31mModuleNotFoundError\u001b[0m                       Traceback (most recent call last)",
      "\u001b[0;32m<ipython-input-19-3d4e3c68b875>\u001b[0m in \u001b[0;36m<module>\u001b[0;34m()\u001b[0m\n\u001b[1;32m      1\u001b[0m \u001b[0my_pred\u001b[0m \u001b[0;34m=\u001b[0m \u001b[0mknn\u001b[0m\u001b[0;34m.\u001b[0m\u001b[0mpredict\u001b[0m\u001b[0;34m(\u001b[0m\u001b[0mX_test\u001b[0m\u001b[0;34m)\u001b[0m\u001b[0;34m\u001b[0m\u001b[0m\n\u001b[0;32m----> 2\u001b[0;31m \u001b[0;32mfrom\u001b[0m \u001b[0msklear\u001b[0m\u001b[0;34m.\u001b[0m\u001b[0mmetrics\u001b[0m \u001b[0;32mimport\u001b[0m \u001b[0mconfusion_matrix\u001b[0m\u001b[0;34m\u001b[0m\u001b[0m\n\u001b[0m\u001b[1;32m      3\u001b[0m \u001b[0mprint\u001b[0m\u001b[0;34m(\u001b[0m\u001b[0mconfusion_matrix\u001b[0m\u001b[0;34m(\u001b[0m\u001b[0my_test\u001b[0m\u001b[0;34m,\u001b[0m \u001b[0my_pred\u001b[0m\u001b[0;34m)\u001b[0m\u001b[0;34m)\u001b[0m\u001b[0;34m\u001b[0m\u001b[0m\n",
      "\u001b[0;31mModuleNotFoundError\u001b[0m: No module named 'sklear'"
     ]
    }
   ],
   "source": [
    "y_pred = knn.predict(X_test)\n",
    "\n"
   ]
  },
  {
   "cell_type": "code",
   "execution_count": 20,
   "metadata": {},
   "outputs": [
    {
     "name": "stdout",
     "output_type": "stream",
     "text": [
      "[[ 18839  15347]\n",
      " [  1193 126657]]\n"
     ]
    }
   ],
   "source": [
    "from sklearn.metrics import confusion_matrix\n",
    "print(confusion_matrix(y_test, y_pred))"
   ]
  },
  {
   "cell_type": "code",
   "execution_count": 22,
   "metadata": {},
   "outputs": [
    {
     "name": "stdout",
     "output_type": "stream",
     "text": [
      "             precision    recall  f1-score   support\n",
      "\n",
      "          0       0.94      0.55      0.69     34186\n",
      "          5       0.89      0.99      0.94    127850\n",
      "\n",
      "avg / total       0.90      0.90      0.89    162036\n",
      "\n"
     ]
    }
   ],
   "source": [
    "from sklearn.metrics import classification_report\n",
    "print(classification_report(y_test, y_pred))"
   ]
  },
  {
   "cell_type": "code",
   "execution_count": null,
   "metadata": {
    "collapsed": true
   },
   "outputs": [],
   "source": []
  }
 ],
 "metadata": {
  "kernelspec": {
   "display_name": "Python 3",
   "language": "python",
   "name": "python3"
  },
  "language_info": {
   "codemirror_mode": {
    "name": "ipython",
    "version": 3
   },
   "file_extension": ".py",
   "mimetype": "text/x-python",
   "name": "python",
   "nbconvert_exporter": "python",
   "pygments_lexer": "ipython3",
   "version": "3.6.3"
  }
 },
 "nbformat": 4,
 "nbformat_minor": 2
}
