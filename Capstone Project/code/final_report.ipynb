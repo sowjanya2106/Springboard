{
 "cells": [
  {
   "cell_type": "markdown",
   "metadata": {},
   "source": [
    "<h4>Problem </h4>\n",
    "Create a model to predict the probability of loan-default using Lending Club historical\n",
    "loan data.\n",
    "\n",
    "<p>Lending Club enables borrowers to create unsecured personal loans and investors can\n",
    "search and browse the loans. Investors select loans based on the borrower’s information,\n",
    "loan amount, loan grade, loan purpose and make money from the interest.\n",
    "The risk to the investor is if the borrower misses the payments and the loan defaults. If\n",
    "the risk is predicted and provided to the investor during the selection of the loans then it\n",
    "helps the investor to make a decision whether to fund the loan.</p>"
   ]
  },
  {
   "cell_type": "markdown",
   "metadata": {},
   "source": [
    "<p>Data Set : </p>\n",
    "<p>https://www.lendingclub.com/info/download-data.action </p>\n",
    "<p>The Lending Club dataset includes detailed information for every loan issued by Lending\n",
    "Club from 2007 to 2017. The dataset contains a comprehensive list of features that we\n",
    "can employ to train our model for prediction.</p>"
   ]
  },
  {
   "cell_type": "markdown",
   "metadata": {},
   "source": [
    "Approach :\n",
    "1. Data Collection\n",
    "2. Data Preprocessing\n",
    "3. Exploratory Data Analysis\n",
    "4. Modeling\n",
    "5. Evaluation"
   ]
  },
  {
   "cell_type": "code",
   "execution_count": 1,
   "metadata": {
    "collapsed": true
   },
   "outputs": [],
   "source": [
    "import pandas as pd\n",
    "import numpy as np\n",
    "import glob"
   ]
  },
  {
   "cell_type": "markdown",
   "metadata": {},
   "source": [
    "<h4>Data Collection</h4>"
   ]
  },
  {
   "cell_type": "code",
   "execution_count": 2,
   "metadata": {
    "collapsed": true
   },
   "outputs": [],
   "source": [
    "# Read files in data folder to a dataframe\n",
    "path ='data' # use your path\n",
    "allFiles = glob.glob(path + \"/*.csv\")\n",
    "loans_df = pd.DataFrame()\n",
    "list_ = []\n",
    "for file_ in allFiles:\n",
    "    df = pd.read_csv(file_,skiprows=1,low_memory=False)\n",
    "    list_.append(df)\n",
    "loans_df = pd.concat(list_)"
   ]
  },
  {
   "cell_type": "code",
   "execution_count": 3,
   "metadata": {},
   "outputs": [
    {
     "data": {
      "text/html": [
       "<div>\n",
       "<style>\n",
       "    .dataframe thead tr:only-child th {\n",
       "        text-align: right;\n",
       "    }\n",
       "\n",
       "    .dataframe thead th {\n",
       "        text-align: left;\n",
       "    }\n",
       "\n",
       "    .dataframe tbody tr th {\n",
       "        vertical-align: top;\n",
       "    }\n",
       "</style>\n",
       "<table border=\"1\" class=\"dataframe\">\n",
       "  <thead>\n",
       "    <tr style=\"text-align: right;\">\n",
       "      <th></th>\n",
       "      <th>id</th>\n",
       "      <th>member_id</th>\n",
       "      <th>loan_amnt</th>\n",
       "      <th>funded_amnt</th>\n",
       "      <th>funded_amnt_inv</th>\n",
       "      <th>term</th>\n",
       "      <th>int_rate</th>\n",
       "      <th>installment</th>\n",
       "      <th>grade</th>\n",
       "      <th>sub_grade</th>\n",
       "      <th>...</th>\n",
       "      <th>hardship_payoff_balance_amount</th>\n",
       "      <th>hardship_last_payment_amount</th>\n",
       "      <th>disbursement_method</th>\n",
       "      <th>debt_settlement_flag</th>\n",
       "      <th>debt_settlement_flag_date</th>\n",
       "      <th>settlement_status</th>\n",
       "      <th>settlement_date</th>\n",
       "      <th>settlement_amount</th>\n",
       "      <th>settlement_percentage</th>\n",
       "      <th>settlement_term</th>\n",
       "    </tr>\n",
       "  </thead>\n",
       "  <tbody>\n",
       "    <tr>\n",
       "      <th>0</th>\n",
       "      <td>1077501</td>\n",
       "      <td>NaN</td>\n",
       "      <td>5000.0</td>\n",
       "      <td>5000.0</td>\n",
       "      <td>4975.0</td>\n",
       "      <td>36 months</td>\n",
       "      <td>10.65%</td>\n",
       "      <td>162.87</td>\n",
       "      <td>B</td>\n",
       "      <td>B2</td>\n",
       "      <td>...</td>\n",
       "      <td>NaN</td>\n",
       "      <td>NaN</td>\n",
       "      <td>Cash</td>\n",
       "      <td>N</td>\n",
       "      <td>NaN</td>\n",
       "      <td>NaN</td>\n",
       "      <td>NaN</td>\n",
       "      <td>NaN</td>\n",
       "      <td>NaN</td>\n",
       "      <td>NaN</td>\n",
       "    </tr>\n",
       "    <tr>\n",
       "      <th>1</th>\n",
       "      <td>1077430</td>\n",
       "      <td>NaN</td>\n",
       "      <td>2500.0</td>\n",
       "      <td>2500.0</td>\n",
       "      <td>2500.0</td>\n",
       "      <td>60 months</td>\n",
       "      <td>15.27%</td>\n",
       "      <td>59.83</td>\n",
       "      <td>C</td>\n",
       "      <td>C4</td>\n",
       "      <td>...</td>\n",
       "      <td>NaN</td>\n",
       "      <td>NaN</td>\n",
       "      <td>Cash</td>\n",
       "      <td>N</td>\n",
       "      <td>NaN</td>\n",
       "      <td>NaN</td>\n",
       "      <td>NaN</td>\n",
       "      <td>NaN</td>\n",
       "      <td>NaN</td>\n",
       "      <td>NaN</td>\n",
       "    </tr>\n",
       "    <tr>\n",
       "      <th>2</th>\n",
       "      <td>1077175</td>\n",
       "      <td>NaN</td>\n",
       "      <td>2400.0</td>\n",
       "      <td>2400.0</td>\n",
       "      <td>2400.0</td>\n",
       "      <td>36 months</td>\n",
       "      <td>15.96%</td>\n",
       "      <td>84.33</td>\n",
       "      <td>C</td>\n",
       "      <td>C5</td>\n",
       "      <td>...</td>\n",
       "      <td>NaN</td>\n",
       "      <td>NaN</td>\n",
       "      <td>Cash</td>\n",
       "      <td>N</td>\n",
       "      <td>NaN</td>\n",
       "      <td>NaN</td>\n",
       "      <td>NaN</td>\n",
       "      <td>NaN</td>\n",
       "      <td>NaN</td>\n",
       "      <td>NaN</td>\n",
       "    </tr>\n",
       "    <tr>\n",
       "      <th>3</th>\n",
       "      <td>1076863</td>\n",
       "      <td>NaN</td>\n",
       "      <td>10000.0</td>\n",
       "      <td>10000.0</td>\n",
       "      <td>10000.0</td>\n",
       "      <td>36 months</td>\n",
       "      <td>13.49%</td>\n",
       "      <td>339.31</td>\n",
       "      <td>C</td>\n",
       "      <td>C1</td>\n",
       "      <td>...</td>\n",
       "      <td>NaN</td>\n",
       "      <td>NaN</td>\n",
       "      <td>Cash</td>\n",
       "      <td>N</td>\n",
       "      <td>NaN</td>\n",
       "      <td>NaN</td>\n",
       "      <td>NaN</td>\n",
       "      <td>NaN</td>\n",
       "      <td>NaN</td>\n",
       "      <td>NaN</td>\n",
       "    </tr>\n",
       "    <tr>\n",
       "      <th>4</th>\n",
       "      <td>1075358</td>\n",
       "      <td>NaN</td>\n",
       "      <td>3000.0</td>\n",
       "      <td>3000.0</td>\n",
       "      <td>3000.0</td>\n",
       "      <td>60 months</td>\n",
       "      <td>12.69%</td>\n",
       "      <td>67.79</td>\n",
       "      <td>B</td>\n",
       "      <td>B5</td>\n",
       "      <td>...</td>\n",
       "      <td>NaN</td>\n",
       "      <td>NaN</td>\n",
       "      <td>Cash</td>\n",
       "      <td>N</td>\n",
       "      <td>NaN</td>\n",
       "      <td>NaN</td>\n",
       "      <td>NaN</td>\n",
       "      <td>NaN</td>\n",
       "      <td>NaN</td>\n",
       "      <td>NaN</td>\n",
       "    </tr>\n",
       "  </tbody>\n",
       "</table>\n",
       "<p>5 rows × 151 columns</p>\n",
       "</div>"
      ],
      "text/plain": [
       "        id  member_id  loan_amnt  funded_amnt  funded_amnt_inv        term  \\\n",
       "0  1077501        NaN     5000.0       5000.0           4975.0   36 months   \n",
       "1  1077430        NaN     2500.0       2500.0           2500.0   60 months   \n",
       "2  1077175        NaN     2400.0       2400.0           2400.0   36 months   \n",
       "3  1076863        NaN    10000.0      10000.0          10000.0   36 months   \n",
       "4  1075358        NaN     3000.0       3000.0           3000.0   60 months   \n",
       "\n",
       "  int_rate  installment grade sub_grade       ...        \\\n",
       "0   10.65%       162.87     B        B2       ...         \n",
       "1   15.27%        59.83     C        C4       ...         \n",
       "2   15.96%        84.33     C        C5       ...         \n",
       "3   13.49%       339.31     C        C1       ...         \n",
       "4   12.69%        67.79     B        B5       ...         \n",
       "\n",
       "  hardship_payoff_balance_amount hardship_last_payment_amount  \\\n",
       "0                            NaN                          NaN   \n",
       "1                            NaN                          NaN   \n",
       "2                            NaN                          NaN   \n",
       "3                            NaN                          NaN   \n",
       "4                            NaN                          NaN   \n",
       "\n",
       "  disbursement_method  debt_settlement_flag debt_settlement_flag_date  \\\n",
       "0                Cash                     N                       NaN   \n",
       "1                Cash                     N                       NaN   \n",
       "2                Cash                     N                       NaN   \n",
       "3                Cash                     N                       NaN   \n",
       "4                Cash                     N                       NaN   \n",
       "\n",
       "  settlement_status settlement_date settlement_amount settlement_percentage  \\\n",
       "0               NaN             NaN               NaN                   NaN   \n",
       "1               NaN             NaN               NaN                   NaN   \n",
       "2               NaN             NaN               NaN                   NaN   \n",
       "3               NaN             NaN               NaN                   NaN   \n",
       "4               NaN             NaN               NaN                   NaN   \n",
       "\n",
       "  settlement_term  \n",
       "0             NaN  \n",
       "1             NaN  \n",
       "2             NaN  \n",
       "3             NaN  \n",
       "4             NaN  \n",
       "\n",
       "[5 rows x 151 columns]"
      ]
     },
     "execution_count": 3,
     "metadata": {},
     "output_type": "execute_result"
    }
   ],
   "source": [
    "loans_df.head(5)"
   ]
  },
  {
   "cell_type": "code",
   "execution_count": 4,
   "metadata": {},
   "outputs": [
    {
     "name": "stdout",
     "output_type": "stream",
     "text": [
      "<class 'pandas.core.frame.DataFrame'>\n",
      "Int64Index: 1321864 entries, 0 to 103547\n",
      "Columns: 151 entries, id to settlement_term\n",
      "dtypes: float64(112), object(39)\n",
      "memory usage: 1.5+ GB\n"
     ]
    }
   ],
   "source": [
    "loans_df.info()"
   ]
  },
  {
   "cell_type": "markdown",
   "metadata": {},
   "source": [
    "There are total of 1321864 rows and 151 columns in the dataset"
   ]
  },
  {
   "cell_type": "markdown",
   "metadata": {},
   "source": [
    "<h3>Data Wrangling/Preprocessing</h3>"
   ]
  },
  {
   "cell_type": "markdown",
   "metadata": {},
   "source": [
    "Apply data wrangling techniques to clean and organize the data."
   ]
  },
  {
   "cell_type": "markdown",
   "metadata": {},
   "source": [
    "<h4>Now lets see how many null values are present in each column</h4>"
   ]
  },
  {
   "cell_type": "code",
   "execution_count": 5,
   "metadata": {},
   "outputs": [
    {
     "data": {
      "text/plain": [
       "sec_app_open_act_il                           1321864\n",
       "sec_app_earliest_cr_line                      1321864\n",
       "sec_app_mort_acc                              1321864\n",
       "sec_app_open_acc                              1321864\n",
       "sec_app_revol_util                            1321864\n",
       "sec_app_fico_range_high                       1321864\n",
       "sec_app_num_rev_accts                         1321864\n",
       "sec_app_chargeoff_within_12_mths              1321864\n",
       "sec_app_collections_12_mths_ex_med            1321864\n",
       "sec_app_mths_since_last_major_derog           1321864\n",
       "sec_app_fico_range_low                        1321864\n",
       "sec_app_inq_last_6mths                        1321864\n",
       "member_id                                     1321864\n",
       "revol_bal_joint                               1321864\n",
       "orig_projected_additional_accrued_interest    1317524\n",
       "hardship_reason                               1316533\n",
       "hardship_last_payment_amount                  1316533\n",
       "hardship_payoff_balance_amount                1316533\n",
       "hardship_length                               1316533\n",
       "hardship_type                                 1316533\n",
       "hardship_dpd                                  1316533\n",
       "hardship_status                               1316533\n",
       "deferral_term                                 1316533\n",
       "hardship_amount                               1316533\n",
       "hardship_loan_status                          1316533\n",
       "hardship_end_date                             1316533\n",
       "payment_plan_start_date                       1316533\n",
       "hardship_start_date                           1316533\n",
       "dti_joint                                     1312568\n",
       "annual_inc_joint                              1312564\n",
       "                                               ...   \n",
       "grade                                              17\n",
       "installment                                        17\n",
       "int_rate                                           17\n",
       "term                                               17\n",
       "funded_amnt_inv                                    17\n",
       "funded_amnt                                        17\n",
       "loan_amnt                                          17\n",
       "debt_settlement_flag                               17\n",
       "verification_status                                17\n",
       "fico_range_low                                     17\n",
       "zip_code                                           17\n",
       "addr_state                                         17\n",
       "last_fico_range_low                                17\n",
       "last_fico_range_high                               17\n",
       "application_type                                   17\n",
       "last_pymnt_amnt                                    17\n",
       "collection_recovery_fee                            17\n",
       "recoveries                                         17\n",
       "total_rec_late_fee                                 17\n",
       "total_rec_int                                      17\n",
       "total_rec_prncp                                    17\n",
       "total_pymnt_inv                                    17\n",
       "total_pymnt                                        17\n",
       "out_prncp_inv                                      17\n",
       "out_prncp                                          17\n",
       "initial_list_status                                17\n",
       "revol_bal                                          17\n",
       "hardship_flag                                      17\n",
       "fico_range_high                                    17\n",
       "id                                                  0\n",
       "Length: 151, dtype: int64"
      ]
     },
     "execution_count": 5,
     "metadata": {},
     "output_type": "execute_result"
    }
   ],
   "source": [
    "loans_df.isnull().sum().sort_values(ascending=False)"
   ]
  },
  {
   "cell_type": "code",
   "execution_count": null,
   "metadata": {
    "collapsed": true
   },
   "outputs": [],
   "source": []
  },
  {
   "cell_type": "markdown",
   "metadata": {},
   "source": [
    "From the above you can see there are many missing values in each colum/attribute.\n",
    "<h4>Now we can get rid of the columns which have more than 30% missing or null values </h4>"
   ]
  },
  {
   "cell_type": "code",
   "execution_count": 6,
   "metadata": {
    "collapsed": true
   },
   "outputs": [],
   "source": [
    "#From the above you can see there are many missing values in each colum/attribute.\n",
    "#Now we can get rid of the columns which have more than 30% missing or null values\n",
    "threshold_count = len(loans_df)*0.7 \n",
    "# Drop any column with more than 30% missing values\n",
    "filtered_loans_df = loans_df.dropna(thresh=threshold_count,axis=1)"
   ]
  },
  {
   "cell_type": "code",
   "execution_count": 7,
   "metadata": {},
   "outputs": [
    {
     "name": "stdout",
     "output_type": "stream",
     "text": [
      "<class 'pandas.core.frame.DataFrame'>\n",
      "Int64Index: 1321864 entries, 0 to 103547\n",
      "Data columns (total 93 columns):\n",
      "id                            1321864 non-null object\n",
      "loan_amnt                     1321847 non-null float64\n",
      "funded_amnt                   1321847 non-null float64\n",
      "funded_amnt_inv               1321847 non-null float64\n",
      "term                          1321847 non-null object\n",
      "int_rate                      1321847 non-null object\n",
      "installment                   1321847 non-null float64\n",
      "grade                         1321847 non-null object\n",
      "sub_grade                     1321847 non-null object\n",
      "emp_title                     1241887 non-null object\n",
      "emp_length                    1321847 non-null object\n",
      "home_ownership                1321847 non-null object\n",
      "annual_inc                    1321843 non-null float64\n",
      "verification_status           1321847 non-null object\n",
      "issue_d                       1321847 non-null object\n",
      "loan_status                   1321847 non-null object\n",
      "pymnt_plan                    1321847 non-null object\n",
      "url                           1321847 non-null object\n",
      "purpose                       1321847 non-null object\n",
      "title                         1298523 non-null object\n",
      "zip_code                      1321847 non-null object\n",
      "addr_state                    1321847 non-null object\n",
      "dti                           1321782 non-null float64\n",
      "delinq_2yrs                   1321818 non-null float64\n",
      "earliest_cr_line              1321818 non-null object\n",
      "fico_range_low                1321847 non-null float64\n",
      "fico_range_high               1321847 non-null float64\n",
      "inq_last_6mths                1321817 non-null float64\n",
      "open_acc                      1321818 non-null float64\n",
      "pub_rec                       1321818 non-null float64\n",
      "revol_bal                     1321847 non-null float64\n",
      "revol_util                    1321081 non-null object\n",
      "total_acc                     1321818 non-null float64\n",
      "initial_list_status           1321847 non-null object\n",
      "out_prncp                     1321847 non-null float64\n",
      "out_prncp_inv                 1321847 non-null float64\n",
      "total_pymnt                   1321847 non-null float64\n",
      "total_pymnt_inv               1321847 non-null float64\n",
      "total_rec_prncp               1321847 non-null float64\n",
      "total_rec_int                 1321847 non-null float64\n",
      "total_rec_late_fee            1321847 non-null float64\n",
      "recoveries                    1321847 non-null float64\n",
      "collection_recovery_fee       1321847 non-null float64\n",
      "last_pymnt_d                  1320660 non-null object\n",
      "last_pymnt_amnt               1321847 non-null float64\n",
      "last_credit_pull_d            1321784 non-null object\n",
      "last_fico_range_high          1321847 non-null float64\n",
      "last_fico_range_low           1321847 non-null float64\n",
      "collections_12_mths_ex_med    1321702 non-null float64\n",
      "policy_code                   1321847 non-null float64\n",
      "application_type              1321847 non-null object\n",
      "acc_now_delinq                1321818 non-null float64\n",
      "tot_coll_amt                  1251571 non-null float64\n",
      "tot_cur_bal                   1251571 non-null float64\n",
      "total_rev_hi_lim              1251571 non-null float64\n",
      "acc_open_past_24mths          1271817 non-null float64\n",
      "avg_cur_bal                   1251559 non-null float64\n",
      "bc_open_to_buy                1259244 non-null float64\n",
      "bc_util                       1258527 non-null float64\n",
      "chargeoff_within_12_mths      1321702 non-null float64\n",
      "delinq_amnt                   1321818 non-null float64\n",
      "mo_sin_old_il_acct            1214312 non-null float64\n",
      "mo_sin_old_rev_tl_op          1251570 non-null float64\n",
      "mo_sin_rcnt_rev_tl_op         1251570 non-null float64\n",
      "mo_sin_rcnt_tl                1251571 non-null float64\n",
      "mort_acc                      1271817 non-null float64\n",
      "mths_since_recent_bc          1260066 non-null float64\n",
      "mths_since_recent_inq         1139670 non-null float64\n",
      "num_accts_ever_120_pd         1251571 non-null float64\n",
      "num_actv_bc_tl                1251571 non-null float64\n",
      "num_actv_rev_tl               1251571 non-null float64\n",
      "num_bc_sats                   1263257 non-null float64\n",
      "num_bc_tl                     1251571 non-null float64\n",
      "num_il_tl                     1251571 non-null float64\n",
      "num_op_rev_tl                 1251571 non-null float64\n",
      "num_rev_accts                 1251570 non-null float64\n",
      "num_rev_tl_bal_gt_0           1251571 non-null float64\n",
      "num_sats                      1263257 non-null float64\n",
      "num_tl_120dpd_2m              1202848 non-null float64\n",
      "num_tl_30dpd                  1251571 non-null float64\n",
      "num_tl_90g_dpd_24m            1251571 non-null float64\n",
      "num_tl_op_past_12m            1251571 non-null float64\n",
      "pct_tl_nvr_dlq                1251418 non-null float64\n",
      "percent_bc_gt_75              1258823 non-null float64\n",
      "pub_rec_bankruptcies          1320482 non-null float64\n",
      "tax_liens                     1321742 non-null float64\n",
      "tot_hi_cred_lim               1251571 non-null float64\n",
      "total_bal_ex_mort             1271817 non-null float64\n",
      "total_bc_limit                1271817 non-null float64\n",
      "total_il_high_credit_limit    1251571 non-null float64\n",
      "hardship_flag                 1321847 non-null object\n",
      "disbursement_method           1321847 non-null object\n",
      "debt_settlement_flag          1321847 non-null object\n",
      "dtypes: float64(67), object(26)\n",
      "memory usage: 948.0+ MB\n"
     ]
    }
   ],
   "source": [
    "filtered_loans_df.info()"
   ]
  },
  {
   "cell_type": "markdown",
   "metadata": {},
   "source": [
    "<h4>After removing the columns that have more than 30% missing columns, we have total number rows of 1321864. but the columns have reduced to 93.</h4>"
   ]
  },
  {
   "cell_type": "code",
   "execution_count": 8,
   "metadata": {},
   "outputs": [
    {
     "data": {
      "text/plain": [
       "mths_since_recent_inq         182194\n",
       "num_tl_120dpd_2m              119016\n",
       "mo_sin_old_il_acct            107552\n",
       "emp_title                      79977\n",
       "pct_tl_nvr_dlq                 70446\n",
       "avg_cur_bal                    70305\n",
       "mo_sin_old_rev_tl_op           70294\n",
       "mo_sin_rcnt_rev_tl_op          70294\n",
       "num_rev_accts                  70294\n",
       "num_rev_tl_bal_gt_0            70293\n",
       "num_accts_ever_120_pd          70293\n",
       "num_actv_bc_tl                 70293\n",
       "num_actv_rev_tl                70293\n",
       "num_bc_tl                      70293\n",
       "num_il_tl                      70293\n",
       "num_op_rev_tl                  70293\n",
       "mo_sin_rcnt_tl                 70293\n",
       "num_tl_30dpd                   70293\n",
       "num_tl_90g_dpd_24m             70293\n",
       "num_tl_op_past_12m             70293\n",
       "tot_hi_cred_lim                70293\n",
       "total_rev_hi_lim               70293\n",
       "tot_cur_bal                    70293\n",
       "total_il_high_credit_limit     70293\n",
       "tot_coll_amt                   70293\n",
       "bc_util                        63337\n",
       "percent_bc_gt_75               63041\n",
       "bc_open_to_buy                 62620\n",
       "mths_since_recent_bc           61798\n",
       "num_bc_sats                    58607\n",
       "                               ...  \n",
       "emp_length                        17\n",
       "zip_code                          17\n",
       "sub_grade                         17\n",
       "grade                             17\n",
       "installment                       17\n",
       "int_rate                          17\n",
       "term                              17\n",
       "debt_settlement_flag              17\n",
       "last_fico_range_high              17\n",
       "addr_state                        17\n",
       "total_rec_late_fee                17\n",
       "hardship_flag                     17\n",
       "application_type                  17\n",
       "policy_code                       17\n",
       "last_fico_range_low               17\n",
       "disbursement_method               17\n",
       "last_pymnt_amnt                   17\n",
       "collection_recovery_fee           17\n",
       "recoveries                        17\n",
       "total_rec_int                     17\n",
       "fico_range_low                    17\n",
       "total_rec_prncp                   17\n",
       "total_pymnt_inv                   17\n",
       "total_pymnt                       17\n",
       "out_prncp_inv                     17\n",
       "out_prncp                         17\n",
       "initial_list_status               17\n",
       "revol_bal                         17\n",
       "fico_range_high                   17\n",
       "id                                 0\n",
       "Length: 93, dtype: int64"
      ]
     },
     "execution_count": 8,
     "metadata": {},
     "output_type": "execute_result"
    }
   ],
   "source": [
    "#Now lets see how many null values are present in each column\n",
    "filtered_loans_df.isnull().sum().sort_values(ascending=False)"
   ]
  },
  {
   "cell_type": "markdown",
   "metadata": {},
   "source": [
    "After filtering the dataset we have 93 columns. Among 93 columns, 67 are of numerical data type and 26 are categorical data types"
   ]
  },
  {
   "cell_type": "markdown",
   "metadata": {},
   "source": [
    "<h4>Drop the rows which has null values in each column</h4>"
   ]
  },
  {
   "cell_type": "code",
   "execution_count": 9,
   "metadata": {},
   "outputs": [],
   "source": [
    "filtered_loans_df = filtered_loans_df.drop(['id' ,'url'],axis=1)\n",
    "#Drop the rows which has null values in each column\n",
    "filtered_loans_df = filtered_loans_df.dropna(axis=0,how='all')\n"
   ]
  },
  {
   "cell_type": "code",
   "execution_count": 10,
   "metadata": {},
   "outputs": [
    {
     "data": {
      "text/plain": [
       "mths_since_recent_inq         182177\n",
       "num_tl_120dpd_2m              118999\n",
       "mo_sin_old_il_acct            107535\n",
       "emp_title                      79960\n",
       "pct_tl_nvr_dlq                 70429\n",
       "avg_cur_bal                    70288\n",
       "mo_sin_rcnt_rev_tl_op          70277\n",
       "num_rev_accts                  70277\n",
       "mo_sin_old_rev_tl_op           70277\n",
       "num_op_rev_tl                  70276\n",
       "total_rev_hi_lim               70276\n",
       "tot_cur_bal                    70276\n",
       "num_actv_bc_tl                 70276\n",
       "num_actv_rev_tl                70276\n",
       "tot_coll_amt                   70276\n",
       "num_bc_tl                      70276\n",
       "num_il_tl                      70276\n",
       "mo_sin_rcnt_tl                 70276\n",
       "num_accts_ever_120_pd          70276\n",
       "num_rev_tl_bal_gt_0            70276\n",
       "num_tl_op_past_12m             70276\n",
       "total_il_high_credit_limit     70276\n",
       "num_tl_30dpd                   70276\n",
       "num_tl_90g_dpd_24m             70276\n",
       "tot_hi_cred_lim                70276\n",
       "bc_util                        63320\n",
       "percent_bc_gt_75               63024\n",
       "bc_open_to_buy                 62603\n",
       "mths_since_recent_bc           61781\n",
       "num_bc_sats                    58590\n",
       "                               ...  \n",
       "grade                              0\n",
       "purpose                            0\n",
       "pymnt_plan                         0\n",
       "loan_status                        0\n",
       "issue_d                            0\n",
       "verification_status                0\n",
       "home_ownership                     0\n",
       "emp_length                         0\n",
       "debt_settlement_flag               0\n",
       "last_fico_range_low                0\n",
       "fico_range_low                     0\n",
       "fico_range_high                    0\n",
       "hardship_flag                      0\n",
       "application_type                   0\n",
       "policy_code                        0\n",
       "disbursement_method                0\n",
       "last_fico_range_high               0\n",
       "last_pymnt_amnt                    0\n",
       "collection_recovery_fee            0\n",
       "recoveries                         0\n",
       "total_rec_late_fee                 0\n",
       "total_rec_int                      0\n",
       "total_rec_prncp                    0\n",
       "total_pymnt_inv                    0\n",
       "total_pymnt                        0\n",
       "out_prncp_inv                      0\n",
       "out_prncp                          0\n",
       "initial_list_status                0\n",
       "revol_bal                          0\n",
       "loan_amnt                          0\n",
       "Length: 91, dtype: int64"
      ]
     },
     "execution_count": 10,
     "metadata": {},
     "output_type": "execute_result"
    }
   ],
   "source": [
    "#Now lets see how many null values are present in each column\n",
    "filtered_loans_df.isnull().sum().sort_values(ascending=False)"
   ]
  },
  {
   "cell_type": "markdown",
   "metadata": {},
   "source": [
    "<h4> Now we will remove the columns that have only one value</h4>"
   ]
  },
  {
   "cell_type": "code",
   "execution_count": 11,
   "metadata": {
    "collapsed": true
   },
   "outputs": [],
   "source": [
    "\n",
    "filtered_loans_df = filtered_loans_df.loc[:,filtered_loans_df.apply(pd.Series.nunique) != 1]"
   ]
  },
  {
   "cell_type": "code",
   "execution_count": 12,
   "metadata": {},
   "outputs": [
    {
     "name": "stdout",
     "output_type": "stream",
     "text": [
      "<class 'pandas.core.frame.DataFrame'>\n",
      "Int64Index: 1321847 entries, 0 to 103545\n",
      "Data columns (total 90 columns):\n",
      "loan_amnt                     1321847 non-null float64\n",
      "funded_amnt                   1321847 non-null float64\n",
      "funded_amnt_inv               1321847 non-null float64\n",
      "term                          1321847 non-null object\n",
      "int_rate                      1321847 non-null object\n",
      "installment                   1321847 non-null float64\n",
      "grade                         1321847 non-null object\n",
      "sub_grade                     1321847 non-null object\n",
      "emp_title                     1241887 non-null object\n",
      "emp_length                    1321847 non-null object\n",
      "home_ownership                1321847 non-null object\n",
      "annual_inc                    1321843 non-null float64\n",
      "verification_status           1321847 non-null object\n",
      "issue_d                       1321847 non-null object\n",
      "loan_status                   1321847 non-null object\n",
      "pymnt_plan                    1321847 non-null object\n",
      "purpose                       1321847 non-null object\n",
      "title                         1298523 non-null object\n",
      "zip_code                      1321847 non-null object\n",
      "addr_state                    1321847 non-null object\n",
      "dti                           1321782 non-null float64\n",
      "delinq_2yrs                   1321818 non-null float64\n",
      "earliest_cr_line              1321818 non-null object\n",
      "fico_range_low                1321847 non-null float64\n",
      "fico_range_high               1321847 non-null float64\n",
      "inq_last_6mths                1321817 non-null float64\n",
      "open_acc                      1321818 non-null float64\n",
      "pub_rec                       1321818 non-null float64\n",
      "revol_bal                     1321847 non-null float64\n",
      "revol_util                    1321081 non-null object\n",
      "total_acc                     1321818 non-null float64\n",
      "initial_list_status           1321847 non-null object\n",
      "out_prncp                     1321847 non-null float64\n",
      "out_prncp_inv                 1321847 non-null float64\n",
      "total_pymnt                   1321847 non-null float64\n",
      "total_pymnt_inv               1321847 non-null float64\n",
      "total_rec_prncp               1321847 non-null float64\n",
      "total_rec_int                 1321847 non-null float64\n",
      "total_rec_late_fee            1321847 non-null float64\n",
      "recoveries                    1321847 non-null float64\n",
      "collection_recovery_fee       1321847 non-null float64\n",
      "last_pymnt_d                  1320660 non-null object\n",
      "last_pymnt_amnt               1321847 non-null float64\n",
      "last_credit_pull_d            1321784 non-null object\n",
      "last_fico_range_high          1321847 non-null float64\n",
      "last_fico_range_low           1321847 non-null float64\n",
      "collections_12_mths_ex_med    1321702 non-null float64\n",
      "application_type              1321847 non-null object\n",
      "acc_now_delinq                1321818 non-null float64\n",
      "tot_coll_amt                  1251571 non-null float64\n",
      "tot_cur_bal                   1251571 non-null float64\n",
      "total_rev_hi_lim              1251571 non-null float64\n",
      "acc_open_past_24mths          1271817 non-null float64\n",
      "avg_cur_bal                   1251559 non-null float64\n",
      "bc_open_to_buy                1259244 non-null float64\n",
      "bc_util                       1258527 non-null float64\n",
      "chargeoff_within_12_mths      1321702 non-null float64\n",
      "delinq_amnt                   1321818 non-null float64\n",
      "mo_sin_old_il_acct            1214312 non-null float64\n",
      "mo_sin_old_rev_tl_op          1251570 non-null float64\n",
      "mo_sin_rcnt_rev_tl_op         1251570 non-null float64\n",
      "mo_sin_rcnt_tl                1251571 non-null float64\n",
      "mort_acc                      1271817 non-null float64\n",
      "mths_since_recent_bc          1260066 non-null float64\n",
      "mths_since_recent_inq         1139670 non-null float64\n",
      "num_accts_ever_120_pd         1251571 non-null float64\n",
      "num_actv_bc_tl                1251571 non-null float64\n",
      "num_actv_rev_tl               1251571 non-null float64\n",
      "num_bc_sats                   1263257 non-null float64\n",
      "num_bc_tl                     1251571 non-null float64\n",
      "num_il_tl                     1251571 non-null float64\n",
      "num_op_rev_tl                 1251571 non-null float64\n",
      "num_rev_accts                 1251570 non-null float64\n",
      "num_rev_tl_bal_gt_0           1251571 non-null float64\n",
      "num_sats                      1263257 non-null float64\n",
      "num_tl_120dpd_2m              1202848 non-null float64\n",
      "num_tl_30dpd                  1251571 non-null float64\n",
      "num_tl_90g_dpd_24m            1251571 non-null float64\n",
      "num_tl_op_past_12m            1251571 non-null float64\n",
      "pct_tl_nvr_dlq                1251418 non-null float64\n",
      "percent_bc_gt_75              1258823 non-null float64\n",
      "pub_rec_bankruptcies          1320482 non-null float64\n",
      "tax_liens                     1321742 non-null float64\n",
      "tot_hi_cred_lim               1251571 non-null float64\n",
      "total_bal_ex_mort             1271817 non-null float64\n",
      "total_bc_limit                1271817 non-null float64\n",
      "total_il_high_credit_limit    1251571 non-null float64\n",
      "hardship_flag                 1321847 non-null object\n",
      "disbursement_method           1321847 non-null object\n",
      "debt_settlement_flag          1321847 non-null object\n",
      "dtypes: float64(66), object(24)\n",
      "memory usage: 917.7+ MB\n"
     ]
    }
   ],
   "source": [
    "filtered_loans_df.info()"
   ]
  },
  {
   "cell_type": "markdown",
   "metadata": {},
   "source": [
    "To handle missing values, we divide the entire datasets into 2 sets\n",
    "1. Numerical\n",
    "2. Categorical"
   ]
  },
  {
   "cell_type": "code",
   "execution_count": 13,
   "metadata": {
    "collapsed": true
   },
   "outputs": [],
   "source": [
    "# Now we will divide our dataset into 2 dataframes. \n",
    "#1. Numerical 2. Categorical\n",
    "filtered_categorical_loans_df = filtered_loans_df.select_dtypes([object])\n",
    "filtered_numeric_loans_df = filtered_loans_df.select_dtypes(['float64','int64'])"
   ]
  },
  {
   "cell_type": "markdown",
   "metadata": {},
   "source": [
    "<h4>Categoical Data</h4>"
   ]
  },
  {
   "cell_type": "code",
   "execution_count": 14,
   "metadata": {},
   "outputs": [
    {
     "data": {
      "text/html": [
       "<div>\n",
       "<style>\n",
       "    .dataframe thead tr:only-child th {\n",
       "        text-align: right;\n",
       "    }\n",
       "\n",
       "    .dataframe thead th {\n",
       "        text-align: left;\n",
       "    }\n",
       "\n",
       "    .dataframe tbody tr th {\n",
       "        vertical-align: top;\n",
       "    }\n",
       "</style>\n",
       "<table border=\"1\" class=\"dataframe\">\n",
       "  <thead>\n",
       "    <tr style=\"text-align: right;\">\n",
       "      <th></th>\n",
       "      <th>term</th>\n",
       "      <th>int_rate</th>\n",
       "      <th>grade</th>\n",
       "      <th>sub_grade</th>\n",
       "      <th>emp_title</th>\n",
       "      <th>emp_length</th>\n",
       "      <th>home_ownership</th>\n",
       "      <th>verification_status</th>\n",
       "      <th>issue_d</th>\n",
       "      <th>loan_status</th>\n",
       "      <th>...</th>\n",
       "      <th>addr_state</th>\n",
       "      <th>earliest_cr_line</th>\n",
       "      <th>revol_util</th>\n",
       "      <th>initial_list_status</th>\n",
       "      <th>last_pymnt_d</th>\n",
       "      <th>last_credit_pull_d</th>\n",
       "      <th>application_type</th>\n",
       "      <th>hardship_flag</th>\n",
       "      <th>disbursement_method</th>\n",
       "      <th>debt_settlement_flag</th>\n",
       "    </tr>\n",
       "  </thead>\n",
       "  <tbody>\n",
       "    <tr>\n",
       "      <th>0</th>\n",
       "      <td>36 months</td>\n",
       "      <td>10.65%</td>\n",
       "      <td>B</td>\n",
       "      <td>B2</td>\n",
       "      <td>NaN</td>\n",
       "      <td>10+ years</td>\n",
       "      <td>RENT</td>\n",
       "      <td>Verified</td>\n",
       "      <td>Dec-2011</td>\n",
       "      <td>Fully Paid</td>\n",
       "      <td>...</td>\n",
       "      <td>AZ</td>\n",
       "      <td>Jan-1985</td>\n",
       "      <td>83.7%</td>\n",
       "      <td>f</td>\n",
       "      <td>Jan-2015</td>\n",
       "      <td>Dec-2017</td>\n",
       "      <td>Individual</td>\n",
       "      <td>N</td>\n",
       "      <td>Cash</td>\n",
       "      <td>N</td>\n",
       "    </tr>\n",
       "    <tr>\n",
       "      <th>1</th>\n",
       "      <td>60 months</td>\n",
       "      <td>15.27%</td>\n",
       "      <td>C</td>\n",
       "      <td>C4</td>\n",
       "      <td>Ryder</td>\n",
       "      <td>&lt; 1 year</td>\n",
       "      <td>RENT</td>\n",
       "      <td>Source Verified</td>\n",
       "      <td>Dec-2011</td>\n",
       "      <td>Charged Off</td>\n",
       "      <td>...</td>\n",
       "      <td>GA</td>\n",
       "      <td>Apr-1999</td>\n",
       "      <td>9.4%</td>\n",
       "      <td>f</td>\n",
       "      <td>Apr-2013</td>\n",
       "      <td>Oct-2016</td>\n",
       "      <td>Individual</td>\n",
       "      <td>N</td>\n",
       "      <td>Cash</td>\n",
       "      <td>N</td>\n",
       "    </tr>\n",
       "    <tr>\n",
       "      <th>2</th>\n",
       "      <td>36 months</td>\n",
       "      <td>15.96%</td>\n",
       "      <td>C</td>\n",
       "      <td>C5</td>\n",
       "      <td>NaN</td>\n",
       "      <td>10+ years</td>\n",
       "      <td>RENT</td>\n",
       "      <td>Not Verified</td>\n",
       "      <td>Dec-2011</td>\n",
       "      <td>Fully Paid</td>\n",
       "      <td>...</td>\n",
       "      <td>IL</td>\n",
       "      <td>Nov-2001</td>\n",
       "      <td>98.5%</td>\n",
       "      <td>f</td>\n",
       "      <td>Jun-2014</td>\n",
       "      <td>Jun-2017</td>\n",
       "      <td>Individual</td>\n",
       "      <td>N</td>\n",
       "      <td>Cash</td>\n",
       "      <td>N</td>\n",
       "    </tr>\n",
       "    <tr>\n",
       "      <th>3</th>\n",
       "      <td>36 months</td>\n",
       "      <td>13.49%</td>\n",
       "      <td>C</td>\n",
       "      <td>C1</td>\n",
       "      <td>AIR RESOURCES BOARD</td>\n",
       "      <td>10+ years</td>\n",
       "      <td>RENT</td>\n",
       "      <td>Source Verified</td>\n",
       "      <td>Dec-2011</td>\n",
       "      <td>Fully Paid</td>\n",
       "      <td>...</td>\n",
       "      <td>CA</td>\n",
       "      <td>Feb-1996</td>\n",
       "      <td>21%</td>\n",
       "      <td>f</td>\n",
       "      <td>Jan-2015</td>\n",
       "      <td>Apr-2016</td>\n",
       "      <td>Individual</td>\n",
       "      <td>N</td>\n",
       "      <td>Cash</td>\n",
       "      <td>N</td>\n",
       "    </tr>\n",
       "    <tr>\n",
       "      <th>4</th>\n",
       "      <td>60 months</td>\n",
       "      <td>12.69%</td>\n",
       "      <td>B</td>\n",
       "      <td>B5</td>\n",
       "      <td>University Medical Group</td>\n",
       "      <td>1 year</td>\n",
       "      <td>RENT</td>\n",
       "      <td>Source Verified</td>\n",
       "      <td>Dec-2011</td>\n",
       "      <td>Fully Paid</td>\n",
       "      <td>...</td>\n",
       "      <td>OR</td>\n",
       "      <td>Jan-1996</td>\n",
       "      <td>53.9%</td>\n",
       "      <td>f</td>\n",
       "      <td>Jan-2017</td>\n",
       "      <td>Jan-2017</td>\n",
       "      <td>Individual</td>\n",
       "      <td>N</td>\n",
       "      <td>Cash</td>\n",
       "      <td>N</td>\n",
       "    </tr>\n",
       "  </tbody>\n",
       "</table>\n",
       "<p>5 rows × 24 columns</p>\n",
       "</div>"
      ],
      "text/plain": [
       "         term int_rate grade sub_grade                 emp_title emp_length  \\\n",
       "0   36 months   10.65%     B        B2                       NaN  10+ years   \n",
       "1   60 months   15.27%     C        C4                     Ryder   < 1 year   \n",
       "2   36 months   15.96%     C        C5                       NaN  10+ years   \n",
       "3   36 months   13.49%     C        C1       AIR RESOURCES BOARD  10+ years   \n",
       "4   60 months   12.69%     B        B5  University Medical Group     1 year   \n",
       "\n",
       "  home_ownership verification_status   issue_d  loan_status  \\\n",
       "0           RENT            Verified  Dec-2011   Fully Paid   \n",
       "1           RENT     Source Verified  Dec-2011  Charged Off   \n",
       "2           RENT        Not Verified  Dec-2011   Fully Paid   \n",
       "3           RENT     Source Verified  Dec-2011   Fully Paid   \n",
       "4           RENT     Source Verified  Dec-2011   Fully Paid   \n",
       "\n",
       "          ...          addr_state earliest_cr_line revol_util  \\\n",
       "0         ...                  AZ         Jan-1985      83.7%   \n",
       "1         ...                  GA         Apr-1999       9.4%   \n",
       "2         ...                  IL         Nov-2001      98.5%   \n",
       "3         ...                  CA         Feb-1996        21%   \n",
       "4         ...                  OR         Jan-1996      53.9%   \n",
       "\n",
       "  initial_list_status last_pymnt_d last_credit_pull_d application_type  \\\n",
       "0                   f     Jan-2015           Dec-2017       Individual   \n",
       "1                   f     Apr-2013           Oct-2016       Individual   \n",
       "2                   f     Jun-2014           Jun-2017       Individual   \n",
       "3                   f     Jan-2015           Apr-2016       Individual   \n",
       "4                   f     Jan-2017           Jan-2017       Individual   \n",
       "\n",
       "  hardship_flag disbursement_method debt_settlement_flag  \n",
       "0             N                Cash                    N  \n",
       "1             N                Cash                    N  \n",
       "2             N                Cash                    N  \n",
       "3             N                Cash                    N  \n",
       "4             N                Cash                    N  \n",
       "\n",
       "[5 rows x 24 columns]"
      ]
     },
     "execution_count": 14,
     "metadata": {},
     "output_type": "execute_result"
    }
   ],
   "source": [
    "filtered_categorical_loans_df.head(5)"
   ]
  },
  {
   "cell_type": "code",
   "execution_count": 15,
   "metadata": {},
   "outputs": [
    {
     "name": "stdout",
     "output_type": "stream",
     "text": [
      "<class 'pandas.core.frame.DataFrame'>\n",
      "Int64Index: 1321847 entries, 0 to 103545\n",
      "Data columns (total 24 columns):\n",
      "term                    1321847 non-null object\n",
      "int_rate                1321847 non-null object\n",
      "grade                   1321847 non-null object\n",
      "sub_grade               1321847 non-null object\n",
      "emp_title               1241887 non-null object\n",
      "emp_length              1321847 non-null object\n",
      "home_ownership          1321847 non-null object\n",
      "verification_status     1321847 non-null object\n",
      "issue_d                 1321847 non-null object\n",
      "loan_status             1321847 non-null object\n",
      "pymnt_plan              1321847 non-null object\n",
      "purpose                 1321847 non-null object\n",
      "title                   1298523 non-null object\n",
      "zip_code                1321847 non-null object\n",
      "addr_state              1321847 non-null object\n",
      "earliest_cr_line        1321818 non-null object\n",
      "revol_util              1321081 non-null object\n",
      "initial_list_status     1321847 non-null object\n",
      "last_pymnt_d            1320660 non-null object\n",
      "last_credit_pull_d      1321784 non-null object\n",
      "application_type        1321847 non-null object\n",
      "hardship_flag           1321847 non-null object\n",
      "disbursement_method     1321847 non-null object\n",
      "debt_settlement_flag    1321847 non-null object\n",
      "dtypes: object(24)\n",
      "memory usage: 252.1+ MB\n"
     ]
    }
   ],
   "source": [
    "filtered_categorical_loans_df.info()"
   ]
  },
  {
   "cell_type": "markdown",
   "metadata": {},
   "source": [
    "<h4>There are 26 categorical features. For categorical values ,we subsitue the missing values with the highest frequency values of that features.(i.e mode)</h4>"
   ]
  },
  {
   "cell_type": "code",
   "execution_count": 16,
   "metadata": {
    "collapsed": true
   },
   "outputs": [],
   "source": [
    "#Now replace the missing values with mode\n",
    "filtered_categorical_loans_df = filtered_categorical_loans_df.apply(lambda x:x.fillna(x.value_counts().index[0]))"
   ]
  },
  {
   "cell_type": "code",
   "execution_count": 17,
   "metadata": {},
   "outputs": [
    {
     "data": {
      "text/plain": [
       "debt_settlement_flag    0\n",
       "disbursement_method     0\n",
       "int_rate                0\n",
       "grade                   0\n",
       "sub_grade               0\n",
       "emp_title               0\n",
       "emp_length              0\n",
       "home_ownership          0\n",
       "verification_status     0\n",
       "issue_d                 0\n",
       "loan_status             0\n",
       "pymnt_plan              0\n",
       "purpose                 0\n",
       "title                   0\n",
       "zip_code                0\n",
       "addr_state              0\n",
       "earliest_cr_line        0\n",
       "revol_util              0\n",
       "initial_list_status     0\n",
       "last_pymnt_d            0\n",
       "last_credit_pull_d      0\n",
       "application_type        0\n",
       "hardship_flag           0\n",
       "term                    0\n",
       "dtype: int64"
      ]
     },
     "execution_count": 17,
     "metadata": {},
     "output_type": "execute_result"
    }
   ],
   "source": [
    "filtered_categorical_loans_df.isnull().sum().sort_values(ascending=False)"
   ]
  },
  {
   "cell_type": "code",
   "execution_count": 18,
   "metadata": {},
   "outputs": [
    {
     "name": "stdout",
     "output_type": "stream",
     "text": [
      "<class 'pandas.core.frame.DataFrame'>\n",
      "Int64Index: 1321847 entries, 0 to 103545\n",
      "Data columns (total 66 columns):\n",
      "loan_amnt                     1321847 non-null float64\n",
      "funded_amnt                   1321847 non-null float64\n",
      "funded_amnt_inv               1321847 non-null float64\n",
      "installment                   1321847 non-null float64\n",
      "annual_inc                    1321843 non-null float64\n",
      "dti                           1321782 non-null float64\n",
      "delinq_2yrs                   1321818 non-null float64\n",
      "fico_range_low                1321847 non-null float64\n",
      "fico_range_high               1321847 non-null float64\n",
      "inq_last_6mths                1321817 non-null float64\n",
      "open_acc                      1321818 non-null float64\n",
      "pub_rec                       1321818 non-null float64\n",
      "revol_bal                     1321847 non-null float64\n",
      "total_acc                     1321818 non-null float64\n",
      "out_prncp                     1321847 non-null float64\n",
      "out_prncp_inv                 1321847 non-null float64\n",
      "total_pymnt                   1321847 non-null float64\n",
      "total_pymnt_inv               1321847 non-null float64\n",
      "total_rec_prncp               1321847 non-null float64\n",
      "total_rec_int                 1321847 non-null float64\n",
      "total_rec_late_fee            1321847 non-null float64\n",
      "recoveries                    1321847 non-null float64\n",
      "collection_recovery_fee       1321847 non-null float64\n",
      "last_pymnt_amnt               1321847 non-null float64\n",
      "last_fico_range_high          1321847 non-null float64\n",
      "last_fico_range_low           1321847 non-null float64\n",
      "collections_12_mths_ex_med    1321702 non-null float64\n",
      "acc_now_delinq                1321818 non-null float64\n",
      "tot_coll_amt                  1251571 non-null float64\n",
      "tot_cur_bal                   1251571 non-null float64\n",
      "total_rev_hi_lim              1251571 non-null float64\n",
      "acc_open_past_24mths          1271817 non-null float64\n",
      "avg_cur_bal                   1251559 non-null float64\n",
      "bc_open_to_buy                1259244 non-null float64\n",
      "bc_util                       1258527 non-null float64\n",
      "chargeoff_within_12_mths      1321702 non-null float64\n",
      "delinq_amnt                   1321818 non-null float64\n",
      "mo_sin_old_il_acct            1214312 non-null float64\n",
      "mo_sin_old_rev_tl_op          1251570 non-null float64\n",
      "mo_sin_rcnt_rev_tl_op         1251570 non-null float64\n",
      "mo_sin_rcnt_tl                1251571 non-null float64\n",
      "mort_acc                      1271817 non-null float64\n",
      "mths_since_recent_bc          1260066 non-null float64\n",
      "mths_since_recent_inq         1139670 non-null float64\n",
      "num_accts_ever_120_pd         1251571 non-null float64\n",
      "num_actv_bc_tl                1251571 non-null float64\n",
      "num_actv_rev_tl               1251571 non-null float64\n",
      "num_bc_sats                   1263257 non-null float64\n",
      "num_bc_tl                     1251571 non-null float64\n",
      "num_il_tl                     1251571 non-null float64\n",
      "num_op_rev_tl                 1251571 non-null float64\n",
      "num_rev_accts                 1251570 non-null float64\n",
      "num_rev_tl_bal_gt_0           1251571 non-null float64\n",
      "num_sats                      1263257 non-null float64\n",
      "num_tl_120dpd_2m              1202848 non-null float64\n",
      "num_tl_30dpd                  1251571 non-null float64\n",
      "num_tl_90g_dpd_24m            1251571 non-null float64\n",
      "num_tl_op_past_12m            1251571 non-null float64\n",
      "pct_tl_nvr_dlq                1251418 non-null float64\n",
      "percent_bc_gt_75              1258823 non-null float64\n",
      "pub_rec_bankruptcies          1320482 non-null float64\n",
      "tax_liens                     1321742 non-null float64\n",
      "tot_hi_cred_lim               1251571 non-null float64\n",
      "total_bal_ex_mort             1271817 non-null float64\n",
      "total_bc_limit                1271817 non-null float64\n",
      "total_il_high_credit_limit    1251571 non-null float64\n",
      "dtypes: float64(66)\n",
      "memory usage: 675.7 MB\n"
     ]
    }
   ],
   "source": [
    "filtered_numeric_loans_df.info()"
   ]
  },
  {
   "cell_type": "markdown",
   "metadata": {},
   "source": [
    "<h4>There are a total of 66 numeric featrues in the dataset. To handled missing values for numeric fetures we substitue with the mean value of that feature.</h4>"
   ]
  },
  {
   "cell_type": "code",
   "execution_count": 19,
   "metadata": {
    "collapsed": true
   },
   "outputs": [],
   "source": [
    "#Fill the missing values in each column with mean value\n",
    "filtered_numeric_loans_df = filtered_numeric_loans_df.apply(lambda x: x.fillna(x.mean()),axis=1)\n"
   ]
  },
  {
   "cell_type": "code",
   "execution_count": 20,
   "metadata": {},
   "outputs": [
    {
     "data": {
      "text/plain": [
       "total_il_high_credit_limit    0\n",
       "total_pymnt                   0\n",
       "total_rev_hi_lim              0\n",
       "tot_cur_bal                   0\n",
       "tot_coll_amt                  0\n",
       "acc_now_delinq                0\n",
       "collections_12_mths_ex_med    0\n",
       "last_fico_range_low           0\n",
       "last_fico_range_high          0\n",
       "last_pymnt_amnt               0\n",
       "collection_recovery_fee       0\n",
       "recoveries                    0\n",
       "total_rec_late_fee            0\n",
       "total_rec_int                 0\n",
       "total_rec_prncp               0\n",
       "total_pymnt_inv               0\n",
       "out_prncp_inv                 0\n",
       "total_bc_limit                0\n",
       "out_prncp                     0\n",
       "total_acc                     0\n",
       "revol_bal                     0\n",
       "pub_rec                       0\n",
       "open_acc                      0\n",
       "inq_last_6mths                0\n",
       "fico_range_high               0\n",
       "fico_range_low                0\n",
       "delinq_2yrs                   0\n",
       "dti                           0\n",
       "annual_inc                    0\n",
       "installment                   0\n",
       "                             ..\n",
       "total_bal_ex_mort             0\n",
       "tot_hi_cred_lim               0\n",
       "tax_liens                     0\n",
       "pub_rec_bankruptcies          0\n",
       "percent_bc_gt_75              0\n",
       "pct_tl_nvr_dlq                0\n",
       "num_tl_op_past_12m            0\n",
       "num_tl_90g_dpd_24m            0\n",
       "num_tl_30dpd                  0\n",
       "num_tl_120dpd_2m              0\n",
       "num_sats                      0\n",
       "num_rev_tl_bal_gt_0           0\n",
       "num_rev_accts                 0\n",
       "num_op_rev_tl                 0\n",
       "num_il_tl                     0\n",
       "num_bc_tl                     0\n",
       "num_bc_sats                   0\n",
       "num_actv_rev_tl               0\n",
       "num_actv_bc_tl                0\n",
       "num_accts_ever_120_pd         0\n",
       "mths_since_recent_inq         0\n",
       "mths_since_recent_bc          0\n",
       "mort_acc                      0\n",
       "mo_sin_rcnt_tl                0\n",
       "mo_sin_rcnt_rev_tl_op         0\n",
       "mo_sin_old_rev_tl_op          0\n",
       "mo_sin_old_il_acct            0\n",
       "delinq_amnt                   0\n",
       "chargeoff_within_12_mths      0\n",
       "loan_amnt                     0\n",
       "Length: 66, dtype: int64"
      ]
     },
     "execution_count": 20,
     "metadata": {},
     "output_type": "execute_result"
    }
   ],
   "source": [
    "filtered_numeric_loans_df.isnull().sum().sort_values(ascending=False)"
   ]
  },
  {
   "cell_type": "code",
   "execution_count": 21,
   "metadata": {
    "collapsed": true
   },
   "outputs": [],
   "source": [
    "preprocessed_data_df = pd.concat([filtered_numeric_loans_df, filtered_categorical_loans_df], axis=1)"
   ]
  },
  {
   "cell_type": "code",
   "execution_count": null,
   "metadata": {
    "collapsed": true
   },
   "outputs": [],
   "source": []
  },
  {
   "cell_type": "code",
   "execution_count": null,
   "metadata": {
    "collapsed": true
   },
   "outputs": [],
   "source": []
  },
  {
   "cell_type": "code",
   "execution_count": null,
   "metadata": {
    "collapsed": true
   },
   "outputs": [],
   "source": []
  },
  {
   "cell_type": "code",
   "execution_count": null,
   "metadata": {
    "collapsed": true
   },
   "outputs": [],
   "source": []
  },
  {
   "cell_type": "code",
   "execution_count": null,
   "metadata": {
    "collapsed": true
   },
   "outputs": [],
   "source": []
  },
  {
   "cell_type": "code",
   "execution_count": null,
   "metadata": {
    "collapsed": true
   },
   "outputs": [],
   "source": []
  },
  {
   "cell_type": "code",
   "execution_count": null,
   "metadata": {
    "collapsed": true
   },
   "outputs": [],
   "source": []
  },
  {
   "cell_type": "code",
   "execution_count": null,
   "metadata": {
    "collapsed": true
   },
   "outputs": [],
   "source": []
  },
  {
   "cell_type": "markdown",
   "metadata": {},
   "source": [
    "<h4>Feature Engineering</h4>"
   ]
  },
  {
   "cell_type": "code",
   "execution_count": 22,
   "metadata": {},
   "outputs": [
    {
     "name": "stdout",
     "output_type": "stream",
     "text": [
      "['LoanStats', 'browseNotes', 'RejectStats']\n"
     ]
    }
   ],
   "source": [
    "data_dict = pd.ExcelFile(\"data/LCDataDictionary.xlsx\")\n",
    "# Print the sheet names\n",
    "print(data_dict.sheet_names)\n",
    "\n",
    "# Load a sheet into a DataFrame by name: df1\n",
    "data_dict = data_dict.parse('LoanStats')"
   ]
  },
  {
   "cell_type": "code",
   "execution_count": 23,
   "metadata": {
    "collapsed": true
   },
   "outputs": [],
   "source": [
    "data_dict = data_dict.rename(columns={'LoanStatNew': 'name',\n",
    "                                                 'Description': 'description'})"
   ]
  },
  {
   "cell_type": "code",
   "execution_count": 24,
   "metadata": {},
   "outputs": [
    {
     "data": {
      "text/html": [
       "<div>\n",
       "<style>\n",
       "    .dataframe thead tr:only-child th {\n",
       "        text-align: right;\n",
       "    }\n",
       "\n",
       "    .dataframe thead th {\n",
       "        text-align: left;\n",
       "    }\n",
       "\n",
       "    .dataframe tbody tr th {\n",
       "        vertical-align: top;\n",
       "    }\n",
       "</style>\n",
       "<table border=\"1\" class=\"dataframe\">\n",
       "  <thead>\n",
       "    <tr style=\"text-align: right;\">\n",
       "      <th></th>\n",
       "      <th>name</th>\n",
       "      <th>description</th>\n",
       "    </tr>\n",
       "  </thead>\n",
       "  <tbody>\n",
       "    <tr>\n",
       "      <th>0</th>\n",
       "      <td>acc_now_delinq</td>\n",
       "      <td>The number of accounts on which the borrower i...</td>\n",
       "    </tr>\n",
       "    <tr>\n",
       "      <th>1</th>\n",
       "      <td>acc_open_past_24mths</td>\n",
       "      <td>Number of trades opened in past 24 months.</td>\n",
       "    </tr>\n",
       "    <tr>\n",
       "      <th>2</th>\n",
       "      <td>addr_state</td>\n",
       "      <td>The state provided by the borrower in the loan...</td>\n",
       "    </tr>\n",
       "    <tr>\n",
       "      <th>3</th>\n",
       "      <td>all_util</td>\n",
       "      <td>Balance to credit limit on all trades</td>\n",
       "    </tr>\n",
       "    <tr>\n",
       "      <th>4</th>\n",
       "      <td>annual_inc</td>\n",
       "      <td>The self-reported annual income provided by th...</td>\n",
       "    </tr>\n",
       "  </tbody>\n",
       "</table>\n",
       "</div>"
      ],
      "text/plain": [
       "                   name                                        description\n",
       "0        acc_now_delinq  The number of accounts on which the borrower i...\n",
       "1  acc_open_past_24mths         Number of trades opened in past 24 months.\n",
       "2            addr_state  The state provided by the borrower in the loan...\n",
       "3              all_util              Balance to credit limit on all trades\n",
       "4            annual_inc  The self-reported annual income provided by th..."
      ]
     },
     "execution_count": 24,
     "metadata": {},
     "output_type": "execute_result"
    }
   ],
   "source": [
    "data_dict.head()"
   ]
  },
  {
   "cell_type": "code",
   "execution_count": 25,
   "metadata": {},
   "outputs": [
    {
     "data": {
      "text/html": [
       "<div>\n",
       "<style>\n",
       "    .dataframe thead tr:only-child th {\n",
       "        text-align: right;\n",
       "    }\n",
       "\n",
       "    .dataframe thead th {\n",
       "        text-align: left;\n",
       "    }\n",
       "\n",
       "    .dataframe tbody tr th {\n",
       "        vertical-align: top;\n",
       "    }\n",
       "</style>\n",
       "<table border=\"1\" class=\"dataframe\">\n",
       "  <thead>\n",
       "    <tr style=\"text-align: right;\">\n",
       "      <th></th>\n",
       "      <th>name</th>\n",
       "      <th>description</th>\n",
       "    </tr>\n",
       "  </thead>\n",
       "  <tbody>\n",
       "    <tr>\n",
       "      <th>27</th>\n",
       "      <td>id</td>\n",
       "      <td>A unique LC assigned ID for the loan listing.</td>\n",
       "    </tr>\n",
       "  </tbody>\n",
       "</table>\n",
       "</div>"
      ],
      "text/plain": [
       "   name                                    description\n",
       "27   id  A unique LC assigned ID for the loan listing."
      ]
     },
     "execution_count": 25,
     "metadata": {},
     "output_type": "execute_result"
    }
   ],
   "source": [
    "data_dict[data_dict['name'] == 'id']"
   ]
  },
  {
   "cell_type": "code",
   "execution_count": 26,
   "metadata": {
    "collapsed": true
   },
   "outputs": [],
   "source": [
    "preprocessed_categorical_data_df = preprocessed_data_df.select_dtypes([object])\n",
    "preprocessed_numeric_data_df = preprocessed_data_df.select_dtypes(['float64','int64'])"
   ]
  },
  {
   "cell_type": "markdown",
   "metadata": {},
   "source": [
    "Machine Learning algorithms require the data to be in numeric. So we have to convert the categorical values to numeric.So we will perform the follwing steps \n",
    "\n",
    "1. Convert Categorical Columns To Numeric Features\n",
    "2. Map Ordinal Values To Integers\n",
    "3. Encode Nominal Values As Dummy Variables"
   ]
  },
  {
   "cell_type": "code",
   "execution_count": 27,
   "metadata": {},
   "outputs": [
    {
     "name": "stdout",
     "output_type": "stream",
     "text": [
      "<class 'pandas.core.frame.DataFrame'>\n",
      "Int64Index: 1321847 entries, 0 to 103545\n",
      "Data columns (total 24 columns):\n",
      "term                    1321847 non-null object\n",
      "int_rate                1321847 non-null object\n",
      "grade                   1321847 non-null object\n",
      "sub_grade               1321847 non-null object\n",
      "emp_title               1321847 non-null object\n",
      "emp_length              1321847 non-null object\n",
      "home_ownership          1321847 non-null object\n",
      "verification_status     1321847 non-null object\n",
      "issue_d                 1321847 non-null object\n",
      "loan_status             1321847 non-null object\n",
      "pymnt_plan              1321847 non-null object\n",
      "purpose                 1321847 non-null object\n",
      "title                   1321847 non-null object\n",
      "zip_code                1321847 non-null object\n",
      "addr_state              1321847 non-null object\n",
      "earliest_cr_line        1321847 non-null object\n",
      "revol_util              1321847 non-null object\n",
      "initial_list_status     1321847 non-null object\n",
      "last_pymnt_d            1321847 non-null object\n",
      "last_credit_pull_d      1321847 non-null object\n",
      "application_type        1321847 non-null object\n",
      "hardship_flag           1321847 non-null object\n",
      "disbursement_method     1321847 non-null object\n",
      "debt_settlement_flag    1321847 non-null object\n",
      "dtypes: object(24)\n",
      "memory usage: 252.1+ MB\n"
     ]
    }
   ],
   "source": [
    "preprocessed_categorical_data_df.info()"
   ]
  },
  {
   "cell_type": "code",
   "execution_count": 28,
   "metadata": {},
   "outputs": [
    {
     "data": {
      "text/html": [
       "<div>\n",
       "<style>\n",
       "    .dataframe thead tr:only-child th {\n",
       "        text-align: right;\n",
       "    }\n",
       "\n",
       "    .dataframe thead th {\n",
       "        text-align: left;\n",
       "    }\n",
       "\n",
       "    .dataframe tbody tr th {\n",
       "        vertical-align: top;\n",
       "    }\n",
       "</style>\n",
       "<table border=\"1\" class=\"dataframe\">\n",
       "  <thead>\n",
       "    <tr style=\"text-align: right;\">\n",
       "      <th></th>\n",
       "      <th>name</th>\n",
       "      <th>description</th>\n",
       "    </tr>\n",
       "  </thead>\n",
       "  <tbody>\n",
       "    <tr>\n",
       "      <th>27</th>\n",
       "      <td>id</td>\n",
       "      <td>A unique LC assigned ID for the loan listing.</td>\n",
       "    </tr>\n",
       "  </tbody>\n",
       "</table>\n",
       "</div>"
      ],
      "text/plain": [
       "   name                                    description\n",
       "27   id  A unique LC assigned ID for the loan listing."
      ]
     },
     "execution_count": 28,
     "metadata": {},
     "output_type": "execute_result"
    }
   ],
   "source": [
    "data_dict[data_dict['name'] == 'id'] \n"
   ]
  },
  {
   "cell_type": "code",
   "execution_count": 29,
   "metadata": {},
   "outputs": [
    {
     "data": {
      "text/html": [
       "<div>\n",
       "<style>\n",
       "    .dataframe thead tr:only-child th {\n",
       "        text-align: right;\n",
       "    }\n",
       "\n",
       "    .dataframe thead th {\n",
       "        text-align: left;\n",
       "    }\n",
       "\n",
       "    .dataframe tbody tr th {\n",
       "        vertical-align: top;\n",
       "    }\n",
       "</style>\n",
       "<table border=\"1\" class=\"dataframe\">\n",
       "  <thead>\n",
       "    <tr style=\"text-align: right;\">\n",
       "      <th></th>\n",
       "      <th>name</th>\n",
       "      <th>description</th>\n",
       "    </tr>\n",
       "  </thead>\n",
       "  <tbody>\n",
       "    <tr>\n",
       "      <th>111</th>\n",
       "      <td>url</td>\n",
       "      <td>URL for the LC page with listing data.</td>\n",
       "    </tr>\n",
       "  </tbody>\n",
       "</table>\n",
       "</div>"
      ],
      "text/plain": [
       "    name                             description\n",
       "111  url  URL for the LC page with listing data."
      ]
     },
     "execution_count": 29,
     "metadata": {},
     "output_type": "execute_result"
    }
   ],
   "source": [
    "data_dict[data_dict['name'] == 'url']"
   ]
  },
  {
   "cell_type": "markdown",
   "metadata": {},
   "source": [
    "<h4>The id are url are the information related to LC.so we can drop the two columns.</h4>"
   ]
  },
  {
   "cell_type": "code",
   "execution_count": 30,
   "metadata": {
    "collapsed": true
   },
   "outputs": [],
   "source": [
    "#preprocessed_categorical_data_df = preprocessed_categorical_data_df.drop(['id' ,'url'] , axis=1)"
   ]
  },
  {
   "cell_type": "code",
   "execution_count": 31,
   "metadata": {},
   "outputs": [
    {
     "name": "stdout",
     "output_type": "stream",
     "text": [
      "<class 'pandas.core.frame.DataFrame'>\n",
      "Int64Index: 1321847 entries, 0 to 103545\n",
      "Data columns (total 24 columns):\n",
      "term                    1321847 non-null object\n",
      "int_rate                1321847 non-null object\n",
      "grade                   1321847 non-null object\n",
      "sub_grade               1321847 non-null object\n",
      "emp_title               1321847 non-null object\n",
      "emp_length              1321847 non-null object\n",
      "home_ownership          1321847 non-null object\n",
      "verification_status     1321847 non-null object\n",
      "issue_d                 1321847 non-null object\n",
      "loan_status             1321847 non-null object\n",
      "pymnt_plan              1321847 non-null object\n",
      "purpose                 1321847 non-null object\n",
      "title                   1321847 non-null object\n",
      "zip_code                1321847 non-null object\n",
      "addr_state              1321847 non-null object\n",
      "earliest_cr_line        1321847 non-null object\n",
      "revol_util              1321847 non-null object\n",
      "initial_list_status     1321847 non-null object\n",
      "last_pymnt_d            1321847 non-null object\n",
      "last_credit_pull_d      1321847 non-null object\n",
      "application_type        1321847 non-null object\n",
      "hardship_flag           1321847 non-null object\n",
      "disbursement_method     1321847 non-null object\n",
      "debt_settlement_flag    1321847 non-null object\n",
      "dtypes: object(24)\n",
      "memory usage: 252.1+ MB\n"
     ]
    }
   ],
   "source": [
    "preprocessed_categorical_data_df.info()"
   ]
  },
  {
   "cell_type": "code",
   "execution_count": 32,
   "metadata": {},
   "outputs": [
    {
     "name": "stdout",
     "output_type": "stream",
     "text": [
      " 36 months    944664\n",
      " 60 months    377183\n",
      "Name: term, dtype: int64\n",
      "\n",
      "Source Verified    503870\n",
      "Verified           417390\n",
      "Not Verified       400587\n",
      "Name: verification_status, dtype: int64\n",
      "\n",
      "n    1321249\n",
      "y        598\n",
      "Name: pymnt_plan, dtype: int64\n",
      "\n",
      "w    764274\n",
      "f    557573\n",
      "Name: initial_list_status, dtype: int64\n",
      "\n",
      "Individual    1312547\n",
      "Joint App        9300\n",
      "Name: application_type, dtype: int64\n",
      "\n",
      "N    1321049\n",
      "Y        798\n",
      "Name: hardship_flag, dtype: int64\n",
      "\n",
      "Cash         1318953\n",
      "DirectPay       2894\n",
      "Name: disbursement_method, dtype: int64\n",
      "\n",
      "N    1307295\n",
      "Y      14552\n",
      "Name: debt_settlement_flag, dtype: int64\n",
      "\n"
     ]
    }
   ],
   "source": [
    "#Now filter the columns that have less than 3 unique values\n",
    "for col in preprocessed_categorical_data_df.columns:\n",
    "    if (len(preprocessed_categorical_data_df[col].unique()) < 4):\n",
    "        print(preprocessed_categorical_data_df[col].value_counts())\n",
    "        print()"
   ]
  },
  {
   "cell_type": "code",
   "execution_count": 33,
   "metadata": {},
   "outputs": [
    {
     "data": {
      "text/plain": [
       "29    The initial listing status of the loan. Possib...\n",
       "Name: description, dtype: object"
      ]
     },
     "execution_count": 33,
     "metadata": {},
     "output_type": "execute_result"
    }
   ],
   "source": [
    "data_dict[data_dict['name'] == 'initial_list_status'].description"
   ]
  },
  {
   "cell_type": "code",
   "execution_count": 34,
   "metadata": {},
   "outputs": [
    {
     "data": {
      "text/plain": [
       "88    Indicates if a payment plan has been put in pl...\n",
       "Name: description, dtype: object"
      ]
     },
     "execution_count": 34,
     "metadata": {},
     "output_type": "execute_result"
    }
   ],
   "source": [
    "data_dict[data_dict['name'] == 'pymnt_plan'].description"
   ]
  },
  {
   "cell_type": "markdown",
   "metadata": {},
   "source": [
    "There are total 7 columns that have only 2 unique values.\n",
    "\n",
    "\"term\" is an important factor /attribute in any loan. \n",
    "\n",
    "\"debt_settlement_flag\" can be important to our analysis.so we don't remove term and debt_settlement_flag from the dataset\n",
    "\n",
    "\"pymnt_plan\" and \"disbursement_method\" and \"initial_list_status\" are the attributes we get after the loan is isued. so they are not required for the analysis.\n",
    "\n",
    "\"application_type\" has two values. Number of Joint App is only 9300 which is very low comapared to Individual application. so we can drop this variable.On the same lines we can drop \"hardship_flag\"."
   ]
  },
  {
   "cell_type": "code",
   "execution_count": 35,
   "metadata": {
    "collapsed": true
   },
   "outputs": [],
   "source": [
    "preprocessed_categorical_data_df = preprocessed_categorical_data_df.drop(['pymnt_plan' ,'disbursement_method' ,'initial_list_status','application_type','hardship_flag'] , axis=1)"
   ]
  },
  {
   "cell_type": "code",
   "execution_count": 36,
   "metadata": {},
   "outputs": [
    {
     "name": "stdout",
     "output_type": "stream",
     "text": [
      "<class 'pandas.core.frame.DataFrame'>\n",
      "Int64Index: 1321847 entries, 0 to 103545\n",
      "Data columns (total 19 columns):\n",
      "term                    1321847 non-null object\n",
      "int_rate                1321847 non-null object\n",
      "grade                   1321847 non-null object\n",
      "sub_grade               1321847 non-null object\n",
      "emp_title               1321847 non-null object\n",
      "emp_length              1321847 non-null object\n",
      "home_ownership          1321847 non-null object\n",
      "verification_status     1321847 non-null object\n",
      "issue_d                 1321847 non-null object\n",
      "loan_status             1321847 non-null object\n",
      "purpose                 1321847 non-null object\n",
      "title                   1321847 non-null object\n",
      "zip_code                1321847 non-null object\n",
      "addr_state              1321847 non-null object\n",
      "earliest_cr_line        1321847 non-null object\n",
      "revol_util              1321847 non-null object\n",
      "last_pymnt_d            1321847 non-null object\n",
      "last_credit_pull_d      1321847 non-null object\n",
      "debt_settlement_flag    1321847 non-null object\n",
      "dtypes: object(19)\n",
      "memory usage: 201.7+ MB\n"
     ]
    }
   ],
   "source": [
    "preprocessed_categorical_data_df.info()"
   ]
  },
  {
   "cell_type": "code",
   "execution_count": 37,
   "metadata": {},
   "outputs": [
    {
     "data": {
      "text/plain": [
       "35    The month which the loan was funded\n",
       "Name: description, dtype: object"
      ]
     },
     "execution_count": 37,
     "metadata": {},
     "output_type": "execute_result"
    }
   ],
   "source": [
    "data_dict[data_dict['name'] == 'issue_d'].description\n"
   ]
  },
  {
   "cell_type": "code",
   "execution_count": 38,
   "metadata": {},
   "outputs": [
    {
     "data": {
      "text/plain": [
       "40    Last month payment was received\n",
       "Name: description, dtype: object"
      ]
     },
     "execution_count": 38,
     "metadata": {},
     "output_type": "execute_result"
    }
   ],
   "source": [
    "data_dict[data_dict['name'] == 'last_pymnt_d'].description"
   ]
  },
  {
   "cell_type": "markdown",
   "metadata": {},
   "source": [
    "issue_d is th month the loan was funded and last_pymnt_d is the last month payment. As these values are obtained after the loan is issued. so we can drop these variables."
   ]
  },
  {
   "cell_type": "code",
   "execution_count": 39,
   "metadata": {
    "collapsed": true
   },
   "outputs": [],
   "source": [
    "preprocessed_categorical_data_df = preprocessed_categorical_data_df.drop(['issue_d' ,'last_pymnt_d'] , axis=1)"
   ]
  },
  {
   "cell_type": "code",
   "execution_count": 40,
   "metadata": {},
   "outputs": [
    {
     "name": "stdout",
     "output_type": "stream",
     "text": [
      "<class 'pandas.core.frame.DataFrame'>\n",
      "Int64Index: 1321847 entries, 0 to 103545\n",
      "Data columns (total 17 columns):\n",
      "term                    1321847 non-null object\n",
      "int_rate                1321847 non-null object\n",
      "grade                   1321847 non-null object\n",
      "sub_grade               1321847 non-null object\n",
      "emp_title               1321847 non-null object\n",
      "emp_length              1321847 non-null object\n",
      "home_ownership          1321847 non-null object\n",
      "verification_status     1321847 non-null object\n",
      "loan_status             1321847 non-null object\n",
      "purpose                 1321847 non-null object\n",
      "title                   1321847 non-null object\n",
      "zip_code                1321847 non-null object\n",
      "addr_state              1321847 non-null object\n",
      "earliest_cr_line        1321847 non-null object\n",
      "revol_util              1321847 non-null object\n",
      "last_credit_pull_d      1321847 non-null object\n",
      "debt_settlement_flag    1321847 non-null object\n",
      "dtypes: object(17)\n",
      "memory usage: 181.5+ MB\n"
     ]
    }
   ],
   "source": [
    "preprocessed_categorical_data_df.info()"
   ]
  },
  {
   "cell_type": "code",
   "execution_count": 41,
   "metadata": {},
   "outputs": [
    {
     "data": {
      "text/plain": [
       "Debt consolidation                          671894\n",
       "Credit card refinancing                     250516\n",
       "Home improvement                             69997\n",
       "Other                                        59637\n",
       "Major purchase                               22082\n",
       "Debt Consolidation                           15763\n",
       "Medical expenses                             11882\n",
       "Business                                     11280\n",
       "Car financing                                10186\n",
       "Moving and relocation                         7042\n",
       "Vacation                                      6916\n",
       "Consolidation                                 5385\n",
       "debt consolidation                            4837\n",
       "Home buying                                   4287\n",
       "Debt Consolidation Loan                       3804\n",
       "Credit Card Consolidation                     2360\n",
       "consolidation                                 2175\n",
       "Personal Loan                                 2133\n",
       "Consolidation Loan                            1778\n",
       "Home Improvement                              1773\n",
       "Credit Card Refinance                         1468\n",
       "Credit Card Payoff                            1386\n",
       "Consolidate                                   1268\n",
       "Personal                                      1185\n",
       "Loan                                          1033\n",
       "Freedom                                        803\n",
       "Credit Card Loan                               783\n",
       "personal                                       774\n",
       "consolidate                                    763\n",
       "personal loan                                  745\n",
       "                                             ...  \n",
       "debt consolidation for a hopeful future          1\n",
       "Elimination Now                                  1\n",
       "Life Management                                  1\n",
       "Pay off CC for good                              1\n",
       "creditcard payment                               1\n",
       "pay off heat pump credit card                    1\n",
       "Citi rate hike? No thanks...                     1\n",
       "pay40                                            1\n",
       "Get a student out of debt                        1\n",
       "CourseCorrection:)                               1\n",
       "lower term saving money each month               1\n",
       "Green Construction Company                       1\n",
       "DEBT CONSOLIDATION AND HOME IMPROVEMENTS         1\n",
       "2012 Bailout                                     1\n",
       "Debt consolidation/elimination loan              1\n",
       "credit card closing                              1\n",
       "Combine CC debt                                  1\n",
       "extreme debt makeover                            1\n",
       "debt mgmt.                                       1\n",
       "A way to easier payments.                        1\n",
       "moving/vacation                                  1\n",
       "The fixer                                        1\n",
       "Moving and downgrade                             1\n",
       "Small Business Loan - The Brees Way              1\n",
       "consolidate Debt                                 1\n",
       "Help a Student Pay Off Credit Card Debt          1\n",
       "pedro                                            1\n",
       "my payments                                      1\n",
       "Pay off bills and reduce rates                   1\n",
       "Faster debt free                                 1\n",
       "Name: title, Length: 63156, dtype: int64"
      ]
     },
     "execution_count": 41,
     "metadata": {},
     "output_type": "execute_result"
    }
   ],
   "source": [
    "# Print unique values for purpose and title\n",
    "preprocessed_categorical_data_df.purpose.value_counts()\n",
    "preprocessed_categorical_data_df.title.value_counts()"
   ]
  },
  {
   "cell_type": "markdown",
   "metadata": {},
   "source": [
    "From the above you can see the title and purpose have similar values.\n",
    "<p>'title' is the description of the purpose of the loan. Purpose has fewer values.So we can drop the tilte.</p>"
   ]
  },
  {
   "cell_type": "markdown",
   "metadata": {},
   "source": [
    "<p>Similarly, zip_code and addr_state gives the same infomration. so we can drop zip_code</p>\n",
    "\n",
    "<p>Also, subgrade is the sub category of grade.So we will drop subgrade column too"
   ]
  },
  {
   "cell_type": "code",
   "execution_count": 42,
   "metadata": {
    "collapsed": true
   },
   "outputs": [],
   "source": [
    "preprocessed_categorical_data_df = preprocessed_categorical_data_df.drop(['title','zip_code','sub_grade'],axis=1)"
   ]
  },
  {
   "cell_type": "code",
   "execution_count": 43,
   "metadata": {},
   "outputs": [
    {
     "data": {
      "text/html": [
       "<div>\n",
       "<style>\n",
       "    .dataframe thead tr:only-child th {\n",
       "        text-align: right;\n",
       "    }\n",
       "\n",
       "    .dataframe thead th {\n",
       "        text-align: left;\n",
       "    }\n",
       "\n",
       "    .dataframe tbody tr th {\n",
       "        vertical-align: top;\n",
       "    }\n",
       "</style>\n",
       "<table border=\"1\" class=\"dataframe\">\n",
       "  <thead>\n",
       "    <tr style=\"text-align: right;\">\n",
       "      <th></th>\n",
       "      <th>term</th>\n",
       "      <th>int_rate</th>\n",
       "      <th>grade</th>\n",
       "      <th>emp_title</th>\n",
       "      <th>emp_length</th>\n",
       "      <th>home_ownership</th>\n",
       "      <th>verification_status</th>\n",
       "      <th>loan_status</th>\n",
       "      <th>purpose</th>\n",
       "      <th>addr_state</th>\n",
       "      <th>earliest_cr_line</th>\n",
       "      <th>revol_util</th>\n",
       "      <th>last_credit_pull_d</th>\n",
       "      <th>debt_settlement_flag</th>\n",
       "    </tr>\n",
       "  </thead>\n",
       "  <tbody>\n",
       "    <tr>\n",
       "      <th>0</th>\n",
       "      <td>36 months</td>\n",
       "      <td>10.65%</td>\n",
       "      <td>B</td>\n",
       "      <td>Teacher</td>\n",
       "      <td>10+ years</td>\n",
       "      <td>RENT</td>\n",
       "      <td>Verified</td>\n",
       "      <td>Fully Paid</td>\n",
       "      <td>credit_card</td>\n",
       "      <td>AZ</td>\n",
       "      <td>Jan-1985</td>\n",
       "      <td>83.7%</td>\n",
       "      <td>Dec-2017</td>\n",
       "      <td>N</td>\n",
       "    </tr>\n",
       "    <tr>\n",
       "      <th>1</th>\n",
       "      <td>60 months</td>\n",
       "      <td>15.27%</td>\n",
       "      <td>C</td>\n",
       "      <td>Ryder</td>\n",
       "      <td>&lt; 1 year</td>\n",
       "      <td>RENT</td>\n",
       "      <td>Source Verified</td>\n",
       "      <td>Charged Off</td>\n",
       "      <td>car</td>\n",
       "      <td>GA</td>\n",
       "      <td>Apr-1999</td>\n",
       "      <td>9.4%</td>\n",
       "      <td>Oct-2016</td>\n",
       "      <td>N</td>\n",
       "    </tr>\n",
       "    <tr>\n",
       "      <th>2</th>\n",
       "      <td>36 months</td>\n",
       "      <td>15.96%</td>\n",
       "      <td>C</td>\n",
       "      <td>Teacher</td>\n",
       "      <td>10+ years</td>\n",
       "      <td>RENT</td>\n",
       "      <td>Not Verified</td>\n",
       "      <td>Fully Paid</td>\n",
       "      <td>small_business</td>\n",
       "      <td>IL</td>\n",
       "      <td>Nov-2001</td>\n",
       "      <td>98.5%</td>\n",
       "      <td>Jun-2017</td>\n",
       "      <td>N</td>\n",
       "    </tr>\n",
       "    <tr>\n",
       "      <th>3</th>\n",
       "      <td>36 months</td>\n",
       "      <td>13.49%</td>\n",
       "      <td>C</td>\n",
       "      <td>AIR RESOURCES BOARD</td>\n",
       "      <td>10+ years</td>\n",
       "      <td>RENT</td>\n",
       "      <td>Source Verified</td>\n",
       "      <td>Fully Paid</td>\n",
       "      <td>other</td>\n",
       "      <td>CA</td>\n",
       "      <td>Feb-1996</td>\n",
       "      <td>21%</td>\n",
       "      <td>Apr-2016</td>\n",
       "      <td>N</td>\n",
       "    </tr>\n",
       "    <tr>\n",
       "      <th>4</th>\n",
       "      <td>60 months</td>\n",
       "      <td>12.69%</td>\n",
       "      <td>B</td>\n",
       "      <td>University Medical Group</td>\n",
       "      <td>1 year</td>\n",
       "      <td>RENT</td>\n",
       "      <td>Source Verified</td>\n",
       "      <td>Fully Paid</td>\n",
       "      <td>other</td>\n",
       "      <td>OR</td>\n",
       "      <td>Jan-1996</td>\n",
       "      <td>53.9%</td>\n",
       "      <td>Jan-2017</td>\n",
       "      <td>N</td>\n",
       "    </tr>\n",
       "  </tbody>\n",
       "</table>\n",
       "</div>"
      ],
      "text/plain": [
       "         term int_rate grade                 emp_title emp_length  \\\n",
       "0   36 months   10.65%     B                   Teacher  10+ years   \n",
       "1   60 months   15.27%     C                     Ryder   < 1 year   \n",
       "2   36 months   15.96%     C                   Teacher  10+ years   \n",
       "3   36 months   13.49%     C       AIR RESOURCES BOARD  10+ years   \n",
       "4   60 months   12.69%     B  University Medical Group     1 year   \n",
       "\n",
       "  home_ownership verification_status  loan_status         purpose addr_state  \\\n",
       "0           RENT            Verified   Fully Paid     credit_card         AZ   \n",
       "1           RENT     Source Verified  Charged Off             car         GA   \n",
       "2           RENT        Not Verified   Fully Paid  small_business         IL   \n",
       "3           RENT     Source Verified   Fully Paid           other         CA   \n",
       "4           RENT     Source Verified   Fully Paid           other         OR   \n",
       "\n",
       "  earliest_cr_line revol_util last_credit_pull_d debt_settlement_flag  \n",
       "0         Jan-1985      83.7%           Dec-2017                    N  \n",
       "1         Apr-1999       9.4%           Oct-2016                    N  \n",
       "2         Nov-2001      98.5%           Jun-2017                    N  \n",
       "3         Feb-1996        21%           Apr-2016                    N  \n",
       "4         Jan-1996      53.9%           Jan-2017                    N  "
      ]
     },
     "execution_count": 43,
     "metadata": {},
     "output_type": "execute_result"
    }
   ],
   "source": [
    "preprocessed_categorical_data_df.head()"
   ]
  },
  {
   "cell_type": "markdown",
   "metadata": {},
   "source": [
    "<h4>The colums int_rate and revol_util are in percantage. we will convert it to numeric values./h4>"
   ]
  },
  {
   "cell_type": "code",
   "execution_count": 44,
   "metadata": {
    "collapsed": true
   },
   "outputs": [],
   "source": [
    "#The colums int_rate and revol_util are in percantage. we will convert it to numeric values.\n",
    "preprocessed_categorical_data_df['int_rate'] = preprocessed_categorical_data_df['int_rate'].replace('%','',regex=True).astype('float')\n",
    "\n",
    "preprocessed_categorical_data_df['revol_util'] = preprocessed_categorical_data_df['revol_util'].replace('%','',regex=True).astype('float')"
   ]
  },
  {
   "cell_type": "code",
   "execution_count": 45,
   "metadata": {},
   "outputs": [
    {
     "data": {
      "text/plain": [
       " 36 months    944664\n",
       " 60 months    377183\n",
       "Name: term, dtype: int64"
      ]
     },
     "execution_count": 45,
     "metadata": {},
     "output_type": "execute_result"
    }
   ],
   "source": [
    "preprocessed_categorical_data_df['term'].value_counts()"
   ]
  },
  {
   "cell_type": "markdown",
   "metadata": {},
   "source": [
    "<h4>Convert the term column to numeruc by removing the months.</h4>"
   ]
  },
  {
   "cell_type": "code",
   "execution_count": 46,
   "metadata": {
    "collapsed": true
   },
   "outputs": [],
   "source": [
    "#Convert the term column to numeruc by removing the months.\n",
    "preprocessed_categorical_data_df['term'] = preprocessed_categorical_data_df['term'].replace('months','',regex=True).astype('int')\n"
   ]
  },
  {
   "cell_type": "code",
   "execution_count": 47,
   "metadata": {},
   "outputs": [
    {
     "data": {
      "text/plain": [
       "Teacher                                  101680\n",
       "Manager                                   18643\n",
       "Owner                                     10383\n",
       "Registered Nurse                           8906\n",
       "RN                                         8638\n",
       "Supervisor                                 8200\n",
       "Sales                                      7108\n",
       "Driver                                     6829\n",
       "Project Manager                            6346\n",
       "Office Manager                             5530\n",
       "General Manager                            5246\n",
       "Director                                   5104\n",
       "owner                                      4837\n",
       "manager                                    4526\n",
       "President                                  4447\n",
       "teacher                                    4276\n",
       "Engineer                                   4262\n",
       "Vice President                             3636\n",
       "driver                                     3501\n",
       "Operations Manager                         3396\n",
       "Attorney                                   3274\n",
       "Accountant                                 3259\n",
       "Administrative Assistant                   3064\n",
       "Sales Manager                              3016\n",
       "Account Manager                            2737\n",
       "Police Officer                             2698\n",
       "sales                                      2555\n",
       "Nurse                                      2540\n",
       "Analyst                                    2513\n",
       "Executive Assistant                        2482\n",
       "                                          ...  \n",
       "Product flow coordinator                      1\n",
       "AVP Security                                  1\n",
       "Associate Principal Scientist                 1\n",
       "FHA/VA Mortgage Underwriter                   1\n",
       "Manager, Strategic Analytics                  1\n",
       "PorterDoorman                                 1\n",
       "Senior Underwriting Asssistant                1\n",
       "seviceman                                     1\n",
       "Exponential Interactive, Inc                  1\n",
       "Senior Executive  - Procurement               1\n",
       "material research associate engineer          1\n",
       "Trades Helper                                 1\n",
       "bausch+Lomb                                   1\n",
       "Sr. Production Editor 2                       1\n",
       "HLC hotels inc                                1\n",
       "Muns                                          1\n",
       "Distribution Worker                           1\n",
       "Sheridan healthcare                           1\n",
       "Press Operator 2                              1\n",
       "Jim Lupient Infiniti                          1\n",
       "HireRight  Inc.                               1\n",
       "Prestige Building Company                     1\n",
       "Armstrong & McCall                            1\n",
       "AVP Loan Closer                               1\n",
       "NYULangone Medical Center                     1\n",
       "Boyd Gaming Inc.                              1\n",
       "senior business banker                        1\n",
       "pharnacist                                    1\n",
       "Pittsford Cinema 9                            1\n",
       "Staples/Quill NAD                             1\n",
       "Name: emp_title, Length: 381900, dtype: int64"
      ]
     },
     "execution_count": 47,
     "metadata": {},
     "output_type": "execute_result"
    }
   ],
   "source": [
    "preprocessed_categorical_data_df.emp_title.value_counts()"
   ]
  },
  {
   "cell_type": "markdown",
   "metadata": {},
   "source": [
    "There are total of 381900 unique values for emp_title. The dimension of data increases when this variable is one-hot encoded. So we can drop emp_title for our analysis"
   ]
  },
  {
   "cell_type": "code",
   "execution_count": 48,
   "metadata": {
    "collapsed": true
   },
   "outputs": [],
   "source": [
    "preprocessed_categorical_data_df = preprocessed_categorical_data_df.drop(['emp_title'],axis=1)"
   ]
  },
  {
   "cell_type": "code",
   "execution_count": 49,
   "metadata": {},
   "outputs": [
    {
     "data": {
      "text/html": [
       "<div>\n",
       "<style>\n",
       "    .dataframe thead tr:only-child th {\n",
       "        text-align: right;\n",
       "    }\n",
       "\n",
       "    .dataframe thead th {\n",
       "        text-align: left;\n",
       "    }\n",
       "\n",
       "    .dataframe tbody tr th {\n",
       "        vertical-align: top;\n",
       "    }\n",
       "</style>\n",
       "<table border=\"1\" class=\"dataframe\">\n",
       "  <thead>\n",
       "    <tr style=\"text-align: right;\">\n",
       "      <th></th>\n",
       "      <th>term</th>\n",
       "      <th>int_rate</th>\n",
       "      <th>grade</th>\n",
       "      <th>emp_length</th>\n",
       "      <th>home_ownership</th>\n",
       "      <th>verification_status</th>\n",
       "      <th>loan_status</th>\n",
       "      <th>purpose</th>\n",
       "      <th>addr_state</th>\n",
       "      <th>earliest_cr_line</th>\n",
       "      <th>revol_util</th>\n",
       "      <th>last_credit_pull_d</th>\n",
       "      <th>debt_settlement_flag</th>\n",
       "    </tr>\n",
       "  </thead>\n",
       "  <tbody>\n",
       "    <tr>\n",
       "      <th>0</th>\n",
       "      <td>36</td>\n",
       "      <td>10.65</td>\n",
       "      <td>B</td>\n",
       "      <td>10+ years</td>\n",
       "      <td>RENT</td>\n",
       "      <td>Verified</td>\n",
       "      <td>Fully Paid</td>\n",
       "      <td>credit_card</td>\n",
       "      <td>AZ</td>\n",
       "      <td>Jan-1985</td>\n",
       "      <td>83.7</td>\n",
       "      <td>Dec-2017</td>\n",
       "      <td>N</td>\n",
       "    </tr>\n",
       "    <tr>\n",
       "      <th>1</th>\n",
       "      <td>60</td>\n",
       "      <td>15.27</td>\n",
       "      <td>C</td>\n",
       "      <td>&lt; 1 year</td>\n",
       "      <td>RENT</td>\n",
       "      <td>Source Verified</td>\n",
       "      <td>Charged Off</td>\n",
       "      <td>car</td>\n",
       "      <td>GA</td>\n",
       "      <td>Apr-1999</td>\n",
       "      <td>9.4</td>\n",
       "      <td>Oct-2016</td>\n",
       "      <td>N</td>\n",
       "    </tr>\n",
       "    <tr>\n",
       "      <th>2</th>\n",
       "      <td>36</td>\n",
       "      <td>15.96</td>\n",
       "      <td>C</td>\n",
       "      <td>10+ years</td>\n",
       "      <td>RENT</td>\n",
       "      <td>Not Verified</td>\n",
       "      <td>Fully Paid</td>\n",
       "      <td>small_business</td>\n",
       "      <td>IL</td>\n",
       "      <td>Nov-2001</td>\n",
       "      <td>98.5</td>\n",
       "      <td>Jun-2017</td>\n",
       "      <td>N</td>\n",
       "    </tr>\n",
       "    <tr>\n",
       "      <th>3</th>\n",
       "      <td>36</td>\n",
       "      <td>13.49</td>\n",
       "      <td>C</td>\n",
       "      <td>10+ years</td>\n",
       "      <td>RENT</td>\n",
       "      <td>Source Verified</td>\n",
       "      <td>Fully Paid</td>\n",
       "      <td>other</td>\n",
       "      <td>CA</td>\n",
       "      <td>Feb-1996</td>\n",
       "      <td>21.0</td>\n",
       "      <td>Apr-2016</td>\n",
       "      <td>N</td>\n",
       "    </tr>\n",
       "    <tr>\n",
       "      <th>4</th>\n",
       "      <td>60</td>\n",
       "      <td>12.69</td>\n",
       "      <td>B</td>\n",
       "      <td>1 year</td>\n",
       "      <td>RENT</td>\n",
       "      <td>Source Verified</td>\n",
       "      <td>Fully Paid</td>\n",
       "      <td>other</td>\n",
       "      <td>OR</td>\n",
       "      <td>Jan-1996</td>\n",
       "      <td>53.9</td>\n",
       "      <td>Jan-2017</td>\n",
       "      <td>N</td>\n",
       "    </tr>\n",
       "  </tbody>\n",
       "</table>\n",
       "</div>"
      ],
      "text/plain": [
       "   term  int_rate grade emp_length home_ownership verification_status  \\\n",
       "0    36     10.65     B  10+ years           RENT            Verified   \n",
       "1    60     15.27     C   < 1 year           RENT     Source Verified   \n",
       "2    36     15.96     C  10+ years           RENT        Not Verified   \n",
       "3    36     13.49     C  10+ years           RENT     Source Verified   \n",
       "4    60     12.69     B     1 year           RENT     Source Verified   \n",
       "\n",
       "   loan_status         purpose addr_state earliest_cr_line  revol_util  \\\n",
       "0   Fully Paid     credit_card         AZ         Jan-1985        83.7   \n",
       "1  Charged Off             car         GA         Apr-1999         9.4   \n",
       "2   Fully Paid  small_business         IL         Nov-2001        98.5   \n",
       "3   Fully Paid           other         CA         Feb-1996        21.0   \n",
       "4   Fully Paid           other         OR         Jan-1996        53.9   \n",
       "\n",
       "  last_credit_pull_d debt_settlement_flag  \n",
       "0           Dec-2017                    N  \n",
       "1           Oct-2016                    N  \n",
       "2           Jun-2017                    N  \n",
       "3           Apr-2016                    N  \n",
       "4           Jan-2017                    N  "
      ]
     },
     "execution_count": 49,
     "metadata": {},
     "output_type": "execute_result"
    }
   ],
   "source": [
    "preprocessed_categorical_data_df.head()"
   ]
  },
  {
   "cell_type": "code",
   "execution_count": 50,
   "metadata": {},
   "outputs": [
    {
     "data": {
      "text/plain": [
       "18    The month the borrower's earliest reported cre...\n",
       "Name: description, dtype: object"
      ]
     },
     "execution_count": 50,
     "metadata": {},
     "output_type": "execute_result"
    }
   ],
   "source": [
    "data_dict[data_dict['name'] == 'earliest_cr_line'].description"
   ]
  },
  {
   "cell_type": "code",
   "execution_count": 51,
   "metadata": {},
   "outputs": [
    {
     "data": {
      "text/plain": [
       "36    The most recent month LC pulled credit for thi...\n",
       "Name: description, dtype: object"
      ]
     },
     "execution_count": 51,
     "metadata": {},
     "output_type": "execute_result"
    }
   ],
   "source": [
    "data_dict[data_dict['name'] == 'last_credit_pull_d'].description"
   ]
  },
  {
   "cell_type": "markdown",
   "metadata": {},
   "source": [
    "'earliest_cr_line and last_credit_pull_d columns contain date values. To use these variables it would need good amount of feature engineering. so we drop these columns."
   ]
  },
  {
   "cell_type": "code",
   "execution_count": 52,
   "metadata": {
    "collapsed": true
   },
   "outputs": [],
   "source": [
    "preprocessed_categorical_data_df = preprocessed_categorical_data_df.drop(['earliest_cr_line','last_credit_pull_d'],axis=1)"
   ]
  },
  {
   "cell_type": "code",
   "execution_count": 53,
   "metadata": {},
   "outputs": [
    {
     "data": {
      "text/html": [
       "<div>\n",
       "<style>\n",
       "    .dataframe thead tr:only-child th {\n",
       "        text-align: right;\n",
       "    }\n",
       "\n",
       "    .dataframe thead th {\n",
       "        text-align: left;\n",
       "    }\n",
       "\n",
       "    .dataframe tbody tr th {\n",
       "        vertical-align: top;\n",
       "    }\n",
       "</style>\n",
       "<table border=\"1\" class=\"dataframe\">\n",
       "  <thead>\n",
       "    <tr style=\"text-align: right;\">\n",
       "      <th></th>\n",
       "      <th>term</th>\n",
       "      <th>int_rate</th>\n",
       "      <th>grade</th>\n",
       "      <th>emp_length</th>\n",
       "      <th>home_ownership</th>\n",
       "      <th>verification_status</th>\n",
       "      <th>loan_status</th>\n",
       "      <th>purpose</th>\n",
       "      <th>addr_state</th>\n",
       "      <th>revol_util</th>\n",
       "      <th>debt_settlement_flag</th>\n",
       "    </tr>\n",
       "  </thead>\n",
       "  <tbody>\n",
       "    <tr>\n",
       "      <th>0</th>\n",
       "      <td>36</td>\n",
       "      <td>10.65</td>\n",
       "      <td>B</td>\n",
       "      <td>10+ years</td>\n",
       "      <td>RENT</td>\n",
       "      <td>Verified</td>\n",
       "      <td>Fully Paid</td>\n",
       "      <td>credit_card</td>\n",
       "      <td>AZ</td>\n",
       "      <td>83.7</td>\n",
       "      <td>N</td>\n",
       "    </tr>\n",
       "    <tr>\n",
       "      <th>1</th>\n",
       "      <td>60</td>\n",
       "      <td>15.27</td>\n",
       "      <td>C</td>\n",
       "      <td>&lt; 1 year</td>\n",
       "      <td>RENT</td>\n",
       "      <td>Source Verified</td>\n",
       "      <td>Charged Off</td>\n",
       "      <td>car</td>\n",
       "      <td>GA</td>\n",
       "      <td>9.4</td>\n",
       "      <td>N</td>\n",
       "    </tr>\n",
       "    <tr>\n",
       "      <th>2</th>\n",
       "      <td>36</td>\n",
       "      <td>15.96</td>\n",
       "      <td>C</td>\n",
       "      <td>10+ years</td>\n",
       "      <td>RENT</td>\n",
       "      <td>Not Verified</td>\n",
       "      <td>Fully Paid</td>\n",
       "      <td>small_business</td>\n",
       "      <td>IL</td>\n",
       "      <td>98.5</td>\n",
       "      <td>N</td>\n",
       "    </tr>\n",
       "    <tr>\n",
       "      <th>3</th>\n",
       "      <td>36</td>\n",
       "      <td>13.49</td>\n",
       "      <td>C</td>\n",
       "      <td>10+ years</td>\n",
       "      <td>RENT</td>\n",
       "      <td>Source Verified</td>\n",
       "      <td>Fully Paid</td>\n",
       "      <td>other</td>\n",
       "      <td>CA</td>\n",
       "      <td>21.0</td>\n",
       "      <td>N</td>\n",
       "    </tr>\n",
       "    <tr>\n",
       "      <th>4</th>\n",
       "      <td>60</td>\n",
       "      <td>12.69</td>\n",
       "      <td>B</td>\n",
       "      <td>1 year</td>\n",
       "      <td>RENT</td>\n",
       "      <td>Source Verified</td>\n",
       "      <td>Fully Paid</td>\n",
       "      <td>other</td>\n",
       "      <td>OR</td>\n",
       "      <td>53.9</td>\n",
       "      <td>N</td>\n",
       "    </tr>\n",
       "  </tbody>\n",
       "</table>\n",
       "</div>"
      ],
      "text/plain": [
       "   term  int_rate grade emp_length home_ownership verification_status  \\\n",
       "0    36     10.65     B  10+ years           RENT            Verified   \n",
       "1    60     15.27     C   < 1 year           RENT     Source Verified   \n",
       "2    36     15.96     C  10+ years           RENT        Not Verified   \n",
       "3    36     13.49     C  10+ years           RENT     Source Verified   \n",
       "4    60     12.69     B     1 year           RENT     Source Verified   \n",
       "\n",
       "   loan_status         purpose addr_state  revol_util debt_settlement_flag  \n",
       "0   Fully Paid     credit_card         AZ        83.7                    N  \n",
       "1  Charged Off             car         GA         9.4                    N  \n",
       "2   Fully Paid  small_business         IL        98.5                    N  \n",
       "3   Fully Paid           other         CA        21.0                    N  \n",
       "4   Fully Paid           other         OR        53.9                    N  "
      ]
     },
     "execution_count": 53,
     "metadata": {},
     "output_type": "execute_result"
    }
   ],
   "source": [
    "preprocessed_categorical_data_df.head()"
   ]
  },
  {
   "cell_type": "code",
   "execution_count": 54,
   "metadata": {},
   "outputs": [
    {
     "data": {
      "text/plain": [
       "10+ years    441566\n",
       "2 years      118474\n",
       "3 years      104762\n",
       "< 1 year     102526\n",
       "1 year        86251\n",
       "5 years       82184\n",
       "4 years       78350\n",
       "n/a           73049\n",
       "8 years       62731\n",
       "6 years       61608\n",
       "7 years       58802\n",
       "9 years       51544\n",
       "Name: emp_length, dtype: int64"
      ]
     },
     "execution_count": 54,
     "metadata": {},
     "output_type": "execute_result"
    }
   ],
   "source": [
    "preprocessed_categorical_data_df['emp_length'].value_counts()"
   ]
  },
  {
   "cell_type": "code",
   "execution_count": 55,
   "metadata": {
    "collapsed": true
   },
   "outputs": [],
   "source": [
    "mapping_dict = {\n",
    "    \"emp_length\": {\n",
    "        \"10+ years\": 10,\n",
    "        \"9 years\": 9,\n",
    "        \"8 years\": 8,\n",
    "        \"7 years\": 7,\n",
    "        \"6 years\": 6,\n",
    "        \"5 years\": 5,\n",
    "        \"4 years\": 4,\n",
    "        \"3 years\": 3,\n",
    "        \"2 years\": 2,\n",
    "        \"1 year\": 1,\n",
    "        \"< 1 year\": 0,\n",
    "        \"n/a\": 0\n",
    "\n",
    "    }\n",
    "}"
   ]
  },
  {
   "cell_type": "code",
   "execution_count": 56,
   "metadata": {
    "collapsed": true
   },
   "outputs": [],
   "source": [
    "preprocessed_categorical_data_df = preprocessed_categorical_data_df.replace(mapping_dict)"
   ]
  },
  {
   "cell_type": "code",
   "execution_count": 57,
   "metadata": {},
   "outputs": [
    {
     "data": {
      "text/html": [
       "<div>\n",
       "<style>\n",
       "    .dataframe thead tr:only-child th {\n",
       "        text-align: right;\n",
       "    }\n",
       "\n",
       "    .dataframe thead th {\n",
       "        text-align: left;\n",
       "    }\n",
       "\n",
       "    .dataframe tbody tr th {\n",
       "        vertical-align: top;\n",
       "    }\n",
       "</style>\n",
       "<table border=\"1\" class=\"dataframe\">\n",
       "  <thead>\n",
       "    <tr style=\"text-align: right;\">\n",
       "      <th></th>\n",
       "      <th>term</th>\n",
       "      <th>int_rate</th>\n",
       "      <th>grade</th>\n",
       "      <th>emp_length</th>\n",
       "      <th>home_ownership</th>\n",
       "      <th>verification_status</th>\n",
       "      <th>loan_status</th>\n",
       "      <th>purpose</th>\n",
       "      <th>addr_state</th>\n",
       "      <th>revol_util</th>\n",
       "      <th>debt_settlement_flag</th>\n",
       "    </tr>\n",
       "  </thead>\n",
       "  <tbody>\n",
       "    <tr>\n",
       "      <th>0</th>\n",
       "      <td>36</td>\n",
       "      <td>10.65</td>\n",
       "      <td>B</td>\n",
       "      <td>10</td>\n",
       "      <td>RENT</td>\n",
       "      <td>Verified</td>\n",
       "      <td>Fully Paid</td>\n",
       "      <td>credit_card</td>\n",
       "      <td>AZ</td>\n",
       "      <td>83.7</td>\n",
       "      <td>N</td>\n",
       "    </tr>\n",
       "    <tr>\n",
       "      <th>1</th>\n",
       "      <td>60</td>\n",
       "      <td>15.27</td>\n",
       "      <td>C</td>\n",
       "      <td>0</td>\n",
       "      <td>RENT</td>\n",
       "      <td>Source Verified</td>\n",
       "      <td>Charged Off</td>\n",
       "      <td>car</td>\n",
       "      <td>GA</td>\n",
       "      <td>9.4</td>\n",
       "      <td>N</td>\n",
       "    </tr>\n",
       "    <tr>\n",
       "      <th>2</th>\n",
       "      <td>36</td>\n",
       "      <td>15.96</td>\n",
       "      <td>C</td>\n",
       "      <td>10</td>\n",
       "      <td>RENT</td>\n",
       "      <td>Not Verified</td>\n",
       "      <td>Fully Paid</td>\n",
       "      <td>small_business</td>\n",
       "      <td>IL</td>\n",
       "      <td>98.5</td>\n",
       "      <td>N</td>\n",
       "    </tr>\n",
       "    <tr>\n",
       "      <th>3</th>\n",
       "      <td>36</td>\n",
       "      <td>13.49</td>\n",
       "      <td>C</td>\n",
       "      <td>10</td>\n",
       "      <td>RENT</td>\n",
       "      <td>Source Verified</td>\n",
       "      <td>Fully Paid</td>\n",
       "      <td>other</td>\n",
       "      <td>CA</td>\n",
       "      <td>21.0</td>\n",
       "      <td>N</td>\n",
       "    </tr>\n",
       "    <tr>\n",
       "      <th>4</th>\n",
       "      <td>60</td>\n",
       "      <td>12.69</td>\n",
       "      <td>B</td>\n",
       "      <td>1</td>\n",
       "      <td>RENT</td>\n",
       "      <td>Source Verified</td>\n",
       "      <td>Fully Paid</td>\n",
       "      <td>other</td>\n",
       "      <td>OR</td>\n",
       "      <td>53.9</td>\n",
       "      <td>N</td>\n",
       "    </tr>\n",
       "  </tbody>\n",
       "</table>\n",
       "</div>"
      ],
      "text/plain": [
       "   term  int_rate grade  emp_length home_ownership verification_status  \\\n",
       "0    36     10.65     B          10           RENT            Verified   \n",
       "1    60     15.27     C           0           RENT     Source Verified   \n",
       "2    36     15.96     C          10           RENT        Not Verified   \n",
       "3    36     13.49     C          10           RENT     Source Verified   \n",
       "4    60     12.69     B           1           RENT     Source Verified   \n",
       "\n",
       "   loan_status         purpose addr_state  revol_util debt_settlement_flag  \n",
       "0   Fully Paid     credit_card         AZ        83.7                    N  \n",
       "1  Charged Off             car         GA         9.4                    N  \n",
       "2   Fully Paid  small_business         IL        98.5                    N  \n",
       "3   Fully Paid           other         CA        21.0                    N  \n",
       "4   Fully Paid           other         OR        53.9                    N  "
      ]
     },
     "execution_count": 57,
     "metadata": {},
     "output_type": "execute_result"
    }
   ],
   "source": [
    "preprocessed_categorical_data_df.head()"
   ]
  },
  {
   "cell_type": "code",
   "execution_count": 58,
   "metadata": {},
   "outputs": [
    {
     "data": {
      "text/plain": [
       "CA    187415\n",
       "NY    109594\n",
       "TX    108175\n",
       "FL     92668\n",
       "IL     53192\n",
       "NJ     49149\n",
       "PA     45895\n",
       "OH     44631\n",
       "GA     43547\n",
       "VA     37944\n",
       "NC     37003\n",
       "MI     34590\n",
       "MD     31104\n",
       "AZ     30874\n",
       "MA     30424\n",
       "WA     27736\n",
       "CO     27605\n",
       "MN     23656\n",
       "IN     21449\n",
       "MO     21159\n",
       "CT     20326\n",
       "TN     20160\n",
       "NV     18609\n",
       "WI     17366\n",
       "AL     16533\n",
       "SC     16132\n",
       "LA     15573\n",
       "OR     15563\n",
       "KY     12775\n",
       "OK     12147\n",
       "KS     11494\n",
       "AR      9975\n",
       "UT      9061\n",
       "NM      7227\n",
       "MS      6686\n",
       "HI      6589\n",
       "NH      6391\n",
       "RI      5775\n",
       "WV      5156\n",
       "DE      3763\n",
       "MT      3731\n",
       "DC      3391\n",
       "NE      3292\n",
       "AK      3211\n",
       "WY      2963\n",
       "VT      2739\n",
       "SD      2694\n",
       "ME      1934\n",
       "ND      1530\n",
       "ID      1237\n",
       "IA        14\n",
       "Name: addr_state, dtype: int64"
      ]
     },
     "execution_count": 58,
     "metadata": {},
     "output_type": "execute_result"
    }
   ],
   "source": [
    "preprocessed_categorical_data_df.addr_state.value_counts()"
   ]
  },
  {
   "cell_type": "markdown",
   "metadata": {},
   "source": [
    "There are almost 50 different states. so it is going to increase the dimensions of the datasets when converted to numeric value. So to decrease the complexity we can drop addr_state from the dataset."
   ]
  },
  {
   "cell_type": "code",
   "execution_count": 59,
   "metadata": {
    "collapsed": true
   },
   "outputs": [],
   "source": [
    "preprocessed_categorical_data_df = preprocessed_categorical_data_df.drop(['addr_state'],axis=1)"
   ]
  },
  {
   "cell_type": "code",
   "execution_count": 60,
   "metadata": {},
   "outputs": [
    {
     "data": {
      "text/html": [
       "<div>\n",
       "<style>\n",
       "    .dataframe thead tr:only-child th {\n",
       "        text-align: right;\n",
       "    }\n",
       "\n",
       "    .dataframe thead th {\n",
       "        text-align: left;\n",
       "    }\n",
       "\n",
       "    .dataframe tbody tr th {\n",
       "        vertical-align: top;\n",
       "    }\n",
       "</style>\n",
       "<table border=\"1\" class=\"dataframe\">\n",
       "  <thead>\n",
       "    <tr style=\"text-align: right;\">\n",
       "      <th></th>\n",
       "      <th>term</th>\n",
       "      <th>int_rate</th>\n",
       "      <th>grade</th>\n",
       "      <th>emp_length</th>\n",
       "      <th>home_ownership</th>\n",
       "      <th>verification_status</th>\n",
       "      <th>loan_status</th>\n",
       "      <th>purpose</th>\n",
       "      <th>revol_util</th>\n",
       "      <th>debt_settlement_flag</th>\n",
       "    </tr>\n",
       "  </thead>\n",
       "  <tbody>\n",
       "    <tr>\n",
       "      <th>0</th>\n",
       "      <td>36</td>\n",
       "      <td>10.65</td>\n",
       "      <td>B</td>\n",
       "      <td>10</td>\n",
       "      <td>RENT</td>\n",
       "      <td>Verified</td>\n",
       "      <td>Fully Paid</td>\n",
       "      <td>credit_card</td>\n",
       "      <td>83.7</td>\n",
       "      <td>N</td>\n",
       "    </tr>\n",
       "    <tr>\n",
       "      <th>1</th>\n",
       "      <td>60</td>\n",
       "      <td>15.27</td>\n",
       "      <td>C</td>\n",
       "      <td>0</td>\n",
       "      <td>RENT</td>\n",
       "      <td>Source Verified</td>\n",
       "      <td>Charged Off</td>\n",
       "      <td>car</td>\n",
       "      <td>9.4</td>\n",
       "      <td>N</td>\n",
       "    </tr>\n",
       "    <tr>\n",
       "      <th>2</th>\n",
       "      <td>36</td>\n",
       "      <td>15.96</td>\n",
       "      <td>C</td>\n",
       "      <td>10</td>\n",
       "      <td>RENT</td>\n",
       "      <td>Not Verified</td>\n",
       "      <td>Fully Paid</td>\n",
       "      <td>small_business</td>\n",
       "      <td>98.5</td>\n",
       "      <td>N</td>\n",
       "    </tr>\n",
       "    <tr>\n",
       "      <th>3</th>\n",
       "      <td>36</td>\n",
       "      <td>13.49</td>\n",
       "      <td>C</td>\n",
       "      <td>10</td>\n",
       "      <td>RENT</td>\n",
       "      <td>Source Verified</td>\n",
       "      <td>Fully Paid</td>\n",
       "      <td>other</td>\n",
       "      <td>21.0</td>\n",
       "      <td>N</td>\n",
       "    </tr>\n",
       "    <tr>\n",
       "      <th>4</th>\n",
       "      <td>60</td>\n",
       "      <td>12.69</td>\n",
       "      <td>B</td>\n",
       "      <td>1</td>\n",
       "      <td>RENT</td>\n",
       "      <td>Source Verified</td>\n",
       "      <td>Fully Paid</td>\n",
       "      <td>other</td>\n",
       "      <td>53.9</td>\n",
       "      <td>N</td>\n",
       "    </tr>\n",
       "  </tbody>\n",
       "</table>\n",
       "</div>"
      ],
      "text/plain": [
       "   term  int_rate grade  emp_length home_ownership verification_status  \\\n",
       "0    36     10.65     B          10           RENT            Verified   \n",
       "1    60     15.27     C           0           RENT     Source Verified   \n",
       "2    36     15.96     C          10           RENT        Not Verified   \n",
       "3    36     13.49     C          10           RENT     Source Verified   \n",
       "4    60     12.69     B           1           RENT     Source Verified   \n",
       "\n",
       "   loan_status         purpose  revol_util debt_settlement_flag  \n",
       "0   Fully Paid     credit_card        83.7                    N  \n",
       "1  Charged Off             car         9.4                    N  \n",
       "2   Fully Paid  small_business        98.5                    N  \n",
       "3   Fully Paid           other        21.0                    N  \n",
       "4   Fully Paid           other        53.9                    N  "
      ]
     },
     "execution_count": 60,
     "metadata": {},
     "output_type": "execute_result"
    }
   ],
   "source": [
    "preprocessed_categorical_data_df.head()"
   ]
  },
  {
   "cell_type": "code",
   "execution_count": 61,
   "metadata": {},
   "outputs": [
    {
     "data": {
      "text/plain": [
       "42    Current status of the loan\n",
       "Name: description, dtype: object"
      ]
     },
     "execution_count": 61,
     "metadata": {},
     "output_type": "execute_result"
    }
   ],
   "source": [
    "data_dict[data_dict['name'] == 'loan_status'].description"
   ]
  },
  {
   "cell_type": "code",
   "execution_count": 62,
   "metadata": {},
   "outputs": [
    {
     "data": {
      "text/plain": [
       "Fully Paid                                             639250\n",
       "Current                                                479981\n",
       "Charged Off                                            170927\n",
       "Late (31-120 days)                                      16750\n",
       "In Grace Period                                          8304\n",
       "Late (16-30 days)                                        3773\n",
       "Does not meet the credit policy. Status:Fully Paid       1988\n",
       "Does not meet the credit policy. Status:Charged Off       761\n",
       "Default                                                   113\n",
       "Name: loan_status, dtype: int64"
      ]
     },
     "execution_count": 62,
     "metadata": {},
     "output_type": "execute_result"
    }
   ],
   "source": [
    "preprocessed_categorical_data_df['loan_status'].value_counts()"
   ]
  },
  {
   "cell_type": "code",
   "execution_count": 63,
   "metadata": {
    "collapsed": true
   },
   "outputs": [],
   "source": [
    "from sklearn.preprocessing import LabelEncoder\n",
    "le = LabelEncoder()\n",
    "preprocessed_categorical_data_df['loan_status'] = le.fit_transform(preprocessed_categorical_data_df['loan_status'])"
   ]
  },
  {
   "cell_type": "code",
   "execution_count": 64,
   "metadata": {
    "collapsed": true
   },
   "outputs": [],
   "source": [
    "preprocessed_categorical_data_df = pd.get_dummies(preprocessed_categorical_data_df,drop_first=True)"
   ]
  },
  {
   "cell_type": "code",
   "execution_count": 65,
   "metadata": {},
   "outputs": [
    {
     "data": {
      "text/html": [
       "<div>\n",
       "<style>\n",
       "    .dataframe thead tr:only-child th {\n",
       "        text-align: right;\n",
       "    }\n",
       "\n",
       "    .dataframe thead th {\n",
       "        text-align: left;\n",
       "    }\n",
       "\n",
       "    .dataframe tbody tr th {\n",
       "        vertical-align: top;\n",
       "    }\n",
       "</style>\n",
       "<table border=\"1\" class=\"dataframe\">\n",
       "  <thead>\n",
       "    <tr style=\"text-align: right;\">\n",
       "      <th></th>\n",
       "      <th>term</th>\n",
       "      <th>int_rate</th>\n",
       "      <th>emp_length</th>\n",
       "      <th>loan_status</th>\n",
       "      <th>revol_util</th>\n",
       "      <th>grade_B</th>\n",
       "      <th>grade_C</th>\n",
       "      <th>grade_D</th>\n",
       "      <th>grade_E</th>\n",
       "      <th>grade_F</th>\n",
       "      <th>...</th>\n",
       "      <th>purpose_house</th>\n",
       "      <th>purpose_major_purchase</th>\n",
       "      <th>purpose_medical</th>\n",
       "      <th>purpose_moving</th>\n",
       "      <th>purpose_other</th>\n",
       "      <th>purpose_renewable_energy</th>\n",
       "      <th>purpose_small_business</th>\n",
       "      <th>purpose_vacation</th>\n",
       "      <th>purpose_wedding</th>\n",
       "      <th>debt_settlement_flag_Y</th>\n",
       "    </tr>\n",
       "  </thead>\n",
       "  <tbody>\n",
       "    <tr>\n",
       "      <th>0</th>\n",
       "      <td>36</td>\n",
       "      <td>10.65</td>\n",
       "      <td>10</td>\n",
       "      <td>5</td>\n",
       "      <td>83.7</td>\n",
       "      <td>1</td>\n",
       "      <td>0</td>\n",
       "      <td>0</td>\n",
       "      <td>0</td>\n",
       "      <td>0</td>\n",
       "      <td>...</td>\n",
       "      <td>0</td>\n",
       "      <td>0</td>\n",
       "      <td>0</td>\n",
       "      <td>0</td>\n",
       "      <td>0</td>\n",
       "      <td>0</td>\n",
       "      <td>0</td>\n",
       "      <td>0</td>\n",
       "      <td>0</td>\n",
       "      <td>0</td>\n",
       "    </tr>\n",
       "    <tr>\n",
       "      <th>1</th>\n",
       "      <td>60</td>\n",
       "      <td>15.27</td>\n",
       "      <td>0</td>\n",
       "      <td>0</td>\n",
       "      <td>9.4</td>\n",
       "      <td>0</td>\n",
       "      <td>1</td>\n",
       "      <td>0</td>\n",
       "      <td>0</td>\n",
       "      <td>0</td>\n",
       "      <td>...</td>\n",
       "      <td>0</td>\n",
       "      <td>0</td>\n",
       "      <td>0</td>\n",
       "      <td>0</td>\n",
       "      <td>0</td>\n",
       "      <td>0</td>\n",
       "      <td>0</td>\n",
       "      <td>0</td>\n",
       "      <td>0</td>\n",
       "      <td>0</td>\n",
       "    </tr>\n",
       "    <tr>\n",
       "      <th>2</th>\n",
       "      <td>36</td>\n",
       "      <td>15.96</td>\n",
       "      <td>10</td>\n",
       "      <td>5</td>\n",
       "      <td>98.5</td>\n",
       "      <td>0</td>\n",
       "      <td>1</td>\n",
       "      <td>0</td>\n",
       "      <td>0</td>\n",
       "      <td>0</td>\n",
       "      <td>...</td>\n",
       "      <td>0</td>\n",
       "      <td>0</td>\n",
       "      <td>0</td>\n",
       "      <td>0</td>\n",
       "      <td>0</td>\n",
       "      <td>0</td>\n",
       "      <td>1</td>\n",
       "      <td>0</td>\n",
       "      <td>0</td>\n",
       "      <td>0</td>\n",
       "    </tr>\n",
       "    <tr>\n",
       "      <th>3</th>\n",
       "      <td>36</td>\n",
       "      <td>13.49</td>\n",
       "      <td>10</td>\n",
       "      <td>5</td>\n",
       "      <td>21.0</td>\n",
       "      <td>0</td>\n",
       "      <td>1</td>\n",
       "      <td>0</td>\n",
       "      <td>0</td>\n",
       "      <td>0</td>\n",
       "      <td>...</td>\n",
       "      <td>0</td>\n",
       "      <td>0</td>\n",
       "      <td>0</td>\n",
       "      <td>0</td>\n",
       "      <td>1</td>\n",
       "      <td>0</td>\n",
       "      <td>0</td>\n",
       "      <td>0</td>\n",
       "      <td>0</td>\n",
       "      <td>0</td>\n",
       "    </tr>\n",
       "    <tr>\n",
       "      <th>4</th>\n",
       "      <td>60</td>\n",
       "      <td>12.69</td>\n",
       "      <td>1</td>\n",
       "      <td>5</td>\n",
       "      <td>53.9</td>\n",
       "      <td>1</td>\n",
       "      <td>0</td>\n",
       "      <td>0</td>\n",
       "      <td>0</td>\n",
       "      <td>0</td>\n",
       "      <td>...</td>\n",
       "      <td>0</td>\n",
       "      <td>0</td>\n",
       "      <td>0</td>\n",
       "      <td>0</td>\n",
       "      <td>1</td>\n",
       "      <td>0</td>\n",
       "      <td>0</td>\n",
       "      <td>0</td>\n",
       "      <td>0</td>\n",
       "      <td>0</td>\n",
       "    </tr>\n",
       "  </tbody>\n",
       "</table>\n",
       "<p>5 rows × 32 columns</p>\n",
       "</div>"
      ],
      "text/plain": [
       "   term  int_rate  emp_length  loan_status  revol_util  grade_B  grade_C  \\\n",
       "0    36     10.65          10            5        83.7        1        0   \n",
       "1    60     15.27           0            0         9.4        0        1   \n",
       "2    36     15.96          10            5        98.5        0        1   \n",
       "3    36     13.49          10            5        21.0        0        1   \n",
       "4    60     12.69           1            5        53.9        1        0   \n",
       "\n",
       "   grade_D  grade_E  grade_F           ...            purpose_house  \\\n",
       "0        0        0        0           ...                        0   \n",
       "1        0        0        0           ...                        0   \n",
       "2        0        0        0           ...                        0   \n",
       "3        0        0        0           ...                        0   \n",
       "4        0        0        0           ...                        0   \n",
       "\n",
       "   purpose_major_purchase  purpose_medical  purpose_moving  purpose_other  \\\n",
       "0                       0                0               0              0   \n",
       "1                       0                0               0              0   \n",
       "2                       0                0               0              0   \n",
       "3                       0                0               0              1   \n",
       "4                       0                0               0              1   \n",
       "\n",
       "   purpose_renewable_energy  purpose_small_business  purpose_vacation  \\\n",
       "0                         0                       0                 0   \n",
       "1                         0                       0                 0   \n",
       "2                         0                       1                 0   \n",
       "3                         0                       0                 0   \n",
       "4                         0                       0                 0   \n",
       "\n",
       "   purpose_wedding  debt_settlement_flag_Y  \n",
       "0                0                       0  \n",
       "1                0                       0  \n",
       "2                0                       0  \n",
       "3                0                       0  \n",
       "4                0                       0  \n",
       "\n",
       "[5 rows x 32 columns]"
      ]
     },
     "execution_count": 65,
     "metadata": {},
     "output_type": "execute_result"
    }
   ],
   "source": [
    "preprocessed_categorical_data_df.head()"
   ]
  },
  {
   "cell_type": "markdown",
   "metadata": {
    "collapsed": true
   },
   "source": [
    "<h4>Now lets explore the numeric values</h4>"
   ]
  },
  {
   "cell_type": "code",
   "execution_count": 67,
   "metadata": {},
   "outputs": [
    {
     "data": {
      "text/html": [
       "<div>\n",
       "<style>\n",
       "    .dataframe thead tr:only-child th {\n",
       "        text-align: right;\n",
       "    }\n",
       "\n",
       "    .dataframe thead th {\n",
       "        text-align: left;\n",
       "    }\n",
       "\n",
       "    .dataframe tbody tr th {\n",
       "        vertical-align: top;\n",
       "    }\n",
       "</style>\n",
       "<table border=\"1\" class=\"dataframe\">\n",
       "  <thead>\n",
       "    <tr style=\"text-align: right;\">\n",
       "      <th></th>\n",
       "      <th>loan_amnt</th>\n",
       "      <th>funded_amnt</th>\n",
       "      <th>funded_amnt_inv</th>\n",
       "      <th>installment</th>\n",
       "      <th>annual_inc</th>\n",
       "      <th>dti</th>\n",
       "      <th>delinq_2yrs</th>\n",
       "      <th>fico_range_low</th>\n",
       "      <th>fico_range_high</th>\n",
       "      <th>inq_last_6mths</th>\n",
       "      <th>...</th>\n",
       "      <th>num_tl_90g_dpd_24m</th>\n",
       "      <th>num_tl_op_past_12m</th>\n",
       "      <th>pct_tl_nvr_dlq</th>\n",
       "      <th>percent_bc_gt_75</th>\n",
       "      <th>pub_rec_bankruptcies</th>\n",
       "      <th>tax_liens</th>\n",
       "      <th>tot_hi_cred_lim</th>\n",
       "      <th>total_bal_ex_mort</th>\n",
       "      <th>total_bc_limit</th>\n",
       "      <th>total_il_high_credit_limit</th>\n",
       "    </tr>\n",
       "  </thead>\n",
       "  <tbody>\n",
       "    <tr>\n",
       "      <th>0</th>\n",
       "      <td>5000.0</td>\n",
       "      <td>5000.0</td>\n",
       "      <td>4975.0</td>\n",
       "      <td>162.87</td>\n",
       "      <td>24000.0</td>\n",
       "      <td>27.65</td>\n",
       "      <td>0.0</td>\n",
       "      <td>735.0</td>\n",
       "      <td>739.0</td>\n",
       "      <td>1.0</td>\n",
       "      <td>...</td>\n",
       "      <td>2297.071725</td>\n",
       "      <td>2297.071725</td>\n",
       "      <td>2297.071725</td>\n",
       "      <td>2297.071725</td>\n",
       "      <td>0.0</td>\n",
       "      <td>0.0</td>\n",
       "      <td>2297.071725</td>\n",
       "      <td>2297.071725</td>\n",
       "      <td>2297.071725</td>\n",
       "      <td>2297.071725</td>\n",
       "    </tr>\n",
       "    <tr>\n",
       "      <th>1</th>\n",
       "      <td>2500.0</td>\n",
       "      <td>2500.0</td>\n",
       "      <td>2500.0</td>\n",
       "      <td>59.83</td>\n",
       "      <td>30000.0</td>\n",
       "      <td>1.00</td>\n",
       "      <td>0.0</td>\n",
       "      <td>740.0</td>\n",
       "      <td>744.0</td>\n",
       "      <td>5.0</td>\n",
       "      <td>...</td>\n",
       "      <td>1387.724688</td>\n",
       "      <td>1387.724688</td>\n",
       "      <td>1387.724688</td>\n",
       "      <td>1387.724688</td>\n",
       "      <td>0.0</td>\n",
       "      <td>0.0</td>\n",
       "      <td>1387.724688</td>\n",
       "      <td>1387.724688</td>\n",
       "      <td>1387.724688</td>\n",
       "      <td>1387.724688</td>\n",
       "    </tr>\n",
       "    <tr>\n",
       "      <th>2</th>\n",
       "      <td>2400.0</td>\n",
       "      <td>2400.0</td>\n",
       "      <td>2400.0</td>\n",
       "      <td>84.33</td>\n",
       "      <td>12252.0</td>\n",
       "      <td>8.72</td>\n",
       "      <td>0.0</td>\n",
       "      <td>735.0</td>\n",
       "      <td>739.0</td>\n",
       "      <td>2.0</td>\n",
       "      <td>...</td>\n",
       "      <td>1097.811464</td>\n",
       "      <td>1097.811464</td>\n",
       "      <td>1097.811464</td>\n",
       "      <td>1097.811464</td>\n",
       "      <td>0.0</td>\n",
       "      <td>0.0</td>\n",
       "      <td>1097.811464</td>\n",
       "      <td>1097.811464</td>\n",
       "      <td>1097.811464</td>\n",
       "      <td>1097.811464</td>\n",
       "    </tr>\n",
       "    <tr>\n",
       "      <th>3</th>\n",
       "      <td>10000.0</td>\n",
       "      <td>10000.0</td>\n",
       "      <td>10000.0</td>\n",
       "      <td>339.31</td>\n",
       "      <td>49200.0</td>\n",
       "      <td>20.00</td>\n",
       "      <td>0.0</td>\n",
       "      <td>690.0</td>\n",
       "      <td>694.0</td>\n",
       "      <td>1.0</td>\n",
       "      <td>...</td>\n",
       "      <td>3901.451875</td>\n",
       "      <td>3901.451875</td>\n",
       "      <td>3901.451875</td>\n",
       "      <td>3901.451875</td>\n",
       "      <td>0.0</td>\n",
       "      <td>0.0</td>\n",
       "      <td>3901.451875</td>\n",
       "      <td>3901.451875</td>\n",
       "      <td>3901.451875</td>\n",
       "      <td>3901.451875</td>\n",
       "    </tr>\n",
       "    <tr>\n",
       "      <th>4</th>\n",
       "      <td>3000.0</td>\n",
       "      <td>3000.0</td>\n",
       "      <td>3000.0</td>\n",
       "      <td>67.79</td>\n",
       "      <td>80000.0</td>\n",
       "      <td>17.94</td>\n",
       "      <td>0.0</td>\n",
       "      <td>695.0</td>\n",
       "      <td>699.0</td>\n",
       "      <td>0.0</td>\n",
       "      <td>...</td>\n",
       "      <td>4123.992443</td>\n",
       "      <td>4123.992443</td>\n",
       "      <td>4123.992443</td>\n",
       "      <td>4123.992443</td>\n",
       "      <td>0.0</td>\n",
       "      <td>0.0</td>\n",
       "      <td>4123.992443</td>\n",
       "      <td>4123.992443</td>\n",
       "      <td>4123.992443</td>\n",
       "      <td>4123.992443</td>\n",
       "    </tr>\n",
       "  </tbody>\n",
       "</table>\n",
       "<p>5 rows × 66 columns</p>\n",
       "</div>"
      ],
      "text/plain": [
       "   loan_amnt  funded_amnt  funded_amnt_inv  installment  annual_inc    dti  \\\n",
       "0     5000.0       5000.0           4975.0       162.87     24000.0  27.65   \n",
       "1     2500.0       2500.0           2500.0        59.83     30000.0   1.00   \n",
       "2     2400.0       2400.0           2400.0        84.33     12252.0   8.72   \n",
       "3    10000.0      10000.0          10000.0       339.31     49200.0  20.00   \n",
       "4     3000.0       3000.0           3000.0        67.79     80000.0  17.94   \n",
       "\n",
       "   delinq_2yrs  fico_range_low  fico_range_high  inq_last_6mths  \\\n",
       "0          0.0           735.0            739.0             1.0   \n",
       "1          0.0           740.0            744.0             5.0   \n",
       "2          0.0           735.0            739.0             2.0   \n",
       "3          0.0           690.0            694.0             1.0   \n",
       "4          0.0           695.0            699.0             0.0   \n",
       "\n",
       "              ...              num_tl_90g_dpd_24m  num_tl_op_past_12m  \\\n",
       "0             ...                     2297.071725         2297.071725   \n",
       "1             ...                     1387.724688         1387.724688   \n",
       "2             ...                     1097.811464         1097.811464   \n",
       "3             ...                     3901.451875         3901.451875   \n",
       "4             ...                     4123.992443         4123.992443   \n",
       "\n",
       "   pct_tl_nvr_dlq  percent_bc_gt_75  pub_rec_bankruptcies  tax_liens  \\\n",
       "0     2297.071725       2297.071725                   0.0        0.0   \n",
       "1     1387.724688       1387.724688                   0.0        0.0   \n",
       "2     1097.811464       1097.811464                   0.0        0.0   \n",
       "3     3901.451875       3901.451875                   0.0        0.0   \n",
       "4     4123.992443       4123.992443                   0.0        0.0   \n",
       "\n",
       "   tot_hi_cred_lim  total_bal_ex_mort  total_bc_limit  \\\n",
       "0      2297.071725        2297.071725     2297.071725   \n",
       "1      1387.724688        1387.724688     1387.724688   \n",
       "2      1097.811464        1097.811464     1097.811464   \n",
       "3      3901.451875        3901.451875     3901.451875   \n",
       "4      4123.992443        4123.992443     4123.992443   \n",
       "\n",
       "   total_il_high_credit_limit  \n",
       "0                 2297.071725  \n",
       "1                 1387.724688  \n",
       "2                 1097.811464  \n",
       "3                 3901.451875  \n",
       "4                 4123.992443  \n",
       "\n",
       "[5 rows x 66 columns]"
      ]
     },
     "execution_count": 67,
     "metadata": {},
     "output_type": "execute_result"
    }
   ],
   "source": [
    "preprocessed_numeric_data_df.head()"
   ]
  },
  {
   "cell_type": "code",
   "execution_count": 68,
   "metadata": {},
   "outputs": [
    {
     "name": "stdout",
     "output_type": "stream",
     "text": [
      "<class 'pandas.core.frame.DataFrame'>\n",
      "Int64Index: 1321847 entries, 0 to 103545\n",
      "Data columns (total 66 columns):\n",
      "loan_amnt                     1321847 non-null float64\n",
      "funded_amnt                   1321847 non-null float64\n",
      "funded_amnt_inv               1321847 non-null float64\n",
      "installment                   1321847 non-null float64\n",
      "annual_inc                    1321847 non-null float64\n",
      "dti                           1321847 non-null float64\n",
      "delinq_2yrs                   1321847 non-null float64\n",
      "fico_range_low                1321847 non-null float64\n",
      "fico_range_high               1321847 non-null float64\n",
      "inq_last_6mths                1321847 non-null float64\n",
      "open_acc                      1321847 non-null float64\n",
      "pub_rec                       1321847 non-null float64\n",
      "revol_bal                     1321847 non-null float64\n",
      "total_acc                     1321847 non-null float64\n",
      "out_prncp                     1321847 non-null float64\n",
      "out_prncp_inv                 1321847 non-null float64\n",
      "total_pymnt                   1321847 non-null float64\n",
      "total_pymnt_inv               1321847 non-null float64\n",
      "total_rec_prncp               1321847 non-null float64\n",
      "total_rec_int                 1321847 non-null float64\n",
      "total_rec_late_fee            1321847 non-null float64\n",
      "recoveries                    1321847 non-null float64\n",
      "collection_recovery_fee       1321847 non-null float64\n",
      "last_pymnt_amnt               1321847 non-null float64\n",
      "last_fico_range_high          1321847 non-null float64\n",
      "last_fico_range_low           1321847 non-null float64\n",
      "collections_12_mths_ex_med    1321847 non-null float64\n",
      "acc_now_delinq                1321847 non-null float64\n",
      "tot_coll_amt                  1321847 non-null float64\n",
      "tot_cur_bal                   1321847 non-null float64\n",
      "total_rev_hi_lim              1321847 non-null float64\n",
      "acc_open_past_24mths          1321847 non-null float64\n",
      "avg_cur_bal                   1321847 non-null float64\n",
      "bc_open_to_buy                1321847 non-null float64\n",
      "bc_util                       1321847 non-null float64\n",
      "chargeoff_within_12_mths      1321847 non-null float64\n",
      "delinq_amnt                   1321847 non-null float64\n",
      "mo_sin_old_il_acct            1321847 non-null float64\n",
      "mo_sin_old_rev_tl_op          1321847 non-null float64\n",
      "mo_sin_rcnt_rev_tl_op         1321847 non-null float64\n",
      "mo_sin_rcnt_tl                1321847 non-null float64\n",
      "mort_acc                      1321847 non-null float64\n",
      "mths_since_recent_bc          1321847 non-null float64\n",
      "mths_since_recent_inq         1321847 non-null float64\n",
      "num_accts_ever_120_pd         1321847 non-null float64\n",
      "num_actv_bc_tl                1321847 non-null float64\n",
      "num_actv_rev_tl               1321847 non-null float64\n",
      "num_bc_sats                   1321847 non-null float64\n",
      "num_bc_tl                     1321847 non-null float64\n",
      "num_il_tl                     1321847 non-null float64\n",
      "num_op_rev_tl                 1321847 non-null float64\n",
      "num_rev_accts                 1321847 non-null float64\n",
      "num_rev_tl_bal_gt_0           1321847 non-null float64\n",
      "num_sats                      1321847 non-null float64\n",
      "num_tl_120dpd_2m              1321847 non-null float64\n",
      "num_tl_30dpd                  1321847 non-null float64\n",
      "num_tl_90g_dpd_24m            1321847 non-null float64\n",
      "num_tl_op_past_12m            1321847 non-null float64\n",
      "pct_tl_nvr_dlq                1321847 non-null float64\n",
      "percent_bc_gt_75              1321847 non-null float64\n",
      "pub_rec_bankruptcies          1321847 non-null float64\n",
      "tax_liens                     1321847 non-null float64\n",
      "tot_hi_cred_lim               1321847 non-null float64\n",
      "total_bal_ex_mort             1321847 non-null float64\n",
      "total_bc_limit                1321847 non-null float64\n",
      "total_il_high_credit_limit    1321847 non-null float64\n",
      "dtypes: float64(66)\n",
      "memory usage: 675.7 MB\n"
     ]
    }
   ],
   "source": [
    "preprocessed_numeric_data_df.info()"
   ]
  },
  {
   "cell_type": "markdown",
   "metadata": {},
   "source": [
    "Drop the featueres which are not useful for the analysis as they are obtained after the loan is issued.\n",
    "\n",
    "1. funded_amnt\n",
    "2. funded_amnt_inv\n",
    "3. out_prncp - Remaining outstanding principal for total amount funded\n",
    "4. out_prncp_inv - Remaining outstanding principal for portion of total amount funded by investors\n",
    "5. total_pymnt\n",
    "6. total_pymnt_inv\n",
    "7. total_rec_prncp - Principal received to date\n",
    "8. total_rec_int - Interest received to date\n",
    "9. total_rec_late_fee - Late fees received to date\n",
    "10. last_pymnt_amnt"
   ]
  },
  {
   "cell_type": "code",
   "execution_count": 69,
   "metadata": {
    "collapsed": true
   },
   "outputs": [],
   "source": [
    "preprocessed_numeric_data_df = preprocessed_numeric_data_df.drop(['funded_amnt','funded_amnt_inv','out_prncp','out_prncp_inv','total_pymnt','total_pymnt_inv','total_rec_prncp','total_rec_int','total_rec_late_fee','last_pymnt_amnt'],axis=1)"
   ]
  },
  {
   "cell_type": "code",
   "execution_count": 70,
   "metadata": {
    "collapsed": true
   },
   "outputs": [],
   "source": [
    "preprocessed_numeric_data_df = preprocessed_numeric_data_df.drop(['last_fico_range_high','last_fico_range_low'],axis=1)"
   ]
  },
  {
   "cell_type": "code",
   "execution_count": 71,
   "metadata": {
    "collapsed": true
   },
   "outputs": [],
   "source": [
    "filtered_numeric_loans_df['fico_average'] = (filtered_numeric_loans_df['fico_range_high'] + filtered_numeric_loans_df['fico_range_low']) / 2"
   ]
  },
  {
   "cell_type": "code",
   "execution_count": 72,
   "metadata": {
    "collapsed": true
   },
   "outputs": [],
   "source": [
    "preprocessed_numeric_data_df = preprocessed_numeric_data_df.drop(['fico_range_high','fico_range_low'],axis=1)"
   ]
  },
  {
   "cell_type": "code",
   "execution_count": 73,
   "metadata": {},
   "outputs": [
    {
     "name": "stdout",
     "output_type": "stream",
     "text": [
      "<class 'pandas.core.frame.DataFrame'>\n",
      "Int64Index: 1321847 entries, 0 to 103545\n",
      "Data columns (total 52 columns):\n",
      "loan_amnt                     1321847 non-null float64\n",
      "installment                   1321847 non-null float64\n",
      "annual_inc                    1321847 non-null float64\n",
      "dti                           1321847 non-null float64\n",
      "delinq_2yrs                   1321847 non-null float64\n",
      "inq_last_6mths                1321847 non-null float64\n",
      "open_acc                      1321847 non-null float64\n",
      "pub_rec                       1321847 non-null float64\n",
      "revol_bal                     1321847 non-null float64\n",
      "total_acc                     1321847 non-null float64\n",
      "recoveries                    1321847 non-null float64\n",
      "collection_recovery_fee       1321847 non-null float64\n",
      "collections_12_mths_ex_med    1321847 non-null float64\n",
      "acc_now_delinq                1321847 non-null float64\n",
      "tot_coll_amt                  1321847 non-null float64\n",
      "tot_cur_bal                   1321847 non-null float64\n",
      "total_rev_hi_lim              1321847 non-null float64\n",
      "acc_open_past_24mths          1321847 non-null float64\n",
      "avg_cur_bal                   1321847 non-null float64\n",
      "bc_open_to_buy                1321847 non-null float64\n",
      "bc_util                       1321847 non-null float64\n",
      "chargeoff_within_12_mths      1321847 non-null float64\n",
      "delinq_amnt                   1321847 non-null float64\n",
      "mo_sin_old_il_acct            1321847 non-null float64\n",
      "mo_sin_old_rev_tl_op          1321847 non-null float64\n",
      "mo_sin_rcnt_rev_tl_op         1321847 non-null float64\n",
      "mo_sin_rcnt_tl                1321847 non-null float64\n",
      "mort_acc                      1321847 non-null float64\n",
      "mths_since_recent_bc          1321847 non-null float64\n",
      "mths_since_recent_inq         1321847 non-null float64\n",
      "num_accts_ever_120_pd         1321847 non-null float64\n",
      "num_actv_bc_tl                1321847 non-null float64\n",
      "num_actv_rev_tl               1321847 non-null float64\n",
      "num_bc_sats                   1321847 non-null float64\n",
      "num_bc_tl                     1321847 non-null float64\n",
      "num_il_tl                     1321847 non-null float64\n",
      "num_op_rev_tl                 1321847 non-null float64\n",
      "num_rev_accts                 1321847 non-null float64\n",
      "num_rev_tl_bal_gt_0           1321847 non-null float64\n",
      "num_sats                      1321847 non-null float64\n",
      "num_tl_120dpd_2m              1321847 non-null float64\n",
      "num_tl_30dpd                  1321847 non-null float64\n",
      "num_tl_90g_dpd_24m            1321847 non-null float64\n",
      "num_tl_op_past_12m            1321847 non-null float64\n",
      "pct_tl_nvr_dlq                1321847 non-null float64\n",
      "percent_bc_gt_75              1321847 non-null float64\n",
      "pub_rec_bankruptcies          1321847 non-null float64\n",
      "tax_liens                     1321847 non-null float64\n",
      "tot_hi_cred_lim               1321847 non-null float64\n",
      "total_bal_ex_mort             1321847 non-null float64\n",
      "total_bc_limit                1321847 non-null float64\n",
      "total_il_high_credit_limit    1321847 non-null float64\n",
      "dtypes: float64(52)\n",
      "memory usage: 534.5 MB\n"
     ]
    }
   ],
   "source": [
    "preprocessed_numeric_data_df.info()"
   ]
  },
  {
   "cell_type": "code",
   "execution_count": 74,
   "metadata": {
    "collapsed": true
   },
   "outputs": [],
   "source": [
    "final_filtered_df = pd.concat([preprocessed_numeric_data_df, preprocessed_categorical_data_df], axis=1)"
   ]
  },
  {
   "cell_type": "code",
   "execution_count": 75,
   "metadata": {},
   "outputs": [
    {
     "name": "stdout",
     "output_type": "stream",
     "text": [
      "<class 'pandas.core.frame.DataFrame'>\n",
      "Int64Index: 1321847 entries, 0 to 103545\n",
      "Data columns (total 84 columns):\n",
      "loan_amnt                              1321847 non-null float64\n",
      "installment                            1321847 non-null float64\n",
      "annual_inc                             1321847 non-null float64\n",
      "dti                                    1321847 non-null float64\n",
      "delinq_2yrs                            1321847 non-null float64\n",
      "inq_last_6mths                         1321847 non-null float64\n",
      "open_acc                               1321847 non-null float64\n",
      "pub_rec                                1321847 non-null float64\n",
      "revol_bal                              1321847 non-null float64\n",
      "total_acc                              1321847 non-null float64\n",
      "recoveries                             1321847 non-null float64\n",
      "collection_recovery_fee                1321847 non-null float64\n",
      "collections_12_mths_ex_med             1321847 non-null float64\n",
      "acc_now_delinq                         1321847 non-null float64\n",
      "tot_coll_amt                           1321847 non-null float64\n",
      "tot_cur_bal                            1321847 non-null float64\n",
      "total_rev_hi_lim                       1321847 non-null float64\n",
      "acc_open_past_24mths                   1321847 non-null float64\n",
      "avg_cur_bal                            1321847 non-null float64\n",
      "bc_open_to_buy                         1321847 non-null float64\n",
      "bc_util                                1321847 non-null float64\n",
      "chargeoff_within_12_mths               1321847 non-null float64\n",
      "delinq_amnt                            1321847 non-null float64\n",
      "mo_sin_old_il_acct                     1321847 non-null float64\n",
      "mo_sin_old_rev_tl_op                   1321847 non-null float64\n",
      "mo_sin_rcnt_rev_tl_op                  1321847 non-null float64\n",
      "mo_sin_rcnt_tl                         1321847 non-null float64\n",
      "mort_acc                               1321847 non-null float64\n",
      "mths_since_recent_bc                   1321847 non-null float64\n",
      "mths_since_recent_inq                  1321847 non-null float64\n",
      "num_accts_ever_120_pd                  1321847 non-null float64\n",
      "num_actv_bc_tl                         1321847 non-null float64\n",
      "num_actv_rev_tl                        1321847 non-null float64\n",
      "num_bc_sats                            1321847 non-null float64\n",
      "num_bc_tl                              1321847 non-null float64\n",
      "num_il_tl                              1321847 non-null float64\n",
      "num_op_rev_tl                          1321847 non-null float64\n",
      "num_rev_accts                          1321847 non-null float64\n",
      "num_rev_tl_bal_gt_0                    1321847 non-null float64\n",
      "num_sats                               1321847 non-null float64\n",
      "num_tl_120dpd_2m                       1321847 non-null float64\n",
      "num_tl_30dpd                           1321847 non-null float64\n",
      "num_tl_90g_dpd_24m                     1321847 non-null float64\n",
      "num_tl_op_past_12m                     1321847 non-null float64\n",
      "pct_tl_nvr_dlq                         1321847 non-null float64\n",
      "percent_bc_gt_75                       1321847 non-null float64\n",
      "pub_rec_bankruptcies                   1321847 non-null float64\n",
      "tax_liens                              1321847 non-null float64\n",
      "tot_hi_cred_lim                        1321847 non-null float64\n",
      "total_bal_ex_mort                      1321847 non-null float64\n",
      "total_bc_limit                         1321847 non-null float64\n",
      "total_il_high_credit_limit             1321847 non-null float64\n",
      "term                                   1321847 non-null int64\n",
      "int_rate                               1321847 non-null float64\n",
      "emp_length                             1321847 non-null int64\n",
      "loan_status                            1321847 non-null int64\n",
      "revol_util                             1321847 non-null float64\n",
      "grade_B                                1321847 non-null uint8\n",
      "grade_C                                1321847 non-null uint8\n",
      "grade_D                                1321847 non-null uint8\n",
      "grade_E                                1321847 non-null uint8\n",
      "grade_F                                1321847 non-null uint8\n",
      "grade_G                                1321847 non-null uint8\n",
      "home_ownership_MORTGAGE                1321847 non-null uint8\n",
      "home_ownership_NONE                    1321847 non-null uint8\n",
      "home_ownership_OTHER                   1321847 non-null uint8\n",
      "home_ownership_OWN                     1321847 non-null uint8\n",
      "home_ownership_RENT                    1321847 non-null uint8\n",
      "verification_status_Source Verified    1321847 non-null uint8\n",
      "verification_status_Verified           1321847 non-null uint8\n",
      "purpose_credit_card                    1321847 non-null uint8\n",
      "purpose_debt_consolidation             1321847 non-null uint8\n",
      "purpose_educational                    1321847 non-null uint8\n",
      "purpose_home_improvement               1321847 non-null uint8\n",
      "purpose_house                          1321847 non-null uint8\n",
      "purpose_major_purchase                 1321847 non-null uint8\n",
      "purpose_medical                        1321847 non-null uint8\n",
      "purpose_moving                         1321847 non-null uint8\n",
      "purpose_other                          1321847 non-null uint8\n",
      "purpose_renewable_energy               1321847 non-null uint8\n",
      "purpose_small_business                 1321847 non-null uint8\n",
      "purpose_vacation                       1321847 non-null uint8\n",
      "purpose_wedding                        1321847 non-null uint8\n",
      "debt_settlement_flag_Y                 1321847 non-null uint8\n",
      "dtypes: float64(54), int64(3), uint8(27)\n",
      "memory usage: 619.0 MB\n"
     ]
    }
   ],
   "source": [
    "final_filtered_df.info()"
   ]
  },
  {
   "cell_type": "code",
   "execution_count": 76,
   "metadata": {
    "collapsed": true
   },
   "outputs": [],
   "source": [
    "final_filtered_df = final_filtered_df.dropna(axis=0,how='all')"
   ]
  },
  {
   "cell_type": "code",
   "execution_count": 77,
   "metadata": {},
   "outputs": [
    {
     "name": "stdout",
     "output_type": "stream",
     "text": [
      "<class 'pandas.core.frame.DataFrame'>\n",
      "Int64Index: 1321847 entries, 0 to 103545\n",
      "Data columns (total 84 columns):\n",
      "loan_amnt                              1321847 non-null float64\n",
      "installment                            1321847 non-null float64\n",
      "annual_inc                             1321847 non-null float64\n",
      "dti                                    1321847 non-null float64\n",
      "delinq_2yrs                            1321847 non-null float64\n",
      "inq_last_6mths                         1321847 non-null float64\n",
      "open_acc                               1321847 non-null float64\n",
      "pub_rec                                1321847 non-null float64\n",
      "revol_bal                              1321847 non-null float64\n",
      "total_acc                              1321847 non-null float64\n",
      "recoveries                             1321847 non-null float64\n",
      "collection_recovery_fee                1321847 non-null float64\n",
      "collections_12_mths_ex_med             1321847 non-null float64\n",
      "acc_now_delinq                         1321847 non-null float64\n",
      "tot_coll_amt                           1321847 non-null float64\n",
      "tot_cur_bal                            1321847 non-null float64\n",
      "total_rev_hi_lim                       1321847 non-null float64\n",
      "acc_open_past_24mths                   1321847 non-null float64\n",
      "avg_cur_bal                            1321847 non-null float64\n",
      "bc_open_to_buy                         1321847 non-null float64\n",
      "bc_util                                1321847 non-null float64\n",
      "chargeoff_within_12_mths               1321847 non-null float64\n",
      "delinq_amnt                            1321847 non-null float64\n",
      "mo_sin_old_il_acct                     1321847 non-null float64\n",
      "mo_sin_old_rev_tl_op                   1321847 non-null float64\n",
      "mo_sin_rcnt_rev_tl_op                  1321847 non-null float64\n",
      "mo_sin_rcnt_tl                         1321847 non-null float64\n",
      "mort_acc                               1321847 non-null float64\n",
      "mths_since_recent_bc                   1321847 non-null float64\n",
      "mths_since_recent_inq                  1321847 non-null float64\n",
      "num_accts_ever_120_pd                  1321847 non-null float64\n",
      "num_actv_bc_tl                         1321847 non-null float64\n",
      "num_actv_rev_tl                        1321847 non-null float64\n",
      "num_bc_sats                            1321847 non-null float64\n",
      "num_bc_tl                              1321847 non-null float64\n",
      "num_il_tl                              1321847 non-null float64\n",
      "num_op_rev_tl                          1321847 non-null float64\n",
      "num_rev_accts                          1321847 non-null float64\n",
      "num_rev_tl_bal_gt_0                    1321847 non-null float64\n",
      "num_sats                               1321847 non-null float64\n",
      "num_tl_120dpd_2m                       1321847 non-null float64\n",
      "num_tl_30dpd                           1321847 non-null float64\n",
      "num_tl_90g_dpd_24m                     1321847 non-null float64\n",
      "num_tl_op_past_12m                     1321847 non-null float64\n",
      "pct_tl_nvr_dlq                         1321847 non-null float64\n",
      "percent_bc_gt_75                       1321847 non-null float64\n",
      "pub_rec_bankruptcies                   1321847 non-null float64\n",
      "tax_liens                              1321847 non-null float64\n",
      "tot_hi_cred_lim                        1321847 non-null float64\n",
      "total_bal_ex_mort                      1321847 non-null float64\n",
      "total_bc_limit                         1321847 non-null float64\n",
      "total_il_high_credit_limit             1321847 non-null float64\n",
      "term                                   1321847 non-null int64\n",
      "int_rate                               1321847 non-null float64\n",
      "emp_length                             1321847 non-null int64\n",
      "loan_status                            1321847 non-null int64\n",
      "revol_util                             1321847 non-null float64\n",
      "grade_B                                1321847 non-null uint8\n",
      "grade_C                                1321847 non-null uint8\n",
      "grade_D                                1321847 non-null uint8\n",
      "grade_E                                1321847 non-null uint8\n",
      "grade_F                                1321847 non-null uint8\n",
      "grade_G                                1321847 non-null uint8\n",
      "home_ownership_MORTGAGE                1321847 non-null uint8\n",
      "home_ownership_NONE                    1321847 non-null uint8\n",
      "home_ownership_OTHER                   1321847 non-null uint8\n",
      "home_ownership_OWN                     1321847 non-null uint8\n",
      "home_ownership_RENT                    1321847 non-null uint8\n",
      "verification_status_Source Verified    1321847 non-null uint8\n",
      "verification_status_Verified           1321847 non-null uint8\n",
      "purpose_credit_card                    1321847 non-null uint8\n",
      "purpose_debt_consolidation             1321847 non-null uint8\n",
      "purpose_educational                    1321847 non-null uint8\n",
      "purpose_home_improvement               1321847 non-null uint8\n",
      "purpose_house                          1321847 non-null uint8\n",
      "purpose_major_purchase                 1321847 non-null uint8\n",
      "purpose_medical                        1321847 non-null uint8\n",
      "purpose_moving                         1321847 non-null uint8\n",
      "purpose_other                          1321847 non-null uint8\n",
      "purpose_renewable_energy               1321847 non-null uint8\n",
      "purpose_small_business                 1321847 non-null uint8\n",
      "purpose_vacation                       1321847 non-null uint8\n",
      "purpose_wedding                        1321847 non-null uint8\n",
      "debt_settlement_flag_Y                 1321847 non-null uint8\n",
      "dtypes: float64(54), int64(3), uint8(27)\n",
      "memory usage: 619.0 MB\n"
     ]
    }
   ],
   "source": [
    "final_filtered_df.info()"
   ]
  },
  {
   "cell_type": "code",
   "execution_count": 78,
   "metadata": {},
   "outputs": [
    {
     "data": {
      "text/plain": [
       "debt_settlement_flag_Y        0\n",
       "num_accts_ever_120_pd         0\n",
       "delinq_amnt                   0\n",
       "mo_sin_old_il_acct            0\n",
       "mo_sin_old_rev_tl_op          0\n",
       "mo_sin_rcnt_rev_tl_op         0\n",
       "mo_sin_rcnt_tl                0\n",
       "mort_acc                      0\n",
       "mths_since_recent_bc          0\n",
       "mths_since_recent_inq         0\n",
       "num_actv_bc_tl                0\n",
       "purpose_wedding               0\n",
       "num_actv_rev_tl               0\n",
       "num_bc_sats                   0\n",
       "num_bc_tl                     0\n",
       "num_il_tl                     0\n",
       "num_op_rev_tl                 0\n",
       "num_rev_accts                 0\n",
       "num_rev_tl_bal_gt_0           0\n",
       "num_sats                      0\n",
       "chargeoff_within_12_mths      0\n",
       "bc_util                       0\n",
       "bc_open_to_buy                0\n",
       "avg_cur_bal                   0\n",
       "installment                   0\n",
       "annual_inc                    0\n",
       "dti                           0\n",
       "delinq_2yrs                   0\n",
       "inq_last_6mths                0\n",
       "open_acc                      0\n",
       "                             ..\n",
       "purpose_house                 0\n",
       "purpose_major_purchase        0\n",
       "purpose_medical               0\n",
       "purpose_moving                0\n",
       "purpose_other                 0\n",
       "purpose_renewable_energy      0\n",
       "purpose_small_business        0\n",
       "purpose_vacation              0\n",
       "home_ownership_NONE           0\n",
       "grade_G                       0\n",
       "num_tl_op_past_12m            0\n",
       "grade_F                       0\n",
       "pct_tl_nvr_dlq                0\n",
       "percent_bc_gt_75              0\n",
       "pub_rec_bankruptcies          0\n",
       "tax_liens                     0\n",
       "tot_hi_cred_lim               0\n",
       "total_bal_ex_mort             0\n",
       "total_bc_limit                0\n",
       "total_il_high_credit_limit    0\n",
       "term                          0\n",
       "int_rate                      0\n",
       "emp_length                    0\n",
       "loan_status                   0\n",
       "revol_util                    0\n",
       "grade_B                       0\n",
       "grade_C                       0\n",
       "grade_D                       0\n",
       "grade_E                       0\n",
       "loan_amnt                     0\n",
       "Length: 84, dtype: int64"
      ]
     },
     "execution_count": 78,
     "metadata": {},
     "output_type": "execute_result"
    }
   ],
   "source": [
    "final_filtered_df.isnull().sum().sort_values(ascending=False)"
   ]
  },
  {
   "cell_type": "code",
   "execution_count": 79,
   "metadata": {
    "collapsed": true
   },
   "outputs": [],
   "source": [
    "final_filtered_df.to_csv('final_filtered.csv')"
   ]
  },
  {
   "cell_type": "code",
   "execution_count": null,
   "metadata": {
    "collapsed": true
   },
   "outputs": [],
   "source": []
  }
 ],
 "metadata": {
  "kernelspec": {
   "display_name": "Python 3",
   "language": "python",
   "name": "python3"
  },
  "language_info": {
   "codemirror_mode": {
    "name": "ipython",
    "version": 3
   },
   "file_extension": ".py",
   "mimetype": "text/x-python",
   "name": "python",
   "nbconvert_exporter": "python",
   "pygments_lexer": "ipython3",
   "version": "3.6.3"
  }
 },
 "nbformat": 4,
 "nbformat_minor": 2
}
