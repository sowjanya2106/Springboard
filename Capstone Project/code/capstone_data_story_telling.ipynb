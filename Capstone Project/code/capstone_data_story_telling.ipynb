{
 "cells": [
  {
   "cell_type": "code",
   "execution_count": 7,
   "metadata": {
    "_cell_guid": "0c627a7d-a953-4be2-a559-291116411cc9",
    "_uuid": "c49226074781417be68c7037743cbef3fdac07a8",
    "collapsed": true
   },
   "outputs": [],
   "source": [
    "import pandas as pd\n",
    "import numpy as np\n",
    "import matplotlib.pyplot as plt\n",
    "%matplotlib inline"
   ]
  },
  {
   "cell_type": "code",
   "execution_count": null,
   "metadata": {
    "_uuid": "3508e297f5452a417475e75f443b2cc27a6c1423",
    "collapsed": true
   },
   "outputs": [],
   "source": []
  },
  {
   "cell_type": "code",
   "execution_count": 10,
   "metadata": {
    "_cell_guid": "33198bbd-f373-4601-a10e-02f6a06c0845",
    "_kg_hide-input": true,
    "_uuid": "c5fedd3de0773a9f71ae5729a71d5e6f9b6b4e03",
    "collapsed": true
   },
   "outputs": [],
   "source": [
    "loans_df = pd.read_csv(\"../input/preprocessed_loans.csv\",low_memory=False)"
   ]
  },
  {
   "cell_type": "code",
   "execution_count": 11,
   "metadata": {
    "_cell_guid": "9ea5091b-1bcc-4d8d-a626-50412490ab86",
    "_kg_hide-output": true,
    "_uuid": "778e25bc51b3060bfacfc2188d7163427ebc607c"
   },
   "outputs": [
    {
     "name": "stdout",
     "output_type": "stream",
     "text": [
      "<class 'pandas.core.frame.DataFrame'>\n",
      "RangeIndex: 1321864 entries, 0 to 1321863\n",
      "Data columns (total 88 columns):\n",
      "Unnamed: 0                    1321864 non-null int64\n",
      "loan_amnt                     1321847 non-null float64\n",
      "funded_amnt                   1321847 non-null float64\n",
      "funded_amnt_inv               1321847 non-null float64\n",
      "installment                   1321847 non-null float64\n",
      "annual_inc                    1321847 non-null float64\n",
      "dti                           1321847 non-null float64\n",
      "delinq_2yrs                   1321847 non-null float64\n",
      "fico_range_low                1321847 non-null float64\n",
      "fico_range_high               1321847 non-null float64\n",
      "inq_last_6mths                1321847 non-null float64\n",
      "open_acc                      1321847 non-null float64\n",
      "pub_rec                       1321847 non-null float64\n",
      "revol_bal                     1321847 non-null float64\n",
      "total_acc                     1321847 non-null float64\n",
      "out_prncp                     1321847 non-null float64\n",
      "out_prncp_inv                 1321847 non-null float64\n",
      "total_pymnt                   1321847 non-null float64\n",
      "total_pymnt_inv               1321847 non-null float64\n",
      "total_rec_prncp               1321847 non-null float64\n",
      "total_rec_int                 1321847 non-null float64\n",
      "total_rec_late_fee            1321847 non-null float64\n",
      "recoveries                    1321847 non-null float64\n",
      "collection_recovery_fee       1321847 non-null float64\n",
      "last_pymnt_amnt               1321847 non-null float64\n",
      "last_fico_range_high          1321847 non-null float64\n",
      "last_fico_range_low           1321847 non-null float64\n",
      "collections_12_mths_ex_med    1321847 non-null float64\n",
      "acc_now_delinq                1321847 non-null float64\n",
      "tot_coll_amt                  1321847 non-null float64\n",
      "tot_cur_bal                   1321847 non-null float64\n",
      "total_rev_hi_lim              1321847 non-null float64\n",
      "acc_open_past_24mths          1321847 non-null float64\n",
      "avg_cur_bal                   1321847 non-null float64\n",
      "bc_open_to_buy                1321847 non-null float64\n",
      "bc_util                       1321847 non-null float64\n",
      "chargeoff_within_12_mths      1321847 non-null float64\n",
      "delinq_amnt                   1321847 non-null float64\n",
      "mo_sin_old_il_acct            1321847 non-null float64\n",
      "mo_sin_old_rev_tl_op          1321847 non-null float64\n",
      "mo_sin_rcnt_rev_tl_op         1321847 non-null float64\n",
      "mo_sin_rcnt_tl                1321847 non-null float64\n",
      "mort_acc                      1321847 non-null float64\n",
      "mths_since_recent_bc          1321847 non-null float64\n",
      "mths_since_recent_inq         1321847 non-null float64\n",
      "num_accts_ever_120_pd         1321847 non-null float64\n",
      "num_actv_bc_tl                1321847 non-null float64\n",
      "num_actv_rev_tl               1321847 non-null float64\n",
      "num_bc_sats                   1321847 non-null float64\n",
      "num_bc_tl                     1321847 non-null float64\n",
      "num_il_tl                     1321847 non-null float64\n",
      "num_op_rev_tl                 1321847 non-null float64\n",
      "num_rev_accts                 1321847 non-null float64\n",
      "num_rev_tl_bal_gt_0           1321847 non-null float64\n",
      "num_sats                      1321847 non-null float64\n",
      "num_tl_120dpd_2m              1321847 non-null float64\n",
      "num_tl_30dpd                  1321847 non-null float64\n",
      "num_tl_90g_dpd_24m            1321847 non-null float64\n",
      "num_tl_op_past_12m            1321847 non-null float64\n",
      "pct_tl_nvr_dlq                1321847 non-null float64\n",
      "percent_bc_gt_75              1321847 non-null float64\n",
      "pub_rec_bankruptcies          1321847 non-null float64\n",
      "tax_liens                     1321847 non-null float64\n",
      "tot_hi_cred_lim               1321847 non-null float64\n",
      "total_bal_ex_mort             1321847 non-null float64\n",
      "total_bc_limit                1321847 non-null float64\n",
      "total_il_high_credit_limit    1321847 non-null float64\n",
      "term                          1321864 non-null int64\n",
      "int_rate                      1321864 non-null float64\n",
      "grade                         1321864 non-null object\n",
      "sub_grade                     1321864 non-null object\n",
      "emp_title                     1321864 non-null object\n",
      "emp_length                    1321864 non-null object\n",
      "home_ownership                1321864 non-null object\n",
      "verification_status           1321864 non-null object\n",
      "loan_status                   1321864 non-null object\n",
      "purpose                       1321864 non-null object\n",
      "addr_state                    1321864 non-null object\n",
      "revol_util                    1321864 non-null float64\n",
      "debt_settlement_flag          1321864 non-null object\n",
      "issue_year                    1321864 non-null int64\n",
      "issue_month                   1321864 non-null int64\n",
      "earliest_cr_line_month        1321864 non-null int64\n",
      "earliest_cr_line_year         1321864 non-null int64\n",
      "last_pymnt_month              1321864 non-null int64\n",
      "last_pymnt_year               1321864 non-null int64\n",
      "last_credit_pull_month        1321864 non-null int64\n",
      "last_credit_pull_year         1321864 non-null int64\n",
      "dtypes: float64(68), int64(10), object(10)\n",
      "memory usage: 887.5+ MB\n"
     ]
    }
   ],
   "source": [
    "loans_df.info()"
   ]
  },
  {
   "cell_type": "code",
   "execution_count": null,
   "metadata": {
    "_cell_guid": "5d8110bb-3fb9-4058-848b-b3165970563d",
    "_uuid": "e5edf81a2fec8bc970f151f03954aed0e9a4a1af",
    "collapsed": true
   },
   "outputs": [],
   "source": []
  }
 ],
 "metadata": {
  "kernelspec": {
   "display_name": "Python 3",
   "language": "python",
   "name": "python3"
  },
  "language_info": {
   "codemirror_mode": {
    "name": "ipython",
    "version": 3
   },
   "file_extension": ".py",
   "mimetype": "text/x-python",
   "name": "python",
   "nbconvert_exporter": "python",
   "pygments_lexer": "ipython3",
   "version": "3.6.1"
  }
 },
 "nbformat": 4,
 "nbformat_minor": 1
}
