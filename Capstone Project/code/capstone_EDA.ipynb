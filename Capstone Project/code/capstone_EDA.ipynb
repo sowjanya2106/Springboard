{
 "cells": [
  {
   "cell_type": "code",
   "execution_count": 1,
   "metadata": {
    "collapsed": true
   },
   "outputs": [],
   "source": [
    "import pandas as pd\n",
    "import numpy as np\n",
    "import matplotlib.pyplot as plt\n",
    "import seaborn as sns\n",
    "%matplotlib inline\n",
    "import math\n",
    "from scipy import stats"
   ]
  },
  {
   "cell_type": "code",
   "execution_count": 2,
   "metadata": {
    "collapsed": true
   },
   "outputs": [],
   "source": [
    "%store -r preprocessed_data_df"
   ]
  },
  {
   "cell_type": "markdown",
   "metadata": {},
   "source": [
    "<h3>Explonatory Data Analysis</h3>"
   ]
  },
  {
   "cell_type": "markdown",
   "metadata": {},
   "source": [
    "Lets answer few questions about the dataset by performing explonatory data analysis."
   ]
  },
  {
   "cell_type": "markdown",
   "metadata": {},
   "source": [
    "1. Which year has the highest number of loans issued?\n",
    "2. Which year with most charged off loans ?\n",
    "3. Which grade loans are charged off the most ?\n",
    "4. Loans across different states in United States?\n",
    "5. What is the minimum fico score to get a loan from Lending Tree?\n",
    "6. Which loan purpose has the highest number of charged off loans ?\n",
    "7. Which homeownership status has the highest number of charged off loans"
   ]
  },
  {
   "cell_type": "markdown",
   "metadata": {},
   "source": [
    "<h4>Which year has the highest number of charged off loans?</h4>"
   ]
  },
  {
   "cell_type": "code",
   "execution_count": 3,
   "metadata": {
    "collapsed": true
   },
   "outputs": [],
   "source": [
    "filtered_loans_df = preprocessed_data_df.copy(deep=True)"
   ]
  },
  {
   "cell_type": "markdown",
   "metadata": {},
   "source": [
    "The issue_d is in the format Mon-yyyy. Split the issue_d into issue_year and issue_month"
   ]
  },
  {
   "cell_type": "code",
   "execution_count": 5,
   "metadata": {},
   "outputs": [
    {
     "data": {
      "text/html": [
       "<div>\n",
       "<style>\n",
       "    .dataframe thead tr:only-child th {\n",
       "        text-align: right;\n",
       "    }\n",
       "\n",
       "    .dataframe thead th {\n",
       "        text-align: left;\n",
       "    }\n",
       "\n",
       "    .dataframe tbody tr th {\n",
       "        vertical-align: top;\n",
       "    }\n",
       "</style>\n",
       "<table border=\"1\" class=\"dataframe\">\n",
       "  <thead>\n",
       "    <tr style=\"text-align: right;\">\n",
       "      <th></th>\n",
       "      <th>loan_amnt</th>\n",
       "      <th>funded_amnt</th>\n",
       "      <th>funded_amnt_inv</th>\n",
       "      <th>installment</th>\n",
       "      <th>annual_inc</th>\n",
       "      <th>dti</th>\n",
       "      <th>delinq_2yrs</th>\n",
       "      <th>fico_range_low</th>\n",
       "      <th>fico_range_high</th>\n",
       "      <th>inq_last_6mths</th>\n",
       "      <th>...</th>\n",
       "      <th>revol_util</th>\n",
       "      <th>initial_list_status</th>\n",
       "      <th>last_pymnt_d</th>\n",
       "      <th>last_credit_pull_d</th>\n",
       "      <th>application_type</th>\n",
       "      <th>hardship_flag</th>\n",
       "      <th>disbursement_method</th>\n",
       "      <th>debt_settlement_flag</th>\n",
       "      <th>issue_year</th>\n",
       "      <th>issue_month</th>\n",
       "    </tr>\n",
       "  </thead>\n",
       "  <tbody>\n",
       "    <tr>\n",
       "      <th>0</th>\n",
       "      <td>5000.0</td>\n",
       "      <td>5000.0</td>\n",
       "      <td>4975.000000</td>\n",
       "      <td>162.87</td>\n",
       "      <td>24000.00</td>\n",
       "      <td>27.65</td>\n",
       "      <td>0.0</td>\n",
       "      <td>735.0</td>\n",
       "      <td>739.0</td>\n",
       "      <td>1.0</td>\n",
       "      <td>...</td>\n",
       "      <td>83.7%</td>\n",
       "      <td>f</td>\n",
       "      <td>Jan-2015</td>\n",
       "      <td>Dec-2017</td>\n",
       "      <td>Individual</td>\n",
       "      <td>N</td>\n",
       "      <td>Cash</td>\n",
       "      <td>N</td>\n",
       "      <td>2011</td>\n",
       "      <td>12</td>\n",
       "    </tr>\n",
       "    <tr>\n",
       "      <th>1</th>\n",
       "      <td>2500.0</td>\n",
       "      <td>2500.0</td>\n",
       "      <td>2500.000000</td>\n",
       "      <td>59.83</td>\n",
       "      <td>30000.00</td>\n",
       "      <td>1.00</td>\n",
       "      <td>0.0</td>\n",
       "      <td>740.0</td>\n",
       "      <td>744.0</td>\n",
       "      <td>5.0</td>\n",
       "      <td>...</td>\n",
       "      <td>9.4%</td>\n",
       "      <td>f</td>\n",
       "      <td>Apr-2013</td>\n",
       "      <td>Oct-2016</td>\n",
       "      <td>Individual</td>\n",
       "      <td>N</td>\n",
       "      <td>Cash</td>\n",
       "      <td>N</td>\n",
       "      <td>2011</td>\n",
       "      <td>12</td>\n",
       "    </tr>\n",
       "    <tr>\n",
       "      <th>2</th>\n",
       "      <td>2400.0</td>\n",
       "      <td>2400.0</td>\n",
       "      <td>2400.000000</td>\n",
       "      <td>84.33</td>\n",
       "      <td>12252.00</td>\n",
       "      <td>8.72</td>\n",
       "      <td>0.0</td>\n",
       "      <td>735.0</td>\n",
       "      <td>739.0</td>\n",
       "      <td>2.0</td>\n",
       "      <td>...</td>\n",
       "      <td>98.5%</td>\n",
       "      <td>f</td>\n",
       "      <td>Jun-2014</td>\n",
       "      <td>Jun-2017</td>\n",
       "      <td>Individual</td>\n",
       "      <td>N</td>\n",
       "      <td>Cash</td>\n",
       "      <td>N</td>\n",
       "      <td>2011</td>\n",
       "      <td>12</td>\n",
       "    </tr>\n",
       "    <tr>\n",
       "      <th>3</th>\n",
       "      <td>10000.0</td>\n",
       "      <td>10000.0</td>\n",
       "      <td>10000.000000</td>\n",
       "      <td>339.31</td>\n",
       "      <td>49200.00</td>\n",
       "      <td>20.00</td>\n",
       "      <td>0.0</td>\n",
       "      <td>690.0</td>\n",
       "      <td>694.0</td>\n",
       "      <td>1.0</td>\n",
       "      <td>...</td>\n",
       "      <td>21%</td>\n",
       "      <td>f</td>\n",
       "      <td>Jan-2015</td>\n",
       "      <td>Apr-2016</td>\n",
       "      <td>Individual</td>\n",
       "      <td>N</td>\n",
       "      <td>Cash</td>\n",
       "      <td>N</td>\n",
       "      <td>2011</td>\n",
       "      <td>12</td>\n",
       "    </tr>\n",
       "    <tr>\n",
       "      <th>4</th>\n",
       "      <td>3000.0</td>\n",
       "      <td>3000.0</td>\n",
       "      <td>3000.000000</td>\n",
       "      <td>67.79</td>\n",
       "      <td>80000.00</td>\n",
       "      <td>17.94</td>\n",
       "      <td>0.0</td>\n",
       "      <td>695.0</td>\n",
       "      <td>699.0</td>\n",
       "      <td>0.0</td>\n",
       "      <td>...</td>\n",
       "      <td>53.9%</td>\n",
       "      <td>f</td>\n",
       "      <td>Jan-2017</td>\n",
       "      <td>Jan-2017</td>\n",
       "      <td>Individual</td>\n",
       "      <td>N</td>\n",
       "      <td>Cash</td>\n",
       "      <td>N</td>\n",
       "      <td>2011</td>\n",
       "      <td>12</td>\n",
       "    </tr>\n",
       "    <tr>\n",
       "      <th>5</th>\n",
       "      <td>5000.0</td>\n",
       "      <td>5000.0</td>\n",
       "      <td>5000.000000</td>\n",
       "      <td>156.46</td>\n",
       "      <td>36000.00</td>\n",
       "      <td>11.20</td>\n",
       "      <td>0.0</td>\n",
       "      <td>730.0</td>\n",
       "      <td>734.0</td>\n",
       "      <td>3.0</td>\n",
       "      <td>...</td>\n",
       "      <td>28.3%</td>\n",
       "      <td>f</td>\n",
       "      <td>Jan-2015</td>\n",
       "      <td>Feb-2017</td>\n",
       "      <td>Individual</td>\n",
       "      <td>N</td>\n",
       "      <td>Cash</td>\n",
       "      <td>N</td>\n",
       "      <td>2011</td>\n",
       "      <td>12</td>\n",
       "    </tr>\n",
       "    <tr>\n",
       "      <th>6</th>\n",
       "      <td>7000.0</td>\n",
       "      <td>7000.0</td>\n",
       "      <td>7000.000000</td>\n",
       "      <td>170.08</td>\n",
       "      <td>47004.00</td>\n",
       "      <td>23.51</td>\n",
       "      <td>0.0</td>\n",
       "      <td>690.0</td>\n",
       "      <td>694.0</td>\n",
       "      <td>1.0</td>\n",
       "      <td>...</td>\n",
       "      <td>85.6%</td>\n",
       "      <td>f</td>\n",
       "      <td>May-2016</td>\n",
       "      <td>Sep-2016</td>\n",
       "      <td>Individual</td>\n",
       "      <td>N</td>\n",
       "      <td>Cash</td>\n",
       "      <td>N</td>\n",
       "      <td>2011</td>\n",
       "      <td>12</td>\n",
       "    </tr>\n",
       "    <tr>\n",
       "      <th>7</th>\n",
       "      <td>3000.0</td>\n",
       "      <td>3000.0</td>\n",
       "      <td>3000.000000</td>\n",
       "      <td>109.43</td>\n",
       "      <td>48000.00</td>\n",
       "      <td>5.35</td>\n",
       "      <td>0.0</td>\n",
       "      <td>660.0</td>\n",
       "      <td>664.0</td>\n",
       "      <td>2.0</td>\n",
       "      <td>...</td>\n",
       "      <td>87.5%</td>\n",
       "      <td>f</td>\n",
       "      <td>Jan-2015</td>\n",
       "      <td>Dec-2014</td>\n",
       "      <td>Individual</td>\n",
       "      <td>N</td>\n",
       "      <td>Cash</td>\n",
       "      <td>N</td>\n",
       "      <td>2011</td>\n",
       "      <td>12</td>\n",
       "    </tr>\n",
       "    <tr>\n",
       "      <th>8</th>\n",
       "      <td>5600.0</td>\n",
       "      <td>5600.0</td>\n",
       "      <td>5600.000000</td>\n",
       "      <td>152.39</td>\n",
       "      <td>40000.00</td>\n",
       "      <td>5.55</td>\n",
       "      <td>0.0</td>\n",
       "      <td>675.0</td>\n",
       "      <td>679.0</td>\n",
       "      <td>2.0</td>\n",
       "      <td>...</td>\n",
       "      <td>32.6%</td>\n",
       "      <td>f</td>\n",
       "      <td>Apr-2012</td>\n",
       "      <td>Oct-2016</td>\n",
       "      <td>Individual</td>\n",
       "      <td>N</td>\n",
       "      <td>Cash</td>\n",
       "      <td>N</td>\n",
       "      <td>2011</td>\n",
       "      <td>12</td>\n",
       "    </tr>\n",
       "    <tr>\n",
       "      <th>9</th>\n",
       "      <td>5375.0</td>\n",
       "      <td>5375.0</td>\n",
       "      <td>5350.000000</td>\n",
       "      <td>121.45</td>\n",
       "      <td>15000.00</td>\n",
       "      <td>18.08</td>\n",
       "      <td>0.0</td>\n",
       "      <td>725.0</td>\n",
       "      <td>729.0</td>\n",
       "      <td>0.0</td>\n",
       "      <td>...</td>\n",
       "      <td>36.5%</td>\n",
       "      <td>f</td>\n",
       "      <td>Nov-2012</td>\n",
       "      <td>Dec-2016</td>\n",
       "      <td>Individual</td>\n",
       "      <td>N</td>\n",
       "      <td>Cash</td>\n",
       "      <td>N</td>\n",
       "      <td>2011</td>\n",
       "      <td>12</td>\n",
       "    </tr>\n",
       "    <tr>\n",
       "      <th>10</th>\n",
       "      <td>6500.0</td>\n",
       "      <td>6500.0</td>\n",
       "      <td>6500.000000</td>\n",
       "      <td>153.45</td>\n",
       "      <td>72000.00</td>\n",
       "      <td>16.12</td>\n",
       "      <td>0.0</td>\n",
       "      <td>695.0</td>\n",
       "      <td>699.0</td>\n",
       "      <td>2.0</td>\n",
       "      <td>...</td>\n",
       "      <td>20.6%</td>\n",
       "      <td>f</td>\n",
       "      <td>Jun-2013</td>\n",
       "      <td>Aug-2017</td>\n",
       "      <td>Individual</td>\n",
       "      <td>N</td>\n",
       "      <td>Cash</td>\n",
       "      <td>N</td>\n",
       "      <td>2011</td>\n",
       "      <td>12</td>\n",
       "    </tr>\n",
       "    <tr>\n",
       "      <th>11</th>\n",
       "      <td>12000.0</td>\n",
       "      <td>12000.0</td>\n",
       "      <td>12000.000000</td>\n",
       "      <td>402.54</td>\n",
       "      <td>75000.00</td>\n",
       "      <td>10.78</td>\n",
       "      <td>0.0</td>\n",
       "      <td>675.0</td>\n",
       "      <td>679.0</td>\n",
       "      <td>0.0</td>\n",
       "      <td>...</td>\n",
       "      <td>67.1%</td>\n",
       "      <td>f</td>\n",
       "      <td>Sep-2013</td>\n",
       "      <td>Aug-2013</td>\n",
       "      <td>Individual</td>\n",
       "      <td>N</td>\n",
       "      <td>Cash</td>\n",
       "      <td>N</td>\n",
       "      <td>2011</td>\n",
       "      <td>12</td>\n",
       "    </tr>\n",
       "    <tr>\n",
       "      <th>12</th>\n",
       "      <td>9000.0</td>\n",
       "      <td>9000.0</td>\n",
       "      <td>9000.000000</td>\n",
       "      <td>305.38</td>\n",
       "      <td>30000.00</td>\n",
       "      <td>10.08</td>\n",
       "      <td>0.0</td>\n",
       "      <td>710.0</td>\n",
       "      <td>714.0</td>\n",
       "      <td>1.0</td>\n",
       "      <td>...</td>\n",
       "      <td>91.7%</td>\n",
       "      <td>f</td>\n",
       "      <td>Jul-2012</td>\n",
       "      <td>Oct-2016</td>\n",
       "      <td>Individual</td>\n",
       "      <td>N</td>\n",
       "      <td>Cash</td>\n",
       "      <td>N</td>\n",
       "      <td>2011</td>\n",
       "      <td>12</td>\n",
       "    </tr>\n",
       "    <tr>\n",
       "      <th>13</th>\n",
       "      <td>3000.0</td>\n",
       "      <td>3000.0</td>\n",
       "      <td>3000.000000</td>\n",
       "      <td>96.68</td>\n",
       "      <td>15000.00</td>\n",
       "      <td>12.56</td>\n",
       "      <td>0.0</td>\n",
       "      <td>705.0</td>\n",
       "      <td>709.0</td>\n",
       "      <td>2.0</td>\n",
       "      <td>...</td>\n",
       "      <td>43.1%</td>\n",
       "      <td>f</td>\n",
       "      <td>Jan-2015</td>\n",
       "      <td>Apr-2017</td>\n",
       "      <td>Individual</td>\n",
       "      <td>N</td>\n",
       "      <td>Cash</td>\n",
       "      <td>N</td>\n",
       "      <td>2011</td>\n",
       "      <td>12</td>\n",
       "    </tr>\n",
       "    <tr>\n",
       "      <th>14</th>\n",
       "      <td>10000.0</td>\n",
       "      <td>10000.0</td>\n",
       "      <td>10000.000000</td>\n",
       "      <td>325.74</td>\n",
       "      <td>100000.00</td>\n",
       "      <td>7.06</td>\n",
       "      <td>0.0</td>\n",
       "      <td>720.0</td>\n",
       "      <td>724.0</td>\n",
       "      <td>2.0</td>\n",
       "      <td>...</td>\n",
       "      <td>55.5%</td>\n",
       "      <td>f</td>\n",
       "      <td>Oct-2013</td>\n",
       "      <td>Oct-2016</td>\n",
       "      <td>Individual</td>\n",
       "      <td>N</td>\n",
       "      <td>Cash</td>\n",
       "      <td>N</td>\n",
       "      <td>2011</td>\n",
       "      <td>12</td>\n",
       "    </tr>\n",
       "    <tr>\n",
       "      <th>15</th>\n",
       "      <td>1000.0</td>\n",
       "      <td>1000.0</td>\n",
       "      <td>1000.000000</td>\n",
       "      <td>35.31</td>\n",
       "      <td>28000.00</td>\n",
       "      <td>20.31</td>\n",
       "      <td>0.0</td>\n",
       "      <td>665.0</td>\n",
       "      <td>669.0</td>\n",
       "      <td>1.0</td>\n",
       "      <td>...</td>\n",
       "      <td>81.5%</td>\n",
       "      <td>f</td>\n",
       "      <td>Jan-2015</td>\n",
       "      <td>Dec-2017</td>\n",
       "      <td>Individual</td>\n",
       "      <td>N</td>\n",
       "      <td>Cash</td>\n",
       "      <td>N</td>\n",
       "      <td>2011</td>\n",
       "      <td>12</td>\n",
       "    </tr>\n",
       "    <tr>\n",
       "      <th>16</th>\n",
       "      <td>10000.0</td>\n",
       "      <td>10000.0</td>\n",
       "      <td>10000.000000</td>\n",
       "      <td>347.98</td>\n",
       "      <td>42000.00</td>\n",
       "      <td>18.60</td>\n",
       "      <td>0.0</td>\n",
       "      <td>670.0</td>\n",
       "      <td>674.0</td>\n",
       "      <td>2.0</td>\n",
       "      <td>...</td>\n",
       "      <td>70.2%</td>\n",
       "      <td>f</td>\n",
       "      <td>Jan-2015</td>\n",
       "      <td>Sep-2017</td>\n",
       "      <td>Individual</td>\n",
       "      <td>N</td>\n",
       "      <td>Cash</td>\n",
       "      <td>N</td>\n",
       "      <td>2011</td>\n",
       "      <td>12</td>\n",
       "    </tr>\n",
       "    <tr>\n",
       "      <th>17</th>\n",
       "      <td>3600.0</td>\n",
       "      <td>3600.0</td>\n",
       "      <td>3600.000000</td>\n",
       "      <td>109.57</td>\n",
       "      <td>110000.00</td>\n",
       "      <td>10.52</td>\n",
       "      <td>0.0</td>\n",
       "      <td>760.0</td>\n",
       "      <td>764.0</td>\n",
       "      <td>0.0</td>\n",
       "      <td>...</td>\n",
       "      <td>16%</td>\n",
       "      <td>f</td>\n",
       "      <td>May-2013</td>\n",
       "      <td>May-2014</td>\n",
       "      <td>Individual</td>\n",
       "      <td>N</td>\n",
       "      <td>Cash</td>\n",
       "      <td>N</td>\n",
       "      <td>2011</td>\n",
       "      <td>12</td>\n",
       "    </tr>\n",
       "    <tr>\n",
       "      <th>18</th>\n",
       "      <td>6000.0</td>\n",
       "      <td>6000.0</td>\n",
       "      <td>6000.000000</td>\n",
       "      <td>198.46</td>\n",
       "      <td>84000.00</td>\n",
       "      <td>18.44</td>\n",
       "      <td>2.0</td>\n",
       "      <td>685.0</td>\n",
       "      <td>689.0</td>\n",
       "      <td>0.0</td>\n",
       "      <td>...</td>\n",
       "      <td>37.73%</td>\n",
       "      <td>f</td>\n",
       "      <td>Feb-2015</td>\n",
       "      <td>Jul-2015</td>\n",
       "      <td>Individual</td>\n",
       "      <td>N</td>\n",
       "      <td>Cash</td>\n",
       "      <td>N</td>\n",
       "      <td>2011</td>\n",
       "      <td>12</td>\n",
       "    </tr>\n",
       "    <tr>\n",
       "      <th>19</th>\n",
       "      <td>9200.0</td>\n",
       "      <td>9200.0</td>\n",
       "      <td>9200.000000</td>\n",
       "      <td>280.01</td>\n",
       "      <td>77385.19</td>\n",
       "      <td>9.86</td>\n",
       "      <td>0.0</td>\n",
       "      <td>755.0</td>\n",
       "      <td>759.0</td>\n",
       "      <td>0.0</td>\n",
       "      <td>...</td>\n",
       "      <td>23.1%</td>\n",
       "      <td>f</td>\n",
       "      <td>Jul-2012</td>\n",
       "      <td>Feb-2016</td>\n",
       "      <td>Individual</td>\n",
       "      <td>N</td>\n",
       "      <td>Cash</td>\n",
       "      <td>N</td>\n",
       "      <td>2011</td>\n",
       "      <td>12</td>\n",
       "    </tr>\n",
       "    <tr>\n",
       "      <th>20</th>\n",
       "      <td>20250.0</td>\n",
       "      <td>20250.0</td>\n",
       "      <td>19142.161077</td>\n",
       "      <td>484.63</td>\n",
       "      <td>43370.00</td>\n",
       "      <td>26.53</td>\n",
       "      <td>0.0</td>\n",
       "      <td>725.0</td>\n",
       "      <td>729.0</td>\n",
       "      <td>3.0</td>\n",
       "      <td>...</td>\n",
       "      <td>85.6%</td>\n",
       "      <td>f</td>\n",
       "      <td>Aug-2015</td>\n",
       "      <td>Jun-2016</td>\n",
       "      <td>Individual</td>\n",
       "      <td>N</td>\n",
       "      <td>Cash</td>\n",
       "      <td>N</td>\n",
       "      <td>2011</td>\n",
       "      <td>12</td>\n",
       "    </tr>\n",
       "    <tr>\n",
       "      <th>21</th>\n",
       "      <td>21000.0</td>\n",
       "      <td>21000.0</td>\n",
       "      <td>21000.000000</td>\n",
       "      <td>701.73</td>\n",
       "      <td>105000.00</td>\n",
       "      <td>13.22</td>\n",
       "      <td>0.0</td>\n",
       "      <td>705.0</td>\n",
       "      <td>709.0</td>\n",
       "      <td>0.0</td>\n",
       "      <td>...</td>\n",
       "      <td>90.3%</td>\n",
       "      <td>f</td>\n",
       "      <td>Sep-2013</td>\n",
       "      <td>Feb-2017</td>\n",
       "      <td>Individual</td>\n",
       "      <td>N</td>\n",
       "      <td>Cash</td>\n",
       "      <td>N</td>\n",
       "      <td>2011</td>\n",
       "      <td>12</td>\n",
       "    </tr>\n",
       "    <tr>\n",
       "      <th>22</th>\n",
       "      <td>10000.0</td>\n",
       "      <td>10000.0</td>\n",
       "      <td>10000.000000</td>\n",
       "      <td>330.76</td>\n",
       "      <td>50000.00</td>\n",
       "      <td>11.18</td>\n",
       "      <td>0.0</td>\n",
       "      <td>690.0</td>\n",
       "      <td>694.0</td>\n",
       "      <td>0.0</td>\n",
       "      <td>...</td>\n",
       "      <td>82.4%</td>\n",
       "      <td>f</td>\n",
       "      <td>Jan-2015</td>\n",
       "      <td>Dec-2017</td>\n",
       "      <td>Individual</td>\n",
       "      <td>N</td>\n",
       "      <td>Cash</td>\n",
       "      <td>N</td>\n",
       "      <td>2011</td>\n",
       "      <td>12</td>\n",
       "    </tr>\n",
       "    <tr>\n",
       "      <th>23</th>\n",
       "      <td>10000.0</td>\n",
       "      <td>10000.0</td>\n",
       "      <td>10000.000000</td>\n",
       "      <td>330.76</td>\n",
       "      <td>50000.00</td>\n",
       "      <td>16.01</td>\n",
       "      <td>0.0</td>\n",
       "      <td>710.0</td>\n",
       "      <td>714.0</td>\n",
       "      <td>0.0</td>\n",
       "      <td>...</td>\n",
       "      <td>91.8%</td>\n",
       "      <td>f</td>\n",
       "      <td>Oct-2013</td>\n",
       "      <td>Mar-2014</td>\n",
       "      <td>Individual</td>\n",
       "      <td>N</td>\n",
       "      <td>Cash</td>\n",
       "      <td>N</td>\n",
       "      <td>2011</td>\n",
       "      <td>12</td>\n",
       "    </tr>\n",
       "    <tr>\n",
       "      <th>24</th>\n",
       "      <td>6000.0</td>\n",
       "      <td>6000.0</td>\n",
       "      <td>6000.000000</td>\n",
       "      <td>198.46</td>\n",
       "      <td>76000.00</td>\n",
       "      <td>2.40</td>\n",
       "      <td>0.0</td>\n",
       "      <td>690.0</td>\n",
       "      <td>694.0</td>\n",
       "      <td>1.0</td>\n",
       "      <td>...</td>\n",
       "      <td>29.7%</td>\n",
       "      <td>f</td>\n",
       "      <td>Oct-2012</td>\n",
       "      <td>Oct-2016</td>\n",
       "      <td>Individual</td>\n",
       "      <td>N</td>\n",
       "      <td>Cash</td>\n",
       "      <td>N</td>\n",
       "      <td>2011</td>\n",
       "      <td>12</td>\n",
       "    </tr>\n",
       "    <tr>\n",
       "      <th>25</th>\n",
       "      <td>15000.0</td>\n",
       "      <td>15000.0</td>\n",
       "      <td>15000.000000</td>\n",
       "      <td>483.38</td>\n",
       "      <td>92000.00</td>\n",
       "      <td>29.44</td>\n",
       "      <td>0.0</td>\n",
       "      <td>730.0</td>\n",
       "      <td>734.0</td>\n",
       "      <td>0.0</td>\n",
       "      <td>...</td>\n",
       "      <td>93.9%</td>\n",
       "      <td>f</td>\n",
       "      <td>Sep-2012</td>\n",
       "      <td>Sep-2012</td>\n",
       "      <td>Individual</td>\n",
       "      <td>N</td>\n",
       "      <td>Cash</td>\n",
       "      <td>N</td>\n",
       "      <td>2011</td>\n",
       "      <td>12</td>\n",
       "    </tr>\n",
       "    <tr>\n",
       "      <th>26</th>\n",
       "      <td>15000.0</td>\n",
       "      <td>15000.0</td>\n",
       "      <td>8725.000000</td>\n",
       "      <td>514.64</td>\n",
       "      <td>60000.00</td>\n",
       "      <td>15.22</td>\n",
       "      <td>0.0</td>\n",
       "      <td>695.0</td>\n",
       "      <td>699.0</td>\n",
       "      <td>1.0</td>\n",
       "      <td>...</td>\n",
       "      <td>57.6%</td>\n",
       "      <td>f</td>\n",
       "      <td>Jan-2018</td>\n",
       "      <td>Dec-2017</td>\n",
       "      <td>Individual</td>\n",
       "      <td>N</td>\n",
       "      <td>Cash</td>\n",
       "      <td>N</td>\n",
       "      <td>2011</td>\n",
       "      <td>12</td>\n",
       "    </tr>\n",
       "    <tr>\n",
       "      <th>27</th>\n",
       "      <td>5000.0</td>\n",
       "      <td>5000.0</td>\n",
       "      <td>5000.000000</td>\n",
       "      <td>123.65</td>\n",
       "      <td>50004.00</td>\n",
       "      <td>13.97</td>\n",
       "      <td>3.0</td>\n",
       "      <td>675.0</td>\n",
       "      <td>679.0</td>\n",
       "      <td>0.0</td>\n",
       "      <td>...</td>\n",
       "      <td>59.5%</td>\n",
       "      <td>f</td>\n",
       "      <td>Dec-2012</td>\n",
       "      <td>Oct-2016</td>\n",
       "      <td>Individual</td>\n",
       "      <td>N</td>\n",
       "      <td>Cash</td>\n",
       "      <td>N</td>\n",
       "      <td>2011</td>\n",
       "      <td>12</td>\n",
       "    </tr>\n",
       "    <tr>\n",
       "      <th>28</th>\n",
       "      <td>4000.0</td>\n",
       "      <td>4000.0</td>\n",
       "      <td>4000.000000</td>\n",
       "      <td>132.31</td>\n",
       "      <td>106000.00</td>\n",
       "      <td>5.63</td>\n",
       "      <td>1.0</td>\n",
       "      <td>680.0</td>\n",
       "      <td>684.0</td>\n",
       "      <td>0.0</td>\n",
       "      <td>...</td>\n",
       "      <td>37.7%</td>\n",
       "      <td>f</td>\n",
       "      <td>Apr-2013</td>\n",
       "      <td>Dec-2017</td>\n",
       "      <td>Individual</td>\n",
       "      <td>N</td>\n",
       "      <td>Cash</td>\n",
       "      <td>N</td>\n",
       "      <td>2011</td>\n",
       "      <td>12</td>\n",
       "    </tr>\n",
       "    <tr>\n",
       "      <th>29</th>\n",
       "      <td>8500.0</td>\n",
       "      <td>8500.0</td>\n",
       "      <td>8500.000000</td>\n",
       "      <td>281.15</td>\n",
       "      <td>25000.00</td>\n",
       "      <td>12.19</td>\n",
       "      <td>0.0</td>\n",
       "      <td>695.0</td>\n",
       "      <td>699.0</td>\n",
       "      <td>0.0</td>\n",
       "      <td>...</td>\n",
       "      <td>59.1%</td>\n",
       "      <td>f</td>\n",
       "      <td>Dec-2014</td>\n",
       "      <td>Jan-2015</td>\n",
       "      <td>Individual</td>\n",
       "      <td>N</td>\n",
       "      <td>Cash</td>\n",
       "      <td>N</td>\n",
       "      <td>2011</td>\n",
       "      <td>12</td>\n",
       "    </tr>\n",
       "    <tr>\n",
       "      <th>...</th>\n",
       "      <td>...</td>\n",
       "      <td>...</td>\n",
       "      <td>...</td>\n",
       "      <td>...</td>\n",
       "      <td>...</td>\n",
       "      <td>...</td>\n",
       "      <td>...</td>\n",
       "      <td>...</td>\n",
       "      <td>...</td>\n",
       "      <td>...</td>\n",
       "      <td>...</td>\n",
       "      <td>...</td>\n",
       "      <td>...</td>\n",
       "      <td>...</td>\n",
       "      <td>...</td>\n",
       "      <td>...</td>\n",
       "      <td>...</td>\n",
       "      <td>...</td>\n",
       "      <td>...</td>\n",
       "      <td>...</td>\n",
       "      <td>...</td>\n",
       "    </tr>\n",
       "    <tr>\n",
       "      <th>103516</th>\n",
       "      <td>20000.0</td>\n",
       "      <td>20000.0</td>\n",
       "      <td>20000.000000</td>\n",
       "      <td>482.02</td>\n",
       "      <td>91000.00</td>\n",
       "      <td>23.24</td>\n",
       "      <td>2.0</td>\n",
       "      <td>665.0</td>\n",
       "      <td>669.0</td>\n",
       "      <td>1.0</td>\n",
       "      <td>...</td>\n",
       "      <td>54.4%</td>\n",
       "      <td>f</td>\n",
       "      <td>Jan-2018</td>\n",
       "      <td>Jan-2018</td>\n",
       "      <td>Individual</td>\n",
       "      <td>N</td>\n",
       "      <td>Cash</td>\n",
       "      <td>N</td>\n",
       "      <td>2016</td>\n",
       "      <td>10</td>\n",
       "    </tr>\n",
       "    <tr>\n",
       "      <th>103517</th>\n",
       "      <td>24750.0</td>\n",
       "      <td>24750.0</td>\n",
       "      <td>24750.000000</td>\n",
       "      <td>531.86</td>\n",
       "      <td>55000.00</td>\n",
       "      <td>26.71</td>\n",
       "      <td>1.0</td>\n",
       "      <td>685.0</td>\n",
       "      <td>689.0</td>\n",
       "      <td>0.0</td>\n",
       "      <td>...</td>\n",
       "      <td>64%</td>\n",
       "      <td>f</td>\n",
       "      <td>Jan-2018</td>\n",
       "      <td>Jan-2018</td>\n",
       "      <td>Individual</td>\n",
       "      <td>N</td>\n",
       "      <td>Cash</td>\n",
       "      <td>N</td>\n",
       "      <td>2016</td>\n",
       "      <td>10</td>\n",
       "    </tr>\n",
       "    <tr>\n",
       "      <th>103518</th>\n",
       "      <td>16000.0</td>\n",
       "      <td>16000.0</td>\n",
       "      <td>16000.000000</td>\n",
       "      <td>372.21</td>\n",
       "      <td>153000.00</td>\n",
       "      <td>15.00</td>\n",
       "      <td>1.0</td>\n",
       "      <td>675.0</td>\n",
       "      <td>679.0</td>\n",
       "      <td>0.0</td>\n",
       "      <td>...</td>\n",
       "      <td>56.5%</td>\n",
       "      <td>f</td>\n",
       "      <td>Jan-2018</td>\n",
       "      <td>Jan-2018</td>\n",
       "      <td>Individual</td>\n",
       "      <td>N</td>\n",
       "      <td>Cash</td>\n",
       "      <td>N</td>\n",
       "      <td>2016</td>\n",
       "      <td>10</td>\n",
       "    </tr>\n",
       "    <tr>\n",
       "      <th>103519</th>\n",
       "      <td>32000.0</td>\n",
       "      <td>32000.0</td>\n",
       "      <td>32000.000000</td>\n",
       "      <td>744.42</td>\n",
       "      <td>125000.00</td>\n",
       "      <td>29.89</td>\n",
       "      <td>1.0</td>\n",
       "      <td>670.0</td>\n",
       "      <td>674.0</td>\n",
       "      <td>2.0</td>\n",
       "      <td>...</td>\n",
       "      <td>41.6%</td>\n",
       "      <td>f</td>\n",
       "      <td>Dec-2016</td>\n",
       "      <td>Jun-2017</td>\n",
       "      <td>Individual</td>\n",
       "      <td>N</td>\n",
       "      <td>Cash</td>\n",
       "      <td>N</td>\n",
       "      <td>2016</td>\n",
       "      <td>10</td>\n",
       "    </tr>\n",
       "    <tr>\n",
       "      <th>103520</th>\n",
       "      <td>20000.0</td>\n",
       "      <td>20000.0</td>\n",
       "      <td>20000.000000</td>\n",
       "      <td>482.02</td>\n",
       "      <td>177000.00</td>\n",
       "      <td>12.36</td>\n",
       "      <td>0.0</td>\n",
       "      <td>665.0</td>\n",
       "      <td>669.0</td>\n",
       "      <td>0.0</td>\n",
       "      <td>...</td>\n",
       "      <td>60.8%</td>\n",
       "      <td>f</td>\n",
       "      <td>Jan-2018</td>\n",
       "      <td>Jan-2018</td>\n",
       "      <td>Individual</td>\n",
       "      <td>N</td>\n",
       "      <td>Cash</td>\n",
       "      <td>N</td>\n",
       "      <td>2016</td>\n",
       "      <td>10</td>\n",
       "    </tr>\n",
       "    <tr>\n",
       "      <th>103521</th>\n",
       "      <td>38000.0</td>\n",
       "      <td>38000.0</td>\n",
       "      <td>38000.000000</td>\n",
       "      <td>874.18</td>\n",
       "      <td>120000.00</td>\n",
       "      <td>14.44</td>\n",
       "      <td>0.0</td>\n",
       "      <td>715.0</td>\n",
       "      <td>719.0</td>\n",
       "      <td>0.0</td>\n",
       "      <td>...</td>\n",
       "      <td>37.8%</td>\n",
       "      <td>f</td>\n",
       "      <td>Jan-2018</td>\n",
       "      <td>Jan-2018</td>\n",
       "      <td>Individual</td>\n",
       "      <td>N</td>\n",
       "      <td>Cash</td>\n",
       "      <td>N</td>\n",
       "      <td>2016</td>\n",
       "      <td>10</td>\n",
       "    </tr>\n",
       "    <tr>\n",
       "      <th>103522</th>\n",
       "      <td>16000.0</td>\n",
       "      <td>16000.0</td>\n",
       "      <td>16000.000000</td>\n",
       "      <td>347.80</td>\n",
       "      <td>120000.00</td>\n",
       "      <td>12.40</td>\n",
       "      <td>1.0</td>\n",
       "      <td>745.0</td>\n",
       "      <td>749.0</td>\n",
       "      <td>2.0</td>\n",
       "      <td>...</td>\n",
       "      <td>7.6%</td>\n",
       "      <td>f</td>\n",
       "      <td>Jan-2018</td>\n",
       "      <td>Jan-2018</td>\n",
       "      <td>Individual</td>\n",
       "      <td>N</td>\n",
       "      <td>Cash</td>\n",
       "      <td>N</td>\n",
       "      <td>2016</td>\n",
       "      <td>10</td>\n",
       "    </tr>\n",
       "    <tr>\n",
       "      <th>103523</th>\n",
       "      <td>11200.0</td>\n",
       "      <td>11200.0</td>\n",
       "      <td>11200.000000</td>\n",
       "      <td>257.66</td>\n",
       "      <td>86000.00</td>\n",
       "      <td>4.80</td>\n",
       "      <td>0.0</td>\n",
       "      <td>665.0</td>\n",
       "      <td>669.0</td>\n",
       "      <td>0.0</td>\n",
       "      <td>...</td>\n",
       "      <td>54.7%</td>\n",
       "      <td>f</td>\n",
       "      <td>Jan-2018</td>\n",
       "      <td>Jan-2018</td>\n",
       "      <td>Individual</td>\n",
       "      <td>N</td>\n",
       "      <td>Cash</td>\n",
       "      <td>N</td>\n",
       "      <td>2016</td>\n",
       "      <td>10</td>\n",
       "    </tr>\n",
       "    <tr>\n",
       "      <th>103524</th>\n",
       "      <td>36000.0</td>\n",
       "      <td>36000.0</td>\n",
       "      <td>36000.000000</td>\n",
       "      <td>782.55</td>\n",
       "      <td>101000.00</td>\n",
       "      <td>11.55</td>\n",
       "      <td>0.0</td>\n",
       "      <td>690.0</td>\n",
       "      <td>694.0</td>\n",
       "      <td>0.0</td>\n",
       "      <td>...</td>\n",
       "      <td>73.3%</td>\n",
       "      <td>f</td>\n",
       "      <td>Jan-2018</td>\n",
       "      <td>Jan-2018</td>\n",
       "      <td>Individual</td>\n",
       "      <td>N</td>\n",
       "      <td>Cash</td>\n",
       "      <td>N</td>\n",
       "      <td>2016</td>\n",
       "      <td>10</td>\n",
       "    </tr>\n",
       "    <tr>\n",
       "      <th>103525</th>\n",
       "      <td>32000.0</td>\n",
       "      <td>32000.0</td>\n",
       "      <td>31950.000000</td>\n",
       "      <td>752.74</td>\n",
       "      <td>98000.00</td>\n",
       "      <td>3.43</td>\n",
       "      <td>0.0</td>\n",
       "      <td>665.0</td>\n",
       "      <td>669.0</td>\n",
       "      <td>0.0</td>\n",
       "      <td>...</td>\n",
       "      <td>74.9%</td>\n",
       "      <td>f</td>\n",
       "      <td>Jan-2018</td>\n",
       "      <td>Jan-2018</td>\n",
       "      <td>Individual</td>\n",
       "      <td>N</td>\n",
       "      <td>Cash</td>\n",
       "      <td>N</td>\n",
       "      <td>2016</td>\n",
       "      <td>10</td>\n",
       "    </tr>\n",
       "    <tr>\n",
       "      <th>103526</th>\n",
       "      <td>40000.0</td>\n",
       "      <td>40000.0</td>\n",
       "      <td>39975.000000</td>\n",
       "      <td>964.03</td>\n",
       "      <td>220000.00</td>\n",
       "      <td>10.88</td>\n",
       "      <td>0.0</td>\n",
       "      <td>715.0</td>\n",
       "      <td>719.0</td>\n",
       "      <td>2.0</td>\n",
       "      <td>...</td>\n",
       "      <td>13.3%</td>\n",
       "      <td>f</td>\n",
       "      <td>Feb-2017</td>\n",
       "      <td>Jan-2018</td>\n",
       "      <td>Individual</td>\n",
       "      <td>N</td>\n",
       "      <td>Cash</td>\n",
       "      <td>N</td>\n",
       "      <td>2016</td>\n",
       "      <td>10</td>\n",
       "    </tr>\n",
       "    <tr>\n",
       "      <th>103527</th>\n",
       "      <td>22000.0</td>\n",
       "      <td>22000.0</td>\n",
       "      <td>22000.000000</td>\n",
       "      <td>511.79</td>\n",
       "      <td>93600.00</td>\n",
       "      <td>11.42</td>\n",
       "      <td>0.0</td>\n",
       "      <td>720.0</td>\n",
       "      <td>724.0</td>\n",
       "      <td>0.0</td>\n",
       "      <td>...</td>\n",
       "      <td>63.6%</td>\n",
       "      <td>f</td>\n",
       "      <td>Jan-2018</td>\n",
       "      <td>Jan-2018</td>\n",
       "      <td>Joint App</td>\n",
       "      <td>N</td>\n",
       "      <td>Cash</td>\n",
       "      <td>N</td>\n",
       "      <td>2016</td>\n",
       "      <td>10</td>\n",
       "    </tr>\n",
       "    <tr>\n",
       "      <th>103528</th>\n",
       "      <td>30000.0</td>\n",
       "      <td>30000.0</td>\n",
       "      <td>30000.000000</td>\n",
       "      <td>629.91</td>\n",
       "      <td>110000.00</td>\n",
       "      <td>10.20</td>\n",
       "      <td>1.0</td>\n",
       "      <td>745.0</td>\n",
       "      <td>749.0</td>\n",
       "      <td>0.0</td>\n",
       "      <td>...</td>\n",
       "      <td>33.8%</td>\n",
       "      <td>f</td>\n",
       "      <td>Jan-2018</td>\n",
       "      <td>Jan-2018</td>\n",
       "      <td>Individual</td>\n",
       "      <td>N</td>\n",
       "      <td>Cash</td>\n",
       "      <td>N</td>\n",
       "      <td>2016</td>\n",
       "      <td>10</td>\n",
       "    </tr>\n",
       "    <tr>\n",
       "      <th>103529</th>\n",
       "      <td>24000.0</td>\n",
       "      <td>24000.0</td>\n",
       "      <td>24000.000000</td>\n",
       "      <td>543.50</td>\n",
       "      <td>63000.00</td>\n",
       "      <td>19.73</td>\n",
       "      <td>1.0</td>\n",
       "      <td>670.0</td>\n",
       "      <td>674.0</td>\n",
       "      <td>0.0</td>\n",
       "      <td>...</td>\n",
       "      <td>47%</td>\n",
       "      <td>f</td>\n",
       "      <td>Jan-2018</td>\n",
       "      <td>Jan-2018</td>\n",
       "      <td>Individual</td>\n",
       "      <td>N</td>\n",
       "      <td>Cash</td>\n",
       "      <td>N</td>\n",
       "      <td>2016</td>\n",
       "      <td>10</td>\n",
       "    </tr>\n",
       "    <tr>\n",
       "      <th>103530</th>\n",
       "      <td>30000.0</td>\n",
       "      <td>30000.0</td>\n",
       "      <td>30000.000000</td>\n",
       "      <td>697.90</td>\n",
       "      <td>107000.00</td>\n",
       "      <td>28.38</td>\n",
       "      <td>2.0</td>\n",
       "      <td>690.0</td>\n",
       "      <td>694.0</td>\n",
       "      <td>1.0</td>\n",
       "      <td>...</td>\n",
       "      <td>51.3%</td>\n",
       "      <td>f</td>\n",
       "      <td>Jan-2018</td>\n",
       "      <td>Jan-2018</td>\n",
       "      <td>Individual</td>\n",
       "      <td>N</td>\n",
       "      <td>Cash</td>\n",
       "      <td>N</td>\n",
       "      <td>2016</td>\n",
       "      <td>10</td>\n",
       "    </tr>\n",
       "    <tr>\n",
       "      <th>103531</th>\n",
       "      <td>15000.0</td>\n",
       "      <td>15000.0</td>\n",
       "      <td>15000.000000</td>\n",
       "      <td>487.47</td>\n",
       "      <td>60000.00</td>\n",
       "      <td>26.40</td>\n",
       "      <td>0.0</td>\n",
       "      <td>680.0</td>\n",
       "      <td>684.0</td>\n",
       "      <td>0.0</td>\n",
       "      <td>...</td>\n",
       "      <td>36.1%</td>\n",
       "      <td>f</td>\n",
       "      <td>May-2017</td>\n",
       "      <td>May-2017</td>\n",
       "      <td>Individual</td>\n",
       "      <td>N</td>\n",
       "      <td>Cash</td>\n",
       "      <td>N</td>\n",
       "      <td>2016</td>\n",
       "      <td>10</td>\n",
       "    </tr>\n",
       "    <tr>\n",
       "      <th>103532</th>\n",
       "      <td>36400.0</td>\n",
       "      <td>36400.0</td>\n",
       "      <td>36400.000000</td>\n",
       "      <td>856.24</td>\n",
       "      <td>95000.00</td>\n",
       "      <td>21.50</td>\n",
       "      <td>0.0</td>\n",
       "      <td>720.0</td>\n",
       "      <td>724.0</td>\n",
       "      <td>0.0</td>\n",
       "      <td>...</td>\n",
       "      <td>79.8%</td>\n",
       "      <td>f</td>\n",
       "      <td>Jan-2017</td>\n",
       "      <td>May-2017</td>\n",
       "      <td>Individual</td>\n",
       "      <td>N</td>\n",
       "      <td>Cash</td>\n",
       "      <td>N</td>\n",
       "      <td>2016</td>\n",
       "      <td>10</td>\n",
       "    </tr>\n",
       "    <tr>\n",
       "      <th>103533</th>\n",
       "      <td>28000.0</td>\n",
       "      <td>28000.0</td>\n",
       "      <td>28000.000000</td>\n",
       "      <td>581.10</td>\n",
       "      <td>97000.00</td>\n",
       "      <td>22.23</td>\n",
       "      <td>0.0</td>\n",
       "      <td>745.0</td>\n",
       "      <td>749.0</td>\n",
       "      <td>0.0</td>\n",
       "      <td>...</td>\n",
       "      <td>19.7%</td>\n",
       "      <td>f</td>\n",
       "      <td>Jan-2018</td>\n",
       "      <td>Jan-2018</td>\n",
       "      <td>Individual</td>\n",
       "      <td>N</td>\n",
       "      <td>Cash</td>\n",
       "      <td>N</td>\n",
       "      <td>2016</td>\n",
       "      <td>10</td>\n",
       "    </tr>\n",
       "    <tr>\n",
       "      <th>103534</th>\n",
       "      <td>23800.0</td>\n",
       "      <td>23800.0</td>\n",
       "      <td>23800.000000</td>\n",
       "      <td>559.85</td>\n",
       "      <td>119000.00</td>\n",
       "      <td>32.73</td>\n",
       "      <td>0.0</td>\n",
       "      <td>685.0</td>\n",
       "      <td>689.0</td>\n",
       "      <td>1.0</td>\n",
       "      <td>...</td>\n",
       "      <td>89.5%</td>\n",
       "      <td>f</td>\n",
       "      <td>Jan-2018</td>\n",
       "      <td>Jan-2018</td>\n",
       "      <td>Individual</td>\n",
       "      <td>N</td>\n",
       "      <td>Cash</td>\n",
       "      <td>N</td>\n",
       "      <td>2016</td>\n",
       "      <td>10</td>\n",
       "    </tr>\n",
       "    <tr>\n",
       "      <th>103535</th>\n",
       "      <td>18000.0</td>\n",
       "      <td>18000.0</td>\n",
       "      <td>18000.000000</td>\n",
       "      <td>377.95</td>\n",
       "      <td>130000.00</td>\n",
       "      <td>20.59</td>\n",
       "      <td>0.0</td>\n",
       "      <td>735.0</td>\n",
       "      <td>739.0</td>\n",
       "      <td>1.0</td>\n",
       "      <td>...</td>\n",
       "      <td>34%</td>\n",
       "      <td>f</td>\n",
       "      <td>Jan-2018</td>\n",
       "      <td>Jan-2018</td>\n",
       "      <td>Individual</td>\n",
       "      <td>N</td>\n",
       "      <td>Cash</td>\n",
       "      <td>N</td>\n",
       "      <td>2016</td>\n",
       "      <td>10</td>\n",
       "    </tr>\n",
       "    <tr>\n",
       "      <th>103536</th>\n",
       "      <td>40000.0</td>\n",
       "      <td>40000.0</td>\n",
       "      <td>40000.000000</td>\n",
       "      <td>859.56</td>\n",
       "      <td>150000.00</td>\n",
       "      <td>15.47</td>\n",
       "      <td>0.0</td>\n",
       "      <td>725.0</td>\n",
       "      <td>729.0</td>\n",
       "      <td>0.0</td>\n",
       "      <td>...</td>\n",
       "      <td>63.8%</td>\n",
       "      <td>f</td>\n",
       "      <td>Jan-2018</td>\n",
       "      <td>Jan-2018</td>\n",
       "      <td>Individual</td>\n",
       "      <td>N</td>\n",
       "      <td>Cash</td>\n",
       "      <td>N</td>\n",
       "      <td>2016</td>\n",
       "      <td>10</td>\n",
       "    </tr>\n",
       "    <tr>\n",
       "      <th>103537</th>\n",
       "      <td>32000.0</td>\n",
       "      <td>32000.0</td>\n",
       "      <td>32000.000000</td>\n",
       "      <td>752.74</td>\n",
       "      <td>157000.00</td>\n",
       "      <td>10.34</td>\n",
       "      <td>0.0</td>\n",
       "      <td>735.0</td>\n",
       "      <td>739.0</td>\n",
       "      <td>0.0</td>\n",
       "      <td>...</td>\n",
       "      <td>27.4%</td>\n",
       "      <td>f</td>\n",
       "      <td>Mar-2017</td>\n",
       "      <td>Jan-2018</td>\n",
       "      <td>Individual</td>\n",
       "      <td>N</td>\n",
       "      <td>Cash</td>\n",
       "      <td>N</td>\n",
       "      <td>2016</td>\n",
       "      <td>10</td>\n",
       "    </tr>\n",
       "    <tr>\n",
       "      <th>103538</th>\n",
       "      <td>29400.0</td>\n",
       "      <td>29400.0</td>\n",
       "      <td>29400.000000</td>\n",
       "      <td>683.94</td>\n",
       "      <td>180792.00</td>\n",
       "      <td>22.03</td>\n",
       "      <td>0.0</td>\n",
       "      <td>705.0</td>\n",
       "      <td>709.0</td>\n",
       "      <td>1.0</td>\n",
       "      <td>...</td>\n",
       "      <td>85.2%</td>\n",
       "      <td>f</td>\n",
       "      <td>Jan-2018</td>\n",
       "      <td>Jan-2018</td>\n",
       "      <td>Individual</td>\n",
       "      <td>N</td>\n",
       "      <td>Cash</td>\n",
       "      <td>N</td>\n",
       "      <td>2016</td>\n",
       "      <td>10</td>\n",
       "    </tr>\n",
       "    <tr>\n",
       "      <th>103539</th>\n",
       "      <td>16000.0</td>\n",
       "      <td>16000.0</td>\n",
       "      <td>16000.000000</td>\n",
       "      <td>362.34</td>\n",
       "      <td>150000.00</td>\n",
       "      <td>12.25</td>\n",
       "      <td>0.0</td>\n",
       "      <td>665.0</td>\n",
       "      <td>669.0</td>\n",
       "      <td>0.0</td>\n",
       "      <td>...</td>\n",
       "      <td>55%</td>\n",
       "      <td>f</td>\n",
       "      <td>Jan-2018</td>\n",
       "      <td>Jan-2018</td>\n",
       "      <td>Individual</td>\n",
       "      <td>N</td>\n",
       "      <td>Cash</td>\n",
       "      <td>N</td>\n",
       "      <td>2016</td>\n",
       "      <td>10</td>\n",
       "    </tr>\n",
       "    <tr>\n",
       "      <th>103540</th>\n",
       "      <td>24000.0</td>\n",
       "      <td>24000.0</td>\n",
       "      <td>24000.000000</td>\n",
       "      <td>515.74</td>\n",
       "      <td>125000.00</td>\n",
       "      <td>10.98</td>\n",
       "      <td>0.0</td>\n",
       "      <td>725.0</td>\n",
       "      <td>729.0</td>\n",
       "      <td>0.0</td>\n",
       "      <td>...</td>\n",
       "      <td>22.4%</td>\n",
       "      <td>f</td>\n",
       "      <td>Jan-2018</td>\n",
       "      <td>Jan-2018</td>\n",
       "      <td>Individual</td>\n",
       "      <td>N</td>\n",
       "      <td>Cash</td>\n",
       "      <td>N</td>\n",
       "      <td>2016</td>\n",
       "      <td>10</td>\n",
       "    </tr>\n",
       "    <tr>\n",
       "      <th>103541</th>\n",
       "      <td>24000.0</td>\n",
       "      <td>24000.0</td>\n",
       "      <td>24000.000000</td>\n",
       "      <td>543.50</td>\n",
       "      <td>95000.00</td>\n",
       "      <td>19.61</td>\n",
       "      <td>0.0</td>\n",
       "      <td>665.0</td>\n",
       "      <td>669.0</td>\n",
       "      <td>0.0</td>\n",
       "      <td>...</td>\n",
       "      <td>84.4%</td>\n",
       "      <td>f</td>\n",
       "      <td>Jan-2018</td>\n",
       "      <td>Jan-2018</td>\n",
       "      <td>Individual</td>\n",
       "      <td>N</td>\n",
       "      <td>Cash</td>\n",
       "      <td>N</td>\n",
       "      <td>2016</td>\n",
       "      <td>10</td>\n",
       "    </tr>\n",
       "    <tr>\n",
       "      <th>103542</th>\n",
       "      <td>24000.0</td>\n",
       "      <td>24000.0</td>\n",
       "      <td>24000.000000</td>\n",
       "      <td>515.74</td>\n",
       "      <td>108000.00</td>\n",
       "      <td>34.94</td>\n",
       "      <td>0.0</td>\n",
       "      <td>695.0</td>\n",
       "      <td>699.0</td>\n",
       "      <td>1.0</td>\n",
       "      <td>...</td>\n",
       "      <td>39%</td>\n",
       "      <td>f</td>\n",
       "      <td>Jan-2018</td>\n",
       "      <td>Jan-2018</td>\n",
       "      <td>Individual</td>\n",
       "      <td>N</td>\n",
       "      <td>Cash</td>\n",
       "      <td>N</td>\n",
       "      <td>2016</td>\n",
       "      <td>10</td>\n",
       "    </tr>\n",
       "    <tr>\n",
       "      <th>103543</th>\n",
       "      <td>40000.0</td>\n",
       "      <td>40000.0</td>\n",
       "      <td>40000.000000</td>\n",
       "      <td>859.56</td>\n",
       "      <td>227000.00</td>\n",
       "      <td>12.75</td>\n",
       "      <td>7.0</td>\n",
       "      <td>705.0</td>\n",
       "      <td>709.0</td>\n",
       "      <td>1.0</td>\n",
       "      <td>...</td>\n",
       "      <td>64.9%</td>\n",
       "      <td>f</td>\n",
       "      <td>Jan-2018</td>\n",
       "      <td>Jan-2018</td>\n",
       "      <td>Individual</td>\n",
       "      <td>N</td>\n",
       "      <td>Cash</td>\n",
       "      <td>N</td>\n",
       "      <td>2016</td>\n",
       "      <td>10</td>\n",
       "    </tr>\n",
       "    <tr>\n",
       "      <th>103544</th>\n",
       "      <td>24000.0</td>\n",
       "      <td>24000.0</td>\n",
       "      <td>24000.000000</td>\n",
       "      <td>564.56</td>\n",
       "      <td>110000.00</td>\n",
       "      <td>18.30</td>\n",
       "      <td>0.0</td>\n",
       "      <td>660.0</td>\n",
       "      <td>664.0</td>\n",
       "      <td>0.0</td>\n",
       "      <td>...</td>\n",
       "      <td>68.1%</td>\n",
       "      <td>f</td>\n",
       "      <td>Oct-2017</td>\n",
       "      <td>Jan-2018</td>\n",
       "      <td>Individual</td>\n",
       "      <td>N</td>\n",
       "      <td>Cash</td>\n",
       "      <td>N</td>\n",
       "      <td>2016</td>\n",
       "      <td>10</td>\n",
       "    </tr>\n",
       "    <tr>\n",
       "      <th>103545</th>\n",
       "      <td>14000.0</td>\n",
       "      <td>14000.0</td>\n",
       "      <td>14000.000000</td>\n",
       "      <td>329.33</td>\n",
       "      <td>95000.00</td>\n",
       "      <td>23.36</td>\n",
       "      <td>0.0</td>\n",
       "      <td>660.0</td>\n",
       "      <td>664.0</td>\n",
       "      <td>1.0</td>\n",
       "      <td>...</td>\n",
       "      <td>54%</td>\n",
       "      <td>w</td>\n",
       "      <td>Dec-2017</td>\n",
       "      <td>Jan-2018</td>\n",
       "      <td>Individual</td>\n",
       "      <td>N</td>\n",
       "      <td>Cash</td>\n",
       "      <td>N</td>\n",
       "      <td>2016</td>\n",
       "      <td>10</td>\n",
       "    </tr>\n",
       "  </tbody>\n",
       "</table>\n",
       "<p>1321847 rows × 91 columns</p>\n",
       "</div>"
      ],
      "text/plain": [
       "        loan_amnt  funded_amnt  funded_amnt_inv  installment  annual_inc  \\\n",
       "0          5000.0       5000.0      4975.000000       162.87    24000.00   \n",
       "1          2500.0       2500.0      2500.000000        59.83    30000.00   \n",
       "2          2400.0       2400.0      2400.000000        84.33    12252.00   \n",
       "3         10000.0      10000.0     10000.000000       339.31    49200.00   \n",
       "4          3000.0       3000.0      3000.000000        67.79    80000.00   \n",
       "5          5000.0       5000.0      5000.000000       156.46    36000.00   \n",
       "6          7000.0       7000.0      7000.000000       170.08    47004.00   \n",
       "7          3000.0       3000.0      3000.000000       109.43    48000.00   \n",
       "8          5600.0       5600.0      5600.000000       152.39    40000.00   \n",
       "9          5375.0       5375.0      5350.000000       121.45    15000.00   \n",
       "10         6500.0       6500.0      6500.000000       153.45    72000.00   \n",
       "11        12000.0      12000.0     12000.000000       402.54    75000.00   \n",
       "12         9000.0       9000.0      9000.000000       305.38    30000.00   \n",
       "13         3000.0       3000.0      3000.000000        96.68    15000.00   \n",
       "14        10000.0      10000.0     10000.000000       325.74   100000.00   \n",
       "15         1000.0       1000.0      1000.000000        35.31    28000.00   \n",
       "16        10000.0      10000.0     10000.000000       347.98    42000.00   \n",
       "17         3600.0       3600.0      3600.000000       109.57   110000.00   \n",
       "18         6000.0       6000.0      6000.000000       198.46    84000.00   \n",
       "19         9200.0       9200.0      9200.000000       280.01    77385.19   \n",
       "20        20250.0      20250.0     19142.161077       484.63    43370.00   \n",
       "21        21000.0      21000.0     21000.000000       701.73   105000.00   \n",
       "22        10000.0      10000.0     10000.000000       330.76    50000.00   \n",
       "23        10000.0      10000.0     10000.000000       330.76    50000.00   \n",
       "24         6000.0       6000.0      6000.000000       198.46    76000.00   \n",
       "25        15000.0      15000.0     15000.000000       483.38    92000.00   \n",
       "26        15000.0      15000.0      8725.000000       514.64    60000.00   \n",
       "27         5000.0       5000.0      5000.000000       123.65    50004.00   \n",
       "28         4000.0       4000.0      4000.000000       132.31   106000.00   \n",
       "29         8500.0       8500.0      8500.000000       281.15    25000.00   \n",
       "...           ...          ...              ...          ...         ...   \n",
       "103516    20000.0      20000.0     20000.000000       482.02    91000.00   \n",
       "103517    24750.0      24750.0     24750.000000       531.86    55000.00   \n",
       "103518    16000.0      16000.0     16000.000000       372.21   153000.00   \n",
       "103519    32000.0      32000.0     32000.000000       744.42   125000.00   \n",
       "103520    20000.0      20000.0     20000.000000       482.02   177000.00   \n",
       "103521    38000.0      38000.0     38000.000000       874.18   120000.00   \n",
       "103522    16000.0      16000.0     16000.000000       347.80   120000.00   \n",
       "103523    11200.0      11200.0     11200.000000       257.66    86000.00   \n",
       "103524    36000.0      36000.0     36000.000000       782.55   101000.00   \n",
       "103525    32000.0      32000.0     31950.000000       752.74    98000.00   \n",
       "103526    40000.0      40000.0     39975.000000       964.03   220000.00   \n",
       "103527    22000.0      22000.0     22000.000000       511.79    93600.00   \n",
       "103528    30000.0      30000.0     30000.000000       629.91   110000.00   \n",
       "103529    24000.0      24000.0     24000.000000       543.50    63000.00   \n",
       "103530    30000.0      30000.0     30000.000000       697.90   107000.00   \n",
       "103531    15000.0      15000.0     15000.000000       487.47    60000.00   \n",
       "103532    36400.0      36400.0     36400.000000       856.24    95000.00   \n",
       "103533    28000.0      28000.0     28000.000000       581.10    97000.00   \n",
       "103534    23800.0      23800.0     23800.000000       559.85   119000.00   \n",
       "103535    18000.0      18000.0     18000.000000       377.95   130000.00   \n",
       "103536    40000.0      40000.0     40000.000000       859.56   150000.00   \n",
       "103537    32000.0      32000.0     32000.000000       752.74   157000.00   \n",
       "103538    29400.0      29400.0     29400.000000       683.94   180792.00   \n",
       "103539    16000.0      16000.0     16000.000000       362.34   150000.00   \n",
       "103540    24000.0      24000.0     24000.000000       515.74   125000.00   \n",
       "103541    24000.0      24000.0     24000.000000       543.50    95000.00   \n",
       "103542    24000.0      24000.0     24000.000000       515.74   108000.00   \n",
       "103543    40000.0      40000.0     40000.000000       859.56   227000.00   \n",
       "103544    24000.0      24000.0     24000.000000       564.56   110000.00   \n",
       "103545    14000.0      14000.0     14000.000000       329.33    95000.00   \n",
       "\n",
       "          dti  delinq_2yrs  fico_range_low  fico_range_high  inq_last_6mths  \\\n",
       "0       27.65          0.0           735.0            739.0             1.0   \n",
       "1        1.00          0.0           740.0            744.0             5.0   \n",
       "2        8.72          0.0           735.0            739.0             2.0   \n",
       "3       20.00          0.0           690.0            694.0             1.0   \n",
       "4       17.94          0.0           695.0            699.0             0.0   \n",
       "5       11.20          0.0           730.0            734.0             3.0   \n",
       "6       23.51          0.0           690.0            694.0             1.0   \n",
       "7        5.35          0.0           660.0            664.0             2.0   \n",
       "8        5.55          0.0           675.0            679.0             2.0   \n",
       "9       18.08          0.0           725.0            729.0             0.0   \n",
       "10      16.12          0.0           695.0            699.0             2.0   \n",
       "11      10.78          0.0           675.0            679.0             0.0   \n",
       "12      10.08          0.0           710.0            714.0             1.0   \n",
       "13      12.56          0.0           705.0            709.0             2.0   \n",
       "14       7.06          0.0           720.0            724.0             2.0   \n",
       "15      20.31          0.0           665.0            669.0             1.0   \n",
       "16      18.60          0.0           670.0            674.0             2.0   \n",
       "17      10.52          0.0           760.0            764.0             0.0   \n",
       "18      18.44          2.0           685.0            689.0             0.0   \n",
       "19       9.86          0.0           755.0            759.0             0.0   \n",
       "20      26.53          0.0           725.0            729.0             3.0   \n",
       "21      13.22          0.0           705.0            709.0             0.0   \n",
       "22      11.18          0.0           690.0            694.0             0.0   \n",
       "23      16.01          0.0           710.0            714.0             0.0   \n",
       "24       2.40          0.0           690.0            694.0             1.0   \n",
       "25      29.44          0.0           730.0            734.0             0.0   \n",
       "26      15.22          0.0           695.0            699.0             1.0   \n",
       "27      13.97          3.0           675.0            679.0             0.0   \n",
       "28       5.63          1.0           680.0            684.0             0.0   \n",
       "29      12.19          0.0           695.0            699.0             0.0   \n",
       "...       ...          ...             ...              ...             ...   \n",
       "103516  23.24          2.0           665.0            669.0             1.0   \n",
       "103517  26.71          1.0           685.0            689.0             0.0   \n",
       "103518  15.00          1.0           675.0            679.0             0.0   \n",
       "103519  29.89          1.0           670.0            674.0             2.0   \n",
       "103520  12.36          0.0           665.0            669.0             0.0   \n",
       "103521  14.44          0.0           715.0            719.0             0.0   \n",
       "103522  12.40          1.0           745.0            749.0             2.0   \n",
       "103523   4.80          0.0           665.0            669.0             0.0   \n",
       "103524  11.55          0.0           690.0            694.0             0.0   \n",
       "103525   3.43          0.0           665.0            669.0             0.0   \n",
       "103526  10.88          0.0           715.0            719.0             2.0   \n",
       "103527  11.42          0.0           720.0            724.0             0.0   \n",
       "103528  10.20          1.0           745.0            749.0             0.0   \n",
       "103529  19.73          1.0           670.0            674.0             0.0   \n",
       "103530  28.38          2.0           690.0            694.0             1.0   \n",
       "103531  26.40          0.0           680.0            684.0             0.0   \n",
       "103532  21.50          0.0           720.0            724.0             0.0   \n",
       "103533  22.23          0.0           745.0            749.0             0.0   \n",
       "103534  32.73          0.0           685.0            689.0             1.0   \n",
       "103535  20.59          0.0           735.0            739.0             1.0   \n",
       "103536  15.47          0.0           725.0            729.0             0.0   \n",
       "103537  10.34          0.0           735.0            739.0             0.0   \n",
       "103538  22.03          0.0           705.0            709.0             1.0   \n",
       "103539  12.25          0.0           665.0            669.0             0.0   \n",
       "103540  10.98          0.0           725.0            729.0             0.0   \n",
       "103541  19.61          0.0           665.0            669.0             0.0   \n",
       "103542  34.94          0.0           695.0            699.0             1.0   \n",
       "103543  12.75          7.0           705.0            709.0             1.0   \n",
       "103544  18.30          0.0           660.0            664.0             0.0   \n",
       "103545  23.36          0.0           660.0            664.0             1.0   \n",
       "\n",
       "           ...       revol_util  initial_list_status  last_pymnt_d  \\\n",
       "0          ...            83.7%                    f      Jan-2015   \n",
       "1          ...             9.4%                    f      Apr-2013   \n",
       "2          ...            98.5%                    f      Jun-2014   \n",
       "3          ...              21%                    f      Jan-2015   \n",
       "4          ...            53.9%                    f      Jan-2017   \n",
       "5          ...            28.3%                    f      Jan-2015   \n",
       "6          ...            85.6%                    f      May-2016   \n",
       "7          ...            87.5%                    f      Jan-2015   \n",
       "8          ...            32.6%                    f      Apr-2012   \n",
       "9          ...            36.5%                    f      Nov-2012   \n",
       "10         ...            20.6%                    f      Jun-2013   \n",
       "11         ...            67.1%                    f      Sep-2013   \n",
       "12         ...            91.7%                    f      Jul-2012   \n",
       "13         ...            43.1%                    f      Jan-2015   \n",
       "14         ...            55.5%                    f      Oct-2013   \n",
       "15         ...            81.5%                    f      Jan-2015   \n",
       "16         ...            70.2%                    f      Jan-2015   \n",
       "17         ...              16%                    f      May-2013   \n",
       "18         ...           37.73%                    f      Feb-2015   \n",
       "19         ...            23.1%                    f      Jul-2012   \n",
       "20         ...            85.6%                    f      Aug-2015   \n",
       "21         ...            90.3%                    f      Sep-2013   \n",
       "22         ...            82.4%                    f      Jan-2015   \n",
       "23         ...            91.8%                    f      Oct-2013   \n",
       "24         ...            29.7%                    f      Oct-2012   \n",
       "25         ...            93.9%                    f      Sep-2012   \n",
       "26         ...            57.6%                    f      Jan-2018   \n",
       "27         ...            59.5%                    f      Dec-2012   \n",
       "28         ...            37.7%                    f      Apr-2013   \n",
       "29         ...            59.1%                    f      Dec-2014   \n",
       "...        ...              ...                  ...           ...   \n",
       "103516     ...            54.4%                    f      Jan-2018   \n",
       "103517     ...              64%                    f      Jan-2018   \n",
       "103518     ...            56.5%                    f      Jan-2018   \n",
       "103519     ...            41.6%                    f      Dec-2016   \n",
       "103520     ...            60.8%                    f      Jan-2018   \n",
       "103521     ...            37.8%                    f      Jan-2018   \n",
       "103522     ...             7.6%                    f      Jan-2018   \n",
       "103523     ...            54.7%                    f      Jan-2018   \n",
       "103524     ...            73.3%                    f      Jan-2018   \n",
       "103525     ...            74.9%                    f      Jan-2018   \n",
       "103526     ...            13.3%                    f      Feb-2017   \n",
       "103527     ...            63.6%                    f      Jan-2018   \n",
       "103528     ...            33.8%                    f      Jan-2018   \n",
       "103529     ...              47%                    f      Jan-2018   \n",
       "103530     ...            51.3%                    f      Jan-2018   \n",
       "103531     ...            36.1%                    f      May-2017   \n",
       "103532     ...            79.8%                    f      Jan-2017   \n",
       "103533     ...            19.7%                    f      Jan-2018   \n",
       "103534     ...            89.5%                    f      Jan-2018   \n",
       "103535     ...              34%                    f      Jan-2018   \n",
       "103536     ...            63.8%                    f      Jan-2018   \n",
       "103537     ...            27.4%                    f      Mar-2017   \n",
       "103538     ...            85.2%                    f      Jan-2018   \n",
       "103539     ...              55%                    f      Jan-2018   \n",
       "103540     ...            22.4%                    f      Jan-2018   \n",
       "103541     ...            84.4%                    f      Jan-2018   \n",
       "103542     ...              39%                    f      Jan-2018   \n",
       "103543     ...            64.9%                    f      Jan-2018   \n",
       "103544     ...            68.1%                    f      Oct-2017   \n",
       "103545     ...              54%                    w      Dec-2017   \n",
       "\n",
       "        last_credit_pull_d  application_type  hardship_flag  \\\n",
       "0                 Dec-2017        Individual              N   \n",
       "1                 Oct-2016        Individual              N   \n",
       "2                 Jun-2017        Individual              N   \n",
       "3                 Apr-2016        Individual              N   \n",
       "4                 Jan-2017        Individual              N   \n",
       "5                 Feb-2017        Individual              N   \n",
       "6                 Sep-2016        Individual              N   \n",
       "7                 Dec-2014        Individual              N   \n",
       "8                 Oct-2016        Individual              N   \n",
       "9                 Dec-2016        Individual              N   \n",
       "10                Aug-2017        Individual              N   \n",
       "11                Aug-2013        Individual              N   \n",
       "12                Oct-2016        Individual              N   \n",
       "13                Apr-2017        Individual              N   \n",
       "14                Oct-2016        Individual              N   \n",
       "15                Dec-2017        Individual              N   \n",
       "16                Sep-2017        Individual              N   \n",
       "17                May-2014        Individual              N   \n",
       "18                Jul-2015        Individual              N   \n",
       "19                Feb-2016        Individual              N   \n",
       "20                Jun-2016        Individual              N   \n",
       "21                Feb-2017        Individual              N   \n",
       "22                Dec-2017        Individual              N   \n",
       "23                Mar-2014        Individual              N   \n",
       "24                Oct-2016        Individual              N   \n",
       "25                Sep-2012        Individual              N   \n",
       "26                Dec-2017        Individual              N   \n",
       "27                Oct-2016        Individual              N   \n",
       "28                Dec-2017        Individual              N   \n",
       "29                Jan-2015        Individual              N   \n",
       "...                    ...               ...            ...   \n",
       "103516            Jan-2018        Individual              N   \n",
       "103517            Jan-2018        Individual              N   \n",
       "103518            Jan-2018        Individual              N   \n",
       "103519            Jun-2017        Individual              N   \n",
       "103520            Jan-2018        Individual              N   \n",
       "103521            Jan-2018        Individual              N   \n",
       "103522            Jan-2018        Individual              N   \n",
       "103523            Jan-2018        Individual              N   \n",
       "103524            Jan-2018        Individual              N   \n",
       "103525            Jan-2018        Individual              N   \n",
       "103526            Jan-2018        Individual              N   \n",
       "103527            Jan-2018         Joint App              N   \n",
       "103528            Jan-2018        Individual              N   \n",
       "103529            Jan-2018        Individual              N   \n",
       "103530            Jan-2018        Individual              N   \n",
       "103531            May-2017        Individual              N   \n",
       "103532            May-2017        Individual              N   \n",
       "103533            Jan-2018        Individual              N   \n",
       "103534            Jan-2018        Individual              N   \n",
       "103535            Jan-2018        Individual              N   \n",
       "103536            Jan-2018        Individual              N   \n",
       "103537            Jan-2018        Individual              N   \n",
       "103538            Jan-2018        Individual              N   \n",
       "103539            Jan-2018        Individual              N   \n",
       "103540            Jan-2018        Individual              N   \n",
       "103541            Jan-2018        Individual              N   \n",
       "103542            Jan-2018        Individual              N   \n",
       "103543            Jan-2018        Individual              N   \n",
       "103544            Jan-2018        Individual              N   \n",
       "103545            Jan-2018        Individual              N   \n",
       "\n",
       "        disbursement_method  debt_settlement_flag  issue_year  issue_month  \n",
       "0                      Cash                     N        2011           12  \n",
       "1                      Cash                     N        2011           12  \n",
       "2                      Cash                     N        2011           12  \n",
       "3                      Cash                     N        2011           12  \n",
       "4                      Cash                     N        2011           12  \n",
       "5                      Cash                     N        2011           12  \n",
       "6                      Cash                     N        2011           12  \n",
       "7                      Cash                     N        2011           12  \n",
       "8                      Cash                     N        2011           12  \n",
       "9                      Cash                     N        2011           12  \n",
       "10                     Cash                     N        2011           12  \n",
       "11                     Cash                     N        2011           12  \n",
       "12                     Cash                     N        2011           12  \n",
       "13                     Cash                     N        2011           12  \n",
       "14                     Cash                     N        2011           12  \n",
       "15                     Cash                     N        2011           12  \n",
       "16                     Cash                     N        2011           12  \n",
       "17                     Cash                     N        2011           12  \n",
       "18                     Cash                     N        2011           12  \n",
       "19                     Cash                     N        2011           12  \n",
       "20                     Cash                     N        2011           12  \n",
       "21                     Cash                     N        2011           12  \n",
       "22                     Cash                     N        2011           12  \n",
       "23                     Cash                     N        2011           12  \n",
       "24                     Cash                     N        2011           12  \n",
       "25                     Cash                     N        2011           12  \n",
       "26                     Cash                     N        2011           12  \n",
       "27                     Cash                     N        2011           12  \n",
       "28                     Cash                     N        2011           12  \n",
       "29                     Cash                     N        2011           12  \n",
       "...                     ...                   ...         ...          ...  \n",
       "103516                 Cash                     N        2016           10  \n",
       "103517                 Cash                     N        2016           10  \n",
       "103518                 Cash                     N        2016           10  \n",
       "103519                 Cash                     N        2016           10  \n",
       "103520                 Cash                     N        2016           10  \n",
       "103521                 Cash                     N        2016           10  \n",
       "103522                 Cash                     N        2016           10  \n",
       "103523                 Cash                     N        2016           10  \n",
       "103524                 Cash                     N        2016           10  \n",
       "103525                 Cash                     N        2016           10  \n",
       "103526                 Cash                     N        2016           10  \n",
       "103527                 Cash                     N        2016           10  \n",
       "103528                 Cash                     N        2016           10  \n",
       "103529                 Cash                     N        2016           10  \n",
       "103530                 Cash                     N        2016           10  \n",
       "103531                 Cash                     N        2016           10  \n",
       "103532                 Cash                     N        2016           10  \n",
       "103533                 Cash                     N        2016           10  \n",
       "103534                 Cash                     N        2016           10  \n",
       "103535                 Cash                     N        2016           10  \n",
       "103536                 Cash                     N        2016           10  \n",
       "103537                 Cash                     N        2016           10  \n",
       "103538                 Cash                     N        2016           10  \n",
       "103539                 Cash                     N        2016           10  \n",
       "103540                 Cash                     N        2016           10  \n",
       "103541                 Cash                     N        2016           10  \n",
       "103542                 Cash                     N        2016           10  \n",
       "103543                 Cash                     N        2016           10  \n",
       "103544                 Cash                     N        2016           10  \n",
       "103545                 Cash                     N        2016           10  \n",
       "\n",
       "[1321847 rows x 91 columns]"
      ]
     },
     "execution_count": 5,
     "metadata": {},
     "output_type": "execute_result"
    }
   ],
   "source": [
    "filtered_loans_df['issue_year'] = pd.DatetimeIndex(filtered_loans_df['issue_d']).year\n",
    "filtered_loans_df['issue_month'] = pd.DatetimeIndex(filtered_loans_df['issue_d']).month\n",
    "filtered_loans_df.drop(['issue_d'],axis=1)"
   ]
  },
  {
   "cell_type": "code",
   "execution_count": 22,
   "metadata": {},
   "outputs": [
    {
     "data": {
      "text/plain": [
       "<matplotlib.text.Text at 0x10a3d96a0>"
      ]
     },
     "execution_count": 22,
     "metadata": {},
     "output_type": "execute_result"
    },
    {
     "data": {
      "image/png": "[encoded data removed]",
      "text/plain": [
       "<matplotlib.figure.Figure at 0x141b2c438>"
      ]
     },
     "metadata": {},
     "output_type": "display_data"
    }
   ],
   "source": [
    "g = sns.countplot(x=\"issue_year\", data=filtered_loans_df)\n",
    "g.set_title(label=\"Loans by Issue Year\")"
   ]
  },
  {
   "cell_type": "markdown",
   "metadata": {},
   "source": [
    "<h4>Lets plot time series plot</h4>"
   ]
  },
  {
   "cell_type": "code",
   "execution_count": 23,
   "metadata": {},
   "outputs": [
    {
     "data": {
      "text/plain": [
       "<matplotlib.axes._subplots.AxesSubplot at 0x10a418eb8>"
      ]
     },
     "execution_count": 23,
     "metadata": {},
     "output_type": "execute_result"
    },
    {
     "data": {
      "image/png": "[encoded data removed]",
      "text/plain": [
       "<matplotlib.figure.Figure at 0x10e3d2da0>"
      ]
     },
     "metadata": {},
     "output_type": "display_data"
    }
   ],
   "source": [
    "filtered_loans_df.groupby(['issue_year'])['issue_year'].sum().plot()"
   ]
  },
  {
   "cell_type": "code",
   "execution_count": 24,
   "metadata": {},
   "outputs": [
    {
     "data": {
      "text/plain": [
       "<matplotlib.axes._subplots.AxesSubplot at 0x109533668>"
      ]
     },
     "execution_count": 24,
     "metadata": {},
     "output_type": "execute_result"
    },
    {
     "data": {
      "image/png": "[encoded data removed]",
      "text/plain": [
       "<matplotlib.figure.Figure at 0x1095f97b8>"
      ]
     },
     "metadata": {},
     "output_type": "display_data"
    }
   ],
   "source": [
    "filtered_loans_df.groupby(['issue_year','issue_month'])['issue_year'].sum().plot()"
   ]
  },
  {
   "cell_type": "markdown",
   "metadata": {},
   "source": [
    "Number of Loans issued by Lending Tree have increased from 2007 to 2016. The highest number of loans are issued in the year 2015 and 2016.The number of loans are alomst doubled in the year 2015 and 2016 in comparsion to the loans in 2013 and 2014."
   ]
  },
  {
   "cell_type": "markdown",
   "metadata": {},
   "source": [
    "<h4> Different Loan statuses </h4>"
   ]
  },
  {
   "cell_type": "code",
   "execution_count": 25,
   "metadata": {},
   "outputs": [
    {
     "data": {
      "text/plain": [
       "<matplotlib.text.Text at 0x109098da0>"
      ]
     },
     "execution_count": 25,
     "metadata": {},
     "output_type": "execute_result"
    },
    {
     "data": {
      "image/png": "[encoded data removed]",
      "text/plain": [
       "<matplotlib.figure.Figure at 0x106186ef0>"
      ]
     },
     "metadata": {},
     "output_type": "display_data"
    }
   ],
   "source": [
    "#Lets see the number of loans by loan_status\n",
    "g = sns.countplot(x=\"loan_status\", data=filtered_loans_df)\n",
    "g.set_xticklabels(g.get_xticklabels(),rotation=45)\n",
    "g.set_title(label=\"Loans by Status\")"
   ]
  },
  {
   "cell_type": "markdown",
   "metadata": {},
   "source": [
    "From the above graph we can see the maxium numbers of loans have been fully paid loan status.The charged off loans are pretty significant. Also, there are quite number of loans which are current."
   ]
  },
  {
   "cell_type": "code",
   "execution_count": 6,
   "metadata": {
    "collapsed": true
   },
   "outputs": [],
   "source": [
    "#Filter the loans with staus \"Fully Paid\" and \"Charged Off\"\n",
    "filtered_loans_df = filtered_loans_df[(filtered_loans_df[\"loan_status\"] == \"Fully Paid\") |\n",
    "                            (filtered_loans_df[\"loan_status\"] == \"Charged Off\")]"
   ]
  },
  {
   "cell_type": "code",
   "execution_count": 27,
   "metadata": {},
   "outputs": [
    {
     "data": {
      "text/plain": [
       "<matplotlib.text.Text at 0x10964f7f0>"
      ]
     },
     "execution_count": 27,
     "metadata": {},
     "output_type": "execute_result"
    },
    {
     "data": {
      "image/png": "[encoded data removed]",
      "text/plain": [
       "<matplotlib.figure.Figure at 0x10952d940>"
      ]
     },
     "metadata": {},
     "output_type": "display_data"
    }
   ],
   "source": [
    "g=sns.countplot(y=\"issue_year\", hue=\"loan_status\", data=filtered_loans_df);\n",
    "g.set_title(label=\"Loans by Issue Year\")"
   ]
  },
  {
   "cell_type": "markdown",
   "metadata": {},
   "source": [
    "Anlaysis from the above graph\n",
    "1. Number of maximum charged off loans are in the year 2015.\n",
    "2. Number of maxmium fully paid loans are in the year 2014 and 2015\n",
    "3. The number of loans in 2016 are less compared to 2014 and 2015. The reason may be, the loans are in \"current\" loan status."
   ]
  },
  {
   "cell_type": "code",
   "execution_count": 28,
   "metadata": {},
   "outputs": [
    {
     "data": {
      "text/plain": [
       "<matplotlib.text.Text at 0x10929b8d0>"
      ]
     },
     "execution_count": 28,
     "metadata": {},
     "output_type": "execute_result"
    },
    {
     "data": {
      "image/png": "[encoded data removed]",
      "text/plain": [
       "<matplotlib.figure.Figure at 0x10f44f6d8>"
      ]
     },
     "metadata": {},
     "output_type": "display_data"
    }
   ],
   "source": [
    "g = sns.countplot(x=\"loan_status\", data=filtered_loans_df)\n",
    "g.set_xticklabels(g.get_xticklabels(),rotation=45)\n",
    "g.set_title(label=\"Loans by Status\")"
   ]
  },
  {
   "cell_type": "markdown",
   "metadata": {},
   "source": [
    "There are total of 8000000 loans which have either fully paid or chanrged off status.From the graph it looks that the ratio of fully paid and charged off loans is 3:1. i.e almost 200000 loans are charged off from 2007 to 2016."
   ]
  },
  {
   "cell_type": "markdown",
   "metadata": {},
   "source": [
    "<h4>Which grade loans are charged off the most</h4>"
   ]
  },
  {
   "cell_type": "code",
   "execution_count": 29,
   "metadata": {},
   "outputs": [
    {
     "data": {
      "text/plain": [
       "<matplotlib.text.Text at 0x10a37a780>"
      ]
     },
     "execution_count": 29,
     "metadata": {},
     "output_type": "execute_result"
    },
    {
     "data": {
      "image/png": "[encoded data removed]",
      "text/plain": [
       "<matplotlib.figure.Figure at 0x1061817f0>"
      ]
     },
     "metadata": {},
     "output_type": "display_data"
    }
   ],
   "source": [
    "#plot the grpah between loan status and grade\n",
    "g = sns.countplot(y=\"grade\", hue=\"loan_status\", data=filtered_loans_df);\n",
    "g.set_title(label=\"Loans By Grade\")"
   ]
  },
  {
   "cell_type": "markdown",
   "metadata": {},
   "source": [
    "1. The maximum charged off loans are of grade C loans.\n",
    "2. Even the loan with good grades like A and B have significant charged off loans.\n",
    "3. Number of loans issued for F and G are very less but more than half the loans are charged off."
   ]
  },
  {
   "cell_type": "markdown",
   "metadata": {},
   "source": [
    "From the above graphs we noticed that there are significant loans that are chnarged off are issued in the year 2014,2015,2016. Lets see how different grade loans are charged off for the loasn issued in the years 2014,2015 and 2016."
   ]
  },
  {
   "cell_type": "code",
   "execution_count": 30,
   "metadata": {
    "collapsed": true
   },
   "outputs": [],
   "source": [
    "filtered_loans_2014_df = filtered_loans_df[(filtered_loans_df[\"issue_year\"] == 2014)]\n",
    "filtered_loans_2015_df = filtered_loans_df[(filtered_loans_df[\"issue_year\"] == 2015)]\n",
    "filtered_loans_2016_df = filtered_loans_df[(filtered_loans_df[\"issue_year\"] == 2016)]"
   ]
  },
  {
   "cell_type": "code",
   "execution_count": 31,
   "metadata": {},
   "outputs": [
    {
     "data": {
      "text/plain": [
       "<matplotlib.text.Text at 0x10a3b0320>"
      ]
     },
     "execution_count": 31,
     "metadata": {},
     "output_type": "execute_result"
    },
    {
     "data": {
      "image/png": "[encoded data removed]",
      "text/plain": [
       "<matplotlib.figure.Figure at 0x10a437278>"
      ]
     },
     "metadata": {},
     "output_type": "display_data"
    }
   ],
   "source": [
    "g = sns.countplot(y=\"grade\", hue=\"loan_status\", data=filtered_loans_2014_df);\n",
    "g.set_title(label=\"Loans By Grade (2014)\")"
   ]
  },
  {
   "cell_type": "code",
   "execution_count": 32,
   "metadata": {},
   "outputs": [
    {
     "data": {
      "text/plain": [
       "<matplotlib.text.Text at 0x109aef208>"
      ]
     },
     "execution_count": 32,
     "metadata": {},
     "output_type": "execute_result"
    },
    {
     "data": {
      "image/png": "[encoded data removed]",
      "text/plain": [
       "<matplotlib.figure.Figure at 0x10ab44f60>"
      ]
     },
     "metadata": {},
     "output_type": "display_data"
    }
   ],
   "source": [
    "g = sns.countplot(y=\"grade\", hue=\"loan_status\", data=filtered_loans_2015_df);\n",
    "g.set_title(label=\"Loans By Grade (2015)\")"
   ]
  },
  {
   "cell_type": "code",
   "execution_count": 33,
   "metadata": {},
   "outputs": [
    {
     "data": {
      "text/plain": [
       "<matplotlib.text.Text at 0x10ab7c400>"
      ]
     },
     "execution_count": 33,
     "metadata": {},
     "output_type": "execute_result"
    },
    {
     "data": {
      "image/png": "[encoded data removed]",
      "text/plain": [
       "<matplotlib.figure.Figure at 0x10f44f400>"
      ]
     },
     "metadata": {},
     "output_type": "display_data"
    }
   ],
   "source": [
    "g = sns.countplot(y=\"grade\", hue=\"loan_status\", data=filtered_loans_2016_df);\n",
    "g.set_title(label=\"Loans By Grade (2016)\")"
   ]
  },
  {
   "cell_type": "markdown",
   "metadata": {},
   "source": [
    "<p>It is evident from the above graphs that loans from grade C are charged off the most.Also the loans with grade B and D have significant charged off rate</p>"
   ]
  },
  {
   "cell_type": "markdown",
   "metadata": {},
   "source": [
    "<h4>Loans across different states in United States</h4>"
   ]
  },
  {
   "cell_type": "code",
   "execution_count": 34,
   "metadata": {},
   "outputs": [
    {
     "data": {
      "text/plain": [
       "<matplotlib.axes._subplots.AxesSubplot at 0x10f2675c0>"
      ]
     },
     "execution_count": 34,
     "metadata": {},
     "output_type": "execute_result"
    },
    {
     "data": {
      "image/png": "[encoded data removed]",
      "text/plain": [
       "<matplotlib.figure.Figure at 0x10a27c5c0>"
      ]
     },
     "metadata": {},
     "output_type": "display_data"
    }
   ],
   "source": [
    "#plot the number of loans per state\n",
    "state_count = filtered_loans_df.addr_state.value_counts()\n",
    "\n",
    "state_count.plot(kind = 'bar',figsize=(16,8), title = 'Loans per State')"
   ]
  },
  {
   "cell_type": "markdown",
   "metadata": {},
   "source": [
    "Lending Tree approves loans in most of the states in United states. The maximum number of loans are issued in California , Newyork, Texas and Florida. The lease number of loans are issed in the states Maine,North Dakota, Idaho and Iowa."
   ]
  },
  {
   "cell_type": "code",
   "execution_count": 35,
   "metadata": {},
   "outputs": [
    {
     "data": {
      "text/plain": [
       "<matplotlib.axes._subplots.AxesSubplot at 0x10f396898>"
      ]
     },
     "execution_count": 35,
     "metadata": {},
     "output_type": "execute_result"
    },
    {
     "data": {
      "image/png": "[encoded data removed]",
      "text/plain": [
       "<matplotlib.figure.Figure at 0x10f3a4da0>"
      ]
     },
     "metadata": {},
     "output_type": "display_data"
    }
   ],
   "source": [
    "#plot the number of charged loans per state\n",
    "state_count = filtered_loans_df[filtered_loans_df.loan_status == 'Charged Off'].addr_state.value_counts()\n",
    "\n",
    "state_count.plot(kind = 'bar',figsize=(16,8), title = 'Charged Off Loans per State')"
   ]
  },
  {
   "cell_type": "markdown",
   "metadata": {},
   "source": [
    "<p>California has the highest number of charged off loans where as Idaho state has least number of charged off loans <p>The number of charged off loans are in proportion with the number of loans issued in the respective states.More the loans issued more the loans that are charged off"
   ]
  },
  {
   "cell_type": "markdown",
   "metadata": {},
   "source": [
    "<h4>What is the minimum fico score to get a loan from Lending Tree? </h4>"
   ]
  },
  {
   "cell_type": "code",
   "execution_count": 9,
   "metadata": {
    "collapsed": true
   },
   "outputs": [],
   "source": [
    "filtered_loans_df['fico_average'] = (filtered_loans_df['fico_range_high'] + filtered_loans_df['fico_range_low']) / 2"
   ]
  },
  {
   "cell_type": "code",
   "execution_count": 37,
   "metadata": {},
   "outputs": [
    {
     "data": {
      "text/plain": [
       "<seaborn.axisgrid.FacetGrid at 0x10a437390>"
      ]
     },
     "execution_count": 37,
     "metadata": {},
     "output_type": "execute_result"
    },
    {
     "data": {
      "image/png": "[encoded data removed]",
      "text/plain": [
       "<matplotlib.figure.Figure at 0x109715f98>"
      ]
     },
     "metadata": {},
     "output_type": "display_data"
    }
   ],
   "source": [
    "g = sns.factorplot(x='fico_average', data=filtered_loans_df, \n",
    "                   hue='loan_status',\n",
    "                   kind='count',size=6, aspect=2)\n",
    "g.set_xticklabels(rotation=90)\n",
    "g.set_titles(\"Loans by Fico Score\")"
   ]
  },
  {
   "cell_type": "code",
   "execution_count": 39,
   "metadata": {},
   "outputs": [
    {
     "data": {
      "text/plain": [
       "<matplotlib.text.Text at 0x1091f7898>"
      ]
     },
     "execution_count": 39,
     "metadata": {},
     "output_type": "execute_result"
    },
    {
     "data": {
      "image/png": "[encoded data removed]",
      "text/plain": [
       "<matplotlib.figure.Figure at 0x1146e8588>"
      ]
     },
     "metadata": {},
     "output_type": "display_data"
    }
   ],
   "source": [
    "g = sns.stripplot(x=\"fico_average\", y=\"loan_status\", data=filtered_loans_df);\n",
    "g.set_title( \"Loans By Fico Score\")\n"
   ]
  },
  {
   "cell_type": "markdown",
   "metadata": {},
   "source": [
    "Analysis:\n",
    "\n",
    "1. The minimum fico score is atleast 650 to get a loan from LendingTree\n",
    "2. Higher the fico score the lesser the charged off loans.\n",
    "3. It is evident that the loans with low fico score charged off the most.\n",
    "4. The loans with high fico score also have charged off status. so there may be other features that are causing the loans to charge off."
   ]
  },
  {
   "cell_type": "markdown",
   "metadata": {},
   "source": [
    "<h4>Which loan purpose has the highest number of charged off loans ?</h4>"
   ]
  },
  {
   "cell_type": "code",
   "execution_count": 40,
   "metadata": {},
   "outputs": [
    {
     "data": {
      "text/plain": [
       "<matplotlib.text.Text at 0x10948ff28>"
      ]
     },
     "execution_count": 40,
     "metadata": {},
     "output_type": "execute_result"
    },
    {
     "data": {
      "image/png": "[encoded data removed]",
      "text/plain": [
       "<matplotlib.figure.Figure at 0x11091b2e8>"
      ]
     },
     "metadata": {},
     "output_type": "display_data"
    }
   ],
   "source": [
    "#Plot the graph for loans by purpose\n",
    "g = sns.countplot(y=\"purpose\", hue=\"loan_status\", data=filtered_loans_df);\n",
    "g.set_title( \"Loans By Purpose\")"
   ]
  },
  {
   "cell_type": "markdown",
   "metadata": {},
   "source": [
    "The above graph shows that the loans with purpose \"Debt consolidation\" and \"credit card\" have highest charged off rate."
   ]
  },
  {
   "cell_type": "code",
   "execution_count": 41,
   "metadata": {},
   "outputs": [
    {
     "data": {
      "text/plain": [
       "<matplotlib.text.Text at 0x109f18400>"
      ]
     },
     "execution_count": 41,
     "metadata": {},
     "output_type": "execute_result"
    },
    {
     "data": {
      "image/png": "[encoded data removed]",
      "text/plain": [
       "<matplotlib.figure.Figure at 0x10a8d5860>"
      ]
     },
     "metadata": {},
     "output_type": "display_data"
    }
   ],
   "source": [
    "g = sns.countplot(y=\"emp_length\", hue=\"loan_status\", data=filtered_loans_df);\n",
    "g.set_title( \"Loans By Employment Length\")"
   ]
  },
  {
   "cell_type": "markdown",
   "metadata": {},
   "source": [
    "Applicants who have employment length >10 years have the most loans issued and charged off rate. But the rest of the employment lengths(1 -9) have almost same charge off rate."
   ]
  },
  {
   "cell_type": "markdown",
   "metadata": {},
   "source": [
    "<h4>Which homeownership status has the highest number of charged off loans</h4>"
   ]
  },
  {
   "cell_type": "code",
   "execution_count": 42,
   "metadata": {},
   "outputs": [
    {
     "data": {
      "image/png": "[encoded data removed]",
      "text/plain": [
       "<matplotlib.figure.Figure at 0x11458b0f0>"
      ]
     },
     "metadata": {},
     "output_type": "display_data"
    }
   ],
   "source": [
    "g = sns.factorplot(x='home_ownership', data=filtered_loans_df[filtered_loans_df[\"loan_status\"] == \"Charged Off\"], \n",
    "                   hue='loan_status',\n",
    "                   kind='count',size=6, aspect=2)\n",
    "g.set_xticklabels(rotation=90)\n",
    "g.set_titles(\"Counting Charged off by home ownership\")\n",
    "plt.show()"
   ]
  },
  {
   "cell_type": "code",
   "execution_count": 43,
   "metadata": {},
   "outputs": [
    {
     "data": {
      "image/png": "[encoded data removed]",
      "text/plain": [
       "<matplotlib.figure.Figure at 0x10f2b6b38>"
      ]
     },
     "metadata": {},
     "output_type": "display_data"
    }
   ],
   "source": [
    "g = sns.factorplot(x='home_ownership', data=filtered_loans_df, \n",
    "                   hue='loan_status',\n",
    "                   kind='count',size=6, aspect=2)\n",
    "g.set_xticklabels(rotation=90)\n",
    "g.set_titles(\"Counting Loans by home ownership\")\n",
    "plt.show()"
   ]
  },
  {
   "cell_type": "markdown",
   "metadata": {},
   "source": [
    "- The applicants who have mortagage have been issued the most loans.\n",
    "- The charged off rate for the loans with home owenership rent are slightly less than the loans with mortgage"
   ]
  },
  {
   "cell_type": "code",
   "execution_count": 45,
   "metadata": {},
   "outputs": [
    {
     "data": {
      "text/plain": [
       "<matplotlib.legend.Legend at 0x10f2e87f0>"
      ]
     },
     "execution_count": 45,
     "metadata": {},
     "output_type": "execute_result"
    },
    {
     "data": {
      "image/png": "[encoded data removed]",
      "text/plain": [
       "<matplotlib.figure.Figure at 0x1094cfb00>"
      ]
     },
     "metadata": {},
     "output_type": "display_data"
    }
   ],
   "source": [
    "# Use the 'hue' argument to provide a factor variable\n",
    "g = sns.lmplot( x=\"fico_average\", y=\"dti\", data=filtered_loans_df, fit_reg=False, hue='loan_status', legend=False)\n",
    "g.set(ylim=(0, 200))\n",
    "# Move the legend to an empty part of the plot\n",
    "plt.legend(loc='upper right')\n",
    " \n",
    "#sns.plt.show()"
   ]
  },
  {
   "cell_type": "markdown",
   "metadata": {},
   "source": [
    "1. Fico score and dti (debt to income ratio) are negatively correlated\n",
    "2. Lesser the fico score the higher the dti"
   ]
  },
  {
   "cell_type": "code",
   "execution_count": 7,
   "metadata": {
    "collapsed": true
   },
   "outputs": [],
   "source": [
    "filtered_loans_df['int_rate'] = filtered_loans_df['int_rate'].replace('%','',regex=True).astype('float')\n",
    "filtered_loans_df['term'] = filtered_loans_df['term'].replace('months','',regex=True).astype('int')\n"
   ]
  },
  {
   "cell_type": "code",
   "execution_count": 10,
   "metadata": {},
   "outputs": [
    {
     "data": {
      "text/plain": [
       "<matplotlib.legend.Legend at 0x50bfeee48>"
      ]
     },
     "execution_count": 10,
     "metadata": {},
     "output_type": "execute_result"
    },
    {
     "data": {
      "image/png": "[encoded data removed]",
      "text/plain": [
       "<matplotlib.figure.Figure at 0xa19ff60f0>"
      ]
     },
     "metadata": {},
     "output_type": "display_data"
    }
   ],
   "source": [
    "g = sns.lmplot( x=\"fico_average\", y=\"int_rate\", data=filtered_loans_df, fit_reg=False, hue='term', legend=False)\n",
    "g.set(ylim=(0, 30))\n",
    "# Move the legend to an empty part of the plot\n",
    "plt.legend(loc='upper right')"
   ]
  },
  {
   "cell_type": "markdown",
   "metadata": {},
   "source": [
    "Analysis :\n",
    "1. Fico score and interet rate are negatively correlated\n",
    "2. Lesser the fico score the higher the interest rate\n",
    "3. The applicants with higher fico have mostly opted for 36 loan term\n"
   ]
  },
  {
   "cell_type": "code",
   "execution_count": null,
   "metadata": {
    "collapsed": true
   },
   "outputs": [],
   "source": []
  },
  {
   "cell_type": "markdown",
   "metadata": {
    "collapsed": true
   },
   "source": [
    "<h3>Inferential Statistics</h3>"
   ]
  },
  {
   "cell_type": "markdown",
   "metadata": {},
   "source": [
    "<h3>Lets answer few questions :</h3>\n",
    "<h4>1.Is there any significant change in the interest rate for the year 2015 and 2016 for grade E loans ? </h4>"
   ]
  },
  {
   "cell_type": "code",
   "execution_count": 11,
   "metadata": {
    "collapsed": true
   },
   "outputs": [],
   "source": [
    "#Filter Data for the year 2015\n",
    "filtered_loans_2015_df = filtered_loans_df[(filtered_loans_df[\"issue_year\"] == 2015) ]\n",
    "\n",
    "#Filter Data for the year 2016\n",
    "filtered_loans_2016_df = filtered_loans_df[(filtered_loans_df[\"issue_year\"] == 2016) ]"
   ]
  },
  {
   "cell_type": "markdown",
   "metadata": {},
   "source": [
    "Lets plot the graphs for the year 2015 and 2016"
   ]
  },
  {
   "cell_type": "code",
   "execution_count": 12,
   "metadata": {},
   "outputs": [
    {
     "data": {
      "text/plain": [
       "<matplotlib.text.Text at 0xa19eb9d68>"
      ]
     },
     "execution_count": 12,
     "metadata": {},
     "output_type": "execute_result"
    },
    {
     "data": {
      "image/png": "[encoded data removed]",
      "text/plain": [
       "<matplotlib.figure.Figure at 0xa1c54b160>"
      ]
     },
     "metadata": {},
     "output_type": "display_data"
    }
   ],
   "source": [
    "g = sns.stripplot(x=\"grade\", y=\"int_rate\", data=filtered_loans_2015_df);\n",
    "g.set_title(\"Grade vs Interest Rate (2015)\")"
   ]
  },
  {
   "cell_type": "code",
   "execution_count": 13,
   "metadata": {},
   "outputs": [
    {
     "data": {
      "text/plain": [
       "<matplotlib.text.Text at 0xa1c3319e8>"
      ]
     },
     "execution_count": 13,
     "metadata": {},
     "output_type": "execute_result"
    },
    {
     "data": {
      "image/png": "[encoded data removed]",
      "text/plain": [
       "<matplotlib.figure.Figure at 0xa1c1f5320>"
      ]
     },
     "metadata": {},
     "output_type": "display_data"
    }
   ],
   "source": [
    "g = sns.stripplot(x=\"grade\", y=\"int_rate\", data=filtered_loans_2016_df);\n",
    "g.set_title(\"Grade vs Interest Rate (2016)\")"
   ]
  },
  {
   "cell_type": "markdown",
   "metadata": {},
   "source": [
    "From the above graphs ,we can see that there is a difference in the range of interest rates for the years 2015 and 2016 epecially. The loans with grades D,E,F,G have the high risk to default and thats why the interest rates are so high. The increare in the interest rates for the year 2016 may be due to the increase in the charged off rate in the year 2015. The loans with grades c & D have the highest number of charged off rate in 2015.\n",
    "\n",
    "Lets see if there is a significanct difference interest rates for the year 2015 and 2016"
   ]
  },
  {
   "cell_type": "markdown",
   "metadata": {},
   "source": [
    "<p>Null Hypothesis : There is no difference in the interest rates for grade E loans in 2015 and 2016.</p>\n",
    "<p>Alternate Hypothesis : There is diffen=rence in the interest rates for grade E loans in 2015 and 2016.</p>"
   ]
  },
  {
   "cell_type": "code",
   "execution_count": 16,
   "metadata": {
    "collapsed": true
   },
   "outputs": [],
   "source": [
    "#interest rates for grade E loans for the year 2015\n",
    "int_rate_2015 = filtered_loans_df[(filtered_loans_df.grade==\"E\") & (filtered_loans_df.issue_year==2015) ]['int_rate']\n",
    "#interest rates for grade E loans for the year 2016\n",
    "int_rate_2016 = filtered_loans_df[(filtered_loans_df.grade==\"E\") & (filtered_loans_df.issue_year==2016) ]['int_rate']"
   ]
  },
  {
   "cell_type": "code",
   "execution_count": 17,
   "metadata": {},
   "outputs": [
    {
     "data": {
      "text/plain": [
       "<matplotlib.text.Text at 0xa1e468a90>"
      ]
     },
     "execution_count": 17,
     "metadata": {},
     "output_type": "execute_result"
    },
    {
     "data": {
      "image/png": "[encoded data removed]",
      "text/plain": [
       "<matplotlib.figure.Figure at 0xa1c31b240>"
      ]
     },
     "metadata": {},
     "output_type": "display_data"
    }
   ],
   "source": [
    "sns.distplot(int_rate_2015,hist=False,label='2015')\n",
    "sns.distplot(int_rate_2016,hist=False,label='2016')\n",
    "plt.title('2015 vs 2016')"
   ]
  },
  {
   "cell_type": "code",
   "execution_count": 18,
   "metadata": {},
   "outputs": [
    {
     "name": "stdout",
     "output_type": "stream",
     "text": [
      "Difference in the interest rates: -2.98085786549305\n"
     ]
    },
    {
     "data": {
      "text/plain": [
       "Ttest_indResult(statistic=-179.11915103758525, pvalue=0.0)"
      ]
     },
     "execution_count": 18,
     "metadata": {},
     "output_type": "execute_result"
    }
   ],
   "source": [
    "#Difference in the means\n",
    "print(\"Difference in the interest rates:\", int_rate_2015.mean() - int_rate_2016.mean())\n",
    "\n",
    "#t-test\n",
    "stats.ttest_ind(int_rate_2015, int_rate_2016)"
   ]
  },
  {
   "cell_type": "markdown",
   "metadata": {},
   "source": [
    "p-value < 0.05 , so we can reject the null hypothesis in favor to alternate hypothesis. so there is a significant difference in the intereset rates for the years 2015 and 2016 for grade E loans. There is an increase of 2.98 interest rate for grade E loans."
   ]
  },
  {
   "cell_type": "markdown",
   "metadata": {},
   "source": [
    "<h4> 2. Does loan purpose has the significant impact on the charged off rate?</h4>"
   ]
  },
  {
   "cell_type": "code",
   "execution_count": 19,
   "metadata": {},
   "outputs": [
    {
     "data": {
      "text/plain": [
       "<matplotlib.text.Text at 0xa1ebbfb70>"
      ]
     },
     "execution_count": 19,
     "metadata": {},
     "output_type": "execute_result"
    },
    {
     "data": {
      "image/png": "[encoded data removed]",
      "text/plain": [
       "<matplotlib.figure.Figure at 0xa1c2d1d30>"
      ]
     },
     "metadata": {},
     "output_type": "display_data"
    }
   ],
   "source": [
    "#Plot the graph for loans by purpose\n",
    "g = sns.countplot(y=\"purpose\", hue=\"loan_status\", data=filtered_loans_df);\n",
    "g.set_title( \"Loans By Purpose\")"
   ]
  },
  {
   "cell_type": "markdown",
   "metadata": {},
   "source": [
    "From the above , we can see that the loans with debt consolidation as purpose have highest number of loans issued and charged off loans as well.It is eveident from the graph that there is relationship between the purpose and loan status.Lets use statistical test to prove it.\n"
   ]
  },
  {
   "cell_type": "markdown",
   "metadata": {},
   "source": [
    "<h4>What are null and alternate hypothesis ? </h4>"
   ]
  },
  {
   "cell_type": "markdown",
   "metadata": {},
   "source": [
    "H0: Null Hypothesis : Loans Purpose has no significant assoication with the loan status\n",
    "\n",
    "HA: Loans Purpose has no significant assoication with the loan status"
   ]
  },
  {
   "cell_type": "markdown",
   "metadata": {},
   "source": [
    "<h4>Which statistical test to be used ? </h4>\n"
   ]
  },
  {
   "cell_type": "markdown",
   "metadata": {},
   "source": [
    "The chi-square test of independence is a statistical test used to determine whether two categorical variables are independent of each other or not.The Chi-Square test of independence can be performed using the chi2_contingency function in the SciPy package"
   ]
  },
  {
   "cell_type": "code",
   "execution_count": 20,
   "metadata": {},
   "outputs": [
    {
     "name": "stdout",
     "output_type": "stream",
     "text": [
      "loan_status         Charged Off  Fully Paid\n",
      "purpose                                    \n",
      "car                        1320        7386\n",
      "credit_card               31914      143734\n",
      "debt_consolidation       106717      373614\n",
      "educational                  56         270\n",
      "home_improvement           9312       40252\n",
      "house                       895        3015\n",
      "major_purchase             3222       13809\n",
      "medical                    2004        6486\n",
      "moving                     1383        4163\n",
      "other                      9567       33185\n",
      "renewable_energy            150         445\n",
      "small_business             3103        7024\n",
      "vacation                   1007        3871\n",
      "wedding                     277        1996\n",
      "(2461.2539968957035, 0.0, 13, array([[  1.83674736e+03,   6.86925264e+03],\n",
      "       [  3.70573167e+04,   1.38590683e+05],\n",
      "       [  1.01337778e+05,   3.78993222e+05],\n",
      "       [  6.87778127e+01,   2.57222187e+02],\n",
      "       [  1.04567592e+04,   3.91072408e+04],\n",
      "       [  8.24911803e+02,   3.08508820e+03],\n",
      "       [  3.59311328e+03,   1.34378867e+04],\n",
      "       [  1.79117678e+03,   6.69882322e+03],\n",
      "       [  1.17006672e+03,   4.37593328e+03],\n",
      "       [  9.01959831e+03,   3.37324017e+04],\n",
      "       [  1.25530057e+02,   4.69469943e+02],\n",
      "       [  2.13654267e+03,   7.99045733e+03],\n",
      "       [  1.02913549e+03,   3.84886451e+03],\n",
      "       [  4.79545915e+02,   1.79345408e+03]]))\n"
     ]
    }
   ],
   "source": [
    "from scipy.stats import chi2_contingency\n",
    "def chisq_of_df_cols(df, c1, c2):\n",
    "    groupsizes = df.groupby([c1, c2]).size()\n",
    "    ctsum = groupsizes.unstack(c1)\n",
    "    print(ctsum)\n",
    "    # fillna(0) is necessary to remove any NAs which will cause exceptions\n",
    "    return(chi2_contingency(ctsum.fillna(0)))\n",
    "print(chisq_of_df_cols(filtered_loans_df, 'loan_status' , 'purpose'))"
   ]
  },
  {
   "cell_type": "markdown",
   "metadata": {},
   "source": [
    "The first value is chi-square value\n",
    "\n",
    "The second value is p-value\n",
    "\n",
    "The third value is degree of freedom\n",
    "\n",
    "The fourth one is array of expected frequencies, based on the marginal sums of the table."
   ]
  },
  {
   "cell_type": "markdown",
   "metadata": {},
   "source": [
    "The p-value is 0.0 , so we reject the null hypotheis in the favor of alternate hypothesis. So there is a statistical significant association beteween loan purpose and the loan status."
   ]
  },
  {
   "cell_type": "code",
   "execution_count": null,
   "metadata": {
    "collapsed": true
   },
   "outputs": [],
   "source": []
  }
 ],
 "metadata": {
  "kernelspec": {
   "display_name": "Python 3",
   "language": "python",
   "name": "python3"
  },
  "language_info": {
   "codemirror_mode": {
    "name": "ipython",
    "version": 3
   },
   "file_extension": ".py",
   "mimetype": "text/x-python",
   "name": "python",
   "nbconvert_exporter": "python",
   "pygments_lexer": "ipython3",
   "version": "3.6.3"
  }
 },
 "nbformat": 4,
 "nbformat_minor": 2
}
