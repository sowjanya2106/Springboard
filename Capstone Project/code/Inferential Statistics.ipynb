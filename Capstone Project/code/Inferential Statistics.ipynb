{
 "cells": [
  {
   "cell_type": "code",
   "execution_count": 1,
   "metadata": {
    "collapsed": true
   },
   "outputs": [],
   "source": [
    "import pandas as pd\n",
    "import numpy as np\n",
    "import matplotlib.pyplot as plt\n",
    "import seaborn as sns\n",
    "%matplotlib inline\n",
    "import math\n",
    "from scipy import stats\n",
    "from scipy.stats import chi2_contingency"
   ]
  },
  {
   "cell_type": "code",
   "execution_count": 2,
   "metadata": {},
   "outputs": [],
   "source": [
    "loans_df = pd.read_csv(\"preprocessed_loans_stage1.csv\",low_memory=False ,index_col=False)\n",
    "filtered_loans_df = loans_df[(loans_df[\"loan_status\"] == \"Fully Paid\") |\n",
    "                            (loans_df[\"loan_status\"] == \"Charged Off\")]"
   ]
  },
  {
   "cell_type": "code",
   "execution_count": 3,
   "metadata": {},
   "outputs": [
    {
     "data": {
      "text/html": [
       "<div>\n",
       "<style>\n",
       "    .dataframe thead tr:only-child th {\n",
       "        text-align: right;\n",
       "    }\n",
       "\n",
       "    .dataframe thead th {\n",
       "        text-align: left;\n",
       "    }\n",
       "\n",
       "    .dataframe tbody tr th {\n",
       "        vertical-align: top;\n",
       "    }\n",
       "</style>\n",
       "<table border=\"1\" class=\"dataframe\">\n",
       "  <thead>\n",
       "    <tr style=\"text-align: right;\">\n",
       "      <th></th>\n",
       "      <th>Unnamed: 0</th>\n",
       "      <th>loan_amnt</th>\n",
       "      <th>funded_amnt</th>\n",
       "      <th>funded_amnt_inv</th>\n",
       "      <th>installment</th>\n",
       "      <th>annual_inc</th>\n",
       "      <th>dti</th>\n",
       "      <th>delinq_2yrs</th>\n",
       "      <th>inq_last_6mths</th>\n",
       "      <th>open_acc</th>\n",
       "      <th>...</th>\n",
       "      <th>revol_util</th>\n",
       "      <th>debt_settlement_flag</th>\n",
       "      <th>issue_year</th>\n",
       "      <th>issue_month</th>\n",
       "      <th>earliest_cr_line_month</th>\n",
       "      <th>earliest_cr_line_year</th>\n",
       "      <th>last_pymnt_month</th>\n",
       "      <th>last_pymnt_year</th>\n",
       "      <th>last_credit_pull_month</th>\n",
       "      <th>last_credit_pull_year</th>\n",
       "    </tr>\n",
       "  </thead>\n",
       "  <tbody>\n",
       "    <tr>\n",
       "      <th>0</th>\n",
       "      <td>0</td>\n",
       "      <td>5000.0</td>\n",
       "      <td>5000.0</td>\n",
       "      <td>4975.0</td>\n",
       "      <td>162.87</td>\n",
       "      <td>24000.0</td>\n",
       "      <td>27.65</td>\n",
       "      <td>0.0</td>\n",
       "      <td>1.0</td>\n",
       "      <td>3.0</td>\n",
       "      <td>...</td>\n",
       "      <td>83.7</td>\n",
       "      <td>N</td>\n",
       "      <td>2011</td>\n",
       "      <td>12</td>\n",
       "      <td>1</td>\n",
       "      <td>1985</td>\n",
       "      <td>1</td>\n",
       "      <td>2015</td>\n",
       "      <td>12</td>\n",
       "      <td>2017</td>\n",
       "    </tr>\n",
       "    <tr>\n",
       "      <th>1</th>\n",
       "      <td>1</td>\n",
       "      <td>2500.0</td>\n",
       "      <td>2500.0</td>\n",
       "      <td>2500.0</td>\n",
       "      <td>59.83</td>\n",
       "      <td>30000.0</td>\n",
       "      <td>1.00</td>\n",
       "      <td>0.0</td>\n",
       "      <td>5.0</td>\n",
       "      <td>3.0</td>\n",
       "      <td>...</td>\n",
       "      <td>9.4</td>\n",
       "      <td>N</td>\n",
       "      <td>2011</td>\n",
       "      <td>12</td>\n",
       "      <td>4</td>\n",
       "      <td>1999</td>\n",
       "      <td>4</td>\n",
       "      <td>2013</td>\n",
       "      <td>10</td>\n",
       "      <td>2016</td>\n",
       "    </tr>\n",
       "    <tr>\n",
       "      <th>2</th>\n",
       "      <td>2</td>\n",
       "      <td>2400.0</td>\n",
       "      <td>2400.0</td>\n",
       "      <td>2400.0</td>\n",
       "      <td>84.33</td>\n",
       "      <td>12252.0</td>\n",
       "      <td>8.72</td>\n",
       "      <td>0.0</td>\n",
       "      <td>2.0</td>\n",
       "      <td>2.0</td>\n",
       "      <td>...</td>\n",
       "      <td>98.5</td>\n",
       "      <td>N</td>\n",
       "      <td>2011</td>\n",
       "      <td>12</td>\n",
       "      <td>11</td>\n",
       "      <td>2001</td>\n",
       "      <td>6</td>\n",
       "      <td>2014</td>\n",
       "      <td>6</td>\n",
       "      <td>2017</td>\n",
       "    </tr>\n",
       "    <tr>\n",
       "      <th>3</th>\n",
       "      <td>3</td>\n",
       "      <td>10000.0</td>\n",
       "      <td>10000.0</td>\n",
       "      <td>10000.0</td>\n",
       "      <td>339.31</td>\n",
       "      <td>49200.0</td>\n",
       "      <td>20.00</td>\n",
       "      <td>0.0</td>\n",
       "      <td>1.0</td>\n",
       "      <td>10.0</td>\n",
       "      <td>...</td>\n",
       "      <td>21.0</td>\n",
       "      <td>N</td>\n",
       "      <td>2011</td>\n",
       "      <td>12</td>\n",
       "      <td>2</td>\n",
       "      <td>1996</td>\n",
       "      <td>1</td>\n",
       "      <td>2015</td>\n",
       "      <td>4</td>\n",
       "      <td>2016</td>\n",
       "    </tr>\n",
       "    <tr>\n",
       "      <th>4</th>\n",
       "      <td>4</td>\n",
       "      <td>3000.0</td>\n",
       "      <td>3000.0</td>\n",
       "      <td>3000.0</td>\n",
       "      <td>67.79</td>\n",
       "      <td>80000.0</td>\n",
       "      <td>17.94</td>\n",
       "      <td>0.0</td>\n",
       "      <td>0.0</td>\n",
       "      <td>15.0</td>\n",
       "      <td>...</td>\n",
       "      <td>53.9</td>\n",
       "      <td>N</td>\n",
       "      <td>2011</td>\n",
       "      <td>12</td>\n",
       "      <td>1</td>\n",
       "      <td>1996</td>\n",
       "      <td>1</td>\n",
       "      <td>2017</td>\n",
       "      <td>1</td>\n",
       "      <td>2017</td>\n",
       "    </tr>\n",
       "  </tbody>\n",
       "</table>\n",
       "<p>5 rows × 83 columns</p>\n",
       "</div>"
      ],
      "text/plain": [
       "   Unnamed: 0  loan_amnt  funded_amnt  funded_amnt_inv  installment  \\\n",
       "0           0     5000.0       5000.0           4975.0       162.87   \n",
       "1           1     2500.0       2500.0           2500.0        59.83   \n",
       "2           2     2400.0       2400.0           2400.0        84.33   \n",
       "3           3    10000.0      10000.0          10000.0       339.31   \n",
       "4           4     3000.0       3000.0           3000.0        67.79   \n",
       "\n",
       "   annual_inc    dti  delinq_2yrs  inq_last_6mths  open_acc  \\\n",
       "0     24000.0  27.65          0.0             1.0       3.0   \n",
       "1     30000.0   1.00          0.0             5.0       3.0   \n",
       "2     12252.0   8.72          0.0             2.0       2.0   \n",
       "3     49200.0  20.00          0.0             1.0      10.0   \n",
       "4     80000.0  17.94          0.0             0.0      15.0   \n",
       "\n",
       "           ...            revol_util  debt_settlement_flag  issue_year  \\\n",
       "0          ...                  83.7                     N        2011   \n",
       "1          ...                   9.4                     N        2011   \n",
       "2          ...                  98.5                     N        2011   \n",
       "3          ...                  21.0                     N        2011   \n",
       "4          ...                  53.9                     N        2011   \n",
       "\n",
       "   issue_month  earliest_cr_line_month  earliest_cr_line_year  \\\n",
       "0           12                       1                   1985   \n",
       "1           12                       4                   1999   \n",
       "2           12                      11                   2001   \n",
       "3           12                       2                   1996   \n",
       "4           12                       1                   1996   \n",
       "\n",
       "   last_pymnt_month  last_pymnt_year  last_credit_pull_month  \\\n",
       "0                 1             2015                      12   \n",
       "1                 4             2013                      10   \n",
       "2                 6             2014                       6   \n",
       "3                 1             2015                       4   \n",
       "4                 1             2017                       1   \n",
       "\n",
       "   last_credit_pull_year  \n",
       "0                   2017  \n",
       "1                   2016  \n",
       "2                   2017  \n",
       "3                   2016  \n",
       "4                   2017  \n",
       "\n",
       "[5 rows x 83 columns]"
      ]
     },
     "execution_count": 3,
     "metadata": {},
     "output_type": "execute_result"
    }
   ],
   "source": [
    "loans_df.head()"
   ]
  },
  {
   "cell_type": "code",
   "execution_count": 4,
   "metadata": {},
   "outputs": [
    {
     "data": {
      "text/plain": [
       "<matplotlib.text.Text at 0xa1cc7f390>"
      ]
     },
     "execution_count": 4,
     "metadata": {},
     "output_type": "execute_result"
    },
    {
     "data": {
      "image/png": "[encoded data removed]",
      "text/plain": [
       "<matplotlib.figure.Figure at 0x105e222b0>"
      ]
     },
     "metadata": {},
     "output_type": "display_data"
    }
   ],
   "source": [
    "g = sns.countplot(y=\"grade\", hue=\"loan_status\", data=filtered_loans_df);\n",
    "g.set_title(label=\"Loans By Grade\")"
   ]
  },
  {
   "cell_type": "markdown",
   "metadata": {},
   "source": [
    "<h3>Lets answer few questions :</h3>\n",
    "<h4>1.Is there any significant change in the interest rate for the year 2015 and 2016 for grade E loans ? </h4>"
   ]
  },
  {
   "cell_type": "code",
   "execution_count": 5,
   "metadata": {
    "collapsed": true
   },
   "outputs": [],
   "source": [
    "#Filter Data for the year 2015\n",
    "filtered_loans_2015_df = filtered_loans_df[(filtered_loans_df[\"issue_year\"] == 2015) ]\n",
    "\n",
    "#Filter Data for the year 2016\n",
    "filtered_loans_2016_df = filtered_loans_df[(filtered_loans_df[\"issue_year\"] == 2016) ]"
   ]
  },
  {
   "cell_type": "markdown",
   "metadata": {},
   "source": [
    "Lets plot the graphs for the year 2015 and 2016"
   ]
  },
  {
   "cell_type": "code",
   "execution_count": 6,
   "metadata": {},
   "outputs": [
    {
     "data": {
      "text/plain": [
       "<matplotlib.text.Text at 0xa1a503b70>"
      ]
     },
     "execution_count": 6,
     "metadata": {},
     "output_type": "execute_result"
    },
    {
     "data": {
      "image/png": "[encoded data removed]",
      "text/plain": [
       "<matplotlib.figure.Figure at 0xa1ccc7da0>"
      ]
     },
     "metadata": {},
     "output_type": "display_data"
    }
   ],
   "source": [
    "g = sns.stripplot(x=\"grade\", y=\"int_rate\", data=filtered_loans_2015_df);\n",
    "g.set_title(\"Grade vs Interest Rate (2015)\")"
   ]
  },
  {
   "cell_type": "code",
   "execution_count": 7,
   "metadata": {},
   "outputs": [
    {
     "data": {
      "text/plain": [
       "<matplotlib.text.Text at 0xa79e6a710>"
      ]
     },
     "execution_count": 7,
     "metadata": {},
     "output_type": "execute_result"
    },
    {
     "data": {
      "image/png": "[encoded data removed]",
      "text/plain": [
       "<matplotlib.figure.Figure at 0xa1ab47390>"
      ]
     },
     "metadata": {},
     "output_type": "display_data"
    }
   ],
   "source": [
    "g = sns.stripplot(x=\"grade\", y=\"int_rate\", data=filtered_loans_2016_df);\n",
    "g.set_title(\"Grade vs Interest Rate (2016)\")"
   ]
  },
  {
   "cell_type": "markdown",
   "metadata": {},
   "source": [
    "<p>From the above graphs ,we can see that there is a difference in the range of interest rates for the years 2015 and 2016 epecially. The loans with grades D,E,F,G have the high risk to default and thats why the interest rates are so high.  The increare in the interest rates for the year 2016 may be due to the increase in the charged off rate in the year 2015. The loans with grades  c & D have the highest number of charged off rate in 2015. <p>\n",
    "\n",
    "<p>Lets see if there is a significanct difference interest rates for the year 2015 and 2016</p>"
   ]
  },
  {
   "cell_type": "markdown",
   "metadata": {},
   "source": [
    "<p>Null Hypothesis : There is no difference in the interest rates for grade E loans in 2015 and 2016.</p>\n",
    "<p>Alternate Hypothesis : There is diffen=rence in the interest rates for grade E loans in 2015 and 2016.</p>"
   ]
  },
  {
   "cell_type": "code",
   "execution_count": 8,
   "metadata": {
    "collapsed": true
   },
   "outputs": [],
   "source": [
    "#interest rates for grade E loans for the year 2015\n",
    "int_rate_2015 = loans_df[(loans_df.grade==\"E\") & (loans_df.issue_year==2015) ]['int_rate']\n",
    "#interest rates for grade E loans for the year 2016\n",
    "int_rate_2016 = loans_df[(loans_df.grade==\"E\") & (loans_df.issue_year==2016) ]['int_rate']\n"
   ]
  },
  {
   "cell_type": "code",
   "execution_count": 9,
   "metadata": {},
   "outputs": [
    {
     "data": {
      "text/plain": [
       "<matplotlib.text.Text at 0xa7b1a9860>"
      ]
     },
     "execution_count": 9,
     "metadata": {},
     "output_type": "execute_result"
    },
    {
     "data": {
      "image/png": "[encoded data removed]",
      "text/plain": [
       "<matplotlib.figure.Figure at 0xa1ccf7a20>"
      ]
     },
     "metadata": {},
     "output_type": "display_data"
    }
   ],
   "source": [
    "sns.distplot(int_rate_2015,hist=False,label='2015')\n",
    "sns.distplot(int_rate_2016,hist=False,label='2016')\n",
    "plt.title('2015 vs 2016')"
   ]
  },
  {
   "cell_type": "code",
   "execution_count": 10,
   "metadata": {},
   "outputs": [
    {
     "name": "stdout",
     "output_type": "stream",
     "text": [
      "Difference in the interest rates: -3.139788471671441\n"
     ]
    },
    {
     "data": {
      "text/plain": [
       "Ttest_indResult(statistic=-253.38576129739511, pvalue=0.0)"
      ]
     },
     "execution_count": 10,
     "metadata": {},
     "output_type": "execute_result"
    }
   ],
   "source": [
    "#Difference in the means\n",
    "print(\"Difference in the interest rates:\", int_rate_2015.mean() - int_rate_2016.mean())\n",
    "\n",
    "#t-test\n",
    "stats.ttest_ind(int_rate_2015, int_rate_2016)"
   ]
  },
  {
   "cell_type": "markdown",
   "metadata": {
    "collapsed": true
   },
   "source": [
    "p-value < 0.05 , so we can reject the null hypothesis in favor to alternate hypothesis. so there is a significant difference in the intereset rates for the years 2015 and 2016 for grade E loans. There is an increase of 3.13 interest rate for grade E loans."
   ]
  },
  {
   "cell_type": "markdown",
   "metadata": {},
   "source": [
    "<h4> 2. Does loan purpose has the significant impact on the charged off rate?</h4>"
   ]
  },
  {
   "cell_type": "code",
   "execution_count": 11,
   "metadata": {},
   "outputs": [
    {
     "data": {
      "text/plain": [
       "<matplotlib.text.Text at 0xa7b31bc50>"
      ]
     },
     "execution_count": 11,
     "metadata": {},
     "output_type": "execute_result"
    },
    {
     "data": {
      "image/png": "[encoded data removed]",
      "text/plain": [
       "<matplotlib.figure.Figure at 0xa19e710b8>"
      ]
     },
     "metadata": {},
     "output_type": "display_data"
    }
   ],
   "source": [
    "#Plot the graph for loans by purpose\n",
    "g = sns.countplot(y=\"purpose\", hue=\"loan_status\", data=filtered_loans_df);\n",
    "g.set_title( \"Loans By Purpose\")"
   ]
  },
  {
   "cell_type": "markdown",
   "metadata": {},
   "source": [
    "From the above , we can see that the loans with debt consolidation as purpose have highest number of loans issued and charged off loans as well.It is eveident from the graph that there is relationship between the purpose and loan status.Lets use statistical test to prove it.\n"
   ]
  },
  {
   "cell_type": "markdown",
   "metadata": {},
   "source": [
    "<h4>What are null and alternate hypothesis ? </h4>"
   ]
  },
  {
   "cell_type": "markdown",
   "metadata": {},
   "source": [
    "<p> H0: Null Hypothesis : Loans Purpose has no significant assoication with the loan status </p>\n",
    "<p> HA: Loans Purpose has no significant assoication with the loan status </p>"
   ]
  },
  {
   "cell_type": "markdown",
   "metadata": {},
   "source": [
    "<h4>Which statistical test to be used ? </h4>\n"
   ]
  },
  {
   "cell_type": "markdown",
   "metadata": {},
   "source": [
    "The chi-square test of independence is a statistical test used to determine whether two categorical variables are independent of each other or not.The Chi-Square test of independence can be performed using the chi2_contingency function in the SciPy package"
   ]
  },
  {
   "cell_type": "code",
   "execution_count": 12,
   "metadata": {},
   "outputs": [
    {
     "name": "stdout",
     "output_type": "stream",
     "text": [
      "loan_status         Charged Off  Fully Paid\n",
      "purpose                                    \n",
      "car                        1320        7386\n",
      "credit_card               31914      143734\n",
      "debt_consolidation       106717      373614\n",
      "educational                  56         270\n",
      "home_improvement           9312       40252\n",
      "house                       895        3015\n",
      "major_purchase             3222       13809\n",
      "medical                    2004        6486\n",
      "moving                     1383        4163\n",
      "other                      9567       33185\n",
      "renewable_energy            150         445\n",
      "small_business             3103        7024\n",
      "vacation                   1007        3871\n",
      "wedding                     277        1996\n",
      "(2461.2539968957035, 0.0, 13, array([[  1.83674736e+03,   6.86925264e+03],\n",
      "       [  3.70573167e+04,   1.38590683e+05],\n",
      "       [  1.01337778e+05,   3.78993222e+05],\n",
      "       [  6.87778127e+01,   2.57222187e+02],\n",
      "       [  1.04567592e+04,   3.91072408e+04],\n",
      "       [  8.24911803e+02,   3.08508820e+03],\n",
      "       [  3.59311328e+03,   1.34378867e+04],\n",
      "       [  1.79117678e+03,   6.69882322e+03],\n",
      "       [  1.17006672e+03,   4.37593328e+03],\n",
      "       [  9.01959831e+03,   3.37324017e+04],\n",
      "       [  1.25530057e+02,   4.69469943e+02],\n",
      "       [  2.13654267e+03,   7.99045733e+03],\n",
      "       [  1.02913549e+03,   3.84886451e+03],\n",
      "       [  4.79545915e+02,   1.79345408e+03]]))\n"
     ]
    }
   ],
   "source": [
    "from scipy.stats import chi2_contingency\n",
    "def chisq_of_df_cols(df, c1, c2):\n",
    "    groupsizes = df.groupby([c1, c2]).size()\n",
    "    ctsum = groupsizes.unstack(c1)\n",
    "    print(ctsum)\n",
    "    # fillna(0) is necessary to remove any NAs which will cause exceptions\n",
    "    return(chi2_contingency(ctsum.fillna(0)))\n",
    "print(chisq_of_df_cols(filtered_loans_df, 'loan_status' , 'purpose'))"
   ]
  },
  {
   "cell_type": "markdown",
   "metadata": {},
   "source": [
    "<p>The first value is chi-square value</p>\n",
    "<p>The second value is p-value</p>\n",
    "<p>The third value is degree of freedom</p>\n",
    "<p>The fourth one is array of expected frequencies, based on the marginal sums of the table.</p>"
   ]
  },
  {
   "cell_type": "markdown",
   "metadata": {},
   "source": [
    "The p-value is 0.0 , so we reject the null hypotheis in the favor of alternate hypothesis. So there is a statistical significant association beteween loan purpose and the loan status."
   ]
  },
  {
   "cell_type": "code",
   "execution_count": null,
   "metadata": {
    "collapsed": true
   },
   "outputs": [],
   "source": []
  },
  {
   "cell_type": "code",
   "execution_count": null,
   "metadata": {
    "collapsed": true
   },
   "outputs": [],
   "source": []
  }
 ],
 "metadata": {
  "kernelspec": {
   "display_name": "Python 3",
   "language": "python",
   "name": "python3"
  },
  "language_info": {
   "codemirror_mode": {
    "name": "ipython",
    "version": 3
   },
   "file_extension": ".py",
   "mimetype": "text/x-python",
   "name": "python",
   "nbconvert_exporter": "python",
   "pygments_lexer": "ipython3",
   "version": "3.6.3"
  }
 },
 "nbformat": 4,
 "nbformat_minor": 2
}
